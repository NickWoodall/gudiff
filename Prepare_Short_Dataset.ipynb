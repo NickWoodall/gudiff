{
 "cells": [
  {
   "cell_type": "code",
   "execution_count": 1,
   "id": "be791098",
   "metadata": {},
   "outputs": [
    {
     "name": "stderr",
     "output_type": "stream",
     "text": [
      "Warning: importing 'simtk.openmm' is deprecated.  Import 'openmm' instead.\n"
     ]
    }
   ],
   "source": [
    "\"\"\"Parses the mmCIF file format.\"\"\"\n",
    "import collections\n",
    "import dataclasses\n",
    "import functools\n",
    "import io\n",
    "from typing import Any, Mapping, Optional, Sequence, Tuple\n",
    "from absl import logging\n",
    "import numpy as np\n",
    "import os\n",
    "\n",
    "from Bio import PDB\n",
    "from Bio.Data import SCOPData\n",
    "from Bio.Data.IUPACData import protein_letters_3to1\n",
    "\n",
    "import se3_diffuse.mmcif_parsing\n",
    "from se3_diffuse.process_pdb_dataset import process_mmcif, _retrieve_mmcif_files, process_serially\n",
    "from se3_diffuse import errors\n",
    "import time"
   ]
  },
  {
   "cell_type": "code",
   "execution_count": 2,
   "id": "f5d615ce",
   "metadata": {},
   "outputs": [],
   "source": [
    "\n",
    "\n",
    "from tqdm import tqdm"
   ]
  },
  {
   "cell_type": "code",
   "execution_count": 3,
   "id": "77ba2fba",
   "metadata": {},
   "outputs": [],
   "source": [
    "model_path = 'C:/Users/nwood/OneDrive/Desktop/hTest/BCov_Models_cif/'\n",
    "dataset_path = 'H:/datasets/bCov_4H/'"
   ]
  },
  {
   "cell_type": "code",
   "execution_count": 4,
   "id": "e493f151",
   "metadata": {},
   "outputs": [
    {
     "ename": "SyntaxError",
     "evalue": "invalid syntax (1666931562.py, line 3)",
     "output_type": "error",
     "traceback": [
      "\u001b[0;36m  Cell \u001b[0;32mIn[4], line 3\u001b[0;36m\u001b[0m\n\u001b[0;31m    python process_pdb_dataset.py --mmcif_dir /mnt/c/Users/nwood/OneDrive/Desktop/hTest/BCov_Models_cif/ --write_dir /mnt/h/datasets/bCov_4H/ --num_processes 22 --verbose --simple\u001b[0m\n\u001b[0m           ^\u001b[0m\n\u001b[0;31mSyntaxError\u001b[0m\u001b[0;31m:\u001b[0m invalid syntax\n"
     ]
    }
   ],
   "source": [
    "#run from command line on alternate repo for use\n",
    "#run in top level se3_diffusion directory\n",
    "python process_pdb_dataset.py --mmcif_dir /mnt/c/Users/nwood/OneDrive/Desktop/hTest/BCov_Models_cif/ --write_dir /mnt/h/datasets/bCov_4H/ --num_processes 22 --verbose --simple\n",
    "\n",
    "\n",
    "python process_pdb_dataset.py --mmcif_dir /mnt/h/datasets/mmCIF/ --max_resolution 3.0 --max_len 200 --write_dir /mnt/h/datasets/p200 --num_processes 22 --verbose\n"
   ]
  },
  {
   "cell_type": "code",
   "execution_count": null,
   "id": "08c31d2e",
   "metadata": {},
   "outputs": [],
   "source": []
  },
  {
   "cell_type": "code",
   "execution_count": null,
   "id": "97511757",
   "metadata": {},
   "outputs": [],
   "source": [
    "import gzip\n",
    "import shutil\n",
    "\n",
    "\n",
    "def process_serially2(\n",
    "        all_mmcif_paths, max_resolution, max_len, write_dir, simple=False):\n",
    "    all_metadata = []\n",
    "    failed_paths = []\n",
    "    for i, mmcif_path in enumerate(all_mmcif_paths):\n",
    "        try:\n",
    "            start_time = time.time()\n",
    "            metadata = process_mmcif(\n",
    "                mmcif_path,\n",
    "                max_resolution,\n",
    "                max_len,\n",
    "                write_dir, simple=simple)\n",
    "            elapsed_time = time.time() - start_time\n",
    "            print(f'Finished {mmcif_path} in {elapsed_time:2.2f}s')\n",
    "            all_metadata.append(metadata)\n",
    "        except Exception as e:\n",
    "            print(f'Failed {mmcif_path}: {e}')\n",
    "            failed_paths.append(mmcif_path)\n",
    "    return all_metadata, failed_paths\n",
    "\n",
    "\n",
    "def gunzip(file_path,output_path):\n",
    "    with gzip.open(file_path,\"rb\") as f_in, open(output_path,\"wb\") as f_out:\n",
    "        shutil.copyfileobj(f_in, f_out)\n",
    "        f_in.close()\n",
    "        f_out.close()\n",
    "    os.remove(file_path)\n",
    "\n",
    "# f='TEST.txt.gz'\n",
    "# gunzip(f,f.replace(\".gz\",\"\"))"
   ]
  },
  {
   "cell_type": "code",
   "execution_count": null,
   "id": "da8e29b3",
   "metadata": {},
   "outputs": [],
   "source": [
    "mmcif_dir = '/mnt/h/datasets/mmCIF/'\n",
    "\n",
    "max_file_size = 300000000\n",
    "min_file_size = 100\n",
    "\n",
    "max_res = 3.0\n",
    "max_length = 128\n",
    "output_dir = '/mnt/h/datasets/processed_128L'\n",
    "\n",
    "all_mmcif_paths = _retrieve_mmcif_files(mmcif_dir, max_file_size, min_file_size, False)\n",
    "total_num_files =0\n",
    "for mmcif_file in os.listdir(mmcif_dir):\n",
    "    if not mmcif_file.endswith('.cif'):\n",
    "        continue\n",
    "    mmcif_path = os.path.join(mmcif_dir, mmcif_file)\n",
    "    total_num_files += 1\n",
    "    if min_file_size <= os.path.getsize(mmcif_path) <= max_file_size:\n",
    "        all_mmcif_paths.append(mmcif_path)\n",
    "\n",
    "\n",
    "all_metadata, failed_paths= process_serially(all_mmcif_paths,max_res,max_length,\n",
    "                                              output_dir, simple=False)"
   ]
  },
  {
   "cell_type": "code",
   "execution_count": null,
   "id": "c10306d0",
   "metadata": {},
   "outputs": [],
   "source": [
    "failed_paths"
   ]
  },
  {
   "cell_type": "code",
   "execution_count": 11,
   "id": "85e82ed2",
   "metadata": {},
   "outputs": [],
   "source": [
    "type(all_metadata)"
   ]
  },
  {
   "cell_type": "code",
   "execution_count": 12,
   "id": "c4067db2",
   "metadata": {},
   "outputs": [],
   "source": [
    "print('hi')"
   ]
  },
  {
   "cell_type": "code",
   "execution_count": 24,
   "id": "9c7f84d7",
   "metadata": {},
   "outputs": [
    {
     "name": "stderr",
     "output_type": "stream",
     "text": [
      "\r",
      "  0%|                                                                                          | 0/1060 [00:00<?, ?it/s]"
     ]
    },
    {
     "name": "stdout",
     "output_type": "stream",
     "text": [
      "Gathering mmCIF paths\n"
     ]
    },
    {
     "name": "stderr",
     "output_type": "stream",
     "text": [
      "\n",
      "100%|████████████████████████████████████████████████████████████████████████████████████| 1/1 [00:00<00:00, 505.28it/s]\u001b[A\n",
      "  0%|                                                                                  | 1/1060 [00:00<02:00,  8.80it/s]"
     ]
    },
    {
     "name": "stdout",
     "output_type": "stream",
     "text": [
      "Processing 0 files our of 0\n",
      "Finished /mnt/h/datasets/mmCIF/00/200l.cif in 0.10s\n",
      "Gathering mmCIF paths\n"
     ]
    },
    {
     "name": "stderr",
     "output_type": "stream",
     "text": [
      "\n",
      "100%|████████████████████████████████████████████████████████████████████████████████████| 6/6 [00:00<00:00, 730.82it/s]\u001b[A\n"
     ]
    },
    {
     "name": "stdout",
     "output_type": "stream",
     "text": [
      "Processing 0 files our of 0\n",
      "Failed /mnt/h/datasets/mmCIF/01/101d.cif: Encountered errors {('101d', ''): 'No protein chains found in this file.'}\n",
      "Finished /mnt/h/datasets/mmCIF/01/101m.cif in 0.15s\n"
     ]
    },
    {
     "name": "stderr",
     "output_type": "stream",
     "text": [
      "\r",
      "  0%|▏                                                                                 | 2/1060 [00:00<06:52,  2.57it/s]"
     ]
    },
    {
     "name": "stdout",
     "output_type": "stream",
     "text": [
      "Failed /mnt/h/datasets/mmCIF/01/201d.cif: Encountered errors {('201d', ''): 'No protein chains found in this file.'}\n",
      "Failed /mnt/h/datasets/mmCIF/01/201l.cif: Too long 452\n",
      "Failed /mnt/h/datasets/mmCIF/01/301d.cif: Encountered errors {('301d', ''): 'No protein chains found in this file.'}\n",
      "Failed /mnt/h/datasets/mmCIF/01/401d.cif: Encountered errors {('401d', ''): 'No protein chains found in this file.'}\n",
      "Gathering mmCIF paths\n"
     ]
    },
    {
     "name": "stderr",
     "output_type": "stream",
     "text": [
      "\n",
      "100%|████████████████████████████████████████████████████████████████████████████████████| 6/6 [00:00<00:00, 798.28it/s]\u001b[A\n"
     ]
    },
    {
     "name": "stdout",
     "output_type": "stream",
     "text": [
      "Processing 0 files our of 0\n",
      "Failed /mnt/h/datasets/mmCIF/02/102d.cif: Encountered errors {('102d', ''): 'No protein chains found in this file.'}\n"
     ]
    },
    {
     "name": "stderr",
     "output_type": "stream",
     "text": [
      "\r",
      "  0%|▏                                                                                 | 3/1060 [00:01<08:22,  2.10it/s]"
     ]
    },
    {
     "name": "stdout",
     "output_type": "stream",
     "text": [
      "Finished /mnt/h/datasets/mmCIF/02/102l.cif in 0.27s\n",
      "Failed /mnt/h/datasets/mmCIF/02/102m.cif: Too long 311\n",
      "Failed /mnt/h/datasets/mmCIF/02/202d.cif: Encountered errors {('202d', ''): 'No protein chains found in this file.'}\n",
      "Failed /mnt/h/datasets/mmCIF/02/302d.cif: Encountered errors {('302d', ''): 'No protein chains found in this file.'}\n",
      "Failed /mnt/h/datasets/mmCIF/02/402d.cif: Encountered errors {('402d', ''): 'No protein chains found in this file.'}\n",
      "Gathering mmCIF paths\n"
     ]
    },
    {
     "name": "stderr",
     "output_type": "stream",
     "text": [
      "\n",
      "100%|████████████████████████████████████████████████████████████████████████████████████| 6/6 [00:00<00:00, 749.90it/s]\u001b[A\n"
     ]
    },
    {
     "name": "stdout",
     "output_type": "stream",
     "text": [
      "Processing 0 files our of 0\n",
      "Failed /mnt/h/datasets/mmCIF/03/103d.cif: Encountered errors {('103d', ''): 'No protein chains found in this file.'}\n",
      "Finished /mnt/h/datasets/mmCIF/03/103l.cif in 0.15s\n",
      "Finished /mnt/h/datasets/mmCIF/03/103m.cif in 0.15s\n"
     ]
    },
    {
     "name": "stderr",
     "output_type": "stream",
     "text": [
      "\r",
      "  0%|▎                                                                                 | 4/1060 [00:02<13:28,  1.31it/s]"
     ]
    },
    {
     "name": "stdout",
     "output_type": "stream",
     "text": [
      "Failed /mnt/h/datasets/mmCIF/03/203d.cif: Encountered errors {('203d', ''): 'No protein chains found in this file.'}\n",
      "Failed /mnt/h/datasets/mmCIF/03/303d.cif: Encountered errors {('303d', ''): 'No protein chains found in this file.'}\n",
      "Failed /mnt/h/datasets/mmCIF/03/403d.cif: Encountered errors {('403d', ''): 'No protein chains found in this file.'}\n",
      "Gathering mmCIF paths\n"
     ]
    },
    {
     "name": "stderr",
     "output_type": "stream",
     "text": [
      "\n",
      "100%|████████████████████████████████████████████████████████████████████████████████████| 6/6 [00:00<00:00, 716.67it/s]\u001b[A"
     ]
    },
    {
     "name": "stdout",
     "output_type": "stream",
     "text": [
      "Processing 0 files our of 0\n"
     ]
    },
    {
     "name": "stderr",
     "output_type": "stream",
     "text": [
      "\n"
     ]
    },
    {
     "name": "stdout",
     "output_type": "stream",
     "text": [
      "Failed /mnt/h/datasets/mmCIF/04/104d.cif: Encountered errors {('104d', ''): 'No protein chains found in this file.'}\n",
      "Failed /mnt/h/datasets/mmCIF/04/104l.cif: Too long 360\n",
      "Failed /mnt/h/datasets/mmCIF/04/104m.cif: Too long 335\n",
      "Failed /mnt/h/datasets/mmCIF/04/204d.cif: Encountered errors {('204d', ''): 'No protein chains found in this file.'}\n",
      "Failed /mnt/h/datasets/mmCIF/04/304d.cif: Encountered errors {('304d', ''): 'No protein chains found in this file.'}\n"
     ]
    },
    {
     "name": "stderr",
     "output_type": "stream",
     "text": [
      "\r",
      "  0%|▍                                                                                 | 5/1060 [00:03<15:33,  1.13it/s]"
     ]
    },
    {
     "name": "stdout",
     "output_type": "stream",
     "text": [
      "Failed /mnt/h/datasets/mmCIF/04/404d.cif: Encountered errors {('404d', ''): 'No protein chains found in this file.'}\n",
      "Gathering mmCIF paths\n"
     ]
    },
    {
     "name": "stderr",
     "output_type": "stream",
     "text": [
      "\n",
      "100%|████████████████████████████████████████████████████████████████████████████████████| 6/6 [00:00<00:00, 772.93it/s]\u001b[A"
     ]
    },
    {
     "name": "stdout",
     "output_type": "stream",
     "text": [
      "Processing 0 files our of 0\n",
      "Failed /mnt/h/datasets/mmCIF/05/105d.cif: Encountered errors {('105d', ''): 'No protein chains found in this file.'}\n"
     ]
    },
    {
     "name": "stderr",
     "output_type": "stream",
     "text": [
      "\n"
     ]
    },
    {
     "name": "stdout",
     "output_type": "stream",
     "text": [
      "Finished /mnt/h/datasets/mmCIF/05/105m.cif in 0.15s\n",
      "Failed /mnt/h/datasets/mmCIF/05/205d.cif: Encountered errors {('205d', ''): 'No protein chains found in this file.'}\n",
      "Finished /mnt/h/datasets/mmCIF/05/205l.cif in 0.15s\n",
      "Failed /mnt/h/datasets/mmCIF/05/305d.cif: Encountered errors {('305d', ''): 'No protein chains found in this file.'}\n"
     ]
    },
    {
     "name": "stderr",
     "output_type": "stream",
     "text": [
      "\r",
      "  1%|▍                                                                                 | 6/1060 [00:04<13:32,  1.30it/s]"
     ]
    },
    {
     "name": "stdout",
     "output_type": "stream",
     "text": [
      "Failed /mnt/h/datasets/mmCIF/05/405d.cif: Encountered errors {('405d', ''): 'No protein chains found in this file.'}\n",
      "Gathering mmCIF paths\n"
     ]
    },
    {
     "name": "stderr",
     "output_type": "stream",
     "text": [
      "\n",
      "100%|████████████████████████████████████████████████████████████████████████████████████| 6/6 [00:00<00:00, 856.59it/s]\u001b[A"
     ]
    },
    {
     "name": "stdout",
     "output_type": "stream",
     "text": [
      "Processing 0 files our of 0\n",
      "Failed /mnt/h/datasets/mmCIF/06/106d.cif: Encountered errors {('106d', ''): 'No protein chains found in this file.'}\n"
     ]
    },
    {
     "name": "stderr",
     "output_type": "stream",
     "text": [
      "\n"
     ]
    },
    {
     "name": "stdout",
     "output_type": "stream",
     "text": [
      "Finished /mnt/h/datasets/mmCIF/06/106m.cif in 0.15s\n",
      "Failed /mnt/h/datasets/mmCIF/06/206d.cif: Encountered errors {('206d', ''): 'No protein chains found in this file.'}\n",
      "Failed /mnt/h/datasets/mmCIF/06/206l.cif: Too long 302\n"
     ]
    },
    {
     "name": "stderr",
     "output_type": "stream",
     "text": [
      "\r",
      "  1%|▌                                                                                 | 7/1060 [00:04<12:49,  1.37it/s]"
     ]
    },
    {
     "name": "stdout",
     "output_type": "stream",
     "text": [
      "Failed /mnt/h/datasets/mmCIF/06/306d.cif: Encountered errors {('306d', ''): 'No protein chains found in this file.'}\n",
      "Failed /mnt/h/datasets/mmCIF/06/406d.cif: Encountered errors {('406d', ''): 'No protein chains found in this file.'}\n",
      "Gathering mmCIF paths\n"
     ]
    },
    {
     "name": "stderr",
     "output_type": "stream",
     "text": [
      "\n",
      "100%|████████████████████████████████████████████████████████████████████████████████████| 7/7 [00:00<00:00, 800.85it/s]\u001b[A\n"
     ]
    },
    {
     "name": "stdout",
     "output_type": "stream",
     "text": [
      "Processing 0 files our of 0\n",
      "Failed /mnt/h/datasets/mmCIF/07/107d.cif: Encountered errors {('107d', ''): 'No protein chains found in this file.'}\n",
      "Failed /mnt/h/datasets/mmCIF/07/107l.cif: Too long 317\n",
      "Finished /mnt/h/datasets/mmCIF/07/107m.cif in 0.15s\n",
      "Failed /mnt/h/datasets/mmCIF/07/207d.cif: Encountered errors {('207d', ''): 'No protein chains found in this file.'}\n"
     ]
    },
    {
     "name": "stderr",
     "output_type": "stream",
     "text": [
      "\r",
      "  1%|▌                                                                                 | 8/1060 [00:05<14:15,  1.23it/s]"
     ]
    },
    {
     "name": "stdout",
     "output_type": "stream",
     "text": [
      "Finished /mnt/h/datasets/mmCIF/07/207l.cif in 0.26s\n",
      "Failed /mnt/h/datasets/mmCIF/07/307d.cif: Encountered errors {('307d', ''): 'No protein chains found in this file.'}\n",
      "Failed /mnt/h/datasets/mmCIF/07/407d.cif: Encountered errors {('407d', ''): 'No protein chains found in this file.'}\n",
      "Gathering mmCIF paths\n"
     ]
    },
    {
     "name": "stderr",
     "output_type": "stream",
     "text": [
      "\n",
      "100%|████████████████████████████████████████████████████████████████████████████████████| 7/7 [00:00<00:00, 777.44it/s]\u001b[A\n"
     ]
    },
    {
     "name": "stdout",
     "output_type": "stream",
     "text": [
      "Processing 0 files our of 0\n",
      "Failed /mnt/h/datasets/mmCIF/08/108d.cif: Encountered errors {('108d', ''): 'No protein chains found in this file.'}\n",
      "Failed /mnt/h/datasets/mmCIF/08/108l.cif: Too long 336\n",
      "Finished /mnt/h/datasets/mmCIF/08/108m.cif in 0.15s\n",
      "Failed /mnt/h/datasets/mmCIF/08/208d.cif: Encountered errors {('208d', ''): 'No protein chains found in this file.'}\n"
     ]
    },
    {
     "name": "stderr",
     "output_type": "stream",
     "text": [
      "\r",
      "  1%|▋                                                                                 | 9/1060 [00:07<17:31,  1.00s/it]"
     ]
    },
    {
     "name": "stdout",
     "output_type": "stream",
     "text": [
      "Finished /mnt/h/datasets/mmCIF/08/208l.cif in 0.27s\n",
      "Failed /mnt/h/datasets/mmCIF/08/308d.cif: Encountered errors {('308d', ''): 'No protein chains found in this file.'}\n",
      "Failed /mnt/h/datasets/mmCIF/08/408d.cif: Encountered errors {('408d', ''): 'No protein chains found in this file.'}\n",
      "Gathering mmCIF paths\n"
     ]
    },
    {
     "name": "stderr",
     "output_type": "stream",
     "text": [
      "\n",
      "100%|████████████████████████████████████████████████████████████████████████████████████| 7/7 [00:00<00:00, 663.04it/s]\u001b[A"
     ]
    },
    {
     "name": "stdout",
     "output_type": "stream",
     "text": [
      "Processing 0 files our of 0\n",
      "Failed /mnt/h/datasets/mmCIF/09/109d.cif: Encountered errors {('109d', ''): 'No protein chains found in this file.'}\n"
     ]
    },
    {
     "name": "stderr",
     "output_type": "stream",
     "text": [
      "\n"
     ]
    },
    {
     "name": "stdout",
     "output_type": "stream",
     "text": [
      "Failed /mnt/h/datasets/mmCIF/09/109l.cif: Too long 318\n",
      "Failed /mnt/h/datasets/mmCIF/09/109m.cif: Too long 354\n",
      "Failed /mnt/h/datasets/mmCIF/09/209d.cif: Too high resolution 3.0\n"
     ]
    },
    {
     "name": "stderr",
     "output_type": "stream",
     "text": [
      "\r",
      "  1%|▊                                                                                | 10/1060 [00:07<14:48,  1.18it/s]"
     ]
    },
    {
     "name": "stdout",
     "output_type": "stream",
     "text": [
      "Finished /mnt/h/datasets/mmCIF/09/209l.cif in 0.14s\n",
      "Failed /mnt/h/datasets/mmCIF/09/309d.cif: Encountered errors {('309d', ''): 'No protein chains found in this file.'}\n",
      "Failed /mnt/h/datasets/mmCIF/09/409d.cif: Encountered errors {('409d', ''): 'No protein chains found in this file.'}\n",
      "Gathering mmCIF paths\n"
     ]
    },
    {
     "name": "stderr",
     "output_type": "stream",
     "text": [
      "\n",
      "0it [00:00, ?it/s]\u001b[A\n"
     ]
    },
    {
     "name": "stdout",
     "output_type": "stream",
     "text": [
      "Processing 0 files our of 0\n",
      "Gathering mmCIF paths\n"
     ]
    },
    {
     "name": "stderr",
     "output_type": "stream",
     "text": [
      "\n",
      "100%|████████████████████████████████████████████████████████████████████████████████████| 1/1 [00:00<00:00, 631.58it/s]\u001b[A"
     ]
    },
    {
     "name": "stdout",
     "output_type": "stream",
     "text": [
      "Processing 0 files our of 0\n"
     ]
    },
    {
     "name": "stderr",
     "output_type": "stream",
     "text": [
      "\n",
      "\r",
      "  1%|▉                                                                                | 12/1060 [00:07<08:37,  2.03it/s]"
     ]
    },
    {
     "name": "stdout",
     "output_type": "stream",
     "text": [
      "Failed /mnt/h/datasets/mmCIF/0m/10mh.cif: Too long 481\n",
      "Gathering mmCIF paths\n"
     ]
    },
    {
     "name": "stderr",
     "output_type": "stream",
     "text": [
      "\n",
      "100%|████████████████████████████████████████████████████████████████████████████████████| 7/7 [00:00<00:00, 831.07it/s]\u001b[A"
     ]
    },
    {
     "name": "stdout",
     "output_type": "stream",
     "text": [
      "Processing 0 files our of 0\n",
      "Failed /mnt/h/datasets/mmCIF/10/110d.cif: Encountered errors {('110d', ''): 'No protein chains found in this file.'}\n",
      "Failed /mnt/h/datasets/mmCIF/10/110l.cif: Too long 303\n",
      "Failed /mnt/h/datasets/mmCIF/10/110m.cif: Too long 336\n",
      "Failed /mnt/h/datasets/mmCIF/10/210d.cif: Encountered errors {('210d', ''): 'No protein chains found in this file.'}\n"
     ]
    },
    {
     "name": "stderr",
     "output_type": "stream",
     "text": [
      "\n"
     ]
    },
    {
     "name": "stdout",
     "output_type": "stream",
     "text": [
      "Finished /mnt/h/datasets/mmCIF/10/210l.cif in 0.15s\n",
      "Failed /mnt/h/datasets/mmCIF/10/310d.cif: Encountered errors {('310d', ''): 'No protein chains found in this file.'}\n",
      "Failed /mnt/h/datasets/mmCIF/10/410d.cif: Encountered errors {('410d', ''): 'No protein chains found in this file.'}\n"
     ]
    },
    {
     "name": "stderr",
     "output_type": "stream",
     "text": [
      "\r",
      "  1%|▉                                                                                | 13/1060 [00:08<09:04,  1.92it/s]"
     ]
    },
    {
     "name": "stdout",
     "output_type": "stream",
     "text": [
      "Gathering mmCIF paths\n"
     ]
    },
    {
     "name": "stderr",
     "output_type": "stream",
     "text": [
      "\n",
      "100%|████████████████████████████████████████████████████████████████████████████████████| 7/7 [00:00<00:00, 737.47it/s]\u001b[A"
     ]
    },
    {
     "name": "stdout",
     "output_type": "stream",
     "text": [
      "Processing 0 files our of 0\n",
      "Failed /mnt/h/datasets/mmCIF/11/111d.cif: Encountered errors {('111d', ''): 'No protein chains found in this file.'}\n"
     ]
    },
    {
     "name": "stderr",
     "output_type": "stream",
     "text": [
      "\n"
     ]
    },
    {
     "name": "stdout",
     "output_type": "stream",
     "text": [
      "Failed /mnt/h/datasets/mmCIF/11/111l.cif: Too long 325\n",
      "Failed /mnt/h/datasets/mmCIF/11/111m.cif: Too long 311\n",
      "Failed /mnt/h/datasets/mmCIF/11/211d.cif: Encountered errors {('211d', ''): 'No protein chains found in this file.'}\n"
     ]
    },
    {
     "name": "stderr",
     "output_type": "stream",
     "text": [
      "\r",
      "  1%|█                                                                                | 14/1060 [00:08<08:52,  1.96it/s]"
     ]
    },
    {
     "name": "stdout",
     "output_type": "stream",
     "text": [
      "Finished /mnt/h/datasets/mmCIF/11/211l.cif in 0.15s\n",
      "Failed /mnt/h/datasets/mmCIF/11/311d.cif: Encountered errors {('311d', ''): 'No protein chains found in this file.'}\n",
      "Failed /mnt/h/datasets/mmCIF/11/411d.cif: Encountered errors {('411d', ''): 'No protein chains found in this file.'}\n",
      "Gathering mmCIF paths\n"
     ]
    },
    {
     "name": "stderr",
     "output_type": "stream",
     "text": [
      "\n",
      "100%|████████████████████████████████████████████████████████████████████████████████████| 7/7 [00:00<00:00, 735.92it/s]\u001b[A"
     ]
    },
    {
     "name": "stdout",
     "output_type": "stream",
     "text": [
      "Processing 0 files our of 0\n",
      "Failed /mnt/h/datasets/mmCIF/12/112d.cif: Encountered errors {('112d', ''): 'No protein chains found in this file.'}\n"
     ]
    },
    {
     "name": "stderr",
     "output_type": "stream",
     "text": [
      "\n"
     ]
    },
    {
     "name": "stdout",
     "output_type": "stream",
     "text": [
      "Failed /mnt/h/datasets/mmCIF/12/112l.cif: Too long 314\n",
      "Finished /mnt/h/datasets/mmCIF/12/112m.cif in 0.18s\n",
      "Failed /mnt/h/datasets/mmCIF/12/212d.cif: Encountered errors {('212d', ''): 'No protein chains found in this file.'}\n"
     ]
    },
    {
     "name": "stderr",
     "output_type": "stream",
     "text": [
      "\r",
      "  1%|█▏                                                                               | 15/1060 [00:09<08:51,  1.97it/s]"
     ]
    },
    {
     "name": "stdout",
     "output_type": "stream",
     "text": [
      "Failed /mnt/h/datasets/mmCIF/12/212l.cif: Too long 324\n",
      "Failed /mnt/h/datasets/mmCIF/12/312d.cif: Encountered errors {('312d', ''): 'No protein chains found in this file.'}\n",
      "Failed /mnt/h/datasets/mmCIF/12/412d.cif: Encountered errors {('412d', ''): 'No protein chains found in this file.'}\n",
      "Gathering mmCIF paths\n"
     ]
    },
    {
     "name": "stderr",
     "output_type": "stream",
     "text": [
      "\n",
      "100%|████████████████████████████████████████████████████████████████████████████████████| 6/6 [00:00<00:00, 781.57it/s]\u001b[A"
     ]
    },
    {
     "name": "stdout",
     "output_type": "stream",
     "text": [
      "Processing 0 files our of 0\n",
      "Failed /mnt/h/datasets/mmCIF/13/113d.cif: Encountered errors {('113d', ''): 'No protein chains found in this file.'}\n"
     ]
    },
    {
     "name": "stderr",
     "output_type": "stream",
     "text": [
      "\n"
     ]
    },
    {
     "name": "stdout",
     "output_type": "stream",
     "text": [
      "Failed /mnt/h/datasets/mmCIF/13/113l.cif: Too long 315\n",
      "Failed /mnt/h/datasets/mmCIF/13/213d.cif: Encountered errors {('213d', ''): 'No protein chains found in this file.'}\n"
     ]
    },
    {
     "name": "stderr",
     "output_type": "stream",
     "text": [
      "\r",
      "  2%|█▏                                                                               | 16/1060 [00:09<08:57,  1.94it/s]"
     ]
    },
    {
     "name": "stdout",
     "output_type": "stream",
     "text": [
      "Finished /mnt/h/datasets/mmCIF/13/213l.cif in 0.29s\n",
      "Failed /mnt/h/datasets/mmCIF/13/313d.cif: Encountered errors {('313d', ''): 'No protein chains found in this file.'}\n",
      "Failed /mnt/h/datasets/mmCIF/13/413d.cif: Encountered errors {('413d', ''): 'No protein chains found in this file.'}\n",
      "Gathering mmCIF paths\n"
     ]
    },
    {
     "name": "stderr",
     "output_type": "stream",
     "text": [
      "\n",
      "100%|████████████████████████████████████████████████████████████████████████████████████| 6/6 [00:00<00:00, 696.34it/s]\u001b[A"
     ]
    },
    {
     "name": "stdout",
     "output_type": "stream",
     "text": [
      "Processing 0 files our of 0\n"
     ]
    },
    {
     "name": "stderr",
     "output_type": "stream",
     "text": [
      "\n"
     ]
    },
    {
     "name": "stdout",
     "output_type": "stream",
     "text": [
      "Failed /mnt/h/datasets/mmCIF/14/114d.cif: Encountered errors {('114d', ''): 'No protein chains found in this file.'}\n",
      "Failed /mnt/h/datasets/mmCIF/14/114l.cif: Too long 314\n",
      "Failed /mnt/h/datasets/mmCIF/14/214d.cif: Encountered errors {('214d', ''): 'No protein chains found in this file.'}\n"
     ]
    },
    {
     "name": "stderr",
     "output_type": "stream",
     "text": [
      "\r",
      "  2%|█▎                                                                               | 17/1060 [00:11<13:00,  1.34it/s]"
     ]
    },
    {
     "name": "stdout",
     "output_type": "stream",
     "text": [
      "Finished /mnt/h/datasets/mmCIF/14/214l.cif in 0.30s\n",
      "Failed /mnt/h/datasets/mmCIF/14/314d.cif: Encountered errors {('314d', ''): 'No protein chains found in this file.'}\n",
      "Failed /mnt/h/datasets/mmCIF/14/414d.cif: Encountered errors {('414d', ''): 'No protein chains found in this file.'}\n",
      "Gathering mmCIF paths\n"
     ]
    },
    {
     "name": "stderr",
     "output_type": "stream",
     "text": [
      "\n",
      "100%|████████████████████████████████████████████████████████████████████████████████████| 5/5 [00:00<00:00, 718.23it/s]\u001b[A"
     ]
    },
    {
     "name": "stdout",
     "output_type": "stream",
     "text": [
      "Processing 0 files our of 0\n",
      "Failed /mnt/h/datasets/mmCIF/15/115d.cif: Encountered errors {('115d', ''): 'No protein chains found in this file.'}\n"
     ]
    },
    {
     "name": "stderr",
     "output_type": "stream",
     "text": [
      "\n"
     ]
    },
    {
     "name": "stdout",
     "output_type": "stream",
     "text": [
      "Failed /mnt/h/datasets/mmCIF/15/115l.cif: Too long 310\n",
      "Failed /mnt/h/datasets/mmCIF/15/215d.cif: Encountered errors {('215d', ''): 'No protein chains found in this file.'}\n"
     ]
    },
    {
     "name": "stderr",
     "output_type": "stream",
     "text": [
      "\r",
      "  2%|█▍                                                                               | 18/1060 [00:11<10:59,  1.58it/s]"
     ]
    },
    {
     "name": "stdout",
     "output_type": "stream",
     "text": [
      "Finished /mnt/h/datasets/mmCIF/15/215l.cif in 0.15s\n",
      "Failed /mnt/h/datasets/mmCIF/15/315d.cif: Encountered errors {('315d', ''): 'No protein chains found in this file.'}\n",
      "Gathering mmCIF paths\n"
     ]
    },
    {
     "name": "stderr",
     "output_type": "stream",
     "text": [
      "\n",
      "100%|████████████████████████████████████████████████████████████████████████████████████| 4/4 [00:00<00:00, 740.68it/s]\u001b[A"
     ]
    },
    {
     "name": "stdout",
     "output_type": "stream",
     "text": [
      "Processing 0 files our of 0\n",
      "Failed /mnt/h/datasets/mmCIF/16/116d.cif: Encountered errors {('116d', ''): 'No protein chains found in this file.'}\n",
      "Failed /mnt/h/datasets/mmCIF/16/216d.cif: Encountered errors {('216d', ''): 'No protein chains found in this file.'}\n"
     ]
    },
    {
     "name": "stderr",
     "output_type": "stream",
     "text": [
      "\n",
      "  2%|█▍                                                                               | 19/1060 [00:11<08:54,  1.95it/s]"
     ]
    },
    {
     "name": "stdout",
     "output_type": "stream",
     "text": [
      "Failed /mnt/h/datasets/mmCIF/16/216l.cif: Too long 348\n",
      "Failed /mnt/h/datasets/mmCIF/16/316d.cif: Too high resolution 3.0\n",
      "Gathering mmCIF paths\n"
     ]
    },
    {
     "name": "stderr",
     "output_type": "stream",
     "text": [
      "\n",
      "100%|████████████████████████████████████████████████████████████████████████████████████| 6/6 [00:00<00:00, 689.46it/s]\u001b[A"
     ]
    },
    {
     "name": "stdout",
     "output_type": "stream",
     "text": [
      "Processing 0 files our of 0\n",
      "Failed /mnt/h/datasets/mmCIF/17/117d.cif: Encountered errors {('117d', ''): 'No protein chains found in this file.'}\n"
     ]
    },
    {
     "name": "stderr",
     "output_type": "stream",
     "text": [
      "\n"
     ]
    },
    {
     "name": "stdout",
     "output_type": "stream",
     "text": [
      "Failed /mnt/h/datasets/mmCIF/17/117e.cif: Too long 1029\n"
     ]
    },
    {
     "name": "stderr",
     "output_type": "stream",
     "text": [
      "\r",
      "  2%|█▌                                                                               | 20/1060 [00:12<08:21,  2.07it/s]"
     ]
    },
    {
     "name": "stdout",
     "output_type": "stream",
     "text": [
      "Failed /mnt/h/datasets/mmCIF/17/217d.cif: Encountered errors {('217d', ''): 'No protein chains found in this file.'}\n",
      "Failed /mnt/h/datasets/mmCIF/17/217l.cif: Too long 343\n",
      "Failed /mnt/h/datasets/mmCIF/17/317d.cif: Encountered errors {('317d', ''): 'No protein chains found in this file.'}\n",
      "Failed /mnt/h/datasets/mmCIF/17/417d.cif: Encountered errors {('417d', ''): 'No protein chains found in this file.'}\n",
      "Gathering mmCIF paths\n"
     ]
    },
    {
     "name": "stderr",
     "output_type": "stream",
     "text": [
      "\n",
      "100%|████████████████████████████████████████████████████████████████████████████████████| 6/6 [00:00<00:00, 772.79it/s]\u001b[A"
     ]
    },
    {
     "name": "stdout",
     "output_type": "stream",
     "text": [
      "Processing 0 files our of 0\n"
     ]
    },
    {
     "name": "stderr",
     "output_type": "stream",
     "text": [
      "\n"
     ]
    },
    {
     "name": "stdout",
     "output_type": "stream",
     "text": [
      "Failed /mnt/h/datasets/mmCIF/18/118d.cif: Encountered errors {('118d', ''): 'No protein chains found in this file.'}\n",
      "Failed /mnt/h/datasets/mmCIF/18/118l.cif: Too long 334\n",
      "Failed /mnt/h/datasets/mmCIF/18/218d.cif: Encountered errors {('218d', ''): 'No protein chains found in this file.'}\n",
      "Finished /mnt/h/datasets/mmCIF/18/218l.cif in 0.15s\n",
      "Failed /mnt/h/datasets/mmCIF/18/318d.cif: Encountered errors {('318d', ''): 'No protein chains found in this file.'}\n",
      "Failed /mnt/h/datasets/mmCIF/18/418d.cif: Encountered errors {('418d', ''): 'No protein chains found in this file.'}\n"
     ]
    },
    {
     "name": "stderr",
     "output_type": "stream",
     "text": [
      "\r",
      "  2%|█▌                                                                               | 21/1060 [00:12<08:33,  2.02it/s]"
     ]
    },
    {
     "name": "stdout",
     "output_type": "stream",
     "text": [
      "Gathering mmCIF paths\n"
     ]
    },
    {
     "name": "stderr",
     "output_type": "stream",
     "text": [
      "\n",
      "100%|████████████████████████████████████████████████████████████████████████████████████| 6/6 [00:00<00:00, 775.24it/s]\u001b[A\n"
     ]
    },
    {
     "name": "stdout",
     "output_type": "stream",
     "text": [
      "Processing 0 files our of 0\n",
      "Failed /mnt/h/datasets/mmCIF/19/119d.cif: Encountered errors {('119d', ''): 'No protein chains found in this file.'}\n",
      "Failed /mnt/h/datasets/mmCIF/19/119l.cif: Too long 327\n",
      "Failed /mnt/h/datasets/mmCIF/19/219d.cif: Encountered errors {('219d', ''): 'No protein chains found in this file.'}\n"
     ]
    },
    {
     "name": "stderr",
     "output_type": "stream",
     "text": [
      "\r",
      "  2%|█▋                                                                               | 22/1060 [00:13<08:08,  2.13it/s]"
     ]
    },
    {
     "name": "stdout",
     "output_type": "stream",
     "text": [
      "Finished /mnt/h/datasets/mmCIF/19/219l.cif in 0.15s\n",
      "Failed /mnt/h/datasets/mmCIF/19/319d.cif: Encountered errors {('319d', ''): 'No protein chains found in this file.'}\n",
      "Failed /mnt/h/datasets/mmCIF/19/419d.cif: Encountered errors {('419d', ''): 'No protein chains found in this file.'}\n",
      "Gathering mmCIF paths\n"
     ]
    },
    {
     "name": "stderr",
     "output_type": "stream",
     "text": [
      "\n",
      "100%|████████████████████████████████████████████████████████████████████████████████████| 1/1 [00:00<00:00, 583.92it/s]\u001b[A"
     ]
    },
    {
     "name": "stdout",
     "output_type": "stream",
     "text": [
      "Processing 0 files our of 0\n"
     ]
    },
    {
     "name": "stderr",
     "output_type": "stream",
     "text": [
      "\n",
      "  2%|█▊                                                                               | 23/1060 [00:13<06:59,  2.47it/s]"
     ]
    },
    {
     "name": "stdout",
     "output_type": "stream",
     "text": [
      "Failed /mnt/h/datasets/mmCIF/1a/11as.cif: Too long 740\n",
      "Gathering mmCIF paths\n"
     ]
    },
    {
     "name": "stderr",
     "output_type": "stream",
     "text": [
      "\n",
      "100%|████████████████████████████████████████████████████████████████████████████████████| 5/5 [00:00<00:00, 714.92it/s]\u001b[A"
     ]
    },
    {
     "name": "stdout",
     "output_type": "stream",
     "text": [
      "Processing 0 files our of 0\n",
      "Failed /mnt/h/datasets/mmCIF/1b/11ba.cif: Too long 361\n"
     ]
    },
    {
     "name": "stderr",
     "output_type": "stream",
     "text": [
      "\n"
     ]
    },
    {
     "name": "stdout",
     "output_type": "stream",
     "text": [
      "Failed /mnt/h/datasets/mmCIF/1b/11bg.cif: Too long 384\n",
      "Finished /mnt/h/datasets/mmCIF/1b/21bi.cif in 0.13s\n"
     ]
    },
    {
     "name": "stderr",
     "output_type": "stream",
     "text": [
      "\r",
      "  2%|█▊                                                                               | 24/1060 [00:14<08:50,  1.95it/s]"
     ]
    },
    {
     "name": "stdout",
     "output_type": "stream",
     "text": [
      "Finished /mnt/h/datasets/mmCIF/1b/31bi.cif in 0.13s\n",
      "Finished /mnt/h/datasets/mmCIF/1b/41bi.cif in 0.13s\n",
      "Gathering mmCIF paths\n"
     ]
    },
    {
     "name": "stderr",
     "output_type": "stream",
     "text": [
      "\n",
      "100%|████████████████████████████████████████████████████████████████████████████████████| 1/1 [00:00<00:00, 647.57it/s]\u001b[A"
     ]
    },
    {
     "name": "stdout",
     "output_type": "stream",
     "text": [
      "Processing 0 files our of 0\n"
     ]
    },
    {
     "name": "stderr",
     "output_type": "stream",
     "text": [
      "\n",
      "\r",
      "  2%|█▉                                                                               | 25/1060 [00:14<07:04,  2.44it/s]"
     ]
    },
    {
     "name": "stdout",
     "output_type": "stream",
     "text": [
      "Failed /mnt/h/datasets/mmCIF/1g/11gs.cif: Too long 596\n",
      "Gathering mmCIF paths\n"
     ]
    },
    {
     "name": "stderr",
     "output_type": "stream",
     "text": [
      "\n",
      "100%|████████████████████████████████████████████████████████████████████████████████████| 5/5 [00:00<00:00, 806.44it/s]\u001b[A"
     ]
    },
    {
     "name": "stdout",
     "output_type": "stream",
     "text": [
      "Processing 0 files our of 0\n",
      "Failed /mnt/h/datasets/mmCIF/20/120l.cif: Too long 343\n",
      "Failed /mnt/h/datasets/mmCIF/20/220d.cif: Encountered errors {('220d', ''): 'No protein chains found in this file.'}\n"
     ]
    },
    {
     "name": "stderr",
     "output_type": "stream",
     "text": [
      "\n",
      "  2%|█▉                                                                               | 26/1060 [00:14<07:31,  2.29it/s]"
     ]
    },
    {
     "name": "stdout",
     "output_type": "stream",
     "text": [
      "Finished /mnt/h/datasets/mmCIF/20/220l.cif in 0.15s\n",
      "Failed /mnt/h/datasets/mmCIF/20/320d.cif: Encountered errors {('320d', ''): 'No protein chains found in this file.'}\n",
      "Failed /mnt/h/datasets/mmCIF/20/420d.cif: Encountered errors {('420d', ''): 'No protein chains found in this file.'}\n",
      "Gathering mmCIF paths\n"
     ]
    },
    {
     "name": "stderr",
     "output_type": "stream",
     "text": [
      "\n",
      "100%|██████████████████████████████████████████████████████████████████████████████████| 12/12 [00:00<00:00, 756.24it/s]\u001b[A\n"
     ]
    },
    {
     "name": "stdout",
     "output_type": "stream",
     "text": [
      "Processing 0 files our of 0\n",
      "Failed /mnt/h/datasets/mmCIF/21/121d.cif: Encountered errors {('121d', ''): 'No protein chains found in this file.'}\n",
      "Failed /mnt/h/datasets/mmCIF/21/121p.cif: Too long 363\n",
      "Failed /mnt/h/datasets/mmCIF/21/221d.cif: Encountered errors {('221d', ''): 'No protein chains found in this file.'}\n",
      "Finished /mnt/h/datasets/mmCIF/21/221l.cif in 0.15s\n",
      "Failed /mnt/h/datasets/mmCIF/21/221p.cif: Too long 378\n",
      "Failed /mnt/h/datasets/mmCIF/21/321d.cif: Encountered errors {('321d', ''): 'No protein chains found in this file.'}\n",
      "Failed /mnt/h/datasets/mmCIF/21/421d.cif: Encountered errors {('421d', ''): 'No protein chains found in this file.'}\n",
      "Failed /mnt/h/datasets/mmCIF/21/421p.cif: Too long 370\n",
      "Finished /mnt/h/datasets/mmCIF/21/521p.cif in 0.15s\n",
      "Failed /mnt/h/datasets/mmCIF/21/621p.cif: Too long 394\n",
      "Failed /mnt/h/datasets/mmCIF/21/721p.cif: Too long 359\n"
     ]
    },
    {
     "name": "stderr",
     "output_type": "stream",
     "text": [
      "\r",
      "  3%|██                                                                               | 27/1060 [00:16<11:47,  1.46it/s]"
     ]
    },
    {
     "name": "stdout",
     "output_type": "stream",
     "text": [
      "Finished /mnt/h/datasets/mmCIF/21/821p.cif in 0.35s\n",
      "Gathering mmCIF paths\n"
     ]
    },
    {
     "name": "stderr",
     "output_type": "stream",
     "text": [
      "\n",
      "100%|████████████████████████████████████████████████████████████████████████████████████| 6/6 [00:00<00:00, 723.22it/s]\u001b[A"
     ]
    },
    {
     "name": "stdout",
     "output_type": "stream",
     "text": [
      "Processing 0 files our of 0\n",
      "Failed /mnt/h/datasets/mmCIF/22/122d.cif: Encountered errors {('122d', ''): 'No protein chains found in this file.'}\n",
      "Failed /mnt/h/datasets/mmCIF/22/122l.cif: Too long 327\n"
     ]
    },
    {
     "name": "stderr",
     "output_type": "stream",
     "text": [
      "\n"
     ]
    },
    {
     "name": "stdout",
     "output_type": "stream",
     "text": [
      "Failed /mnt/h/datasets/mmCIF/22/222d.cif: Encountered errors {('222d', ''): 'No protein chains found in this file.'}\n",
      "Finished /mnt/h/datasets/mmCIF/22/222l.cif in 0.16s\n",
      "Failed /mnt/h/datasets/mmCIF/22/322d.cif: Encountered errors {('322d', ''): 'No protein chains found in this file.'}\n"
     ]
    },
    {
     "name": "stderr",
     "output_type": "stream",
     "text": [
      "\r",
      "  3%|██▏                                                                              | 28/1060 [00:16<10:22,  1.66it/s]"
     ]
    },
    {
     "name": "stdout",
     "output_type": "stream",
     "text": [
      "Failed /mnt/h/datasets/mmCIF/22/422d.cif: Encountered errors {('422d', ''): 'No protein chains found in this file.'}\n",
      "Gathering mmCIF paths\n"
     ]
    },
    {
     "name": "stderr",
     "output_type": "stream",
     "text": [
      "\n",
      "100%|████████████████████████████████████████████████████████████████████████████████████| 6/6 [00:00<00:00, 767.09it/s]\u001b[A"
     ]
    },
    {
     "name": "stdout",
     "output_type": "stream",
     "text": [
      "Processing 0 files our of 0\n",
      "Failed /mnt/h/datasets/mmCIF/23/123d.cif: Encountered errors {('123d', ''): 'No protein chains found in this file.'}\n",
      "Failed /mnt/h/datasets/mmCIF/23/123l.cif: Too long 324\n"
     ]
    },
    {
     "name": "stderr",
     "output_type": "stream",
     "text": [
      "\n"
     ]
    },
    {
     "name": "stdout",
     "output_type": "stream",
     "text": [
      "Failed /mnt/h/datasets/mmCIF/23/223d.cif: Encountered errors {('223d', ''): 'No protein chains found in this file.'}\n",
      "Failed /mnt/h/datasets/mmCIF/23/223l.cif: Too long 312\n",
      "Failed /mnt/h/datasets/mmCIF/23/323d.cif: Encountered errors {('323d', ''): 'No protein chains found in this file.'}\n"
     ]
    },
    {
     "name": "stderr",
     "output_type": "stream",
     "text": [
      "\r",
      "  3%|██▏                                                                              | 29/1060 [00:16<08:56,  1.92it/s]"
     ]
    },
    {
     "name": "stdout",
     "output_type": "stream",
     "text": [
      "Failed /mnt/h/datasets/mmCIF/23/423d.cif: Encountered errors {('423d', ''): 'No protein chains found in this file.'}\n",
      "Gathering mmCIF paths\n"
     ]
    },
    {
     "name": "stderr",
     "output_type": "stream",
     "text": [
      "\n",
      "100%|████████████████████████████████████████████████████████████████████████████████████| 5/5 [00:00<00:00, 721.07it/s]\u001b[A"
     ]
    },
    {
     "name": "stdout",
     "output_type": "stream",
     "text": [
      "Processing 0 files our of 0\n",
      "Failed /mnt/h/datasets/mmCIF/24/124d.cif: Encountered errors {('124d', ''): 'No protein chains found in this file.'}\n",
      "Failed /mnt/h/datasets/mmCIF/24/224d.cif: Encountered errors {('224d', ''): 'No protein chains found in this file.'}\n",
      "Failed /mnt/h/datasets/mmCIF/24/224l.cif: Too long 303\n"
     ]
    },
    {
     "name": "stderr",
     "output_type": "stream",
     "text": [
      "\n"
     ]
    },
    {
     "name": "stdout",
     "output_type": "stream",
     "text": [
      "Failed /mnt/h/datasets/mmCIF/24/324d.cif: Encountered errors {('324d', ''): 'No protein chains found in this file.'}\n",
      "Failed /mnt/h/datasets/mmCIF/24/424d.cif: Encountered errors {('424d', ''): 'No protein chains found in this file.'}\n"
     ]
    },
    {
     "name": "stderr",
     "output_type": "stream",
     "text": [
      "\r",
      "  3%|██▎                                                                              | 30/1060 [00:17<07:36,  2.26it/s]"
     ]
    },
    {
     "name": "stdout",
     "output_type": "stream",
     "text": [
      "Gathering mmCIF paths\n"
     ]
    },
    {
     "name": "stderr",
     "output_type": "stream",
     "text": [
      "\n",
      "100%|████████████████████████████████████████████████████████████████████████████████████| 5/5 [00:00<00:00, 741.33it/s]\u001b[A"
     ]
    },
    {
     "name": "stdout",
     "output_type": "stream",
     "text": [
      "Processing 0 files our of 0\n",
      "Failed /mnt/h/datasets/mmCIF/25/125l.cif: Too long 326\n"
     ]
    },
    {
     "name": "stderr",
     "output_type": "stream",
     "text": [
      "\n"
     ]
    },
    {
     "name": "stdout",
     "output_type": "stream",
     "text": [
      "Failed /mnt/h/datasets/mmCIF/25/225d.cif: Encountered errors {('225d', ''): 'No protein chains found in this file.'}\n",
      "Failed /mnt/h/datasets/mmCIF/25/225l.cif: Too long 302\n",
      "Failed /mnt/h/datasets/mmCIF/25/325d.cif: Encountered errors {('325d', ''): 'No protein chains found in this file.'}\n",
      "Failed /mnt/h/datasets/mmCIF/25/425d.cif: Encountered errors {('425d', ''): 'No protein chains found in this file.'}\n"
     ]
    },
    {
     "name": "stderr",
     "output_type": "stream",
     "text": [
      "\r",
      "  3%|██▎                                                                              | 31/1060 [00:17<06:45,  2.54it/s]"
     ]
    },
    {
     "name": "stdout",
     "output_type": "stream",
     "text": [
      "Gathering mmCIF paths\n"
     ]
    },
    {
     "name": "stderr",
     "output_type": "stream",
     "text": [
      "\n",
      "100%|████████████████████████████████████████████████████████████████████████████████████| 6/6 [00:00<00:00, 756.43it/s]\u001b[A"
     ]
    },
    {
     "name": "stdout",
     "output_type": "stream",
     "text": [
      "Processing 0 files our of 0\n",
      "Failed /mnt/h/datasets/mmCIF/26/126d.cif: Encountered errors {('126d', ''): 'No protein chains found in this file.'}\n",
      "Failed /mnt/h/datasets/mmCIF/26/126l.cif: Too long 326\n"
     ]
    },
    {
     "name": "stderr",
     "output_type": "stream",
     "text": [
      "\n",
      "  3%|██▍                                                                              | 32/1060 [00:17<07:08,  2.40it/s]"
     ]
    },
    {
     "name": "stdout",
     "output_type": "stream",
     "text": [
      "Failed /mnt/h/datasets/mmCIF/26/226d.cif: Encountered errors {('226d', ''): 'No protein chains found in this file.'}\n",
      "Failed /mnt/h/datasets/mmCIF/26/226l.cif: Too long 303\n",
      "Failed /mnt/h/datasets/mmCIF/26/326d.cif: Encountered errors {('326d', ''): 'No protein chains found in this file.'}\n",
      "Failed /mnt/h/datasets/mmCIF/26/426d.cif: Encountered errors {('426d', ''): 'No protein chains found in this file.'}\n",
      "Gathering mmCIF paths\n"
     ]
    },
    {
     "name": "stderr",
     "output_type": "stream",
     "text": [
      "\n",
      "100%|████████████████████████████████████████████████████████████████████████████████████| 6/6 [00:00<00:00, 823.44it/s]\u001b[A"
     ]
    },
    {
     "name": "stdout",
     "output_type": "stream",
     "text": [
      "Processing 0 files our of 0\n"
     ]
    },
    {
     "name": "stderr",
     "output_type": "stream",
     "text": [
      "\n"
     ]
    },
    {
     "name": "stdout",
     "output_type": "stream",
     "text": [
      "Failed /mnt/h/datasets/mmCIF/27/127d.cif: Encountered errors {('127d', ''): 'No protein chains found in this file.'}\n",
      "Failed /mnt/h/datasets/mmCIF/27/127l.cif: Too long 333\n",
      "Failed /mnt/h/datasets/mmCIF/27/227d.cif: Encountered errors {('227d', ''): 'No protein chains found in this file.'}\n"
     ]
    },
    {
     "name": "stderr",
     "output_type": "stream",
     "text": [
      "\r",
      "  3%|██▌                                                                              | 33/1060 [00:18<07:03,  2.42it/s]"
     ]
    },
    {
     "name": "stdout",
     "output_type": "stream",
     "text": [
      "Finished /mnt/h/datasets/mmCIF/27/227l.cif in 0.15s\n",
      "Failed /mnt/h/datasets/mmCIF/27/327d.cif: Encountered errors {('327d', ''): 'No protein chains found in this file.'}\n",
      "Failed /mnt/h/datasets/mmCIF/27/427d.cif: Encountered errors {('427d', ''): 'No protein chains found in this file.'}\n",
      "Gathering mmCIF paths\n"
     ]
    },
    {
     "name": "stderr",
     "output_type": "stream",
     "text": [
      "\n",
      "100%|████████████████████████████████████████████████████████████████████████████████████| 5/5 [00:00<00:00, 725.13it/s]\u001b[A"
     ]
    },
    {
     "name": "stdout",
     "output_type": "stream",
     "text": [
      "Processing 0 files our of 0\n",
      "Failed /mnt/h/datasets/mmCIF/28/128d.cif: Encountered errors {('128d', ''): 'No protein chains found in this file.'}\n"
     ]
    },
    {
     "name": "stderr",
     "output_type": "stream",
     "text": [
      "\n"
     ]
    },
    {
     "name": "stdout",
     "output_type": "stream",
     "text": [
      "Failed /mnt/h/datasets/mmCIF/28/128l.cif: Too long 327\n",
      "Finished /mnt/h/datasets/mmCIF/28/228l.cif in 0.15s\n",
      "Failed /mnt/h/datasets/mmCIF/28/328d.cif: Encountered errors {('328d', ''): 'No protein chains found in this file.'}\n"
     ]
    },
    {
     "name": "stderr",
     "output_type": "stream",
     "text": [
      "\r",
      "  3%|██▌                                                                              | 34/1060 [00:18<06:53,  2.48it/s]"
     ]
    },
    {
     "name": "stdout",
     "output_type": "stream",
     "text": [
      "Failed /mnt/h/datasets/mmCIF/28/428d.cif: Encountered errors {('428d', ''): 'No protein chains found in this file.'}\n",
      "Gathering mmCIF paths\n"
     ]
    },
    {
     "name": "stderr",
     "output_type": "stream",
     "text": [
      "\n",
      "100%|████████████████████████████████████████████████████████████████████████████████████| 6/6 [00:00<00:00, 707.14it/s]\u001b[A"
     ]
    },
    {
     "name": "stdout",
     "output_type": "stream",
     "text": [
      "Processing 0 files our of 0\n",
      "Failed /mnt/h/datasets/mmCIF/29/129d.cif: Encountered errors {('129d', ''): 'No protein chains found in this file.'}\n",
      "Failed /mnt/h/datasets/mmCIF/29/129l.cif: Too long 325\n"
     ]
    },
    {
     "name": "stderr",
     "output_type": "stream",
     "text": [
      "\n"
     ]
    },
    {
     "name": "stdout",
     "output_type": "stream",
     "text": [
      "Failed /mnt/h/datasets/mmCIF/29/229d.cif: Encountered errors {('229d', ''): 'No protein chains found in this file.'}\n"
     ]
    },
    {
     "name": "stderr",
     "output_type": "stream",
     "text": [
      "\r",
      "  3%|██▋                                                                              | 35/1060 [00:19<07:43,  2.21it/s]"
     ]
    },
    {
     "name": "stdout",
     "output_type": "stream",
     "text": [
      "Finished /mnt/h/datasets/mmCIF/29/229l.cif in 0.30s\n",
      "Failed /mnt/h/datasets/mmCIF/29/329d.cif: Encountered errors {('329d', ''): 'No protein chains found in this file.'}\n",
      "Failed /mnt/h/datasets/mmCIF/29/429d.cif: Encountered errors {('429d', ''): 'No protein chains found in this file.'}\n",
      "Gathering mmCIF paths\n"
     ]
    },
    {
     "name": "stderr",
     "output_type": "stream",
     "text": [
      "\n",
      "100%|████████████████████████████████████████████████████████████████████████████████████| 1/1 [00:00<00:00, 826.30it/s]\u001b[A"
     ]
    },
    {
     "name": "stdout",
     "output_type": "stream",
     "text": [
      "Processing 0 files our of 0\n"
     ]
    },
    {
     "name": "stderr",
     "output_type": "stream",
     "text": [
      "\n",
      "  3%|██▊                                                                              | 36/1060 [00:19<06:41,  2.55it/s]"
     ]
    },
    {
     "name": "stdout",
     "output_type": "stream",
     "text": [
      "Failed /mnt/h/datasets/mmCIF/2a/12as.cif: Too long 861\n",
      "Gathering mmCIF paths\n"
     ]
    },
    {
     "name": "stderr",
     "output_type": "stream",
     "text": [
      "\n",
      "100%|████████████████████████████████████████████████████████████████████████████████████| 2/2 [00:00<00:00, 874.45it/s]\u001b[A"
     ]
    },
    {
     "name": "stdout",
     "output_type": "stream",
     "text": [
      "Processing 0 files our of 0\n",
      "Failed /mnt/h/datasets/mmCIF/2c/12ca.cif: Too long 344\n"
     ]
    },
    {
     "name": "stderr",
     "output_type": "stream",
     "text": [
      "\n",
      "  3%|██▊                                                                              | 37/1060 [00:19<05:52,  2.90it/s]"
     ]
    },
    {
     "name": "stdout",
     "output_type": "stream",
     "text": [
      "Failed /mnt/h/datasets/mmCIF/2c/32c2.cif: Too long 435\n",
      "Gathering mmCIF paths\n"
     ]
    },
    {
     "name": "stderr",
     "output_type": "stream",
     "text": [
      "\n",
      "100%|████████████████████████████████████████████████████████████████████████████████████| 1/1 [00:00<00:00, 689.29it/s]\u001b[A"
     ]
    },
    {
     "name": "stdout",
     "output_type": "stream",
     "text": [
      "Processing 0 files our of 0\n"
     ]
    },
    {
     "name": "stderr",
     "output_type": "stream",
     "text": [
      "\n",
      "  4%|██▉                                                                              | 38/1060 [00:20<06:29,  2.62it/s]"
     ]
    },
    {
     "name": "stdout",
     "output_type": "stream",
     "text": [
      "Failed /mnt/h/datasets/mmCIF/2e/12e8.cif: Too long 1637\n",
      "Gathering mmCIF paths\n"
     ]
    },
    {
     "name": "stderr",
     "output_type": "stream",
     "text": [
      "\n",
      "100%|████████████████████████████████████████████████████████████████████████████████████| 2/2 [00:00<00:00, 857.20it/s]\u001b[A"
     ]
    },
    {
     "name": "stdout",
     "output_type": "stream",
     "text": [
      "Processing 0 files our of 0\n",
      "Failed /mnt/h/datasets/mmCIF/2g/12gs.cif: Too long 601\n"
     ]
    },
    {
     "name": "stderr",
     "output_type": "stream",
     "text": [
      "\n",
      "  4%|██▉                                                                              | 39/1060 [00:20<06:01,  2.82it/s]"
     ]
    },
    {
     "name": "stdout",
     "output_type": "stream",
     "text": [
      "Failed /mnt/h/datasets/mmCIF/2g/22gs.cif: Too long 731\n",
      "Gathering mmCIF paths\n"
     ]
    },
    {
     "name": "stderr",
     "output_type": "stream",
     "text": [
      "\n",
      "100%|███████████████████████████████████████████████████████████████████████████████████| 7/7 [00:00<00:00, 1037.20it/s]\u001b[A"
     ]
    },
    {
     "name": "stdout",
     "output_type": "stream",
     "text": [
      "Processing 0 files our of 0\n",
      "Failed /mnt/h/datasets/mmCIF/30/130d.cif: Encountered errors {('130d', ''): 'No protein chains found in this file.'}\n",
      "Failed /mnt/h/datasets/mmCIF/30/130l.cif: Too long 331\n"
     ]
    },
    {
     "name": "stderr",
     "output_type": "stream",
     "text": [
      "\n"
     ]
    },
    {
     "name": "stdout",
     "output_type": "stream",
     "text": [
      "Failed /mnt/h/datasets/mmCIF/30/230d.cif: Encountered errors {('230d', ''): 'No protein chains found in this file.'}\n",
      "Finished /mnt/h/datasets/mmCIF/30/230l.cif in 0.15s\n",
      "Failed /mnt/h/datasets/mmCIF/30/330d.cif: Encountered errors {('330d', ''): 'No protein chains found in this file.'}\n",
      "Failed /mnt/h/datasets/mmCIF/30/430d.cif: Encountered errors {('430d', ''): 'No protein chains found in this file.'}\n"
     ]
    },
    {
     "name": "stderr",
     "output_type": "stream",
     "text": [
      "\r",
      "  4%|███                                                                              | 40/1060 [00:21<07:46,  2.19it/s]"
     ]
    },
    {
     "name": "stdout",
     "output_type": "stream",
     "text": [
      "Failed /mnt/h/datasets/mmCIF/30/830c.cif: Too long 705\n",
      "Gathering mmCIF paths\n"
     ]
    },
    {
     "name": "stderr",
     "output_type": "stream",
     "text": [
      "\n",
      "100%|████████████████████████████████████████████████████████████████████████████████████| 6/6 [00:00<00:00, 978.38it/s]\u001b[A"
     ]
    },
    {
     "name": "stdout",
     "output_type": "stream",
     "text": [
      "Processing 0 files our of 0\n",
      "Failed /mnt/h/datasets/mmCIF/31/131d.cif: Encountered errors {('131d', ''): 'No protein chains found in this file.'}\n",
      "Failed /mnt/h/datasets/mmCIF/31/131l.cif: Too long 338\n",
      "Failed /mnt/h/datasets/mmCIF/31/231d.cif: Encountered errors {('231d', ''): 'No protein chains found in this file.'}\n"
     ]
    },
    {
     "name": "stderr",
     "output_type": "stream",
     "text": [
      "\n",
      "  4%|███▏                                                                             | 41/1060 [00:21<08:09,  2.08it/s]"
     ]
    },
    {
     "name": "stdout",
     "output_type": "stream",
     "text": [
      "Finished /mnt/h/datasets/mmCIF/31/231l.cif in 0.30s\n",
      "Failed /mnt/h/datasets/mmCIF/31/331d.cif: Encountered errors {('331d', ''): 'No protein chains found in this file.'}\n",
      "Failed /mnt/h/datasets/mmCIF/31/431d.cif: Encountered errors {('431d', ''): 'No protein chains found in this file.'}\n",
      "Gathering mmCIF paths\n"
     ]
    },
    {
     "name": "stderr",
     "output_type": "stream",
     "text": [
      "\n",
      "100%|███████████████████████████████████████████████████████████████████████████████████| 6/6 [00:00<00:00, 1019.52it/s]\u001b[A"
     ]
    },
    {
     "name": "stdout",
     "output_type": "stream",
     "text": [
      "Processing 0 files our of 0\n",
      "Failed /mnt/h/datasets/mmCIF/32/132d.cif: Encountered errors {('132d', ''): 'No protein chains found in this file.'}\n"
     ]
    },
    {
     "name": "stderr",
     "output_type": "stream",
     "text": [
      "\n"
     ]
    },
    {
     "name": "stdout",
     "output_type": "stream",
     "text": [
      "Finished /mnt/h/datasets/mmCIF/32/132l.cif in 0.14s\n",
      "Failed /mnt/h/datasets/mmCIF/32/232d.cif: Encountered errors {('232d', ''): 'No protein chains found in this file.'}\n",
      "Finished /mnt/h/datasets/mmCIF/32/232l.cif in 0.14s\n",
      "Failed /mnt/h/datasets/mmCIF/32/332d.cif: Encountered errors {('332d', ''): 'No protein chains found in this file.'}\n"
     ]
    },
    {
     "name": "stderr",
     "output_type": "stream",
     "text": [
      "\r",
      "  4%|███▏                                                                             | 42/1060 [00:22<08:01,  2.12it/s]"
     ]
    },
    {
     "name": "stdout",
     "output_type": "stream",
     "text": [
      "Failed /mnt/h/datasets/mmCIF/32/432d.cif: Encountered errors {('432d', ''): 'No protein chains found in this file.'}\n",
      "Gathering mmCIF paths\n"
     ]
    },
    {
     "name": "stderr",
     "output_type": "stream",
     "text": [
      "\n",
      "100%|████████████████████████████████████████████████████████████████████████████████████| 6/6 [00:00<00:00, 954.01it/s]\u001b[A"
     ]
    },
    {
     "name": "stdout",
     "output_type": "stream",
     "text": [
      "Processing 0 files our of 0\n",
      "Failed /mnt/h/datasets/mmCIF/33/133d.cif: Encountered errors {('133d', ''): 'No protein chains found in this file.'}\n"
     ]
    },
    {
     "name": "stderr",
     "output_type": "stream",
     "text": [
      "\n"
     ]
    },
    {
     "name": "stdout",
     "output_type": "stream",
     "text": [
      "Finished /mnt/h/datasets/mmCIF/33/133l.cif in 0.11s\n",
      "Failed /mnt/h/datasets/mmCIF/33/233d.cif: Encountered errors {('233d', ''): 'No protein chains found in this file.'}\n",
      "Finished /mnt/h/datasets/mmCIF/33/233l.cif in 0.15s\n",
      "Failed /mnt/h/datasets/mmCIF/33/333d.cif: Encountered errors {('333d', ''): 'No protein chains found in this file.'}\n"
     ]
    },
    {
     "name": "stderr",
     "output_type": "stream",
     "text": [
      "\r",
      "  4%|███▎                                                                             | 43/1060 [00:22<07:47,  2.17it/s]"
     ]
    },
    {
     "name": "stdout",
     "output_type": "stream",
     "text": [
      "Failed /mnt/h/datasets/mmCIF/33/433d.cif: Encountered errors {('433d', ''): 'No protein chains found in this file.'}\n",
      "Gathering mmCIF paths\n"
     ]
    },
    {
     "name": "stderr",
     "output_type": "stream",
     "text": [
      "\n",
      "100%|████████████████████████████████████████████████████████████████████████████████████| 6/6 [00:00<00:00, 994.26it/s]\u001b[A"
     ]
    },
    {
     "name": "stdout",
     "output_type": "stream",
     "text": [
      "Processing 0 files our of 0\n",
      "Failed /mnt/h/datasets/mmCIF/34/134d.cif: Encountered errors {('134d', ''): 'No protein chains found in this file.'}\n"
     ]
    },
    {
     "name": "stderr",
     "output_type": "stream",
     "text": [
      "\n"
     ]
    },
    {
     "name": "stdout",
     "output_type": "stream",
     "text": [
      "Finished /mnt/h/datasets/mmCIF/34/134l.cif in 0.31s\n",
      "Failed /mnt/h/datasets/mmCIF/34/234d.cif: Encountered errors {('234d', ''): 'No protein chains found in this file.'}\n",
      "Finished /mnt/h/datasets/mmCIF/34/234l.cif in 0.15s\n",
      "Failed /mnt/h/datasets/mmCIF/34/334d.cif: Encountered errors {('334d', ''): 'No protein chains found in this file.'}\n"
     ]
    },
    {
     "name": "stderr",
     "output_type": "stream",
     "text": [
      "\r",
      "  4%|███▎                                                                             | 44/1060 [00:23<08:49,  1.92it/s]"
     ]
    },
    {
     "name": "stdout",
     "output_type": "stream",
     "text": [
      "Failed /mnt/h/datasets/mmCIF/34/434d.cif: Encountered errors {('434d', ''): 'No protein chains found in this file.'}\n",
      "Gathering mmCIF paths\n"
     ]
    },
    {
     "name": "stderr",
     "output_type": "stream",
     "text": [
      "\n",
      "100%|███████████████████████████████████████████████████████████████████████████████████| 6/6 [00:00<00:00, 1015.37it/s]\u001b[A"
     ]
    },
    {
     "name": "stdout",
     "output_type": "stream",
     "text": [
      "Processing 0 files our of 0\n",
      "Failed /mnt/h/datasets/mmCIF/35/135d.cif: Encountered errors {('135d', ''): 'No protein chains found in this file.'}\n"
     ]
    },
    {
     "name": "stderr",
     "output_type": "stream",
     "text": [
      "\n"
     ]
    },
    {
     "name": "stdout",
     "output_type": "stream",
     "text": [
      "Finished /mnt/h/datasets/mmCIF/35/135l.cif in 0.12s\n",
      "Failed /mnt/h/datasets/mmCIF/35/235d.cif: Encountered errors {('235d', ''): 'No protein chains found in this file.'}\n"
     ]
    },
    {
     "name": "stderr",
     "output_type": "stream",
     "text": [
      "\r",
      "  4%|███▍                                                                             | 45/1060 [00:23<08:02,  2.10it/s]"
     ]
    },
    {
     "name": "stdout",
     "output_type": "stream",
     "text": [
      "Failed /mnt/h/datasets/mmCIF/35/235l.cif: Too long 309\n",
      "Failed /mnt/h/datasets/mmCIF/35/335d.cif: Encountered errors {('335d', ''): 'No protein chains found in this file.'}\n",
      "Failed /mnt/h/datasets/mmCIF/35/435d.cif: Encountered errors {('435d', ''): 'No protein chains found in this file.'}\n",
      "Gathering mmCIF paths\n"
     ]
    },
    {
     "name": "stderr",
     "output_type": "stream",
     "text": [
      "\n",
      "100%|████████████████████████████████████████████████████████████████████████████████████| 5/5 [00:00<00:00, 678.76it/s]\u001b[A"
     ]
    },
    {
     "name": "stdout",
     "output_type": "stream",
     "text": [
      "Processing 0 files our of 0\n"
     ]
    },
    {
     "name": "stderr",
     "output_type": "stream",
     "text": [
      "\n"
     ]
    },
    {
     "name": "stdout",
     "output_type": "stream",
     "text": [
      "Failed /mnt/h/datasets/mmCIF/36/136d.cif: Encountered errors {('136d', ''): 'No protein chains found in this file.'}\n",
      "Failed /mnt/h/datasets/mmCIF/36/236d.cif: Encountered errors {('236d', ''): 'No protein chains found in this file.'}\n"
     ]
    },
    {
     "name": "stderr",
     "output_type": "stream",
     "text": [
      "\r",
      "  4%|███▌                                                                             | 46/1060 [00:24<09:22,  1.80it/s]"
     ]
    },
    {
     "name": "stdout",
     "output_type": "stream",
     "text": [
      "Failed /mnt/h/datasets/mmCIF/36/236l.cif: Too long 305\n",
      "Failed /mnt/h/datasets/mmCIF/36/336d.cif: Encountered errors {('336d', ''): 'No protein chains found in this file.'}\n",
      "Failed /mnt/h/datasets/mmCIF/36/436d.cif: Encountered errors {('436d', ''): 'No protein chains found in this file.'}\n",
      "Gathering mmCIF paths\n"
     ]
    },
    {
     "name": "stderr",
     "output_type": "stream",
     "text": [
      "\n",
      "100%|████████████████████████████████████████████████████████████████████████████████████| 6/6 [00:00<00:00, 616.61it/s]\u001b[A"
     ]
    },
    {
     "name": "stdout",
     "output_type": "stream",
     "text": [
      "Processing 0 files our of 0\n"
     ]
    },
    {
     "name": "stderr",
     "output_type": "stream",
     "text": [
      "\n"
     ]
    },
    {
     "name": "stdout",
     "output_type": "stream",
     "text": [
      "Failed /mnt/h/datasets/mmCIF/37/137d.cif: Encountered errors {('137d', ''): 'No protein chains found in this file.'}\n",
      "Failed /mnt/h/datasets/mmCIF/37/137l.cif: Too long 571\n",
      "Failed /mnt/h/datasets/mmCIF/37/237d.cif: Encountered errors {('237d', ''): 'No protein chains found in this file.'}\n",
      "Failed /mnt/h/datasets/mmCIF/37/237l.cif: Too long 311\n",
      "Failed /mnt/h/datasets/mmCIF/37/337d.cif: Encountered errors {('337d', ''): 'No protein chains found in this file.'}\n"
     ]
    },
    {
     "name": "stderr",
     "output_type": "stream",
     "text": [
      "\r",
      "  4%|███▌                                                                             | 47/1060 [00:24<08:23,  2.01it/s]"
     ]
    },
    {
     "name": "stdout",
     "output_type": "stream",
     "text": [
      "Failed /mnt/h/datasets/mmCIF/37/437d.cif: Encountered errors {('437d', ''): 'No protein chains found in this file.'}\n",
      "Gathering mmCIF paths\n"
     ]
    },
    {
     "name": "stderr",
     "output_type": "stream",
     "text": [
      "\n",
      "100%|████████████████████████████████████████████████████████████████████████████████████| 6/6 [00:00<00:00, 698.47it/s]\u001b[A"
     ]
    },
    {
     "name": "stdout",
     "output_type": "stream",
     "text": [
      "Processing 0 files our of 0\n",
      "Failed /mnt/h/datasets/mmCIF/38/138d.cif: Encountered errors {('138d', ''): 'No protein chains found in this file.'}\n"
     ]
    },
    {
     "name": "stderr",
     "output_type": "stream",
     "text": [
      "\n"
     ]
    },
    {
     "name": "stdout",
     "output_type": "stream",
     "text": [
      "Finished /mnt/h/datasets/mmCIF/38/138l.cif in 0.15s\n",
      "Failed /mnt/h/datasets/mmCIF/38/238d.cif: Encountered errors {('238d', ''): 'No protein chains found in this file.'}\n",
      "Finished /mnt/h/datasets/mmCIF/38/238l.cif in 0.16s\n",
      "Failed /mnt/h/datasets/mmCIF/38/338d.cif: Encountered errors {('338d', ''): 'No protein chains found in this file.'}\n"
     ]
    },
    {
     "name": "stderr",
     "output_type": "stream",
     "text": [
      "\r",
      "  5%|███▋                                                                             | 48/1060 [00:25<08:17,  2.03it/s]"
     ]
    },
    {
     "name": "stdout",
     "output_type": "stream",
     "text": [
      "Failed /mnt/h/datasets/mmCIF/38/438d.cif: Encountered errors {('438d', ''): 'No protein chains found in this file.'}\n",
      "Gathering mmCIF paths\n"
     ]
    },
    {
     "name": "stderr",
     "output_type": "stream",
     "text": [
      "\n",
      "100%|████████████████████████████████████████████████████████████████████████████████████| 6/6 [00:00<00:00, 655.74it/s]\u001b[A"
     ]
    },
    {
     "name": "stdout",
     "output_type": "stream",
     "text": [
      "Processing 0 files our of 0\n"
     ]
    },
    {
     "name": "stderr",
     "output_type": "stream",
     "text": [
      "\n"
     ]
    },
    {
     "name": "stdout",
     "output_type": "stream",
     "text": [
      "Failed /mnt/h/datasets/mmCIF/39/139d.cif: Encountered errors {('139d', ''): 'No protein chains found in this file.'}\n",
      "Failed /mnt/h/datasets/mmCIF/39/139l.cif: Too long 312\n",
      "Failed /mnt/h/datasets/mmCIF/39/239d.cif: Encountered errors {('239d', ''): 'No protein chains found in this file.'}\n"
     ]
    },
    {
     "name": "stderr",
     "output_type": "stream",
     "text": [
      "\r",
      "  5%|███▋                                                                             | 49/1060 [00:25<08:21,  2.02it/s]"
     ]
    },
    {
     "name": "stdout",
     "output_type": "stream",
     "text": [
      "Failed /mnt/h/datasets/mmCIF/39/239l.cif: Too long 304\n",
      "Failed /mnt/h/datasets/mmCIF/39/339d.cif: Encountered errors {('339d', ''): 'No protein chains found in this file.'}\n",
      "Failed /mnt/h/datasets/mmCIF/39/439d.cif: Encountered errors {('439d', ''): 'No protein chains found in this file.'}\n",
      "Gathering mmCIF paths\n"
     ]
    },
    {
     "name": "stderr",
     "output_type": "stream",
     "text": [
      "\n",
      "100%|████████████████████████████████████████████████████████████████████████████████████| 2/2 [00:00<00:00, 654.85it/s]\u001b[A"
     ]
    },
    {
     "name": "stdout",
     "output_type": "stream",
     "text": [
      "Processing 0 files our of 0\n"
     ]
    },
    {
     "name": "stderr",
     "output_type": "stream",
     "text": [
      "\n"
     ]
    },
    {
     "name": "stdout",
     "output_type": "stream",
     "text": [
      "Failed /mnt/h/datasets/mmCIF/3c/43c9.cif: Too long 1086\n"
     ]
    },
    {
     "name": "stderr",
     "output_type": "stream",
     "text": [
      "\r",
      "  5%|███▊                                                                             | 50/1060 [00:26<08:43,  1.93it/s]"
     ]
    },
    {
     "name": "stdout",
     "output_type": "stream",
     "text": [
      "Failed /mnt/h/datasets/mmCIF/3c/43ca.cif: Too long 1089\n",
      "Gathering mmCIF paths\n"
     ]
    },
    {
     "name": "stderr",
     "output_type": "stream",
     "text": [
      "\n",
      "100%|████████████████████████████████████████████████████████████████████████████████████| 1/1 [00:00<00:00, 586.94it/s]\u001b[A\n",
      "  5%|███▉                                                                             | 51/1060 [00:26<07:01,  2.40it/s]"
     ]
    },
    {
     "name": "stdout",
     "output_type": "stream",
     "text": [
      "Processing 0 files our of 0\n",
      "Failed /mnt/h/datasets/mmCIF/3g/13gs.cif: Too long 607\n",
      "Gathering mmCIF paths\n"
     ]
    },
    {
     "name": "stderr",
     "output_type": "stream",
     "text": [
      "\n",
      "100%|████████████████████████████████████████████████████████████████████████████████████| 1/1 [00:00<00:00, 569.65it/s]\u001b[A"
     ]
    },
    {
     "name": "stdout",
     "output_type": "stream",
     "text": [
      "Processing 0 files our of 0\n"
     ]
    },
    {
     "name": "stderr",
     "output_type": "stream",
     "text": [
      "\n",
      "  5%|███▉                                                                             | 52/1060 [00:27<08:34,  1.96it/s]"
     ]
    },
    {
     "name": "stdout",
     "output_type": "stream",
     "text": [
      "Failed /mnt/h/datasets/mmCIF/3p/13pk.cif: Too long 2275\n",
      "Gathering mmCIF paths\n"
     ]
    },
    {
     "name": "stderr",
     "output_type": "stream",
     "text": [
      "\n",
      "100%|████████████████████████████████████████████████████████████████████████████████████| 6/6 [00:00<00:00, 752.39it/s]\u001b[A"
     ]
    },
    {
     "name": "stdout",
     "output_type": "stream",
     "text": [
      "Processing 0 files our of 0\n",
      "Failed /mnt/h/datasets/mmCIF/40/140d.cif: Encountered errors {('140d', ''): 'No protein chains found in this file.'}\n"
     ]
    },
    {
     "name": "stderr",
     "output_type": "stream",
     "text": [
      "\n"
     ]
    },
    {
     "name": "stdout",
     "output_type": "stream",
     "text": [
      "Finished /mnt/h/datasets/mmCIF/40/140l.cif in 0.15s\n"
     ]
    },
    {
     "name": "stderr",
     "output_type": "stream",
     "text": [
      "\r",
      "  5%|████                                                                             | 53/1060 [00:27<08:04,  2.08it/s]"
     ]
    },
    {
     "name": "stdout",
     "output_type": "stream",
     "text": [
      "Failed /mnt/h/datasets/mmCIF/40/240d.cif: Encountered errors {('240d', ''): 'No protein chains found in this file.'}\n",
      "Failed /mnt/h/datasets/mmCIF/40/240l.cif: Too long 313\n",
      "Failed /mnt/h/datasets/mmCIF/40/340d.cif: Encountered errors {('340d', ''): 'No protein chains found in this file.'}\n",
      "Failed /mnt/h/datasets/mmCIF/40/440d.cif: Encountered errors {('440d', ''): 'No protein chains found in this file.'}\n",
      "Gathering mmCIF paths\n"
     ]
    },
    {
     "name": "stderr",
     "output_type": "stream",
     "text": [
      "\n",
      "100%|████████████████████████████████████████████████████████████████████████████████████| 6/6 [00:00<00:00, 758.62it/s]\u001b[A\n"
     ]
    },
    {
     "name": "stdout",
     "output_type": "stream",
     "text": [
      "Processing 0 files our of 0\n",
      "Failed /mnt/h/datasets/mmCIF/41/141d.cif: Encountered errors {('141d', ''): 'No protein chains found in this file.'}\n",
      "Finished /mnt/h/datasets/mmCIF/41/141l.cif in 0.15s\n",
      "Failed /mnt/h/datasets/mmCIF/41/241d.cif: Encountered errors {('241d', ''): 'No protein chains found in this file.'}\n"
     ]
    },
    {
     "name": "stderr",
     "output_type": "stream",
     "text": [
      "\r",
      "  5%|████▏                                                                            | 54/1060 [00:28<08:25,  1.99it/s]"
     ]
    },
    {
     "name": "stdout",
     "output_type": "stream",
     "text": [
      "Failed /mnt/h/datasets/mmCIF/41/241l.cif: Too long 315\n",
      "Failed /mnt/h/datasets/mmCIF/41/341d.cif: Encountered errors {('341d', ''): 'No protein chains found in this file.'}\n",
      "Failed /mnt/h/datasets/mmCIF/41/441d.cif: Encountered errors {('441d', ''): 'No protein chains found in this file.'}\n",
      "Gathering mmCIF paths\n"
     ]
    },
    {
     "name": "stderr",
     "output_type": "stream",
     "text": [
      "\n",
      "100%|████████████████████████████████████████████████████████████████████████████████████| 6/6 [00:00<00:00, 687.48it/s]\u001b[A"
     ]
    },
    {
     "name": "stdout",
     "output_type": "stream",
     "text": [
      "Processing 0 files our of 0\n",
      "Failed /mnt/h/datasets/mmCIF/42/142d.cif: Encountered errors {('142d', ''): 'No protein chains found in this file.'}\n"
     ]
    },
    {
     "name": "stderr",
     "output_type": "stream",
     "text": [
      "\n"
     ]
    },
    {
     "name": "stdout",
     "output_type": "stream",
     "text": [
      "Finished /mnt/h/datasets/mmCIF/42/142l.cif in 0.16s\n"
     ]
    },
    {
     "name": "stderr",
     "output_type": "stream",
     "text": [
      "\r",
      "  5%|████▏                                                                            | 55/1060 [00:28<08:00,  2.09it/s]"
     ]
    },
    {
     "name": "stdout",
     "output_type": "stream",
     "text": [
      "Failed /mnt/h/datasets/mmCIF/42/242d.cif: Encountered errors {('242d', ''): 'No protein chains found in this file.'}\n",
      "Failed /mnt/h/datasets/mmCIF/42/242l.cif: Too long 338\n",
      "Failed /mnt/h/datasets/mmCIF/42/342d.cif: Encountered errors {('342d', ''): 'No protein chains found in this file.'}\n",
      "Failed /mnt/h/datasets/mmCIF/42/442d.cif: Encountered errors {('442d', ''): 'No protein chains found in this file.'}\n",
      "Gathering mmCIF paths\n"
     ]
    },
    {
     "name": "stderr",
     "output_type": "stream",
     "text": [
      "\n",
      "100%|████████████████████████████████████████████████████████████████████████████████████| 6/6 [00:00<00:00, 679.33it/s]\u001b[A\n"
     ]
    },
    {
     "name": "stdout",
     "output_type": "stream",
     "text": [
      "Processing 0 files our of 0\n",
      "Failed /mnt/h/datasets/mmCIF/43/143d.cif: Encountered errors {('143d', ''): 'No protein chains found in this file.'}\n"
     ]
    },
    {
     "name": "stderr",
     "output_type": "stream",
     "text": [
      "\r",
      "  5%|████▎                                                                            | 56/1060 [00:29<08:17,  2.02it/s]"
     ]
    },
    {
     "name": "stdout",
     "output_type": "stream",
     "text": [
      "Finished /mnt/h/datasets/mmCIF/43/143l.cif in 0.16s\n",
      "Failed /mnt/h/datasets/mmCIF/43/243d.cif: Encountered errors {('243d', ''): 'No protein chains found in this file.'}\n",
      "Failed /mnt/h/datasets/mmCIF/43/243l.cif: Too long 307\n",
      "Failed /mnt/h/datasets/mmCIF/43/343d.cif: Encountered errors {('343d', ''): 'No protein chains found in this file.'}\n",
      "Failed /mnt/h/datasets/mmCIF/43/443d.cif: Encountered errors {('443d', ''): 'No protein chains found in this file.'}\n",
      "Gathering mmCIF paths\n"
     ]
    },
    {
     "name": "stderr",
     "output_type": "stream",
     "text": [
      "\n",
      "100%|████████████████████████████████████████████████████████████████████████████████████| 6/6 [00:00<00:00, 727.36it/s]\u001b[A\n"
     ]
    },
    {
     "name": "stdout",
     "output_type": "stream",
     "text": [
      "Processing 0 files our of 0\n",
      "Failed /mnt/h/datasets/mmCIF/44/144d.cif: Encountered errors {('144d', ''): 'No protein chains found in this file.'}\n",
      "Finished /mnt/h/datasets/mmCIF/44/144l.cif in 0.15s\n",
      "Failed /mnt/h/datasets/mmCIF/44/244d.cif: Encountered errors {('244d', ''): 'No protein chains found in this file.'}\n"
     ]
    },
    {
     "name": "stderr",
     "output_type": "stream",
     "text": [
      "\r",
      "  5%|████▎                                                                            | 57/1060 [00:30<09:59,  1.67it/s]"
     ]
    },
    {
     "name": "stdout",
     "output_type": "stream",
     "text": [
      "Finished /mnt/h/datasets/mmCIF/44/244l.cif in 0.39s\n",
      "Failed /mnt/h/datasets/mmCIF/44/344d.cif: Encountered errors {('344d', ''): 'No protein chains found in this file.'}\n",
      "Failed /mnt/h/datasets/mmCIF/44/444d.cif: Encountered errors {('444d', ''): 'No protein chains found in this file.'}\n",
      "Gathering mmCIF paths\n"
     ]
    },
    {
     "name": "stderr",
     "output_type": "stream",
     "text": [
      "\n",
      "100%|████████████████████████████████████████████████████████████████████████████████████| 6/6 [00:00<00:00, 780.17it/s]\u001b[A"
     ]
    },
    {
     "name": "stdout",
     "output_type": "stream",
     "text": [
      "Processing 0 files our of 0\n",
      "Failed /mnt/h/datasets/mmCIF/45/145d.cif: Encountered errors {('145d', ''): 'No protein chains found in this file.'}\n"
     ]
    },
    {
     "name": "stderr",
     "output_type": "stream",
     "text": [
      "\n"
     ]
    },
    {
     "name": "stdout",
     "output_type": "stream",
     "text": [
      "Finished /mnt/h/datasets/mmCIF/45/145l.cif in 0.15s\n"
     ]
    },
    {
     "name": "stderr",
     "output_type": "stream",
     "text": [
      "\r",
      "  5%|████▍                                                                            | 58/1060 [00:30<09:05,  1.84it/s]"
     ]
    },
    {
     "name": "stdout",
     "output_type": "stream",
     "text": [
      "Failed /mnt/h/datasets/mmCIF/45/245d.cif: Encountered errors {('245d', ''): 'No protein chains found in this file.'}\n",
      "Failed /mnt/h/datasets/mmCIF/45/245l.cif: Too long 313\n",
      "Failed /mnt/h/datasets/mmCIF/45/345d.cif: Encountered errors {('345d', ''): 'No protein chains found in this file.'}\n",
      "Failed /mnt/h/datasets/mmCIF/45/445d.cif: Encountered errors {('445d', ''): 'No protein chains found in this file.'}\n",
      "Gathering mmCIF paths\n"
     ]
    },
    {
     "name": "stderr",
     "output_type": "stream",
     "text": [
      "\n",
      "100%|████████████████████████████████████████████████████████████████████████████████████| 6/6 [00:00<00:00, 725.68it/s]\u001b[A"
     ]
    },
    {
     "name": "stdout",
     "output_type": "stream",
     "text": [
      "Processing 0 files our of 0\n"
     ]
    },
    {
     "name": "stderr",
     "output_type": "stream",
     "text": [
      "\n"
     ]
    },
    {
     "name": "stdout",
     "output_type": "stream",
     "text": [
      "Failed /mnt/h/datasets/mmCIF/46/146d.cif: Encountered errors {('146d', ''): 'No protein chains found in this file.'}\n",
      "Finished /mnt/h/datasets/mmCIF/46/146l.cif in 0.15s\n",
      "Failed /mnt/h/datasets/mmCIF/46/246d.cif: Encountered errors {('246d', ''): 'No protein chains found in this file.'}\n"
     ]
    },
    {
     "name": "stderr",
     "output_type": "stream",
     "text": [
      "\r",
      "  6%|████▌                                                                            | 59/1060 [00:30<08:32,  1.96it/s]"
     ]
    },
    {
     "name": "stdout",
     "output_type": "stream",
     "text": [
      "Failed /mnt/h/datasets/mmCIF/46/246l.cif: Too long 318\n",
      "Failed /mnt/h/datasets/mmCIF/46/346d.cif: Encountered errors {('346d', ''): 'No protein chains found in this file.'}\n",
      "Failed /mnt/h/datasets/mmCIF/46/446d.cif: Encountered errors {('446d', ''): 'No protein chains found in this file.'}\n",
      "Gathering mmCIF paths\n"
     ]
    },
    {
     "name": "stderr",
     "output_type": "stream",
     "text": [
      "\n",
      "100%|████████████████████████████████████████████████████████████████████████████████████| 4/4 [00:00<00:00, 725.09it/s]\u001b[A"
     ]
    },
    {
     "name": "stdout",
     "output_type": "stream",
     "text": [
      "Processing 0 files our of 0\n"
     ]
    },
    {
     "name": "stderr",
     "output_type": "stream",
     "text": [
      "\n",
      "  6%|████▌                                                                            | 60/1060 [00:31<08:12,  2.03it/s]"
     ]
    },
    {
     "name": "stdout",
     "output_type": "stream",
     "text": [
      "Finished /mnt/h/datasets/mmCIF/47/147l.cif in 0.28s\n",
      "Failed /mnt/h/datasets/mmCIF/47/247d.cif: Encountered errors {('247d', ''): 'No protein chains found in this file.'}\n",
      "Failed /mnt/h/datasets/mmCIF/47/247l.cif: Too long 307\n",
      "Failed /mnt/h/datasets/mmCIF/47/447d.cif: Encountered errors {('447d', ''): 'No protein chains found in this file.'}\n",
      "Gathering mmCIF paths\n"
     ]
    },
    {
     "name": "stderr",
     "output_type": "stream",
     "text": [
      "\n",
      "100%|████████████████████████████████████████████████████████████████████████████████████| 6/6 [00:00<00:00, 708.86it/s]\u001b[A"
     ]
    },
    {
     "name": "stdout",
     "output_type": "stream",
     "text": [
      "Processing 0 files our of 0\n"
     ]
    },
    {
     "name": "stderr",
     "output_type": "stream",
     "text": [
      "\n"
     ]
    },
    {
     "name": "stdout",
     "output_type": "stream",
     "text": [
      "Failed /mnt/h/datasets/mmCIF/48/148d.cif: Encountered errors {('148d', ''): 'No protein chains found in this file.'}\n"
     ]
    },
    {
     "name": "stderr",
     "output_type": "stream",
     "text": [
      "\r",
      "  6%|████▋                                                                            | 61/1060 [00:31<07:56,  2.10it/s]"
     ]
    },
    {
     "name": "stdout",
     "output_type": "stream",
     "text": [
      "Failed /mnt/h/datasets/mmCIF/48/148l.cif: Too long 310\n",
      "Failed /mnt/h/datasets/mmCIF/48/248d.cif: Encountered errors {('248d', ''): 'No protein chains found in this file.'}\n",
      "Failed /mnt/h/datasets/mmCIF/48/248l.cif: Too long 306\n",
      "Failed /mnt/h/datasets/mmCIF/48/348d.cif: Encountered errors {('348d', ''): 'No protein chains found in this file.'}\n",
      "Failed /mnt/h/datasets/mmCIF/48/448d.cif: Encountered errors {('448d', ''): 'No protein chains found in this file.'}\n",
      "Gathering mmCIF paths\n"
     ]
    },
    {
     "name": "stderr",
     "output_type": "stream",
     "text": [
      "\n",
      "100%|████████████████████████████████████████████████████████████████████████████████████| 6/6 [00:00<00:00, 743.39it/s]\u001b[A\n"
     ]
    },
    {
     "name": "stdout",
     "output_type": "stream",
     "text": [
      "Processing 0 files our of 0\n",
      "Failed /mnt/h/datasets/mmCIF/49/149d.cif: Encountered errors {('149d', ''): 'No protein chains found in this file.'}\n",
      "Finished /mnt/h/datasets/mmCIF/49/149l.cif in 0.14s\n"
     ]
    },
    {
     "name": "stderr",
     "output_type": "stream",
     "text": [
      "\r",
      "  6%|████▋                                                                            | 62/1060 [00:32<09:41,  1.72it/s]"
     ]
    },
    {
     "name": "stdout",
     "output_type": "stream",
     "text": [
      "Failed /mnt/h/datasets/mmCIF/49/249d.cif: Encountered errors {('249d', ''): 'No protein chains found in this file.'}\n",
      "Failed /mnt/h/datasets/mmCIF/49/249l.cif: Too long 319\n",
      "Failed /mnt/h/datasets/mmCIF/49/349d.cif: Encountered errors {('349d', ''): 'No protein chains found in this file.'}\n",
      "Failed /mnt/h/datasets/mmCIF/49/449d.cif: Encountered errors {('449d', ''): 'No protein chains found in this file.'}\n",
      "Gathering mmCIF paths\n"
     ]
    },
    {
     "name": "stderr",
     "output_type": "stream",
     "text": [
      "\n",
      "100%|████████████████████████████████████████████████████████████████████████████████████| 1/1 [00:00<00:00, 570.89it/s]\u001b[A"
     ]
    },
    {
     "name": "stdout",
     "output_type": "stream",
     "text": [
      "Processing 0 files our of 0\n"
     ]
    },
    {
     "name": "stderr",
     "output_type": "stream",
     "text": [
      "\n",
      "\r",
      "  6%|████▊                                                                            | 63/1060 [00:32<07:32,  2.20it/s]"
     ]
    },
    {
     "name": "stdout",
     "output_type": "stream",
     "text": [
      "Failed /mnt/h/datasets/mmCIF/4g/14gs.cif: Too long 395\n",
      "Gathering mmCIF paths\n"
     ]
    },
    {
     "name": "stderr",
     "output_type": "stream",
     "text": [
      "\n",
      "100%|████████████████████████████████████████████████████████████████████████████████████| 4/4 [00:00<00:00, 686.92it/s]\u001b[A\n"
     ]
    },
    {
     "name": "stdout",
     "output_type": "stream",
     "text": [
      "Processing 0 files our of 0\n",
      "Failed /mnt/h/datasets/mmCIF/50/150d.cif: Encountered errors {('150d', ''): 'No protein chains found in this file.'}\n",
      "Failed /mnt/h/datasets/mmCIF/50/150l.cif: Too long 814\n"
     ]
    },
    {
     "name": "stderr",
     "output_type": "stream",
     "text": [
      "\r",
      "  6%|████▉                                                                            | 64/1060 [00:33<07:14,  2.29it/s]"
     ]
    },
    {
     "name": "stdout",
     "output_type": "stream",
     "text": [
      "Failed /mnt/h/datasets/mmCIF/50/250d.cif: Encountered errors {('250d', ''): 'No protein chains found in this file.'}\n",
      "Failed /mnt/h/datasets/mmCIF/50/250l.cif: Too long 308\n",
      "Gathering mmCIF paths\n"
     ]
    },
    {
     "name": "stderr",
     "output_type": "stream",
     "text": [
      "\n",
      "100%|████████████████████████████████████████████████████████████████████████████████████| 7/7 [00:00<00:00, 708.98it/s]\u001b[A"
     ]
    },
    {
     "name": "stdout",
     "output_type": "stream",
     "text": [
      "Processing 0 files our of 0\n"
     ]
    },
    {
     "name": "stderr",
     "output_type": "stream",
     "text": [
      "\n"
     ]
    },
    {
     "name": "stdout",
     "output_type": "stream",
     "text": [
      "Failed /mnt/h/datasets/mmCIF/51/151d.cif: Encountered errors {('151d', ''): 'No protein chains found in this file.'}\n",
      "Finished /mnt/h/datasets/mmCIF/51/151l.cif in 0.14s\n",
      "Failed /mnt/h/datasets/mmCIF/51/251d.cif: Encountered errors {('251d', ''): 'No protein chains found in this file.'}\n"
     ]
    },
    {
     "name": "stderr",
     "output_type": "stream",
     "text": [
      "\r",
      "  6%|████▉                                                                            | 65/1060 [00:33<08:55,  1.86it/s]"
     ]
    },
    {
     "name": "stdout",
     "output_type": "stream",
     "text": [
      "Finished /mnt/h/datasets/mmCIF/51/251l.cif in 0.28s\n",
      "Finished /mnt/h/datasets/mmCIF/51/351c.cif in 0.09s\n",
      "Failed /mnt/h/datasets/mmCIF/51/351d.cif: Encountered errors {('351d', ''): 'No protein chains found in this file.'}\n",
      "Finished /mnt/h/datasets/mmCIF/51/451c.cif in 0.09s\n",
      "Gathering mmCIF paths\n"
     ]
    },
    {
     "name": "stderr",
     "output_type": "stream",
     "text": [
      "\n",
      "100%|████████████████████████████████████████████████████████████████████████████████████| 6/6 [00:00<00:00, 777.51it/s]\u001b[A\n"
     ]
    },
    {
     "name": "stdout",
     "output_type": "stream",
     "text": [
      "Processing 0 files our of 0\n",
      "Failed /mnt/h/datasets/mmCIF/52/152d.cif: Encountered errors {('152d', ''): 'No protein chains found in this file.'}\n",
      "Finished /mnt/h/datasets/mmCIF/52/152l.cif in 0.14s\n",
      "Failed /mnt/h/datasets/mmCIF/52/252d.cif: Encountered errors {('252d', ''): 'No protein chains found in this file.'}\n"
     ]
    },
    {
     "name": "stderr",
     "output_type": "stream",
     "text": [
      "\r",
      "  6%|█████                                                                            | 66/1060 [00:34<08:32,  1.94it/s]"
     ]
    },
    {
     "name": "stdout",
     "output_type": "stream",
     "text": [
      "Failed /mnt/h/datasets/mmCIF/52/252l.cif: Too long 302\n",
      "Failed /mnt/h/datasets/mmCIF/52/352d.cif: Encountered errors {('352d', ''): 'No protein chains found in this file.'}\n",
      "Failed /mnt/h/datasets/mmCIF/52/452d.cif: Encountered errors {('452d', ''): 'No protein chains found in this file.'}\n",
      "Gathering mmCIF paths\n"
     ]
    },
    {
     "name": "stderr",
     "output_type": "stream",
     "text": [
      "\n",
      "100%|████████████████████████████████████████████████████████████████████████████████████| 6/6 [00:00<00:00, 784.69it/s]\u001b[A\n"
     ]
    },
    {
     "name": "stdout",
     "output_type": "stream",
     "text": [
      "Processing 0 files our of 0\n",
      "Failed /mnt/h/datasets/mmCIF/53/153d.cif: Encountered errors {('153d', ''): 'No protein chains found in this file.'}\n",
      "Failed /mnt/h/datasets/mmCIF/53/153l.cif: Too long 367\n",
      "Failed /mnt/h/datasets/mmCIF/53/253d.cif: Encountered errors {('253d', ''): 'No protein chains found in this file.'}\n",
      "Finished /mnt/h/datasets/mmCIF/53/253l.cif in 0.15s\n",
      "Failed /mnt/h/datasets/mmCIF/53/353d.cif: Encountered errors {('353d', ''): 'No protein chains found in this file.'}\n"
     ]
    },
    {
     "name": "stderr",
     "output_type": "stream",
     "text": [
      "\r",
      "  6%|█████                                                                            | 67/1060 [00:34<08:43,  1.90it/s]"
     ]
    },
    {
     "name": "stdout",
     "output_type": "stream",
     "text": [
      "Failed /mnt/h/datasets/mmCIF/53/453d.cif: Encountered errors {('453d', ''): 'No protein chains found in this file.'}\n",
      "Gathering mmCIF paths\n"
     ]
    },
    {
     "name": "stderr",
     "output_type": "stream",
     "text": [
      "\n",
      "100%|████████████████████████████████████████████████████████████████████████████████████| 6/6 [00:00<00:00, 797.32it/s]\u001b[A"
     ]
    },
    {
     "name": "stdout",
     "output_type": "stream",
     "text": [
      "Processing 0 files our of 0\n",
      "Failed /mnt/h/datasets/mmCIF/54/154d.cif: Encountered errors {('154d', ''): 'No protein chains found in this file.'}\n",
      "Failed /mnt/h/datasets/mmCIF/54/154l.cif: Too long 352\n"
     ]
    },
    {
     "name": "stderr",
     "output_type": "stream",
     "text": [
      "\n"
     ]
    },
    {
     "name": "stdout",
     "output_type": "stream",
     "text": [
      "Failed /mnt/h/datasets/mmCIF/54/254d.cif: Encountered errors {('254d', ''): 'No protein chains found in this file.'}\n",
      "Failed /mnt/h/datasets/mmCIF/54/254l.cif: Too long 325\n",
      "Failed /mnt/h/datasets/mmCIF/54/354d.cif: Encountered errors {('354d', ''): 'No protein chains found in this file.'}\n"
     ]
    },
    {
     "name": "stderr",
     "output_type": "stream",
     "text": [
      "\r",
      "  6%|█████▏                                                                           | 68/1060 [00:35<08:09,  2.03it/s]"
     ]
    },
    {
     "name": "stdout",
     "output_type": "stream",
     "text": [
      "Failed /mnt/h/datasets/mmCIF/54/454d.cif: Encountered errors {('454d', ''): 'No protein chains found in this file.'}\n",
      "Gathering mmCIF paths\n"
     ]
    },
    {
     "name": "stderr",
     "output_type": "stream",
     "text": [
      "\n",
      "100%|████████████████████████████████████████████████████████████████████████████████████| 6/6 [00:00<00:00, 771.27it/s]\u001b[A"
     ]
    },
    {
     "name": "stdout",
     "output_type": "stream",
     "text": [
      "Processing 0 files our of 0\n"
     ]
    },
    {
     "name": "stderr",
     "output_type": "stream",
     "text": [
      "\n"
     ]
    },
    {
     "name": "stdout",
     "output_type": "stream",
     "text": [
      "Finished /mnt/h/datasets/mmCIF/55/155c.cif in 0.11s\n",
      "Finished /mnt/h/datasets/mmCIF/55/155l.cif in 0.15s\n",
      "Failed /mnt/h/datasets/mmCIF/55/255d.cif: Encountered errors {('255d', ''): 'No protein chains found in this file.'}\n"
     ]
    },
    {
     "name": "stderr",
     "output_type": "stream",
     "text": [
      "\r",
      "  7%|█████▎                                                                           | 69/1060 [00:35<08:09,  2.02it/s]"
     ]
    },
    {
     "name": "stdout",
     "output_type": "stream",
     "text": [
      "Failed /mnt/h/datasets/mmCIF/55/255l.cif: Too long 315\n",
      "Failed /mnt/h/datasets/mmCIF/55/355d.cif: Encountered errors {('355d', ''): 'No protein chains found in this file.'}\n",
      "Failed /mnt/h/datasets/mmCIF/55/455d.cif: Encountered errors {('455d', ''): 'No protein chains found in this file.'}\n",
      "Gathering mmCIF paths\n"
     ]
    },
    {
     "name": "stderr",
     "output_type": "stream",
     "text": [
      "\n",
      "100%|████████████████████████████████████████████████████████████████████████████████████| 7/7 [00:00<00:00, 701.49it/s]\u001b[A"
     ]
    },
    {
     "name": "stdout",
     "output_type": "stream",
     "text": [
      "Processing 0 files our of 0\n"
     ]
    },
    {
     "name": "stderr",
     "output_type": "stream",
     "text": [
      "\n"
     ]
    },
    {
     "name": "stdout",
     "output_type": "stream",
     "text": [
      "Failed /mnt/h/datasets/mmCIF/56/156d.cif: Encountered errors {('156d', ''): 'No protein chains found in this file.'}\n",
      "Failed /mnt/h/datasets/mmCIF/56/156l.cif: Too long 318\n",
      "Failed /mnt/h/datasets/mmCIF/56/256b.cif: Too long 383\n",
      "Failed /mnt/h/datasets/mmCIF/56/256d.cif: Encountered errors {('256d', ''): 'No protein chains found in this file.'}\n",
      "Finished /mnt/h/datasets/mmCIF/56/256l.cif in 0.15s\n"
     ]
    },
    {
     "name": "stderr",
     "output_type": "stream",
     "text": [
      "\r",
      "  7%|█████▎                                                                           | 70/1060 [00:36<10:04,  1.64it/s]"
     ]
    },
    {
     "name": "stdout",
     "output_type": "stream",
     "text": [
      "Failed /mnt/h/datasets/mmCIF/56/456c.cif: Too long 430\n",
      "Failed /mnt/h/datasets/mmCIF/56/456d.cif: Encountered errors {('456d', ''): 'No protein chains found in this file.'}\n",
      "Gathering mmCIF paths\n"
     ]
    },
    {
     "name": "stderr",
     "output_type": "stream",
     "text": [
      "\n",
      "100%|████████████████████████████████████████████████████████████████████████████████████| 6/6 [00:00<00:00, 731.35it/s]\u001b[A"
     ]
    },
    {
     "name": "stdout",
     "output_type": "stream",
     "text": [
      "Processing 0 files our of 0\n",
      "Failed /mnt/h/datasets/mmCIF/57/157d.cif: Encountered errors {('157d', ''): 'No protein chains found in this file.'}\n"
     ]
    },
    {
     "name": "stderr",
     "output_type": "stream",
     "text": [
      "\n"
     ]
    },
    {
     "name": "stdout",
     "output_type": "stream",
     "text": [
      "Failed /mnt/h/datasets/mmCIF/57/157l.cif: Too long 313\n",
      "Failed /mnt/h/datasets/mmCIF/57/257d.cif: Encountered errors {('257d', ''): 'No protein chains found in this file.'}\n",
      "Finished /mnt/h/datasets/mmCIF/57/257l.cif in 0.15s\n"
     ]
    },
    {
     "name": "stderr",
     "output_type": "stream",
     "text": [
      "\r",
      "  7%|█████▍                                                                           | 71/1060 [00:37<09:09,  1.80it/s]"
     ]
    },
    {
     "name": "stdout",
     "output_type": "stream",
     "text": [
      "Failed /mnt/h/datasets/mmCIF/57/357d.cif: Encountered errors {('357d', ''): 'No protein chains found in this file.'}\n",
      "Failed /mnt/h/datasets/mmCIF/57/457d.cif: Encountered errors {('457d', ''): 'No protein chains found in this file.'}\n",
      "Gathering mmCIF paths\n"
     ]
    },
    {
     "name": "stderr",
     "output_type": "stream",
     "text": [
      "\n",
      "100%|████████████████████████████████████████████████████████████████████████████████████| 6/6 [00:00<00:00, 706.85it/s]\u001b[A"
     ]
    },
    {
     "name": "stdout",
     "output_type": "stream",
     "text": [
      "Processing 0 files our of 0\n",
      "Failed /mnt/h/datasets/mmCIF/58/158d.cif: Encountered errors {('158d', ''): 'No protein chains found in this file.'}\n"
     ]
    },
    {
     "name": "stderr",
     "output_type": "stream",
     "text": [
      "\n"
     ]
    },
    {
     "name": "stdout",
     "output_type": "stream",
     "text": [
      "Finished /mnt/h/datasets/mmCIF/58/158l.cif in 0.28s\n",
      "Failed /mnt/h/datasets/mmCIF/58/258d.cif: Encountered errors {('258d', ''): 'No protein chains found in this file.'}\n",
      "Finished /mnt/h/datasets/mmCIF/58/258l.cif in 0.15s\n"
     ]
    },
    {
     "name": "stderr",
     "output_type": "stream",
     "text": [
      "\r",
      "  7%|█████▌                                                                           | 72/1060 [00:37<09:36,  1.71it/s]"
     ]
    },
    {
     "name": "stdout",
     "output_type": "stream",
     "text": [
      "Failed /mnt/h/datasets/mmCIF/58/358d.cif: Encountered errors {('358d', ''): 'No protein chains found in this file.'}\n",
      "Failed /mnt/h/datasets/mmCIF/58/458d.cif: Encountered errors {('458d', ''): 'No protein chains found in this file.'}\n",
      "Gathering mmCIF paths\n"
     ]
    },
    {
     "name": "stderr",
     "output_type": "stream",
     "text": [
      "\n",
      "100%|████████████████████████████████████████████████████████████████████████████████████| 6/6 [00:00<00:00, 777.11it/s]\u001b[A"
     ]
    },
    {
     "name": "stdout",
     "output_type": "stream",
     "text": [
      "Processing 0 files our of 0\n",
      "Failed /mnt/h/datasets/mmCIF/59/159d.cif: Encountered errors {('159d', ''): 'No protein chains found in this file.'}\n"
     ]
    },
    {
     "name": "stderr",
     "output_type": "stream",
     "text": [
      "\n"
     ]
    },
    {
     "name": "stdout",
     "output_type": "stream",
     "text": [
      "Failed /mnt/h/datasets/mmCIF/59/159l.cif: Too long 316\n",
      "Failed /mnt/h/datasets/mmCIF/59/259d.cif: Encountered errors {('259d', ''): 'No protein chains found in this file.'}\n",
      "Finished /mnt/h/datasets/mmCIF/59/259l.cif in 0.15s\n"
     ]
    },
    {
     "name": "stderr",
     "output_type": "stream",
     "text": [
      "\r",
      "  7%|█████▌                                                                           | 73/1060 [00:38<08:45,  1.88it/s]"
     ]
    },
    {
     "name": "stdout",
     "output_type": "stream",
     "text": [
      "Failed /mnt/h/datasets/mmCIF/59/359d.cif: Encountered errors {('359d', ''): 'No protein chains found in this file.'}\n",
      "Failed /mnt/h/datasets/mmCIF/59/459d.cif: Encountered errors {('459d', ''): 'No protein chains found in this file.'}\n",
      "Gathering mmCIF paths\n"
     ]
    },
    {
     "name": "stderr",
     "output_type": "stream",
     "text": [
      "\n",
      "100%|████████████████████████████████████████████████████████████████████████████████████| 3/3 [00:00<00:00, 659.55it/s]\u001b[A"
     ]
    },
    {
     "name": "stdout",
     "output_type": "stream",
     "text": [
      "Processing 0 files our of 0\n"
     ]
    },
    {
     "name": "stderr",
     "output_type": "stream",
     "text": [
      "\n"
     ]
    },
    {
     "name": "stdout",
     "output_type": "stream",
     "text": [
      "Failed /mnt/h/datasets/mmCIF/5c/15c8.cif: Too long 521\n"
     ]
    },
    {
     "name": "stderr",
     "output_type": "stream",
     "text": [
      "\r",
      "  7%|█████▋                                                                           | 74/1060 [00:38<08:57,  1.83it/s]"
     ]
    },
    {
     "name": "stdout",
     "output_type": "stream",
     "text": [
      "Failed /mnt/h/datasets/mmCIF/5c/25c8.cif: Too long 662\n",
      "Failed /mnt/h/datasets/mmCIF/5c/35c8.cif: Too long 742\n",
      "Gathering mmCIF paths\n"
     ]
    },
    {
     "name": "stderr",
     "output_type": "stream",
     "text": [
      "\n",
      "100%|████████████████████████████████████████████████████████████████████████████████████| 6/6 [00:00<00:00, 855.63it/s]\u001b[A\n"
     ]
    },
    {
     "name": "stdout",
     "output_type": "stream",
     "text": [
      "Processing 0 files our of 0\n",
      "Failed /mnt/h/datasets/mmCIF/60/160d.cif: Encountered errors {('160d', ''): 'No protein chains found in this file.'}\n",
      "Failed /mnt/h/datasets/mmCIF/60/160l.cif: Too long 308\n",
      "Failed /mnt/h/datasets/mmCIF/60/260d.cif: Encountered errors {('260d', ''): 'No protein chains found in this file.'}\n"
     ]
    },
    {
     "name": "stderr",
     "output_type": "stream",
     "text": [
      "\r",
      "  7%|█████▋                                                                           | 75/1060 [00:39<08:22,  1.96it/s]"
     ]
    },
    {
     "name": "stdout",
     "output_type": "stream",
     "text": [
      "Finished /mnt/h/datasets/mmCIF/60/260l.cif in 0.15s\n",
      "Failed /mnt/h/datasets/mmCIF/60/360d.cif: Encountered errors {('360d', ''): 'No protein chains found in this file.'}\n",
      "Failed /mnt/h/datasets/mmCIF/60/460d.cif: Encountered errors {('460d', ''): 'No protein chains found in this file.'}\n",
      "Gathering mmCIF paths\n"
     ]
    },
    {
     "name": "stderr",
     "output_type": "stream",
     "text": [
      "\n",
      "100%|████████████████████████████████████████████████████████████████████████████████████| 6/6 [00:00<00:00, 802.53it/s]\u001b[A"
     ]
    },
    {
     "name": "stdout",
     "output_type": "stream",
     "text": [
      "Processing 0 files our of 0\n"
     ]
    },
    {
     "name": "stderr",
     "output_type": "stream",
     "text": [
      "\n"
     ]
    },
    {
     "name": "stdout",
     "output_type": "stream",
     "text": [
      "Failed /mnt/h/datasets/mmCIF/61/161d.cif: Encountered errors {('161d', ''): 'No protein chains found in this file.'}\n",
      "Failed /mnt/h/datasets/mmCIF/61/161l.cif: Too long 307\n",
      "Failed /mnt/h/datasets/mmCIF/61/261d.cif: Encountered errors {('261d', ''): 'No protein chains found in this file.'}\n"
     ]
    },
    {
     "name": "stderr",
     "output_type": "stream",
     "text": [
      "\r",
      "  7%|█████▊                                                                           | 76/1060 [00:39<08:01,  2.04it/s]"
     ]
    },
    {
     "name": "stdout",
     "output_type": "stream",
     "text": [
      "Finished /mnt/h/datasets/mmCIF/61/261l.cif in 0.15s\n",
      "Failed /mnt/h/datasets/mmCIF/61/361d.cif: Encountered errors {('361d', ''): 'No protein chains found in this file.'}\n",
      "Failed /mnt/h/datasets/mmCIF/61/461d.cif: Encountered errors {('461d', ''): 'No protein chains found in this file.'}\n",
      "Gathering mmCIF paths\n"
     ]
    },
    {
     "name": "stderr",
     "output_type": "stream",
     "text": [
      "\n",
      "100%|████████████████████████████████████████████████████████████████████████████████████| 4/4 [00:00<00:00, 665.31it/s]\u001b[A"
     ]
    },
    {
     "name": "stdout",
     "output_type": "stream",
     "text": [
      "Processing 0 files our of 0\n"
     ]
    },
    {
     "name": "stderr",
     "output_type": "stream",
     "text": [
      "\n",
      "  7%|█████▉                                                                           | 77/1060 [00:40<08:20,  1.96it/s]"
     ]
    },
    {
     "name": "stdout",
     "output_type": "stream",
     "text": [
      "Finished /mnt/h/datasets/mmCIF/62/162l.cif in 0.29s\n",
      "Failed /mnt/h/datasets/mmCIF/62/262l.cif: Too long 444\n",
      "Failed /mnt/h/datasets/mmCIF/62/362d.cif: Encountered errors {('362d', ''): 'No protein chains found in this file.'}\n",
      "Failed /mnt/h/datasets/mmCIF/62/462d.cif: Encountered errors {('462d', ''): 'No protein chains found in this file.'}\n",
      "Gathering mmCIF paths\n"
     ]
    },
    {
     "name": "stderr",
     "output_type": "stream",
     "text": [
      "\n",
      "100%|████████████████████████████████████████████████████████████████████████████████████| 4/4 [00:00<00:00, 685.46it/s]\u001b[A\n"
     ]
    },
    {
     "name": "stdout",
     "output_type": "stream",
     "text": [
      "Processing 0 files our of 0\n",
      "Failed /mnt/h/datasets/mmCIF/63/163l.cif: Too long 321\n",
      "Failed /mnt/h/datasets/mmCIF/63/263d.cif: Encountered errors {('263d', ''): 'No protein chains found in this file.'}\n",
      "Failed /mnt/h/datasets/mmCIF/63/363d.cif: Encountered errors {('363d', ''): 'No protein chains found in this file.'}\n",
      "Failed /mnt/h/datasets/mmCIF/63/463d.cif: Encountered errors {('463d', ''): 'No protein chains found in this file.'}\n"
     ]
    },
    {
     "name": "stderr",
     "output_type": "stream",
     "text": [
      "\r",
      "  7%|█████▉                                                                           | 78/1060 [00:40<07:06,  2.30it/s]"
     ]
    },
    {
     "name": "stdout",
     "output_type": "stream",
     "text": [
      "Gathering mmCIF paths\n"
     ]
    },
    {
     "name": "stderr",
     "output_type": "stream",
     "text": [
      "\n",
      "100%|████████████████████████████████████████████████████████████████████████████████████| 4/4 [00:00<00:00, 682.06it/s]\u001b[A\n"
     ]
    },
    {
     "name": "stdout",
     "output_type": "stream",
     "text": [
      "Processing 0 files our of 0\n",
      "Failed /mnt/h/datasets/mmCIF/64/164l.cif: Too long 309\n",
      "Failed /mnt/h/datasets/mmCIF/64/264d.cif: Encountered errors {('264d', ''): 'No protein chains found in this file.'}\n",
      "Failed /mnt/h/datasets/mmCIF/64/364d.cif: Encountered errors {('364d', ''): 'No protein chains found in this file.'}\n",
      "Failed /mnt/h/datasets/mmCIF/64/464d.cif: Encountered errors {('464d', ''): 'No protein chains found in this file.'}\n"
     ]
    },
    {
     "name": "stderr",
     "output_type": "stream",
     "text": [
      "\r",
      "  7%|██████                                                                           | 79/1060 [00:40<06:12,  2.63it/s]"
     ]
    },
    {
     "name": "stdout",
     "output_type": "stream",
     "text": [
      "Gathering mmCIF paths\n"
     ]
    },
    {
     "name": "stderr",
     "output_type": "stream",
     "text": [
      "\n",
      "100%|████████████████████████████████████████████████████████████████████████████████████| 5/5 [00:00<00:00, 772.83it/s]\u001b[A\n"
     ]
    },
    {
     "name": "stdout",
     "output_type": "stream",
     "text": [
      "Processing 0 files our of 0\n",
      "Failed /mnt/h/datasets/mmCIF/65/165d.cif: Encountered errors {('165d', ''): 'No protein chains found in this file.'}\n",
      "Finished /mnt/h/datasets/mmCIF/65/165l.cif in 0.16s\n"
     ]
    },
    {
     "name": "stderr",
     "output_type": "stream",
     "text": [
      "\r",
      "  8%|██████                                                                           | 80/1060 [00:41<06:01,  2.71it/s]"
     ]
    },
    {
     "name": "stdout",
     "output_type": "stream",
     "text": [
      "Failed /mnt/h/datasets/mmCIF/65/265d.cif: Encountered errors {('265d', ''): 'No protein chains found in this file.'}\n",
      "Failed /mnt/h/datasets/mmCIF/65/365d.cif: Encountered errors {('365d', ''): 'No protein chains found in this file.'}\n",
      "Failed /mnt/h/datasets/mmCIF/65/465d.cif: Encountered errors {('465d', ''): 'No protein chains found in this file.'}\n",
      "Gathering mmCIF paths\n"
     ]
    },
    {
     "name": "stderr",
     "output_type": "stream",
     "text": [
      "\n",
      "100%|████████████████████████████████████████████████████████████████████████████████████| 6/6 [00:00<00:00, 794.15it/s]\u001b[A"
     ]
    },
    {
     "name": "stdout",
     "output_type": "stream",
     "text": [
      "Processing 0 files our of 0\n",
      "Failed /mnt/h/datasets/mmCIF/66/166d.cif: Encountered errors {('166d', ''): 'No protein chains found in this file.'}\n"
     ]
    },
    {
     "name": "stderr",
     "output_type": "stream",
     "text": [
      "\n"
     ]
    },
    {
     "name": "stdout",
     "output_type": "stream",
     "text": [
      "Finished /mnt/h/datasets/mmCIF/66/166l.cif in 0.31s\n",
      "Failed /mnt/h/datasets/mmCIF/66/266d.cif: Encountered errors {('266d', ''): 'No protein chains found in this file.'}\n",
      "Failed /mnt/h/datasets/mmCIF/66/366d.cif: Encountered errors {('366d', ''): 'No protein chains found in this file.'}\n",
      "Failed /mnt/h/datasets/mmCIF/66/466d.cif: Encountered errors {('466d', ''): 'No protein chains found in this file.'}\n"
     ]
    },
    {
     "name": "stderr",
     "output_type": "stream",
     "text": [
      "\r",
      "  8%|██████▏                                                                          | 81/1060 [00:41<07:50,  2.08it/s]"
     ]
    },
    {
     "name": "stdout",
     "output_type": "stream",
     "text": [
      "Finished /mnt/h/datasets/mmCIF/66/966c.cif in 0.20s\n",
      "Gathering mmCIF paths\n"
     ]
    },
    {
     "name": "stderr",
     "output_type": "stream",
     "text": [
      "\n",
      "100%|████████████████████████████████████████████████████████████████████████████████████| 5/5 [00:00<00:00, 717.59it/s]\u001b[A"
     ]
    },
    {
     "name": "stdout",
     "output_type": "stream",
     "text": [
      "Processing 0 files our of 0\n",
      "Failed /mnt/h/datasets/mmCIF/67/167d.cif: Encountered errors {('167d', ''): 'No protein chains found in this file.'}\n",
      "Failed /mnt/h/datasets/mmCIF/67/167l.cif: Too long 372\n"
     ]
    },
    {
     "name": "stderr",
     "output_type": "stream",
     "text": [
      "\n"
     ]
    },
    {
     "name": "stdout",
     "output_type": "stream",
     "text": [
      "Failed /mnt/h/datasets/mmCIF/67/267d.cif: Encountered errors {('267d', ''): 'No protein chains found in this file.'}\n",
      "Failed /mnt/h/datasets/mmCIF/67/367d.cif: Encountered errors {('367d', ''): 'No protein chains found in this file.'}\n"
     ]
    },
    {
     "name": "stderr",
     "output_type": "stream",
     "text": [
      "\r",
      "  8%|██████▎                                                                          | 82/1060 [00:42<06:53,  2.37it/s]"
     ]
    },
    {
     "name": "stdout",
     "output_type": "stream",
     "text": [
      "Failed /mnt/h/datasets/mmCIF/67/467d.cif: Encountered errors {('467d', ''): 'No protein chains found in this file.'}\n",
      "Gathering mmCIF paths\n"
     ]
    },
    {
     "name": "stderr",
     "output_type": "stream",
     "text": [
      "\n",
      "100%|████████████████████████████████████████████████████████████████████████████████████| 5/5 [00:00<00:00, 767.93it/s]\u001b[A"
     ]
    },
    {
     "name": "stdout",
     "output_type": "stream",
     "text": [
      "Processing 0 files our of 0\n",
      "Failed /mnt/h/datasets/mmCIF/68/168d.cif: Encountered errors {('168d', ''): 'No protein chains found in this file.'}\n"
     ]
    },
    {
     "name": "stderr",
     "output_type": "stream",
     "text": [
      "\n"
     ]
    },
    {
     "name": "stdout",
     "output_type": "stream",
     "text": [
      "Failed /mnt/h/datasets/mmCIF/68/168l.cif: Too long 820\n",
      "Failed /mnt/h/datasets/mmCIF/68/268d.cif: Encountered errors {('268d', ''): 'No protein chains found in this file.'}\n",
      "Failed /mnt/h/datasets/mmCIF/68/368d.cif: Encountered errors {('368d', ''): 'No protein chains found in this file.'}\n"
     ]
    },
    {
     "name": "stderr",
     "output_type": "stream",
     "text": [
      "\r",
      "  8%|██████▎                                                                          | 83/1060 [00:42<07:27,  2.19it/s]"
     ]
    },
    {
     "name": "stdout",
     "output_type": "stream",
     "text": [
      "Failed /mnt/h/datasets/mmCIF/68/468d.cif: Encountered errors {('468d', ''): 'No protein chains found in this file.'}\n",
      "Gathering mmCIF paths\n"
     ]
    },
    {
     "name": "stderr",
     "output_type": "stream",
     "text": [
      "\n",
      "100%|████████████████████████████████████████████████████████████████████████████████████| 5/5 [00:00<00:00, 708.98it/s]\u001b[A"
     ]
    },
    {
     "name": "stdout",
     "output_type": "stream",
     "text": [
      "Processing 0 files our of 0\n",
      "Failed /mnt/h/datasets/mmCIF/69/169d.cif: Encountered errors {('169d', ''): 'No protein chains found in this file.'}\n"
     ]
    },
    {
     "name": "stderr",
     "output_type": "stream",
     "text": [
      "\n",
      "  8%|██████▍                                                                          | 84/1060 [00:43<07:10,  2.27it/s]"
     ]
    },
    {
     "name": "stdout",
     "output_type": "stream",
     "text": [
      "Failed /mnt/h/datasets/mmCIF/69/169l.cif: Too high resolution 3.0\n",
      "Failed /mnt/h/datasets/mmCIF/69/269d.cif: Encountered errors {('269d', ''): 'No protein chains found in this file.'}\n",
      "Failed /mnt/h/datasets/mmCIF/69/369d.cif: Encountered errors {('369d', ''): 'No protein chains found in this file.'}\n",
      "Failed /mnt/h/datasets/mmCIF/69/469d.cif: Encountered errors {('469d', ''): 'No protein chains found in this file.'}\n",
      "Gathering mmCIF paths\n"
     ]
    },
    {
     "name": "stderr",
     "output_type": "stream",
     "text": [
      "\n",
      "100%|████████████████████████████████████████████████████████████████████████████████████| 1/1 [00:00<00:00, 578.29it/s]\u001b[A"
     ]
    },
    {
     "name": "stdout",
     "output_type": "stream",
     "text": [
      "Processing 0 files our of 0\n"
     ]
    },
    {
     "name": "stderr",
     "output_type": "stream",
     "text": [
      "\n",
      "\r",
      "  8%|██████▍                                                                          | 85/1060 [00:43<05:52,  2.76it/s]"
     ]
    },
    {
     "name": "stdout",
     "output_type": "stream",
     "text": [
      "Failed /mnt/h/datasets/mmCIF/6g/16gs.cif: Too long 717\n",
      "Gathering mmCIF paths\n"
     ]
    },
    {
     "name": "stderr",
     "output_type": "stream",
     "text": [
      "\n",
      "100%|████████████████████████████████████████████████████████████████████████████████████| 1/1 [00:00<00:00, 602.54it/s]\u001b[A\n"
     ]
    },
    {
     "name": "stdout",
     "output_type": "stream",
     "text": [
      "Processing 0 files our of 0\n"
     ]
    },
    {
     "name": "stderr",
     "output_type": "stream",
     "text": [
      "\r",
      "  8%|██████▌                                                                          | 86/1060 [00:43<05:03,  3.21it/s]"
     ]
    },
    {
     "name": "stdout",
     "output_type": "stream",
     "text": [
      "Failed /mnt/h/datasets/mmCIF/6p/16pk.cif: Too long 997\n",
      "Gathering mmCIF paths\n"
     ]
    },
    {
     "name": "stderr",
     "output_type": "stream",
     "text": [
      "\n",
      "100%|████████████████████████████████████████████████████████████████████████████████████| 1/1 [00:00<00:00, 625.64it/s]\u001b[A\n"
     ]
    },
    {
     "name": "stdout",
     "output_type": "stream",
     "text": [
      "Processing 0 files our of 0\n"
     ]
    },
    {
     "name": "stderr",
     "output_type": "stream",
     "text": [
      "\r",
      "  8%|██████▋                                                                          | 87/1060 [00:43<04:14,  3.83it/s]"
     ]
    },
    {
     "name": "stdout",
     "output_type": "stream",
     "text": [
      "Failed /mnt/h/datasets/mmCIF/6v/16vp.cif: Too long 483\n",
      "Gathering mmCIF paths\n"
     ]
    },
    {
     "name": "stderr",
     "output_type": "stream",
     "text": [
      "\n",
      "100%|████████████████████████████████████████████████████████████████████████████████████| 5/5 [00:00<00:00, 845.18it/s]\u001b[A"
     ]
    },
    {
     "name": "stdout",
     "output_type": "stream",
     "text": [
      "Processing 0 files our of 0\n"
     ]
    },
    {
     "name": "stderr",
     "output_type": "stream",
     "text": [
      "\n"
     ]
    },
    {
     "name": "stdout",
     "output_type": "stream",
     "text": [
      "Failed /mnt/h/datasets/mmCIF/70/170d.cif: Encountered errors {('170d', ''): 'No protein chains found in this file.'}\n"
     ]
    },
    {
     "name": "stderr",
     "output_type": "stream",
     "text": [
      "\r",
      "  8%|██████▋                                                                          | 88/1060 [00:44<05:15,  3.08it/s]"
     ]
    },
    {
     "name": "stdout",
     "output_type": "stream",
     "text": [
      "Finished /mnt/h/datasets/mmCIF/70/170l.cif in 0.28s\n",
      "Failed /mnt/h/datasets/mmCIF/70/270d.cif: Encountered errors {('270d', ''): 'No protein chains found in this file.'}\n",
      "Failed /mnt/h/datasets/mmCIF/70/370d.cif: Encountered errors {('370d', ''): 'No protein chains found in this file.'}\n",
      "Failed /mnt/h/datasets/mmCIF/70/470d.cif: Encountered errors {('470d', ''): 'No protein chains found in this file.'}\n",
      "Gathering mmCIF paths\n"
     ]
    },
    {
     "name": "stderr",
     "output_type": "stream",
     "text": [
      "\n",
      "100%|████████████████████████████████████████████████████████████████████████████████████| 5/5 [00:00<00:00, 754.13it/s]\u001b[A"
     ]
    },
    {
     "name": "stdout",
     "output_type": "stream",
     "text": [
      "Processing 0 files our of 0\n",
      "Failed /mnt/h/datasets/mmCIF/71/171d.cif: Encountered errors {('171d', ''): 'No protein chains found in this file.'}\n"
     ]
    },
    {
     "name": "stderr",
     "output_type": "stream",
     "text": [
      "\n"
     ]
    },
    {
     "name": "stdout",
     "output_type": "stream",
     "text": [
      "Finished /mnt/h/datasets/mmCIF/71/171l.cif in 0.14s\n",
      "Failed /mnt/h/datasets/mmCIF/71/271d.cif: Encountered errors {('271d', ''): 'No protein chains found in this file.'}\n"
     ]
    },
    {
     "name": "stderr",
     "output_type": "stream",
     "text": [
      "\r",
      "  8%|██████▊                                                                          | 89/1060 [00:44<05:15,  3.08it/s]"
     ]
    },
    {
     "name": "stdout",
     "output_type": "stream",
     "text": [
      "Failed /mnt/h/datasets/mmCIF/71/371d.cif: Encountered errors {('371d', ''): 'No protein chains found in this file.'}\n",
      "Failed /mnt/h/datasets/mmCIF/71/471d.cif: Encountered errors {('471d', ''): 'No protein chains found in this file.'}\n",
      "Gathering mmCIF paths\n"
     ]
    },
    {
     "name": "stderr",
     "output_type": "stream",
     "text": [
      "\n",
      "100%|████████████████████████████████████████████████████████████████████████████████████| 5/5 [00:00<00:00, 704.12it/s]\u001b[A"
     ]
    },
    {
     "name": "stdout",
     "output_type": "stream",
     "text": [
      "Processing 0 files our of 0\n",
      "Failed /mnt/h/datasets/mmCIF/72/172d.cif: Encountered errors {('172d', ''): 'No protein chains found in this file.'}\n"
     ]
    },
    {
     "name": "stderr",
     "output_type": "stream",
     "text": [
      "\n"
     ]
    },
    {
     "name": "stdout",
     "output_type": "stream",
     "text": [
      "Finished /mnt/h/datasets/mmCIF/72/172l.cif in 0.13s\n",
      "Failed /mnt/h/datasets/mmCIF/72/272d.cif: Encountered errors {('272d', ''): 'No protein chains found in this file.'}\n"
     ]
    },
    {
     "name": "stderr",
     "output_type": "stream",
     "text": [
      "\r",
      "  8%|██████▉                                                                          | 90/1060 [00:44<05:10,  3.12it/s]"
     ]
    },
    {
     "name": "stdout",
     "output_type": "stream",
     "text": [
      "Failed /mnt/h/datasets/mmCIF/72/372d.cif: Encountered errors {('372d', ''): 'No protein chains found in this file.'}\n",
      "Failed /mnt/h/datasets/mmCIF/72/472d.cif: Encountered errors {('472d', ''): 'No protein chains found in this file.'}\n",
      "Gathering mmCIF paths\n"
     ]
    },
    {
     "name": "stderr",
     "output_type": "stream",
     "text": [
      "\n",
      "100%|████████████████████████████████████████████████████████████████████████████████████| 3/3 [00:00<00:00, 770.82it/s]\u001b[A"
     ]
    },
    {
     "name": "stdout",
     "output_type": "stream",
     "text": [
      "Processing 0 files our of 0\n",
      "Failed /mnt/h/datasets/mmCIF/73/173d.cif: Too high resolution 3.0\n"
     ]
    },
    {
     "name": "stderr",
     "output_type": "stream",
     "text": [
      "\n"
     ]
    },
    {
     "name": "stdout",
     "output_type": "stream",
     "text": [
      "Finished /mnt/h/datasets/mmCIF/73/173l.cif in 0.15s\n"
     ]
    },
    {
     "name": "stderr",
     "output_type": "stream",
     "text": [
      "\r",
      "  9%|██████▉                                                                          | 91/1060 [00:44<04:54,  3.29it/s]"
     ]
    },
    {
     "name": "stdout",
     "output_type": "stream",
     "text": [
      "Failed /mnt/h/datasets/mmCIF/73/473d.cif: Encountered errors {('473d', ''): 'No protein chains found in this file.'}\n",
      "Gathering mmCIF paths\n"
     ]
    },
    {
     "name": "stderr",
     "output_type": "stream",
     "text": [
      "\n",
      "100%|████████████████████████████████████████████████████████████████████████████████████| 3/3 [00:00<00:00, 780.72it/s]\u001b[A"
     ]
    },
    {
     "name": "stdout",
     "output_type": "stream",
     "text": [
      "Processing 0 files our of 0\n",
      "Failed /mnt/h/datasets/mmCIF/74/174l.cif: Too long 366\n",
      "Failed /mnt/h/datasets/mmCIF/74/274d.cif: Encountered errors {('274d', ''): 'No protein chains found in this file.'}\n",
      "Failed /mnt/h/datasets/mmCIF/74/474d.cif: Encountered errors {('474d', ''): 'No protein chains found in this file.'}\n"
     ]
    },
    {
     "name": "stderr",
     "output_type": "stream",
     "text": [
      "\n",
      "  9%|███████                                                                          | 92/1060 [00:45<04:24,  3.66it/s]"
     ]
    },
    {
     "name": "stdout",
     "output_type": "stream",
     "text": [
      "Gathering mmCIF paths\n"
     ]
    },
    {
     "name": "stderr",
     "output_type": "stream",
     "text": [
      "\n",
      "100%|████████████████████████████████████████████████████████████████████████████████████| 4/4 [00:00<00:00, 696.32it/s]\u001b[A"
     ]
    },
    {
     "name": "stdout",
     "output_type": "stream",
     "text": [
      "Processing 0 files our of 0\n",
      "Failed /mnt/h/datasets/mmCIF/75/175d.cif: Encountered errors {('175d', ''): 'No protein chains found in this file.'}\n",
      "Failed /mnt/h/datasets/mmCIF/75/175l.cif: Too long 405\n"
     ]
    },
    {
     "name": "stderr",
     "output_type": "stream",
     "text": [
      "\n",
      "  9%|███████                                                                          | 93/1060 [00:45<04:14,  3.80it/s]"
     ]
    },
    {
     "name": "stdout",
     "output_type": "stream",
     "text": [
      "Failed /mnt/h/datasets/mmCIF/75/275d.cif: Encountered errors {('275d', ''): 'No protein chains found in this file.'}\n",
      "Failed /mnt/h/datasets/mmCIF/75/375d.cif: Encountered errors {('375d', ''): 'No protein chains found in this file.'}\n",
      "Gathering mmCIF paths\n"
     ]
    },
    {
     "name": "stderr",
     "output_type": "stream",
     "text": [
      "\n",
      "100%|████████████████████████████████████████████████████████████████████████████████████| 5/5 [00:00<00:00, 780.25it/s]\u001b[A"
     ]
    },
    {
     "name": "stdout",
     "output_type": "stream",
     "text": [
      "Processing 0 files our of 0\n"
     ]
    },
    {
     "name": "stderr",
     "output_type": "stream",
     "text": [
      "\n",
      "  9%|███████▏                                                                         | 94/1060 [00:45<05:34,  2.88it/s]"
     ]
    },
    {
     "name": "stdout",
     "output_type": "stream",
     "text": [
      "Failed /mnt/h/datasets/mmCIF/76/176d.cif: Invalid resolution 0.0\n",
      "Failed /mnt/h/datasets/mmCIF/76/176l.cif: Too long 354\n",
      "Failed /mnt/h/datasets/mmCIF/76/276d.cif: Encountered errors {('276d', ''): 'No protein chains found in this file.'}\n",
      "Failed /mnt/h/datasets/mmCIF/76/376d.cif: Encountered errors {('376d', ''): 'No protein chains found in this file.'}\n",
      "Failed /mnt/h/datasets/mmCIF/76/476d.cif: Encountered errors {('476d', ''): 'No protein chains found in this file.'}\n",
      "Gathering mmCIF paths\n"
     ]
    },
    {
     "name": "stderr",
     "output_type": "stream",
     "text": [
      "\n",
      "100%|████████████████████████████████████████████████████████████████████████████████████| 5/5 [00:00<00:00, 694.42it/s]\u001b[A\n"
     ]
    },
    {
     "name": "stdout",
     "output_type": "stream",
     "text": [
      "Processing 0 files our of 0\n",
      "Failed /mnt/h/datasets/mmCIF/77/177d.cif: Encountered errors {('177d', ''): 'No protein chains found in this file.'}\n"
     ]
    },
    {
     "name": "stderr",
     "output_type": "stream",
     "text": [
      "\r",
      "  9%|███████▎                                                                         | 95/1060 [00:46<05:56,  2.71it/s]"
     ]
    },
    {
     "name": "stdout",
     "output_type": "stream",
     "text": [
      "Finished /mnt/h/datasets/mmCIF/77/177l.cif in 0.14s\n",
      "Failed /mnt/h/datasets/mmCIF/77/277d.cif: Encountered errors {('277d', ''): 'No protein chains found in this file.'}\n",
      "Failed /mnt/h/datasets/mmCIF/77/377d.cif: Encountered errors {('377d', ''): 'No protein chains found in this file.'}\n",
      "Failed /mnt/h/datasets/mmCIF/77/477d.cif: Encountered errors {('477d', ''): 'No protein chains found in this file.'}\n",
      "Gathering mmCIF paths\n"
     ]
    },
    {
     "name": "stderr",
     "output_type": "stream",
     "text": [
      "\n",
      "100%|████████████████████████████████████████████████████████████████████████████████████| 5/5 [00:00<00:00, 728.28it/s]\u001b[A"
     ]
    },
    {
     "name": "stdout",
     "output_type": "stream",
     "text": [
      "Processing 0 files our of 0\n",
      "Failed /mnt/h/datasets/mmCIF/78/178d.cif: Encountered errors {('178d', ''): 'No protein chains found in this file.'}\n"
     ]
    },
    {
     "name": "stderr",
     "output_type": "stream",
     "text": [
      "\n"
     ]
    },
    {
     "name": "stdout",
     "output_type": "stream",
     "text": [
      "Finished /mnt/h/datasets/mmCIF/78/178l.cif in 0.13s\n",
      "Failed /mnt/h/datasets/mmCIF/78/278d.cif: Encountered errors {('278d', ''): 'No protein chains found in this file.'}\n"
     ]
    },
    {
     "name": "stderr",
     "output_type": "stream",
     "text": [
      "\r",
      "  9%|███████▎                                                                         | 96/1060 [00:46<05:42,  2.82it/s]"
     ]
    },
    {
     "name": "stdout",
     "output_type": "stream",
     "text": [
      "Failed /mnt/h/datasets/mmCIF/78/378d.cif: Encountered errors {('378d', ''): 'No protein chains found in this file.'}\n",
      "Failed /mnt/h/datasets/mmCIF/78/478d.cif: Encountered errors {('478d', ''): 'No protein chains found in this file.'}\n",
      "Gathering mmCIF paths\n"
     ]
    },
    {
     "name": "stderr",
     "output_type": "stream",
     "text": [
      "\n",
      "100%|████████████████████████████████████████████████████████████████████████████████████| 4/4 [00:00<00:00, 740.85it/s]\u001b[A"
     ]
    },
    {
     "name": "stdout",
     "output_type": "stream",
     "text": [
      "Processing 0 files our of 0\n",
      "Failed /mnt/h/datasets/mmCIF/79/179d.cif: Encountered errors {('179d', ''): 'No protein chains found in this file.'}\n",
      "Failed /mnt/h/datasets/mmCIF/79/279d.cif: Encountered errors {('279d', ''): 'No protein chains found in this file.'}\n",
      "Failed /mnt/h/datasets/mmCIF/79/379d.cif: Encountered errors {('379d', ''): 'No protein chains found in this file.'}\n"
     ]
    },
    {
     "name": "stderr",
     "output_type": "stream",
     "text": [
      "\n",
      "\r",
      "  9%|███████▍                                                                         | 97/1060 [00:46<04:51,  3.31it/s]"
     ]
    },
    {
     "name": "stdout",
     "output_type": "stream",
     "text": [
      "Failed /mnt/h/datasets/mmCIF/79/479d.cif: Encountered errors {('479d', ''): 'No protein chains found in this file.'}\n",
      "Gathering mmCIF paths\n"
     ]
    },
    {
     "name": "stderr",
     "output_type": "stream",
     "text": [
      "\n",
      "100%|████████████████████████████████████████████████████████████████████████████████████| 1/1 [00:00<00:00, 639.77it/s]\u001b[A\n"
     ]
    },
    {
     "name": "stdout",
     "output_type": "stream",
     "text": [
      "Processing 0 files our of 0\n"
     ]
    },
    {
     "name": "stderr",
     "output_type": "stream",
     "text": [
      "\r",
      "  9%|███████▍                                                                         | 98/1060 [00:47<04:52,  3.28it/s]"
     ]
    },
    {
     "name": "stdout",
     "output_type": "stream",
     "text": [
      "Failed /mnt/h/datasets/mmCIF/7g/17gs.cif: Too long 632\n",
      "Gathering mmCIF paths\n"
     ]
    },
    {
     "name": "stderr",
     "output_type": "stream",
     "text": [
      "\n",
      "100%|████████████████████████████████████████████████████████████████████████████████████| 1/1 [00:00<00:00, 579.00it/s]\u001b[A"
     ]
    },
    {
     "name": "stdout",
     "output_type": "stream",
     "text": [
      "Processing 0 files our of 0\n"
     ]
    },
    {
     "name": "stderr",
     "output_type": "stream",
     "text": [
      "\n",
      "  9%|███████▌                                                                         | 99/1060 [00:47<04:47,  3.35it/s]"
     ]
    },
    {
     "name": "stdout",
     "output_type": "stream",
     "text": [
      "Failed /mnt/h/datasets/mmCIF/7r/17ra.cif: Encountered errors {('17ra', ''): 'No protein chains found in this file.'}\n",
      "Gathering mmCIF paths\n"
     ]
    },
    {
     "name": "stderr",
     "output_type": "stream",
     "text": [
      "\n",
      "100%|████████████████████████████████████████████████████████████████████████████████████| 5/5 [00:00<00:00, 747.17it/s]\u001b[A"
     ]
    },
    {
     "name": "stdout",
     "output_type": "stream",
     "text": [
      "Processing 0 files our of 0\n",
      "Failed /mnt/h/datasets/mmCIF/80/180d.cif: Encountered errors {('180d', ''): 'No protein chains found in this file.'}\n",
      "Failed /mnt/h/datasets/mmCIF/80/180l.cif: Too long 403\n"
     ]
    },
    {
     "name": "stderr",
     "output_type": "stream",
     "text": [
      "\n"
     ]
    },
    {
     "name": "stdout",
     "output_type": "stream",
     "text": [
      "Failed /mnt/h/datasets/mmCIF/80/280d.cif: Encountered errors {('280d', ''): 'No protein chains found in this file.'}\n",
      "Failed /mnt/h/datasets/mmCIF/80/380d.cif: Encountered errors {('380d', ''): 'No protein chains found in this file.'}\n"
     ]
    },
    {
     "name": "stderr",
     "output_type": "stream",
     "text": [
      "\r",
      "  9%|███████▌                                                                        | 100/1060 [00:47<04:44,  3.37it/s]"
     ]
    },
    {
     "name": "stdout",
     "output_type": "stream",
     "text": [
      "Failed /mnt/h/datasets/mmCIF/80/480d.cif: Encountered errors {('480d', ''): 'No protein chains found in this file.'}\n",
      "Gathering mmCIF paths\n"
     ]
    },
    {
     "name": "stderr",
     "output_type": "stream",
     "text": [
      "\n",
      "100%|████████████████████████████████████████████████████████████████████████████████████| 5/5 [00:00<00:00, 751.78it/s]\u001b[A"
     ]
    },
    {
     "name": "stdout",
     "output_type": "stream",
     "text": [
      "Processing 0 files our of 0\n",
      "Failed /mnt/h/datasets/mmCIF/81/181d.cif: Encountered errors {('181d', ''): 'No protein chains found in this file.'}\n",
      "Failed /mnt/h/datasets/mmCIF/81/181l.cif: Too long 302\n",
      "Failed /mnt/h/datasets/mmCIF/81/281d.cif: Encountered errors {('281d', ''): 'No protein chains found in this file.'}\n"
     ]
    },
    {
     "name": "stderr",
     "output_type": "stream",
     "text": [
      "\n",
      " 10%|███████▌                                                                        | 101/1060 [00:47<04:22,  3.65it/s]"
     ]
    },
    {
     "name": "stdout",
     "output_type": "stream",
     "text": [
      "Failed /mnt/h/datasets/mmCIF/81/381d.cif: Encountered errors {('381d', ''): 'No protein chains found in this file.'}\n",
      "Failed /mnt/h/datasets/mmCIF/81/481d.cif: Encountered errors {('481d', ''): 'No protein chains found in this file.'}\n",
      "Gathering mmCIF paths\n"
     ]
    },
    {
     "name": "stderr",
     "output_type": "stream",
     "text": [
      "\n",
      "100%|████████████████████████████████████████████████████████████████████████████████████| 5/5 [00:00<00:00, 768.13it/s]\u001b[A"
     ]
    },
    {
     "name": "stdout",
     "output_type": "stream",
     "text": [
      "Processing 0 files our of 0\n",
      "Failed /mnt/h/datasets/mmCIF/82/182d.cif: Encountered errors {('182d', ''): 'No protein chains found in this file.'}\n"
     ]
    },
    {
     "name": "stderr",
     "output_type": "stream",
     "text": [
      "\n"
     ]
    },
    {
     "name": "stdout",
     "output_type": "stream",
     "text": [
      "Finished /mnt/h/datasets/mmCIF/82/182l.cif in 0.15s\n"
     ]
    },
    {
     "name": "stderr",
     "output_type": "stream",
     "text": [
      "\r",
      " 10%|███████▋                                                                        | 102/1060 [00:48<04:34,  3.49it/s]"
     ]
    },
    {
     "name": "stdout",
     "output_type": "stream",
     "text": [
      "Failed /mnt/h/datasets/mmCIF/82/282d.cif: Encountered errors {('282d', ''): 'No protein chains found in this file.'}\n",
      "Failed /mnt/h/datasets/mmCIF/82/382d.cif: Encountered errors {('382d', ''): 'No protein chains found in this file.'}\n",
      "Failed /mnt/h/datasets/mmCIF/82/482d.cif: Encountered errors {('482d', ''): 'No protein chains found in this file.'}\n",
      "Gathering mmCIF paths\n"
     ]
    },
    {
     "name": "stderr",
     "output_type": "stream",
     "text": [
      "\n",
      "100%|████████████████████████████████████████████████████████████████████████████████████| 5/5 [00:00<00:00, 777.30it/s]\u001b[A"
     ]
    },
    {
     "name": "stdout",
     "output_type": "stream",
     "text": [
      "Processing 0 files our of 0\n",
      "Failed /mnt/h/datasets/mmCIF/83/183d.cif: Encountered errors {('183d', ''): 'No protein chains found in this file.'}\n"
     ]
    },
    {
     "name": "stderr",
     "output_type": "stream",
     "text": [
      "\n",
      " 10%|███████▊                                                                        | 103/1060 [00:48<05:27,  2.92it/s]"
     ]
    },
    {
     "name": "stdout",
     "output_type": "stream",
     "text": [
      "Finished /mnt/h/datasets/mmCIF/83/183l.cif in 0.28s\n",
      "Failed /mnt/h/datasets/mmCIF/83/283d.cif: Encountered errors {('283d', ''): 'No protein chains found in this file.'}\n",
      "Failed /mnt/h/datasets/mmCIF/83/383d.cif: Encountered errors {('383d', ''): 'No protein chains found in this file.'}\n",
      "Failed /mnt/h/datasets/mmCIF/83/483d.cif: Encountered errors {('483d', ''): 'No protein chains found in this file.'}\n",
      "Gathering mmCIF paths\n"
     ]
    },
    {
     "name": "stderr",
     "output_type": "stream",
     "text": [
      "\n",
      "100%|████████████████████████████████████████████████████████████████████████████████████| 5/5 [00:00<00:00, 769.51it/s]\u001b[A\n"
     ]
    },
    {
     "name": "stdout",
     "output_type": "stream",
     "text": [
      "Processing 0 files our of 0\n",
      "Failed /mnt/h/datasets/mmCIF/84/184d.cif: Encountered errors {('184d', ''): 'No protein chains found in this file.'}\n",
      "Finished /mnt/h/datasets/mmCIF/84/184l.cif in 0.16s\n",
      "Failed /mnt/h/datasets/mmCIF/84/284d.cif: Encountered errors {('284d', ''): 'No protein chains found in this file.'}\n",
      "Failed /mnt/h/datasets/mmCIF/84/384d.cif: Encountered errors {('384d', ''): 'No protein chains found in this file.'}\n"
     ]
    },
    {
     "name": "stderr",
     "output_type": "stream",
     "text": [
      "\r",
      " 10%|███████▊                                                                        | 104/1060 [00:49<09:28,  1.68it/s]"
     ]
    },
    {
     "name": "stdout",
     "output_type": "stream",
     "text": [
      "Failed /mnt/h/datasets/mmCIF/84/484d.cif: Invalid resolution 0.0\n",
      "Gathering mmCIF paths\n"
     ]
    },
    {
     "name": "stderr",
     "output_type": "stream",
     "text": [
      "\n",
      "100%|████████████████████████████████████████████████████████████████████████████████████| 5/5 [00:00<00:00, 724.50it/s]\u001b[A"
     ]
    },
    {
     "name": "stdout",
     "output_type": "stream",
     "text": [
      "Processing 0 files our of 0\n",
      "Failed /mnt/h/datasets/mmCIF/85/185d.cif: Invalid resolution 0.0\n"
     ]
    },
    {
     "name": "stderr",
     "output_type": "stream",
     "text": [
      "\n",
      " 10%|███████▉                                                                        | 105/1060 [00:50<08:28,  1.88it/s]"
     ]
    },
    {
     "name": "stdout",
     "output_type": "stream",
     "text": [
      "Finished /mnt/h/datasets/mmCIF/85/185l.cif in 0.15s\n",
      "Failed /mnt/h/datasets/mmCIF/85/285d.cif: Encountered errors {('285d', ''): 'No protein chains found in this file.'}\n",
      "Failed /mnt/h/datasets/mmCIF/85/385d.cif: Encountered errors {('385d', ''): 'No protein chains found in this file.'}\n",
      "Failed /mnt/h/datasets/mmCIF/85/485d.cif: Encountered errors {('485d', ''): 'No protein chains found in this file.'}\n",
      "Gathering mmCIF paths\n"
     ]
    },
    {
     "name": "stderr",
     "output_type": "stream",
     "text": [
      "\n",
      "100%|████████████████████████████████████████████████████████████████████████████████████| 5/5 [00:00<00:00, 740.94it/s]\u001b[A"
     ]
    },
    {
     "name": "stdout",
     "output_type": "stream",
     "text": [
      "Processing 0 files our of 0\n"
     ]
    },
    {
     "name": "stderr",
     "output_type": "stream",
     "text": [
      "\n"
     ]
    },
    {
     "name": "stdout",
     "output_type": "stream",
     "text": [
      "Failed /mnt/h/datasets/mmCIF/86/186d.cif: Encountered errors {('186d', ''): 'No protein chains found in this file.'}\n",
      "Finished /mnt/h/datasets/mmCIF/86/186l.cif in 0.30s\n",
      "Failed /mnt/h/datasets/mmCIF/86/286d.cif: Encountered errors {('286d', ''): 'No protein chains found in this file.'}\n",
      "Failed /mnt/h/datasets/mmCIF/86/386d.cif: Encountered errors {('386d', ''): 'No protein chains found in this file.'}\n",
      "Failed /mnt/h/datasets/mmCIF/86/486d.cif: Encountered errors {('486d', ''): 'No protein chains found in this file.'}\n"
     ]
    },
    {
     "name": "stderr",
     "output_type": "stream",
     "text": [
      "\r",
      " 10%|████████                                                                        | 106/1060 [00:51<09:27,  1.68it/s]"
     ]
    },
    {
     "name": "stdout",
     "output_type": "stream",
     "text": [
      "Gathering mmCIF paths\n"
     ]
    },
    {
     "name": "stderr",
     "output_type": "stream",
     "text": [
      "\n",
      "100%|████████████████████████████████████████████████████████████████████████████████████| 5/5 [00:00<00:00, 798.09it/s]\u001b[A\n"
     ]
    },
    {
     "name": "stdout",
     "output_type": "stream",
     "text": [
      "Processing 0 files our of 0\n",
      "Failed /mnt/h/datasets/mmCIF/87/187d.cif: Encountered errors {('187d', ''): 'No protein chains found in this file.'}\n",
      "Finished /mnt/h/datasets/mmCIF/87/187l.cif in 0.15s\n",
      "Failed /mnt/h/datasets/mmCIF/87/287d.cif: Encountered errors {('287d', ''): 'No protein chains found in this file.'}\n",
      "Failed /mnt/h/datasets/mmCIF/87/387d.cif: Encountered errors {('387d', ''): 'No protein chains found in this file.'}\n"
     ]
    },
    {
     "name": "stderr",
     "output_type": "stream",
     "text": [
      "\r",
      " 10%|████████                                                                        | 107/1060 [00:51<09:25,  1.69it/s]"
     ]
    },
    {
     "name": "stdout",
     "output_type": "stream",
     "text": [
      "Failed /mnt/h/datasets/mmCIF/87/487d.cif: Too high resolution 7.5\n",
      "Gathering mmCIF paths\n"
     ]
    },
    {
     "name": "stderr",
     "output_type": "stream",
     "text": [
      "\n",
      "100%|████████████████████████████████████████████████████████████████████████████████████| 5/5 [00:00<00:00, 747.04it/s]\u001b[A"
     ]
    },
    {
     "name": "stdout",
     "output_type": "stream",
     "text": [
      "Processing 0 files our of 0\n",
      "Failed /mnt/h/datasets/mmCIF/88/188d.cif: Encountered errors {('188d', ''): 'No protein chains found in this file.'}\n"
     ]
    },
    {
     "name": "stderr",
     "output_type": "stream",
     "text": [
      "\n"
     ]
    },
    {
     "name": "stdout",
     "output_type": "stream",
     "text": [
      "Finished /mnt/h/datasets/mmCIF/88/188l.cif in 0.16s\n",
      "Failed /mnt/h/datasets/mmCIF/88/288d.cif: Encountered errors {('288d', ''): 'No protein chains found in this file.'}\n"
     ]
    },
    {
     "name": "stderr",
     "output_type": "stream",
     "text": [
      "\r",
      " 10%|████████▏                                                                       | 108/1060 [00:52<09:12,  1.72it/s]"
     ]
    },
    {
     "name": "stdout",
     "output_type": "stream",
     "text": [
      "Failed /mnt/h/datasets/mmCIF/88/388d.cif: Encountered errors {('388d', ''): 'No protein chains found in this file.'}\n",
      "Failed /mnt/h/datasets/mmCIF/88/488d.cif: Encountered errors {('488d', ''): 'No protein chains found in this file.'}\n",
      "Gathering mmCIF paths\n"
     ]
    },
    {
     "name": "stderr",
     "output_type": "stream",
     "text": [
      "\n",
      "100%|████████████████████████████████████████████████████████████████████████████████████| 4/4 [00:00<00:00, 736.91it/s]\u001b[A"
     ]
    },
    {
     "name": "stdout",
     "output_type": "stream",
     "text": [
      "Processing 0 files our of 0\n",
      "Failed /mnt/h/datasets/mmCIF/89/189d.cif: Encountered errors {('189d', ''): 'No protein chains found in this file.'}\n"
     ]
    },
    {
     "name": "stderr",
     "output_type": "stream",
     "text": [
      "\n"
     ]
    },
    {
     "name": "stdout",
     "output_type": "stream",
     "text": [
      "Finished /mnt/h/datasets/mmCIF/89/189l.cif in 0.14s\n",
      "Failed /mnt/h/datasets/mmCIF/89/289d.cif: Encountered errors {('289d', ''): 'No protein chains found in this file.'}\n"
     ]
    },
    {
     "name": "stderr",
     "output_type": "stream",
     "text": [
      "\r",
      " 10%|████████▏                                                                       | 109/1060 [00:52<07:48,  2.03it/s]"
     ]
    },
    {
     "name": "stdout",
     "output_type": "stream",
     "text": [
      "Failed /mnt/h/datasets/mmCIF/89/389d.cif: Encountered errors {('389d', ''): 'No protein chains found in this file.'}\n",
      "Gathering mmCIF paths\n"
     ]
    },
    {
     "name": "stderr",
     "output_type": "stream",
     "text": [
      "\n",
      "100%|████████████████████████████████████████████████████████████████████████████████████| 1/1 [00:00<00:00, 663.66it/s]\u001b[A\n"
     ]
    },
    {
     "name": "stdout",
     "output_type": "stream",
     "text": [
      "Processing 0 files our of 0\n",
      "Failed /mnt/h/datasets/mmCIF/8d/28dn.cif: Encountered errors {('28dn', ''): 'No protein chains found in this file.'}\n",
      "Gathering mmCIF paths\n"
     ]
    },
    {
     "name": "stderr",
     "output_type": "stream",
     "text": [
      "\n",
      "100%|████████████████████████████████████████████████████████████████████████████████████| 1/1 [00:00<00:00, 602.37it/s]\u001b[A"
     ]
    },
    {
     "name": "stdout",
     "output_type": "stream",
     "text": [
      "Processing 0 files our of 0\n"
     ]
    },
    {
     "name": "stderr",
     "output_type": "stream",
     "text": [
      "\n",
      " 10%|████████▍                                                                       | 111/1060 [00:52<05:03,  3.12it/s]"
     ]
    },
    {
     "name": "stdout",
     "output_type": "stream",
     "text": [
      "Failed /mnt/h/datasets/mmCIF/8g/18gs.cif: Too long 977\n",
      "Gathering mmCIF paths\n"
     ]
    },
    {
     "name": "stderr",
     "output_type": "stream",
     "text": [
      "\n",
      "100%|████████████████████████████████████████████████████████████████████████████████████| 2/2 [00:00<00:00, 710.00it/s]\u001b[A"
     ]
    },
    {
     "name": "stdout",
     "output_type": "stream",
     "text": [
      "Processing 0 files our of 0\n"
     ]
    },
    {
     "name": "stderr",
     "output_type": "stream",
     "text": [
      "\n"
     ]
    },
    {
     "name": "stdout",
     "output_type": "stream",
     "text": [
      "Failed /mnt/h/datasets/mmCIF/8s/28sp.cif: Encountered errors {('28sp', ''): 'No protein chains found in this file.'}\n"
     ]
    },
    {
     "name": "stderr",
     "output_type": "stream",
     "text": [
      "\r",
      " 11%|████████▍                                                                       | 112/1060 [00:52<04:51,  3.25it/s]"
     ]
    },
    {
     "name": "stdout",
     "output_type": "stream",
     "text": [
      "Failed /mnt/h/datasets/mmCIF/8s/28sr.cif: Encountered errors {('28sr', ''): 'No protein chains found in this file.'}\n",
      "Gathering mmCIF paths\n"
     ]
    },
    {
     "name": "stderr",
     "output_type": "stream",
     "text": [
      "\n",
      "100%|████████████████████████████████████████████████████████████████████████████████████| 4/4 [00:00<00:00, 738.43it/s]\u001b[A"
     ]
    },
    {
     "name": "stdout",
     "output_type": "stream",
     "text": [
      "Processing 0 files our of 0\n",
      "Failed /mnt/h/datasets/mmCIF/90/190d.cif: Encountered errors {('190d', ''): 'No protein chains found in this file.'}\n"
     ]
    },
    {
     "name": "stderr",
     "output_type": "stream",
     "text": [
      "\n"
     ]
    },
    {
     "name": "stdout",
     "output_type": "stream",
     "text": [
      "Finished /mnt/h/datasets/mmCIF/90/190l.cif in 0.14s\n"
     ]
    },
    {
     "name": "stderr",
     "output_type": "stream",
     "text": [
      "\r",
      " 11%|████████▌                                                                       | 113/1060 [00:53<04:49,  3.27it/s]"
     ]
    },
    {
     "name": "stdout",
     "output_type": "stream",
     "text": [
      "Failed /mnt/h/datasets/mmCIF/90/290d.cif: Encountered errors {('290d', ''): 'No protein chains found in this file.'}\n",
      "Failed /mnt/h/datasets/mmCIF/90/390d.cif: Encountered errors {('390d', ''): 'No protein chains found in this file.'}\n",
      "Gathering mmCIF paths\n"
     ]
    },
    {
     "name": "stderr",
     "output_type": "stream",
     "text": [
      "\n",
      "100%|████████████████████████████████████████████████████████████████████████████████████| 5/5 [00:00<00:00, 764.63it/s]\u001b[A"
     ]
    },
    {
     "name": "stdout",
     "output_type": "stream",
     "text": [
      "Processing 0 files our of 0\n"
     ]
    },
    {
     "name": "stderr",
     "output_type": "stream",
     "text": [
      "\n"
     ]
    },
    {
     "name": "stdout",
     "output_type": "stream",
     "text": [
      "Finished /mnt/h/datasets/mmCIF/91/1914.cif in 0.29s\n",
      "Failed /mnt/h/datasets/mmCIF/91/191d.cif: Encountered errors {('191d', ''): 'No protein chains found in this file.'}\n",
      "Finished /mnt/h/datasets/mmCIF/91/191l.cif in 0.15s\n",
      "Failed /mnt/h/datasets/mmCIF/91/291d.cif: Encountered errors {('291d', ''): 'No protein chains found in this file.'}\n"
     ]
    },
    {
     "name": "stderr",
     "output_type": "stream",
     "text": [
      "\r",
      " 11%|████████▌                                                                       | 114/1060 [00:53<06:05,  2.59it/s]"
     ]
    },
    {
     "name": "stdout",
     "output_type": "stream",
     "text": [
      "Failed /mnt/h/datasets/mmCIF/91/391d.cif: Encountered errors {('391d', ''): 'No protein chains found in this file.'}\n",
      "Gathering mmCIF paths\n"
     ]
    },
    {
     "name": "stderr",
     "output_type": "stream",
     "text": [
      "\n",
      "100%|████████████████████████████████████████████████████████████████████████████████████| 4/4 [00:00<00:00, 776.15it/s]\u001b[A"
     ]
    },
    {
     "name": "stdout",
     "output_type": "stream",
     "text": [
      "Processing 0 files our of 0\n",
      "Failed /mnt/h/datasets/mmCIF/92/192d.cif: Encountered errors {('192d', ''): 'No protein chains found in this file.'}\n"
     ]
    },
    {
     "name": "stderr",
     "output_type": "stream",
     "text": [
      "\n"
     ]
    },
    {
     "name": "stdout",
     "output_type": "stream",
     "text": [
      "Finished /mnt/h/datasets/mmCIF/92/192l.cif in 0.15s\n",
      "Failed /mnt/h/datasets/mmCIF/92/292d.cif: Encountered errors {('292d', ''): 'No protein chains found in this file.'}\n"
     ]
    },
    {
     "name": "stderr",
     "output_type": "stream",
     "text": [
      "\r",
      " 11%|████████▋                                                                       | 115/1060 [00:54<05:37,  2.80it/s]"
     ]
    },
    {
     "name": "stdout",
     "output_type": "stream",
     "text": [
      "Failed /mnt/h/datasets/mmCIF/92/392d.cif: Encountered errors {('392d', ''): 'No protein chains found in this file.'}\n",
      "Gathering mmCIF paths\n"
     ]
    },
    {
     "name": "stderr",
     "output_type": "stream",
     "text": [
      "\n",
      "100%|████████████████████████████████████████████████████████████████████████████████████| 4/4 [00:00<00:00, 681.70it/s]\u001b[A"
     ]
    },
    {
     "name": "stdout",
     "output_type": "stream",
     "text": [
      "Processing 0 files our of 0\n",
      "Failed /mnt/h/datasets/mmCIF/93/193d.cif: Invalid resolution 0.0\n"
     ]
    },
    {
     "name": "stderr",
     "output_type": "stream",
     "text": [
      "\n",
      " 11%|████████▊                                                                       | 116/1060 [00:54<06:01,  2.61it/s]"
     ]
    },
    {
     "name": "stdout",
     "output_type": "stream",
     "text": [
      "Finished /mnt/h/datasets/mmCIF/93/193l.cif in 0.25s\n",
      "Failed /mnt/h/datasets/mmCIF/93/293d.cif: Encountered errors {('293d', ''): 'No protein chains found in this file.'}\n",
      "Failed /mnt/h/datasets/mmCIF/93/393d.cif: Encountered errors {('393d', ''): 'No protein chains found in this file.'}\n",
      "Gathering mmCIF paths\n"
     ]
    },
    {
     "name": "stderr",
     "output_type": "stream",
     "text": [
      "\n",
      "100%|████████████████████████████████████████████████████████████████████████████████████| 4/4 [00:00<00:00, 678.53it/s]\u001b[A"
     ]
    },
    {
     "name": "stdout",
     "output_type": "stream",
     "text": [
      "Processing 0 files our of 0\n",
      "Failed /mnt/h/datasets/mmCIF/94/194d.cif: Encountered errors {('194d', ''): 'No protein chains found in this file.'}\n"
     ]
    },
    {
     "name": "stderr",
     "output_type": "stream",
     "text": [
      "\n"
     ]
    },
    {
     "name": "stdout",
     "output_type": "stream",
     "text": [
      "Finished /mnt/h/datasets/mmCIF/94/194l.cif in 0.13s\n",
      "Failed /mnt/h/datasets/mmCIF/94/294d.cif: Encountered errors {('294d', ''): 'No protein chains found in this file.'}\n"
     ]
    },
    {
     "name": "stderr",
     "output_type": "stream",
     "text": [
      "\r",
      " 11%|████████▊                                                                       | 117/1060 [00:54<05:35,  2.81it/s]"
     ]
    },
    {
     "name": "stdout",
     "output_type": "stream",
     "text": [
      "Failed /mnt/h/datasets/mmCIF/94/394d.cif: Encountered errors {('394d', ''): 'No protein chains found in this file.'}\n",
      "Gathering mmCIF paths\n"
     ]
    },
    {
     "name": "stderr",
     "output_type": "stream",
     "text": [
      "\n",
      "100%|████████████████████████████████████████████████████████████████████████████████████| 4/4 [00:00<00:00, 714.47it/s]\u001b[A"
     ]
    },
    {
     "name": "stdout",
     "output_type": "stream",
     "text": [
      "Processing 0 files our of 0\n",
      "Failed /mnt/h/datasets/mmCIF/95/195d.cif: Encountered errors {('195d', ''): 'No protein chains found in this file.'}\n"
     ]
    },
    {
     "name": "stderr",
     "output_type": "stream",
     "text": [
      "\n"
     ]
    },
    {
     "name": "stdout",
     "output_type": "stream",
     "text": [
      "Finished /mnt/h/datasets/mmCIF/95/195l.cif in 0.16s\n"
     ]
    },
    {
     "name": "stderr",
     "output_type": "stream",
     "text": [
      "\r",
      " 11%|████████▉                                                                       | 118/1060 [00:55<05:17,  2.97it/s]"
     ]
    },
    {
     "name": "stdout",
     "output_type": "stream",
     "text": [
      "Failed /mnt/h/datasets/mmCIF/95/295d.cif: Encountered errors {('295d', ''): 'No protein chains found in this file.'}\n",
      "Failed /mnt/h/datasets/mmCIF/95/395d.cif: Encountered errors {('395d', ''): 'No protein chains found in this file.'}\n",
      "Gathering mmCIF paths\n"
     ]
    },
    {
     "name": "stderr",
     "output_type": "stream",
     "text": [
      "\n",
      "100%|████████████████████████████████████████████████████████████████████████████████████| 4/4 [00:00<00:00, 694.08it/s]\u001b[A"
     ]
    },
    {
     "name": "stdout",
     "output_type": "stream",
     "text": [
      "Processing 0 files our of 0\n",
      "Failed /mnt/h/datasets/mmCIF/96/196d.cif: Encountered errors {('196d', ''): 'No protein chains found in this file.'}\n"
     ]
    },
    {
     "name": "stderr",
     "output_type": "stream",
     "text": [
      "\n"
     ]
    },
    {
     "name": "stdout",
     "output_type": "stream",
     "text": [
      "Finished /mnt/h/datasets/mmCIF/96/196l.cif in 0.15s\n"
     ]
    },
    {
     "name": "stderr",
     "output_type": "stream",
     "text": [
      "\r",
      " 11%|████████▉                                                                       | 119/1060 [00:55<05:06,  3.07it/s]"
     ]
    },
    {
     "name": "stdout",
     "output_type": "stream",
     "text": [
      "Failed /mnt/h/datasets/mmCIF/96/296d.cif: Encountered errors {('296d', ''): 'No protein chains found in this file.'}\n",
      "Failed /mnt/h/datasets/mmCIF/96/396d.cif: Encountered errors {('396d', ''): 'No protein chains found in this file.'}\n",
      "Gathering mmCIF paths\n"
     ]
    },
    {
     "name": "stderr",
     "output_type": "stream",
     "text": [
      "\n",
      "100%|████████████████████████████████████████████████████████████████████████████████████| 4/4 [00:00<00:00, 673.70it/s]\u001b[A"
     ]
    },
    {
     "name": "stdout",
     "output_type": "stream",
     "text": [
      "Processing 0 files our of 0\n",
      "Failed /mnt/h/datasets/mmCIF/97/197d.cif: Encountered errors {('197d', ''): 'No protein chains found in this file.'}\n"
     ]
    },
    {
     "name": "stderr",
     "output_type": "stream",
     "text": [
      "\n",
      " 11%|█████████                                                                       | 120/1060 [00:55<05:40,  2.76it/s]"
     ]
    },
    {
     "name": "stdout",
     "output_type": "stream",
     "text": [
      "Finished /mnt/h/datasets/mmCIF/97/197l.cif in 0.28s\n",
      "Failed /mnt/h/datasets/mmCIF/97/297d.cif: Encountered errors {('297d', ''): 'No protein chains found in this file.'}\n",
      "Failed /mnt/h/datasets/mmCIF/97/397d.cif: Encountered errors {('397d', ''): 'No protein chains found in this file.'}\n",
      "Gathering mmCIF paths\n"
     ]
    },
    {
     "name": "stderr",
     "output_type": "stream",
     "text": [
      "\n",
      "100%|████████████████████████████████████████████████████████████████████████████████████| 4/4 [00:00<00:00, 665.63it/s]\u001b[A"
     ]
    },
    {
     "name": "stdout",
     "output_type": "stream",
     "text": [
      "Processing 0 files our of 0\n",
      "Failed /mnt/h/datasets/mmCIF/98/198d.cif: Encountered errors {('198d', ''): 'No protein chains found in this file.'}\n"
     ]
    },
    {
     "name": "stderr",
     "output_type": "stream",
     "text": [
      "\n",
      " 11%|█████████▏                                                                      | 121/1060 [00:56<05:02,  3.10it/s]"
     ]
    },
    {
     "name": "stdout",
     "output_type": "stream",
     "text": [
      "Failed /mnt/h/datasets/mmCIF/98/198l.cif: Too long 308\n",
      "Failed /mnt/h/datasets/mmCIF/98/298d.cif: Encountered errors {('298d', ''): 'No protein chains found in this file.'}\n",
      "Failed /mnt/h/datasets/mmCIF/98/398d.cif: Encountered errors {('398d', ''): 'No protein chains found in this file.'}\n",
      "Gathering mmCIF paths\n"
     ]
    },
    {
     "name": "stderr",
     "output_type": "stream",
     "text": [
      "\n",
      "100%|████████████████████████████████████████████████████████████████████████████████████| 4/4 [00:00<00:00, 695.23it/s]\u001b[A"
     ]
    },
    {
     "name": "stdout",
     "output_type": "stream",
     "text": [
      "Processing 0 files our of 0\n",
      "Failed /mnt/h/datasets/mmCIF/99/199d.cif: Encountered errors {('199d', ''): 'No protein chains found in this file.'}\n"
     ]
    },
    {
     "name": "stderr",
     "output_type": "stream",
     "text": [
      "\n",
      " 12%|█████████▏                                                                      | 122/1060 [00:56<04:41,  3.33it/s]"
     ]
    },
    {
     "name": "stdout",
     "output_type": "stream",
     "text": [
      "Failed /mnt/h/datasets/mmCIF/99/199l.cif: Too long 306\n",
      "Failed /mnt/h/datasets/mmCIF/99/299d.cif: Encountered errors {('299d', ''): 'No protein chains found in this file.'}\n",
      "Failed /mnt/h/datasets/mmCIF/99/399d.cif: Encountered errors {('399d', ''): 'No protein chains found in this file.'}\n",
      "Gathering mmCIF paths\n"
     ]
    },
    {
     "name": "stderr",
     "output_type": "stream",
     "text": [
      "\n",
      "100%|████████████████████████████████████████████████████████████████████████████████████| 1/1 [00:00<00:00, 529.72it/s]\u001b[A"
     ]
    },
    {
     "name": "stdout",
     "output_type": "stream",
     "text": [
      "Processing 0 files our of 0\n"
     ]
    },
    {
     "name": "stderr",
     "output_type": "stream",
     "text": [
      "\n",
      "\r",
      " 12%|█████████▎                                                                      | 123/1060 [00:56<04:08,  3.77it/s]"
     ]
    },
    {
     "name": "stdout",
     "output_type": "stream",
     "text": [
      "Failed /mnt/h/datasets/mmCIF/9g/19gs.cif: Too long 737\n",
      "Gathering mmCIF paths\n"
     ]
    },
    {
     "name": "stderr",
     "output_type": "stream",
     "text": [
      "\n",
      "100%|████████████████████████████████████████████████████████████████████████████████████| 1/1 [00:00<00:00, 574.56it/s]\u001b[A\n"
     ]
    },
    {
     "name": "stdout",
     "output_type": "stream",
     "text": [
      "Processing 0 files our of 0\n"
     ]
    },
    {
     "name": "stderr",
     "output_type": "stream",
     "text": [
      "\r",
      " 12%|█████████▎                                                                      | 124/1060 [00:57<05:04,  3.08it/s]"
     ]
    },
    {
     "name": "stdout",
     "output_type": "stream",
     "text": [
      "Failed /mnt/h/datasets/mmCIF/9h/19hc.cif: Too long 1492\n",
      "Gathering mmCIF paths\n"
     ]
    },
    {
     "name": "stderr",
     "output_type": "stream",
     "text": [
      "\n",
      "  0%|                                                                                           | 0/266 [00:00<?, ?it/s]\u001b[A\n",
      " 29%|███████████████████████▏                                                         | 76/266 [00:00<00:00, 759.75it/s]\u001b[A\n",
      " 57%|█████████████████████████████████████████████▋                                  | 152/266 [00:00<00:00, 757.32it/s]\u001b[A\n",
      "100%|████████████████████████████████████████████████████████████████████████████████| 266/266 [00:00<00:00, 749.79it/s]\u001b[A\n"
     ]
    },
    {
     "name": "stdout",
     "output_type": "stream",
     "text": [
      "Processing 0 files our of 0\n",
      "Failed /mnt/h/datasets/mmCIF/a0/1a00.cif: Too long 794\n",
      "Failed /mnt/h/datasets/mmCIF/a0/1a01.cif: Too long 776\n",
      "Failed /mnt/h/datasets/mmCIF/a0/1a02.cif: Too long 513\n",
      "Failed /mnt/h/datasets/mmCIF/a0/1a03.cif: Invalid resolution 0.0\n",
      "Failed /mnt/h/datasets/mmCIF/a0/1a04.cif: Too long 771\n",
      "Failed /mnt/h/datasets/mmCIF/a0/1a05.cif: Too long 1222\n",
      "Failed /mnt/h/datasets/mmCIF/a0/1a06.cif: Too long 401\n"
     ]
    },
    {
     "name": "stderr",
     "output_type": "stream",
     "text": [
      "/home/nwoodall/miniconda3/envs/se33/lib/python3.9/site-packages/Bio/PDB/StructureBuilder.py:89: PDBConstructionWarning: WARNING: Chain A is discontinuous at line 2132.\n",
      "  warnings.warn(\n",
      "/home/nwoodall/miniconda3/envs/se33/lib/python3.9/site-packages/Bio/PDB/StructureBuilder.py:89: PDBConstructionWarning: WARNING: Chain C is discontinuous at line 2207.\n",
      "  warnings.warn(\n",
      "/home/nwoodall/miniconda3/envs/se33/lib/python3.9/site-packages/Bio/PDB/StructureBuilder.py:89: PDBConstructionWarning: WARNING: Chain B is discontinuous at line 2219.\n",
      "  warnings.warn(\n",
      "/home/nwoodall/miniconda3/envs/se33/lib/python3.9/site-packages/Bio/PDB/StructureBuilder.py:89: PDBConstructionWarning: WARNING: Chain D is discontinuous at line 2279.\n",
      "  warnings.warn(\n",
      "/home/nwoodall/miniconda3/envs/se33/lib/python3.9/site-packages/Bio/PDB/StructureBuilder.py:89: PDBConstructionWarning: WARNING: Chain A is discontinuous at line 2118.\n",
      "  warnings.warn(\n",
      "/home/nwoodall/miniconda3/envs/se33/lib/python3.9/site-packages/Bio/PDB/StructureBuilder.py:89: PDBConstructionWarning: WARNING: Chain C is discontinuous at line 2166.\n",
      "  warnings.warn(\n",
      "/home/nwoodall/miniconda3/envs/se33/lib/python3.9/site-packages/Bio/PDB/StructureBuilder.py:89: PDBConstructionWarning: WARNING: Chain B is discontinuous at line 2175.\n",
      "  warnings.warn(\n",
      "/home/nwoodall/miniconda3/envs/se33/lib/python3.9/site-packages/Bio/PDB/StructureBuilder.py:89: PDBConstructionWarning: WARNING: Chain D is discontinuous at line 2196.\n",
      "  warnings.warn(\n"
     ]
    },
    {
     "name": "stdout",
     "output_type": "stream",
     "text": [
      "Finished /mnt/h/datasets/mmCIF/a0/1a07.cif in 0.21s\n",
      "Finished /mnt/h/datasets/mmCIF/a0/1a08.cif in 0.20s\n",
      "Failed /mnt/h/datasets/mmCIF/a0/1a09.cif: Too long 410\n"
     ]
    },
    {
     "name": "stderr",
     "output_type": "stream",
     "text": [
      "/home/nwoodall/miniconda3/envs/se33/lib/python3.9/site-packages/Bio/PDB/StructureBuilder.py:89: PDBConstructionWarning: WARNING: Chain C is discontinuous at line 1687.\n",
      "  warnings.warn(\n",
      "/home/nwoodall/miniconda3/envs/se33/lib/python3.9/site-packages/Bio/PDB/StructureBuilder.py:89: PDBConstructionWarning: WARNING: Chain D is discontinuous at line 1705.\n",
      "  warnings.warn(\n",
      "/home/nwoodall/miniconda3/envs/se33/lib/python3.9/site-packages/Bio/PDB/StructureBuilder.py:89: PDBConstructionWarning: WARNING: Chain A is discontinuous at line 1728.\n",
      "  warnings.warn(\n",
      "/home/nwoodall/miniconda3/envs/se33/lib/python3.9/site-packages/Bio/PDB/StructureBuilder.py:89: PDBConstructionWarning: WARNING: Chain B is discontinuous at line 1751.\n",
      "  warnings.warn(\n"
     ]
    },
    {
     "name": "stdout",
     "output_type": "stream",
     "text": [
      "Finished /mnt/h/datasets/mmCIF/a0/1a0a.cif in 0.42s\n",
      "Finished /mnt/h/datasets/mmCIF/a0/1a0b.cif in 0.12s\n",
      "Failed /mnt/h/datasets/mmCIF/a0/1a0c.cif: Too long 2872\n",
      "Failed /mnt/h/datasets/mmCIF/a0/1a0d.cif: Too high resolution 3.0\n",
      "Failed /mnt/h/datasets/mmCIF/a0/1a0e.cif: Too long 1148\n",
      "Failed /mnt/h/datasets/mmCIF/a0/1a0f.cif: Too long 578\n",
      "Failed /mnt/h/datasets/mmCIF/a0/1a0g.cif: Too long 730\n",
      "Failed /mnt/h/datasets/mmCIF/a0/1a0h.cif: Too high resolution 3.2\n",
      "Failed /mnt/h/datasets/mmCIF/a0/1a0i.cif: Too long 526\n",
      "Failed /mnt/h/datasets/mmCIF/a0/1a0j.cif: Too long 1286\n",
      "Finished /mnt/h/datasets/mmCIF/a0/1a0k.cif in 0.13s\n",
      "Failed /mnt/h/datasets/mmCIF/a0/1a0l.cif: Too high resolution 3.0\n",
      "Finished /mnt/h/datasets/mmCIF/a0/1a0m.cif in 0.06s\n"
     ]
    },
    {
     "name": "stderr",
     "output_type": "stream",
     "text": [
      "/home/nwoodall/miniconda3/envs/se33/lib/python3.9/site-packages/Bio/PDB/StructureBuilder.py:89: PDBConstructionWarning: WARNING: Chain A is discontinuous at line 242.\n",
      "  warnings.warn(\n",
      "/home/nwoodall/miniconda3/envs/se33/lib/python3.9/site-packages/Bio/PDB/StructureBuilder.py:89: PDBConstructionWarning: WARNING: Chain B is discontinuous at line 266.\n",
      "  warnings.warn(\n"
     ]
    },
    {
     "name": "stdout",
     "output_type": "stream",
     "text": [
      "Failed /mnt/h/datasets/mmCIF/a0/1a0n.cif: Invalid resolution 0.0\n",
      "Failed /mnt/h/datasets/mmCIF/a0/1a0o.cif: Too long 789\n",
      "Failed /mnt/h/datasets/mmCIF/a0/1a0p.cif: Too long 376\n",
      "Failed /mnt/h/datasets/mmCIF/a0/1a0q.cif: Too long 512\n",
      "Failed /mnt/h/datasets/mmCIF/a0/1a0r.cif: Too long 615\n",
      "Failed /mnt/h/datasets/mmCIF/a0/1a0s.cif: Too long 1572\n",
      "Failed /mnt/h/datasets/mmCIF/a0/1a0t.cif: Too long 1584\n",
      "Failed /mnt/h/datasets/mmCIF/a0/1a0u.cif: Too long 771\n",
      "Failed /mnt/h/datasets/mmCIF/a0/1a0z.cif: Too long 796\n",
      "Failed /mnt/h/datasets/mmCIF/a0/2a00.cif: Invalid resolution 0.0\n",
      "Failed /mnt/h/datasets/mmCIF/a0/2a02.cif: Invalid resolution 0.0\n",
      "Failed /mnt/h/datasets/mmCIF/a0/2a03.cif: Too long 653\n",
      "Failed /mnt/h/datasets/mmCIF/a0/2a04.cif: Encountered errors {('2a04', ''): 'No protein chains found in this file.'}\n",
      "Failed /mnt/h/datasets/mmCIF/a0/2a05.cif: Invalid resolution 0.0\n",
      "Failed /mnt/h/datasets/mmCIF/a0/2a06.cif: Too long 5735\n",
      "Failed /mnt/h/datasets/mmCIF/a0/2a07.cif: Too long 1158\n",
      "Failed /mnt/h/datasets/mmCIF/a0/2a08.cif: Too long 345\n",
      "Failed /mnt/h/datasets/mmCIF/a0/2a0a.cif: Invalid resolution 0.0\n",
      "Finished /mnt/h/datasets/mmCIF/a0/2a0b.cif in 0.13s\n",
      "Failed /mnt/h/datasets/mmCIF/a0/2a0c.cif: Too long 429\n",
      "Failed /mnt/h/datasets/mmCIF/a0/2a0f.cif: Too long 1294\n",
      "Failed /mnt/h/datasets/mmCIF/a0/2a0i.cif: Too long 372\n",
      "Finished /mnt/h/datasets/mmCIF/a0/2a0j.cif in 0.13s\n",
      "Failed /mnt/h/datasets/mmCIF/a0/2a0k.cif: Too long 736\n",
      "Failed /mnt/h/datasets/mmCIF/a0/2a0l.cif: Too high resolution 3.9\n",
      "Failed /mnt/h/datasets/mmCIF/a0/2a0m.cif: Too long 501\n",
      "Failed /mnt/h/datasets/mmCIF/a0/2a0n.cif: Too long 539\n",
      "Failed /mnt/h/datasets/mmCIF/a0/2a0p.cif: Encountered errors {('2a0p', ''): 'No protein chains found in this file.'}\n",
      "Failed /mnt/h/datasets/mmCIF/a0/2a0q.cif: Too long 860\n",
      "Failed /mnt/h/datasets/mmCIF/a0/2a0s.cif: Too long 516\n",
      "Failed /mnt/h/datasets/mmCIF/a0/2a0t.cif: Invalid resolution 0.0\n",
      "Failed /mnt/h/datasets/mmCIF/a0/2a0u.cif: Too long 1059\n",
      "Failed /mnt/h/datasets/mmCIF/a0/2a0w.cif: Too long 363\n",
      "Failed /mnt/h/datasets/mmCIF/a0/2a0x.cif: Too long 345\n",
      "Failed /mnt/h/datasets/mmCIF/a0/2a0y.cif: Too long 331\n",
      "Failed /mnt/h/datasets/mmCIF/a0/2a0z.cif: Too long 1067\n",
      "Failed /mnt/h/datasets/mmCIF/a0/3a01.cif: Too long 332\n",
      "Finished /mnt/h/datasets/mmCIF/a0/3a02.cif in 0.10s\n",
      "Finished /mnt/h/datasets/mmCIF/a0/3a03.cif in 0.08s\n",
      "Failed /mnt/h/datasets/mmCIF/a0/3a04.cif: Too long 699\n",
      "Failed /mnt/h/datasets/mmCIF/a0/3a05.cif: Too long 606\n",
      "Failed /mnt/h/datasets/mmCIF/a0/3a06.cif: Too long 863\n",
      "Failed /mnt/h/datasets/mmCIF/a0/3a07.cif: Too long 557\n",
      "Failed /mnt/h/datasets/mmCIF/a0/3a08.cif: Too long 380\n",
      "Failed /mnt/h/datasets/mmCIF/a0/3a09.cif: Too long 1260\n",
      "Failed /mnt/h/datasets/mmCIF/a0/3a0a.cif: Too long 363\n",
      "Failed /mnt/h/datasets/mmCIF/a0/3a0b.cif: Too high resolution 3.7\n",
      "Failed /mnt/h/datasets/mmCIF/a0/3a0c.cif: Too long 537\n",
      "Finished /mnt/h/datasets/mmCIF/a0/3a0d.cif in 0.12s\n",
      "Finished /mnt/h/datasets/mmCIF/a0/3a0e.cif in 0.12s\n"
     ]
    },
    {
     "name": "stderr",
     "output_type": "stream",
     "text": [
      "/home/nwoodall/miniconda3/envs/se33/lib/python3.9/site-packages/Bio/PDB/StructureBuilder.py:89: PDBConstructionWarning: WARNING: Chain A is discontinuous at line 866.\n",
      "  warnings.warn(\n"
     ]
    },
    {
     "name": "stdout",
     "output_type": "stream",
     "text": [
      "Failed /mnt/h/datasets/mmCIF/a0/3a0f.cif: Too long 860\n",
      "Failed /mnt/h/datasets/mmCIF/a0/3a0g.cif: Too long 334\n",
      "Failed /mnt/h/datasets/mmCIF/a0/3a0h.cif: Too high resolution 4.0\n",
      "Failed /mnt/h/datasets/mmCIF/a0/3a0i.cif: Too long 588\n",
      "Failed /mnt/h/datasets/mmCIF/a0/3a0j.cif: Too long 331\n",
      "Failed /mnt/h/datasets/mmCIF/a0/3a0k.cif: Too long 1654\n",
      "Failed /mnt/h/datasets/mmCIF/a0/3a0m.cif: Too long 430\n",
      "Failed /mnt/h/datasets/mmCIF/a0/3a0n.cif: Too long 723\n",
      "Failed /mnt/h/datasets/mmCIF/a0/3a0o.cif: Too long 2596\n",
      "Failed /mnt/h/datasets/mmCIF/a0/3a0r.cif: Too high resolution 3.8\n",
      "Finished /mnt/h/datasets/mmCIF/a0/3a0s.cif in 0.12s\n",
      "Finished /mnt/h/datasets/mmCIF/a0/3a0t.cif in 0.16s\n",
      "Finished /mnt/h/datasets/mmCIF/a0/3a0u.cif in 0.16s\n",
      "Finished /mnt/h/datasets/mmCIF/a0/3a0v.cif in 0.11s\n",
      "Failed /mnt/h/datasets/mmCIF/a0/3a0w.cif: Too long 535\n",
      "Finished /mnt/h/datasets/mmCIF/a0/3a0x.cif in 0.14s\n",
      "Failed /mnt/h/datasets/mmCIF/a0/3a0y.cif: Too long 465\n",
      "Failed /mnt/h/datasets/mmCIF/a0/3a0z.cif: Too long 585\n",
      "Failed /mnt/h/datasets/mmCIF/a0/4a00.cif: Too long 550\n",
      "Failed /mnt/h/datasets/mmCIF/a0/4a01.cif: Too long 2095\n",
      "Failed /mnt/h/datasets/mmCIF/a0/4a02.cif: Too long 452\n",
      "Failed /mnt/h/datasets/mmCIF/a0/4a03.cif: Too long 1292\n",
      "Failed /mnt/h/datasets/mmCIF/a0/4a04.cif: Too long 484\n",
      "Failed /mnt/h/datasets/mmCIF/a0/4a05.cif: Too long 694\n",
      "Failed /mnt/h/datasets/mmCIF/a0/4a06.cif: Too long 402\n",
      "Failed /mnt/h/datasets/mmCIF/a0/4a07.cif: Too long 503\n",
      "Failed /mnt/h/datasets/mmCIF/a0/4a08.cif: Too high resolution 3.0\n",
      "Failed /mnt/h/datasets/mmCIF/a0/4a09.cif: Too high resolution 3.1\n",
      "Failed /mnt/h/datasets/mmCIF/a0/4a0a.cif: Too high resolution 3.6\n",
      "Failed /mnt/h/datasets/mmCIF/a0/4a0b.cif: Too high resolution 3.8\n",
      "Failed /mnt/h/datasets/mmCIF/a0/4a0c.cif: Too high resolution 3.8\n",
      "Failed /mnt/h/datasets/mmCIF/a0/4a0d.cif: Too long 925\n",
      "Failed /mnt/h/datasets/mmCIF/a0/4a0e.cif: Too long 304\n",
      "Failed /mnt/h/datasets/mmCIF/a0/4a0f.cif: Too long 1582\n",
      "Failed /mnt/h/datasets/mmCIF/a0/4a0g.cif: Too long 3360\n",
      "Failed /mnt/h/datasets/mmCIF/a0/4a0h.cif: Too long 1494\n"
     ]
    },
    {
     "name": "stderr",
     "output_type": "stream",
     "text": [
      "/home/nwoodall/miniconda3/envs/se33/lib/python3.9/site-packages/Bio/PDB/StructureBuilder.py:89: PDBConstructionWarning: WARNING: Chain A is discontinuous at line 2164.\n",
      "  warnings.warn(\n",
      "/home/nwoodall/miniconda3/envs/se33/lib/python3.9/site-packages/Bio/PDB/StructureBuilder.py:89: PDBConstructionWarning: WARNING: Chain B is discontinuous at line 2165.\n",
      "  warnings.warn(\n"
     ]
    },
    {
     "name": "stdout",
     "output_type": "stream",
     "text": [
      "Finished /mnt/h/datasets/mmCIF/a0/4a0i.cif in 0.29s\n"
     ]
    },
    {
     "name": "stderr",
     "output_type": "stream",
     "text": [
      "/home/nwoodall/miniconda3/envs/se33/lib/python3.9/site-packages/Bio/PDB/StructureBuilder.py:89: PDBConstructionWarning: WARNING: Chain A is discontinuous at line 2213.\n",
      "  warnings.warn(\n",
      "/home/nwoodall/miniconda3/envs/se33/lib/python3.9/site-packages/Bio/PDB/StructureBuilder.py:89: PDBConstructionWarning: WARNING: Chain B is discontinuous at line 2214.\n",
      "  warnings.warn(\n",
      "/home/nwoodall/miniconda3/envs/se33/lib/python3.9/site-packages/Bio/PDB/StructureBuilder.py:89: PDBConstructionWarning: WARNING: Chain A is discontinuous at line 2215.\n",
      "  warnings.warn(\n",
      "/home/nwoodall/miniconda3/envs/se33/lib/python3.9/site-packages/Bio/PDB/StructureBuilder.py:89: PDBConstructionWarning: WARNING: Chain B is discontinuous at line 2220.\n",
      "  warnings.warn(\n"
     ]
    },
    {
     "name": "stdout",
     "output_type": "stream",
     "text": [
      "Finished /mnt/h/datasets/mmCIF/a0/4a0j.cif in 0.31s\n",
      "Failed /mnt/h/datasets/mmCIF/a0/4a0k.cif: Too high resolution 5.93\n",
      "Failed /mnt/h/datasets/mmCIF/a0/4a0l.cif: Too high resolution 7.4\n",
      "Failed /mnt/h/datasets/mmCIF/a0/4a0m.cif: Too long 2519\n",
      "Finished /mnt/h/datasets/mmCIF/a0/4a0n.cif in 0.16s\n"
     ]
    },
    {
     "name": "stderr",
     "output_type": "stream",
     "text": [
      "/home/nwoodall/miniconda3/envs/se33/lib/python3.9/site-packages/Bio/PDB/StructureBuilder.py:89: PDBConstructionWarning: WARNING: Chain A is discontinuous at line 1019.\n",
      "  warnings.warn(\n"
     ]
    },
    {
     "name": "stdout",
     "output_type": "stream",
     "text": [
      "Failed /mnt/h/datasets/mmCIF/a0/4a0o.cif: Too high resolution 10.5\n",
      "Failed /mnt/h/datasets/mmCIF/a0/4a0p.cif: Too long 1060\n",
      "Failed /mnt/h/datasets/mmCIF/a0/4a0q.cif: Too long 565\n",
      "Failed /mnt/h/datasets/mmCIF/a0/4a0r.cif: Too long 1630\n",
      "Failed /mnt/h/datasets/mmCIF/a0/4a0s.cif: Too long 3678\n",
      "Failed /mnt/h/datasets/mmCIF/a0/4a0t.cif: Too long 1307\n",
      "Failed /mnt/h/datasets/mmCIF/a0/4a0u.cif: Too long 1464\n",
      "Failed /mnt/h/datasets/mmCIF/a0/4a0v.cif: Too high resolution 10.7\n",
      "Failed /mnt/h/datasets/mmCIF/a0/4a0w.cif: Too high resolution 13.9\n",
      "Finished /mnt/h/datasets/mmCIF/a0/4a0x.cif in 0.23s\n",
      "Failed /mnt/h/datasets/mmCIF/a0/4a0y.cif: Too long 363\n",
      "Failed /mnt/h/datasets/mmCIF/a0/4a0z.cif: Too long 473\n",
      "Failed /mnt/h/datasets/mmCIF/a0/5a00.cif: Too long 365\n",
      "Failed /mnt/h/datasets/mmCIF/a0/5a01.cif: Too long 2104\n",
      "Failed /mnt/h/datasets/mmCIF/a0/5a02.cif: Too long 3590\n",
      "Failed /mnt/h/datasets/mmCIF/a0/5a03.cif: Too long 3855\n",
      "Failed /mnt/h/datasets/mmCIF/a0/5a04.cif: Too long 4073\n",
      "Failed /mnt/h/datasets/mmCIF/a0/5a05.cif: Too long 3861\n",
      "Failed /mnt/h/datasets/mmCIF/a0/5a06.cif: Too long 4134\n",
      "Failed /mnt/h/datasets/mmCIF/a0/5a07.cif: Too long 1373\n",
      "Failed /mnt/h/datasets/mmCIF/a0/5a08.cif: Too long 1284\n",
      "Failed /mnt/h/datasets/mmCIF/a0/5a09.cif: Too long 403\n",
      "Failed /mnt/h/datasets/mmCIF/a0/5a0a.cif: Too long 405\n"
     ]
    },
    {
     "name": "stderr",
     "output_type": "stream",
     "text": [
      "/home/nwoodall/miniconda3/envs/se33/lib/python3.9/site-packages/Bio/PDB/StructureBuilder.py:89: PDBConstructionWarning: WARNING: Chain A is discontinuous at line 1654.\n",
      "  warnings.warn(\n"
     ]
    },
    {
     "name": "stdout",
     "output_type": "stream",
     "text": [
      "Finished /mnt/h/datasets/mmCIF/a0/5a0b.cif in 0.27s\n",
      "Failed /mnt/h/datasets/mmCIF/a0/5a0c.cif: Too long 785\n",
      "Failed /mnt/h/datasets/mmCIF/a0/5a0d.cif: Too long 1076\n",
      "Failed /mnt/h/datasets/mmCIF/a0/5a0e.cif: Too long 655\n",
      "Finished /mnt/h/datasets/mmCIF/a0/5a0f.cif in 0.17s\n",
      "Failed /mnt/h/datasets/mmCIF/a0/5a0g.cif: Too long 1088\n",
      "Failed /mnt/h/datasets/mmCIF/a0/5a0l.cif: Too long 874\n",
      "Failed /mnt/h/datasets/mmCIF/a0/5a0m.cif: Too long 578\n",
      "Failed /mnt/h/datasets/mmCIF/a0/5a0n.cif: Too long 450\n"
     ]
    },
    {
     "name": "stderr",
     "output_type": "stream",
     "text": [
      "/home/nwoodall/miniconda3/envs/se33/lib/python3.9/site-packages/Bio/PDB/StructureBuilder.py:89: PDBConstructionWarning: WARNING: Chain B is discontinuous at line 3084.\n",
      "  warnings.warn(\n",
      "/home/nwoodall/miniconda3/envs/se33/lib/python3.9/site-packages/Bio/PDB/StructureBuilder.py:89: PDBConstructionWarning: WARNING: Chain S is discontinuous at line 3108.\n",
      "  warnings.warn(\n"
     ]
    },
    {
     "name": "stdout",
     "output_type": "stream",
     "text": [
      "Finished /mnt/h/datasets/mmCIF/a0/5a0o.cif in 1.26s\n",
      "Failed /mnt/h/datasets/mmCIF/a0/5a0p.cif: Too long 924\n",
      "Failed /mnt/h/datasets/mmCIF/a0/5a0q.cif: Too high resolution 3.5\n",
      "Failed /mnt/h/datasets/mmCIF/a0/5a0r.cif: Too long 854\n",
      "Failed /mnt/h/datasets/mmCIF/a0/5a0s.cif: Too long 499\n",
      "Failed /mnt/h/datasets/mmCIF/a0/5a0t.cif: Too long 1481\n",
      "Failed /mnt/h/datasets/mmCIF/a0/5a0u.cif: Too long 8329\n",
      "Failed /mnt/h/datasets/mmCIF/a0/5a0v.cif: Too long 997\n",
      "Failed /mnt/h/datasets/mmCIF/a0/5a0w.cif: Too long 1098\n",
      "Failed /mnt/h/datasets/mmCIF/a0/5a0x.cif: Too long 833\n",
      "Failed /mnt/h/datasets/mmCIF/a0/5a0y.cif: Too long 5298\n",
      "Failed /mnt/h/datasets/mmCIF/a0/5a0z.cif: Too high resolution 3.0\n",
      "Failed /mnt/h/datasets/mmCIF/a0/6a00.cif: Too long 643\n",
      "Failed /mnt/h/datasets/mmCIF/a0/6a01.cif: Too long 621\n",
      "Failed /mnt/h/datasets/mmCIF/a0/6a02.cif: Too long 368\n",
      "Failed /mnt/h/datasets/mmCIF/a0/6a03.cif: Too long 431\n",
      "Failed /mnt/h/datasets/mmCIF/a0/6a04.cif: Too long 494\n",
      "Failed /mnt/h/datasets/mmCIF/a0/6a05.cif: Too long 405\n",
      "Failed /mnt/h/datasets/mmCIF/a0/6a06.cif: Too long 607\n",
      "Failed /mnt/h/datasets/mmCIF/a0/6a07.cif: Too long 393\n",
      "Failed /mnt/h/datasets/mmCIF/a0/6a08.cif: Too long 667\n",
      "Failed /mnt/h/datasets/mmCIF/a0/6a09.cif: Too long 1961\n",
      "Finished /mnt/h/datasets/mmCIF/a0/6a0a.cif in 0.15s\n"
     ]
    },
    {
     "name": "stderr",
     "output_type": "stream",
     "text": [
      "/home/nwoodall/miniconda3/envs/se33/lib/python3.9/site-packages/Bio/PDB/StructureBuilder.py:89: PDBConstructionWarning: WARNING: Chain A is discontinuous at line 581.\n",
      "  warnings.warn(\n",
      "/home/nwoodall/miniconda3/envs/se33/lib/python3.9/site-packages/Bio/PDB/StructureBuilder.py:89: PDBConstructionWarning: WARNING: Chain B is discontinuous at line 620.\n",
      "  warnings.warn(\n",
      "/home/nwoodall/miniconda3/envs/se33/lib/python3.9/site-packages/Bio/PDB/StructureBuilder.py:89: PDBConstructionWarning: WARNING: Chain C is discontinuous at line 672.\n",
      "  warnings.warn(\n"
     ]
    },
    {
     "name": "stdout",
     "output_type": "stream",
     "text": [
      "Failed /mnt/h/datasets/mmCIF/a0/6a0b.cif: Too long 723\n",
      "Finished /mnt/h/datasets/mmCIF/a0/6a0c.cif in 0.13s\n"
     ]
    },
    {
     "name": "stderr",
     "output_type": "stream",
     "text": [
      "/home/nwoodall/miniconda3/envs/se33/lib/python3.9/site-packages/Bio/PDB/StructureBuilder.py:89: PDBConstructionWarning: WARNING: Chain A is discontinuous at line 577.\n",
      "  warnings.warn(\n",
      "/home/nwoodall/miniconda3/envs/se33/lib/python3.9/site-packages/Bio/PDB/StructureBuilder.py:89: PDBConstructionWarning: WARNING: Chain B is discontinuous at line 623.\n",
      "  warnings.warn(\n",
      "/home/nwoodall/miniconda3/envs/se33/lib/python3.9/site-packages/Bio/PDB/StructureBuilder.py:89: PDBConstructionWarning: WARNING: Chain C is discontinuous at line 664.\n",
      "  warnings.warn(\n"
     ]
    },
    {
     "name": "stdout",
     "output_type": "stream",
     "text": [
      "Failed /mnt/h/datasets/mmCIF/a0/6a0d.cif: Too long 633\n",
      "Failed /mnt/h/datasets/mmCIF/a0/6a0e.cif: Too long 1208\n",
      "Failed /mnt/h/datasets/mmCIF/a0/6a0f.cif: Too long 854\n",
      "Failed /mnt/h/datasets/mmCIF/a0/6a0g.cif: Too long 621\n",
      "Failed /mnt/h/datasets/mmCIF/a0/6a0h.cif: Too high resolution 3.2\n",
      "Failed /mnt/h/datasets/mmCIF/a0/6a0i.cif: Too long 1076\n",
      "Failed /mnt/h/datasets/mmCIF/a0/6a0j.cif: Too long 1060\n",
      "Failed /mnt/h/datasets/mmCIF/a0/6a0k.cif: Too long 1283\n",
      "Failed /mnt/h/datasets/mmCIF/a0/6a0l.cif: Too long 561\n",
      "Failed /mnt/h/datasets/mmCIF/a0/6a0m.cif: Too long 609\n",
      "Failed /mnt/h/datasets/mmCIF/a0/6a0n.cif: Too long 818\n",
      "Failed /mnt/h/datasets/mmCIF/a0/6a0o.cif: Too long 715\n",
      "Failed /mnt/h/datasets/mmCIF/a0/6a0p.cif: Too long 643\n",
      "Failed /mnt/h/datasets/mmCIF/a0/6a0q.cif: Too long 763\n",
      "Failed /mnt/h/datasets/mmCIF/a0/6a0r.cif: Too long 1446\n",
      "Failed /mnt/h/datasets/mmCIF/a0/6a0s.cif: Too long 1219\n",
      "Failed /mnt/h/datasets/mmCIF/a0/6a0t.cif: Too long 1595\n",
      "Failed /mnt/h/datasets/mmCIF/a0/6a0u.cif: Too long 1212\n",
      "Failed /mnt/h/datasets/mmCIF/a0/6a0v.cif: Too long 738\n",
      "Failed /mnt/h/datasets/mmCIF/a0/6a0w.cif: Too long 502\n",
      "Failed /mnt/h/datasets/mmCIF/a0/6a0x.cif: Too long 2143\n",
      "Failed /mnt/h/datasets/mmCIF/a0/6a0y.cif: Too long 700\n",
      "Failed /mnt/h/datasets/mmCIF/a0/6a0z.cif: Too long 1007\n",
      "Failed /mnt/h/datasets/mmCIF/a0/7a00.cif: Too long 401\n",
      "Failed /mnt/h/datasets/mmCIF/a0/7a01.cif: Too high resolution 3.6\n",
      "Failed /mnt/h/datasets/mmCIF/a0/7a02.cif: Too high resolution 3.0\n",
      "Failed /mnt/h/datasets/mmCIF/a0/7a03.cif: Too long 1580\n",
      "Failed /mnt/h/datasets/mmCIF/a0/7a04.cif: Too long 1097\n",
      "Failed /mnt/h/datasets/mmCIF/a0/7a05.cif: Invalid resolution 0.0\n",
      "Failed /mnt/h/datasets/mmCIF/a0/7a06.cif: Too long 726\n",
      "Failed /mnt/h/datasets/mmCIF/a0/7a08.cif: Too high resolution 3.11\n",
      "Failed /mnt/h/datasets/mmCIF/a0/7a09.cif: Too high resolution 3.5\n",
      "Failed /mnt/h/datasets/mmCIF/a0/7a0a.cif: Too long 1919\n",
      "Failed /mnt/h/datasets/mmCIF/a0/7a0b.cif: Too long 565\n",
      "Failed /mnt/h/datasets/mmCIF/a0/7a0c.cif: Too long 1819\n",
      "Failed /mnt/h/datasets/mmCIF/a0/7a0d.cif: Too long 716\n",
      "Failed /mnt/h/datasets/mmCIF/a0/7a0e.cif: Too long 577\n",
      "Failed /mnt/h/datasets/mmCIF/a0/7a0f.cif: Too long 434\n",
      "Failed /mnt/h/datasets/mmCIF/a0/7a0g.cif: Too high resolution 6.979\n",
      "Failed /mnt/h/datasets/mmCIF/a0/7a0h.cif: Too long 716\n",
      "Failed /mnt/h/datasets/mmCIF/a0/7a0i.cif: Invalid resolution 0.0\n",
      "Failed /mnt/h/datasets/mmCIF/a0/7a0j.cif: Too long 992\n",
      "Failed /mnt/h/datasets/mmCIF/a0/7a0k.cif: Too long 3094\n",
      "Failed /mnt/h/datasets/mmCIF/a0/7a0l.cif: Too long 649\n",
      "Failed /mnt/h/datasets/mmCIF/a0/7a0m.cif: Too long 1480\n",
      "Failed /mnt/h/datasets/mmCIF/a0/7a0n.cif: Too high resolution 4.3\n",
      "Failed /mnt/h/datasets/mmCIF/a0/7a0o.cif: Invalid resolution 0.0\n",
      "Failed /mnt/h/datasets/mmCIF/a0/7a0p.cif: Too long 1169\n",
      "Failed /mnt/h/datasets/mmCIF/a0/7a0q.cif: Too long 674\n",
      "Failed /mnt/h/datasets/mmCIF/a0/7a0r.cif: Too high resolution 3.3\n",
      "Failed /mnt/h/datasets/mmCIF/a0/7a0s.cif: Too high resolution 3.21\n",
      "Failed /mnt/h/datasets/mmCIF/a0/7a0t.cif: Too long 1106\n",
      "Failed /mnt/h/datasets/mmCIF/a0/7a0u.cif: Too long 1935\n",
      "Failed /mnt/h/datasets/mmCIF/a0/7a0v.cif: Too long 1700\n",
      "Failed /mnt/h/datasets/mmCIF/a0/7a0w.cif: Too long 1844\n",
      "Failed /mnt/h/datasets/mmCIF/a0/7a0x.cif: Too long 1784\n",
      "Failed /mnt/h/datasets/mmCIF/a0/7a0y.cif: Too long 1757\n",
      "Failed /mnt/h/datasets/mmCIF/a0/7a0z.cif: Too long 1171\n",
      "Failed /mnt/h/datasets/mmCIF/a0/8a00.cif: Too long 408\n",
      "Failed /mnt/h/datasets/mmCIF/a0/8a01.cif: Too high resolution 3.2\n",
      "Failed /mnt/h/datasets/mmCIF/a0/8a02.cif: Too high resolution 3.2\n",
      "Failed /mnt/h/datasets/mmCIF/a0/8a03.cif: Too high resolution 3.2\n",
      "Failed /mnt/h/datasets/mmCIF/a0/8a04.cif: Too high resolution 3.2\n",
      "Failed /mnt/h/datasets/mmCIF/a0/8a05.cif: Too high resolution 3.4\n",
      "Failed /mnt/h/datasets/mmCIF/a0/8a06.cif: Too high resolution 4.0\n",
      "Failed /mnt/h/datasets/mmCIF/a0/8a07.cif: Too long 437\n",
      "Failed /mnt/h/datasets/mmCIF/a0/8a08.cif: Too long 462\n"
     ]
    },
    {
     "name": "stderr",
     "output_type": "stream",
     "text": [
      "/home/nwoodall/miniconda3/envs/se33/lib/python3.9/site-packages/Bio/PDB/StructureBuilder.py:89: PDBConstructionWarning: WARNING: Chain A is discontinuous at line 463.\n",
      "  warnings.warn(\n",
      "/home/nwoodall/miniconda3/envs/se33/lib/python3.9/site-packages/Bio/PDB/StructureBuilder.py:89: PDBConstructionWarning: WARNING: Chain B is discontinuous at line 491.\n",
      "  warnings.warn(\n"
     ]
    },
    {
     "name": "stdout",
     "output_type": "stream",
     "text": [
      "Finished /mnt/h/datasets/mmCIF/a0/8a09.cif in 0.09s\n",
      "Failed /mnt/h/datasets/mmCIF/a0/8a0a.cif: Too long 640\n",
      "Failed /mnt/h/datasets/mmCIF/a0/8a0b.cif: Too long 1935\n",
      "Failed /mnt/h/datasets/mmCIF/a0/8a0c.cif: Too long 2687\n",
      "Failed /mnt/h/datasets/mmCIF/a0/8a0d.cif: Too high resolution 3.685\n",
      "Failed /mnt/h/datasets/mmCIF/a0/8a0e.cif: Too long 1533\n",
      "Failed /mnt/h/datasets/mmCIF/a0/8a0f.cif: Too long 1102\n",
      "Failed /mnt/h/datasets/mmCIF/a0/8a0g.cif: Too long 990\n",
      "Failed /mnt/h/datasets/mmCIF/a0/8a0h.cif: Too long 731\n",
      "Failed /mnt/h/datasets/mmCIF/a0/8a0i.cif: Too long 464\n",
      "Failed /mnt/h/datasets/mmCIF/a0/8a0j.cif: Too long 625\n",
      "Failed /mnt/h/datasets/mmCIF/a0/8a0k.cif: Too long 867\n",
      "Failed /mnt/h/datasets/mmCIF/a0/8a0l.cif: Too long 2832\n",
      "Failed /mnt/h/datasets/mmCIF/a0/8a0m.cif: Too high resolution 3.6\n",
      "Failed /mnt/h/datasets/mmCIF/a0/8a0n.cif: Too long 607\n",
      "Failed /mnt/h/datasets/mmCIF/a0/8a0o.cif: Too long 390\n",
      "Failed /mnt/h/datasets/mmCIF/a0/8a0p.cif: Too long 419\n",
      "Failed /mnt/h/datasets/mmCIF/a0/8a0q.cif: Too long 334\n",
      "Failed /mnt/h/datasets/mmCIF/a0/8a0r.cif: Too long 445\n",
      "Finished /mnt/h/datasets/mmCIF/a0/8a0s.cif in 0.18s\n",
      "Failed /mnt/h/datasets/mmCIF/a0/8a0t.cif: Too long 453\n",
      "Failed /mnt/h/datasets/mmCIF/a0/8a0u.cif: Too long 1074\n",
      "Failed /mnt/h/datasets/mmCIF/a0/8a0v.cif: Too long 1107\n"
     ]
    },
    {
     "name": "stderr",
     "output_type": "stream",
     "text": [
      "/home/nwoodall/miniconda3/envs/se33/lib/python3.9/site-packages/Bio/PDB/StructureBuilder.py:89: PDBConstructionWarning: WARNING: Chain A is discontinuous at line 1795.\n",
      "  warnings.warn(\n",
      "/home/nwoodall/miniconda3/envs/se33/lib/python3.9/site-packages/Bio/PDB/StructureBuilder.py:89: PDBConstructionWarning: WARNING: Chain B is discontinuous at line 1834.\n",
      "  warnings.warn(\n",
      "/home/nwoodall/miniconda3/envs/se33/lib/python3.9/site-packages/Bio/PDB/StructureBuilder.py:89: PDBConstructionWarning: WARNING: Chain C is discontinuous at line 1859.\n",
      "  warnings.warn(\n",
      "/home/nwoodall/miniconda3/envs/se33/lib/python3.9/site-packages/Bio/PDB/StructureBuilder.py:89: PDBConstructionWarning: WARNING: Chain D is discontinuous at line 1880.\n",
      "  warnings.warn(\n"
     ]
    },
    {
     "name": "stdout",
     "output_type": "stream",
     "text": [
      "Finished /mnt/h/datasets/mmCIF/a0/8a0w.cif in 0.27s\n",
      "Failed /mnt/h/datasets/mmCIF/a0/8a0x.cif: Too high resolution 3.29\n",
      "Failed /mnt/h/datasets/mmCIF/a0/8a0y.cif: Too high resolution 3.5\n",
      "Failed /mnt/h/datasets/mmCIF/a0/8a0z.cif: Too long 768\n"
     ]
    },
    {
     "name": "stderr",
     "output_type": "stream",
     "text": [
      "\r",
      " 12%|█████████                                                                    | 125/1060 [03:24<11:32:07, 44.41s/it]"
     ]
    },
    {
     "name": "stdout",
     "output_type": "stream",
     "text": [
      "Gathering mmCIF paths\n"
     ]
    },
    {
     "name": "stderr",
     "output_type": "stream",
     "text": [
      "\n",
      "  0%|                                                                                           | 0/258 [00:00<?, ?it/s]\u001b[A\n",
      " 30%|████████████████████████▍                                                        | 78/258 [00:00<00:00, 773.31it/s]\u001b[A\n",
      " 61%|████████████████████████████████████████████████▉                               | 158/258 [00:00<00:00, 786.65it/s]\u001b[A\n",
      "100%|████████████████████████████████████████████████████████████████████████████████| 258/258 [00:00<00:00, 770.28it/s]\u001b[A\n"
     ]
    },
    {
     "name": "stdout",
     "output_type": "stream",
     "text": [
      "Processing 0 files our of 0\n",
      "Failed /mnt/h/datasets/mmCIF/a1/1a11.cif: Invalid resolution 0.0\n",
      "Failed /mnt/h/datasets/mmCIF/a1/1a12.cif: Too long 2087\n",
      "Failed /mnt/h/datasets/mmCIF/a1/1a13.cif: Invalid resolution 0.0\n",
      "Failed /mnt/h/datasets/mmCIF/a1/1a14.cif: Too long 622\n",
      "Finished /mnt/h/datasets/mmCIF/a1/1a15.cif in 0.12s\n"
     ]
    },
    {
     "name": "stderr",
     "output_type": "stream",
     "text": [
      "/home/nwoodall/miniconda3/envs/se33/lib/python3.9/site-packages/Bio/PDB/StructureBuilder.py:89: PDBConstructionWarning: WARNING: Chain A is discontinuous at line 992.\n",
      "  warnings.warn(\n",
      "/home/nwoodall/miniconda3/envs/se33/lib/python3.9/site-packages/Bio/PDB/StructureBuilder.py:89: PDBConstructionWarning: WARNING: Chain B is discontinuous at line 1037.\n",
      "  warnings.warn(\n"
     ]
    },
    {
     "name": "stdout",
     "output_type": "stream",
     "text": [
      "Failed /mnt/h/datasets/mmCIF/a1/1a16.cif: Too long 789\n",
      "Finished /mnt/h/datasets/mmCIF/a1/1a17.cif in 0.14s\n",
      "Finished /mnt/h/datasets/mmCIF/a1/1a18.cif in 0.11s\n",
      "Finished /mnt/h/datasets/mmCIF/a1/1a19.cif in 0.59s\n",
      "Failed /mnt/h/datasets/mmCIF/a1/1a1a.cif: Too long 410\n"
     ]
    },
    {
     "name": "stderr",
     "output_type": "stream",
     "text": [
      "/home/nwoodall/miniconda3/envs/se33/lib/python3.9/site-packages/Bio/PDB/StructureBuilder.py:89: PDBConstructionWarning: WARNING: Chain A is discontinuous at line 2100.\n",
      "  warnings.warn(\n",
      "/home/nwoodall/miniconda3/envs/se33/lib/python3.9/site-packages/Bio/PDB/StructureBuilder.py:89: PDBConstructionWarning: WARNING: Chain C is discontinuous at line 2124.\n",
      "  warnings.warn(\n",
      "/home/nwoodall/miniconda3/envs/se33/lib/python3.9/site-packages/Bio/PDB/StructureBuilder.py:89: PDBConstructionWarning: WARNING: Chain B is discontinuous at line 2128.\n",
      "  warnings.warn(\n",
      "/home/nwoodall/miniconda3/envs/se33/lib/python3.9/site-packages/Bio/PDB/StructureBuilder.py:89: PDBConstructionWarning: WARNING: Chain D is discontinuous at line 2154.\n",
      "  warnings.warn(\n"
     ]
    },
    {
     "name": "stdout",
     "output_type": "stream",
     "text": [
      "Finished /mnt/h/datasets/mmCIF/a1/1a1b.cif in 0.20s\n"
     ]
    },
    {
     "name": "stderr",
     "output_type": "stream",
     "text": [
      "/home/nwoodall/miniconda3/envs/se33/lib/python3.9/site-packages/Bio/PDB/StructureBuilder.py:89: PDBConstructionWarning: WARNING: Chain A is discontinuous at line 2116.\n",
      "  warnings.warn(\n",
      "/home/nwoodall/miniconda3/envs/se33/lib/python3.9/site-packages/Bio/PDB/StructureBuilder.py:89: PDBConstructionWarning: WARNING: Chain B is discontinuous at line 2179.\n",
      "  warnings.warn(\n",
      "/home/nwoodall/miniconda3/envs/se33/lib/python3.9/site-packages/Bio/PDB/StructureBuilder.py:89: PDBConstructionWarning: WARNING: Chain C is discontinuous at line 2227.\n",
      "  warnings.warn(\n",
      "/home/nwoodall/miniconda3/envs/se33/lib/python3.9/site-packages/Bio/PDB/StructureBuilder.py:89: PDBConstructionWarning: WARNING: Chain D is discontinuous at line 2236.\n",
      "  warnings.warn(\n"
     ]
    },
    {
     "name": "stdout",
     "output_type": "stream",
     "text": [
      "Finished /mnt/h/datasets/mmCIF/a1/1a1c.cif in 0.22s\n",
      "Failed /mnt/h/datasets/mmCIF/a1/1a1d.cif: Invalid resolution 0.0\n"
     ]
    },
    {
     "name": "stderr",
     "output_type": "stream",
     "text": [
      "/home/nwoodall/miniconda3/envs/se33/lib/python3.9/site-packages/Bio/PDB/StructureBuilder.py:89: PDBConstructionWarning: WARNING: Chain A is discontinuous at line 2113.\n",
      "  warnings.warn(\n",
      "/home/nwoodall/miniconda3/envs/se33/lib/python3.9/site-packages/Bio/PDB/StructureBuilder.py:89: PDBConstructionWarning: WARNING: Chain B is discontinuous at line 2188.\n",
      "  warnings.warn(\n",
      "/home/nwoodall/miniconda3/envs/se33/lib/python3.9/site-packages/Bio/PDB/StructureBuilder.py:89: PDBConstructionWarning: WARNING: Chain C is discontinuous at line 2233.\n",
      "  warnings.warn(\n",
      "/home/nwoodall/miniconda3/envs/se33/lib/python3.9/site-packages/Bio/PDB/StructureBuilder.py:89: PDBConstructionWarning: WARNING: Chain D is discontinuous at line 2239.\n",
      "  warnings.warn(\n",
      "/home/nwoodall/miniconda3/envs/se33/lib/python3.9/site-packages/Bio/PDB/StructureBuilder.py:89: PDBConstructionWarning: WARNING: Chain B is discontinuous at line 1146.\n",
      "  warnings.warn(\n",
      "/home/nwoodall/miniconda3/envs/se33/lib/python3.9/site-packages/Bio/PDB/StructureBuilder.py:89: PDBConstructionWarning: WARNING: Chain C is discontinuous at line 1169.\n",
      "  warnings.warn(\n",
      "/home/nwoodall/miniconda3/envs/se33/lib/python3.9/site-packages/Bio/PDB/StructureBuilder.py:89: PDBConstructionWarning: WARNING: Chain A is discontinuous at line 1190.\n",
      "  warnings.warn(\n"
     ]
    },
    {
     "name": "stdout",
     "output_type": "stream",
     "text": [
      "Finished /mnt/h/datasets/mmCIF/a1/1a1e.cif in 0.21s\n",
      "Finished /mnt/h/datasets/mmCIF/a1/1a1f.cif in 0.15s\n"
     ]
    },
    {
     "name": "stderr",
     "output_type": "stream",
     "text": [
      "/home/nwoodall/miniconda3/envs/se33/lib/python3.9/site-packages/Bio/PDB/StructureBuilder.py:89: PDBConstructionWarning: WARNING: Chain B is discontinuous at line 1143.\n",
      "  warnings.warn(\n",
      "/home/nwoodall/miniconda3/envs/se33/lib/python3.9/site-packages/Bio/PDB/StructureBuilder.py:89: PDBConstructionWarning: WARNING: Chain C is discontinuous at line 1182.\n",
      "  warnings.warn(\n",
      "/home/nwoodall/miniconda3/envs/se33/lib/python3.9/site-packages/Bio/PDB/StructureBuilder.py:89: PDBConstructionWarning: WARNING: Chain A is discontinuous at line 1212.\n",
      "  warnings.warn(\n",
      "/home/nwoodall/miniconda3/envs/se33/lib/python3.9/site-packages/Bio/PDB/StructureBuilder.py:89: PDBConstructionWarning: WARNING: Chain B is discontinuous at line 1162.\n",
      "  warnings.warn(\n",
      "/home/nwoodall/miniconda3/envs/se33/lib/python3.9/site-packages/Bio/PDB/StructureBuilder.py:89: PDBConstructionWarning: WARNING: Chain C is discontinuous at line 1202.\n",
      "  warnings.warn(\n",
      "/home/nwoodall/miniconda3/envs/se33/lib/python3.9/site-packages/Bio/PDB/StructureBuilder.py:89: PDBConstructionWarning: WARNING: Chain A is discontinuous at line 1228.\n",
      "  warnings.warn(\n"
     ]
    },
    {
     "name": "stdout",
     "output_type": "stream",
     "text": [
      "Finished /mnt/h/datasets/mmCIF/a1/1a1g.cif in 0.47s\n",
      "Finished /mnt/h/datasets/mmCIF/a1/1a1h.cif in 0.16s\n",
      "Failed /mnt/h/datasets/mmCIF/a1/1a1i.cif: Too long 365\n",
      "Finished /mnt/h/datasets/mmCIF/a1/1a1j.cif in 0.14s\n"
     ]
    },
    {
     "name": "stderr",
     "output_type": "stream",
     "text": [
      "/home/nwoodall/miniconda3/envs/se33/lib/python3.9/site-packages/Bio/PDB/StructureBuilder.py:89: PDBConstructionWarning: WARNING: Chain B is discontinuous at line 1160.\n",
      "  warnings.warn(\n",
      "/home/nwoodall/miniconda3/envs/se33/lib/python3.9/site-packages/Bio/PDB/StructureBuilder.py:89: PDBConstructionWarning: WARNING: Chain C is discontinuous at line 1192.\n",
      "  warnings.warn(\n",
      "/home/nwoodall/miniconda3/envs/se33/lib/python3.9/site-packages/Bio/PDB/StructureBuilder.py:89: PDBConstructionWarning: WARNING: Chain A is discontinuous at line 1219.\n",
      "  warnings.warn(\n",
      "/home/nwoodall/miniconda3/envs/se33/lib/python3.9/site-packages/Bio/PDB/StructureBuilder.py:89: PDBConstructionWarning: WARNING: Chain B is discontinuous at line 1156.\n",
      "  warnings.warn(\n",
      "/home/nwoodall/miniconda3/envs/se33/lib/python3.9/site-packages/Bio/PDB/StructureBuilder.py:89: PDBConstructionWarning: WARNING: Chain C is discontinuous at line 1182.\n",
      "  warnings.warn(\n",
      "/home/nwoodall/miniconda3/envs/se33/lib/python3.9/site-packages/Bio/PDB/StructureBuilder.py:89: PDBConstructionWarning: WARNING: Chain A is discontinuous at line 1203.\n",
      "  warnings.warn(\n"
     ]
    },
    {
     "name": "stdout",
     "output_type": "stream",
     "text": [
      "Finished /mnt/h/datasets/mmCIF/a1/1a1k.cif in 0.14s\n",
      "Finished /mnt/h/datasets/mmCIF/a1/1a1l.cif in 0.14s\n"
     ]
    },
    {
     "name": "stderr",
     "output_type": "stream",
     "text": [
      "/home/nwoodall/miniconda3/envs/se33/lib/python3.9/site-packages/Bio/PDB/StructureBuilder.py:89: PDBConstructionWarning: WARNING: Chain B is discontinuous at line 1167.\n",
      "  warnings.warn(\n",
      "/home/nwoodall/miniconda3/envs/se33/lib/python3.9/site-packages/Bio/PDB/StructureBuilder.py:89: PDBConstructionWarning: WARNING: Chain C is discontinuous at line 1188.\n",
      "  warnings.warn(\n",
      "/home/nwoodall/miniconda3/envs/se33/lib/python3.9/site-packages/Bio/PDB/StructureBuilder.py:89: PDBConstructionWarning: WARNING: Chain A is discontinuous at line 1202.\n",
      "  warnings.warn(\n"
     ]
    },
    {
     "name": "stdout",
     "output_type": "stream",
     "text": [
      "Failed /mnt/h/datasets/mmCIF/a1/1a1m.cif: Too long 573\n",
      "Failed /mnt/h/datasets/mmCIF/a1/1a1n.cif: Too long 741\n",
      "Failed /mnt/h/datasets/mmCIF/a1/1a1o.cif: Too long 497\n",
      "Failed /mnt/h/datasets/mmCIF/a1/1a1p.cif: Invalid resolution 0.0\n",
      "Failed /mnt/h/datasets/mmCIF/a1/1a1q.cif: Too long 534\n",
      "Failed /mnt/h/datasets/mmCIF/a1/1a1r.cif: Too long 500\n",
      "Failed /mnt/h/datasets/mmCIF/a1/1a1s.cif: Too long 313\n",
      "Failed /mnt/h/datasets/mmCIF/a1/1a1t.cif: Invalid resolution 0.0\n",
      "Failed /mnt/h/datasets/mmCIF/a1/1a1u.cif: Invalid resolution 0.0\n",
      "Failed /mnt/h/datasets/mmCIF/a1/1a1v.cif: Too long 599\n",
      "Failed /mnt/h/datasets/mmCIF/a1/1a1w.cif: Invalid resolution 0.0\n",
      "Finished /mnt/h/datasets/mmCIF/a1/1a1x.cif in 0.31s\n",
      "Failed /mnt/h/datasets/mmCIF/a1/1a1z.cif: Invalid resolution 0.0\n",
      "Failed /mnt/h/datasets/mmCIF/a1/2a10.cif: Too long 932\n",
      "Failed /mnt/h/datasets/mmCIF/a1/2a11.cif: Too long 317\n",
      "Failed /mnt/h/datasets/mmCIF/a1/2a13.cif: Too long 482\n",
      "Failed /mnt/h/datasets/mmCIF/a1/2a14.cif: Too long 569\n",
      "Failed /mnt/h/datasets/mmCIF/a1/2a15.cif: Too long 324\n",
      "Failed /mnt/h/datasets/mmCIF/a1/2a18.cif: Too long 395\n",
      "Failed /mnt/h/datasets/mmCIF/a1/2a19.cif: Too long 711\n",
      "Failed /mnt/h/datasets/mmCIF/a1/2a1a.cif: Too long 446\n",
      "Failed /mnt/h/datasets/mmCIF/a1/2a1b.cif: Too long 1212\n",
      "Failed /mnt/h/datasets/mmCIF/a1/2a1c.cif: Invalid resolution 0.0\n",
      "Failed /mnt/h/datasets/mmCIF/a1/2a1d.cif: Too high resolution 3.4\n",
      "Failed /mnt/h/datasets/mmCIF/a1/2a1e.cif: Too long 481\n",
      "Failed /mnt/h/datasets/mmCIF/a1/2a1f.cif: Too long 2295\n",
      "Failed /mnt/h/datasets/mmCIF/a1/2a1h.cif: Too long 1072\n",
      "Finished /mnt/h/datasets/mmCIF/a1/2a1i.cif in 0.14s\n",
      "Finished /mnt/h/datasets/mmCIF/a1/2a1j.cif in 0.13s\n",
      "Failed /mnt/h/datasets/mmCIF/a1/2a1k.cif: Too long 865\n",
      "Failed /mnt/h/datasets/mmCIF/a1/2a1l.cif: Too long 425\n",
      "Failed /mnt/h/datasets/mmCIF/a1/2a1m.cif: Too long 1255\n",
      "Failed /mnt/h/datasets/mmCIF/a1/2a1n.cif: Too long 1329\n",
      "Failed /mnt/h/datasets/mmCIF/a1/2a1o.cif: Too long 1326\n",
      "Failed /mnt/h/datasets/mmCIF/a1/2a1r.cif: Too long 751\n",
      "Failed /mnt/h/datasets/mmCIF/a1/2a1s.cif: Too long 1805\n",
      "Failed /mnt/h/datasets/mmCIF/a1/2a1t.cif: Too long 2170\n",
      "Failed /mnt/h/datasets/mmCIF/a1/2a1u.cif: Too long 839\n",
      "Finished /mnt/h/datasets/mmCIF/a1/2a1v.cif in 0.14s\n",
      "Failed /mnt/h/datasets/mmCIF/a1/2a1w.cif: Too long 1013\n",
      "Finished /mnt/h/datasets/mmCIF/a1/2a1x.cif in 0.20s\n",
      "Failed /mnt/h/datasets/mmCIF/a1/2a1y.cif: Too long 476\n",
      "Finished /mnt/h/datasets/mmCIF/a1/3a10.cif in 0.12s\n",
      "Failed /mnt/h/datasets/mmCIF/a1/3a11.cif: Too long 2231\n",
      "Failed /mnt/h/datasets/mmCIF/a1/3a12.cif: Too long 6692\n",
      "Failed /mnt/h/datasets/mmCIF/a1/3a13.cif: Too long 6333\n",
      "Failed /mnt/h/datasets/mmCIF/a1/3a14.cif: Too long 913\n",
      "Failed /mnt/h/datasets/mmCIF/a1/3a15.cif: Too long 2733\n",
      "Failed /mnt/h/datasets/mmCIF/a1/3a16.cif: Too long 2253\n",
      "Failed /mnt/h/datasets/mmCIF/a1/3a17.cif: Too long 3478\n",
      "Failed /mnt/h/datasets/mmCIF/a1/3a18.cif: Too long 2287\n",
      "Failed /mnt/h/datasets/mmCIF/a1/3a19.cif: Too long 389\n",
      "Finished /mnt/h/datasets/mmCIF/a1/3a1a.cif in 0.13s\n",
      "Finished /mnt/h/datasets/mmCIF/a1/3a1b.cif in 0.14s\n",
      "Failed /mnt/h/datasets/mmCIF/a1/3a1c.cif: Too long 1016\n",
      "Failed /mnt/h/datasets/mmCIF/a1/3a1d.cif: Too long 1099\n",
      "Failed /mnt/h/datasets/mmCIF/a1/3a1e.cif: Too long 860\n",
      "Finished /mnt/h/datasets/mmCIF/a1/3a1f.cif in 0.15s\n",
      "Finished /mnt/h/datasets/mmCIF/a1/3a1g.cif in 0.19s\n"
     ]
    },
    {
     "name": "stderr",
     "output_type": "stream",
     "text": [
      "/home/nwoodall/miniconda3/envs/se33/lib/python3.9/site-packages/Bio/PDB/StructureBuilder.py:89: PDBConstructionWarning: WARNING: Chain A is discontinuous at line 1826.\n",
      "  warnings.warn(\n",
      "/home/nwoodall/miniconda3/envs/se33/lib/python3.9/site-packages/Bio/PDB/StructureBuilder.py:89: PDBConstructionWarning: WARNING: Chain B is discontinuous at line 1851.\n",
      "  warnings.warn(\n",
      "/home/nwoodall/miniconda3/envs/se33/lib/python3.9/site-packages/Bio/PDB/StructureBuilder.py:89: PDBConstructionWarning: WARNING: Chain C is discontinuous at line 1864.\n",
      "  warnings.warn(\n",
      "/home/nwoodall/miniconda3/envs/se33/lib/python3.9/site-packages/Bio/PDB/StructureBuilder.py:89: PDBConstructionWarning: WARNING: Chain D is discontinuous at line 1878.\n",
      "  warnings.warn(\n"
     ]
    },
    {
     "name": "stdout",
     "output_type": "stream",
     "text": [
      "Failed /mnt/h/datasets/mmCIF/a1/3a1h.cif: Too long 365\n",
      "Failed /mnt/h/datasets/mmCIF/a1/3a1i.cif: Too long 729\n",
      "Failed /mnt/h/datasets/mmCIF/a1/3a1j.cif: Too long 985\n",
      "Failed /mnt/h/datasets/mmCIF/a1/3a1k.cif: Too long 678\n",
      "Failed /mnt/h/datasets/mmCIF/a1/3a1l.cif: Too long 549\n",
      "Failed /mnt/h/datasets/mmCIF/a1/3a1m.cif: Too long 969\n",
      "Failed /mnt/h/datasets/mmCIF/a1/3a1n.cif: Too long 884\n",
      "Failed /mnt/h/datasets/mmCIF/a1/3a1p.cif: Too long 899\n",
      "Failed /mnt/h/datasets/mmCIF/a1/3a1q.cif: Too long 545\n",
      "Finished /mnt/h/datasets/mmCIF/a1/3a1r.cif in 0.20s\n",
      "Failed /mnt/h/datasets/mmCIF/a1/3a1s.cif: Too long 1056\n",
      "Failed /mnt/h/datasets/mmCIF/a1/3a1t.cif: Too long 434\n",
      "Failed /mnt/h/datasets/mmCIF/a1/3a1u.cif: Too long 960\n",
      "Failed /mnt/h/datasets/mmCIF/a1/3a1v.cif: Too long 633\n",
      "Finished /mnt/h/datasets/mmCIF/a1/3a1w.cif in 0.19s\n",
      "Failed /mnt/h/datasets/mmCIF/a1/3a1y.cif: Too long 988\n",
      "Failed /mnt/h/datasets/mmCIF/a1/3a1z.cif: Too long 990\n",
      "Failed /mnt/h/datasets/mmCIF/a1/4a10.cif: Too long 3201\n",
      "Failed /mnt/h/datasets/mmCIF/a1/4a11.cif: Too high resolution 3.3\n",
      "Failed /mnt/h/datasets/mmCIF/a1/4a12.cif: Too high resolution 3.15\n",
      "Failed /mnt/h/datasets/mmCIF/a1/4a13.cif: Too high resolution 11.3\n",
      "Failed /mnt/h/datasets/mmCIF/a1/4a14.cif: Too long 626\n",
      "Failed /mnt/h/datasets/mmCIF/a1/4a15.cif: Too long 739\n",
      "Failed /mnt/h/datasets/mmCIF/a1/4a16.cif: Too long 4511\n",
      "Failed /mnt/h/datasets/mmCIF/a1/4a1f.cif: Too long 738\n",
      "Failed /mnt/h/datasets/mmCIF/a1/4a1g.cif: Too long 770\n",
      "Failed /mnt/h/datasets/mmCIF/a1/4a1h.cif: Too long 611\n",
      "Failed /mnt/h/datasets/mmCIF/a1/4a1i.cif: Too long 2895\n",
      "Failed /mnt/h/datasets/mmCIF/a1/4a1j.cif: Too long 502\n",
      "Failed /mnt/h/datasets/mmCIF/a1/4a1k.cif: Too long 377\n",
      "Failed /mnt/h/datasets/mmCIF/a1/4a1m.cif: Invalid resolution 0.0\n",
      "Failed /mnt/h/datasets/mmCIF/a1/4a1n.cif: Too long 361\n",
      "Failed /mnt/h/datasets/mmCIF/a1/4a1o.cif: Too long 1312\n",
      "Failed /mnt/h/datasets/mmCIF/a1/4a1r.cif: Too long 894\n",
      "Failed /mnt/h/datasets/mmCIF/a1/4a1s.cif: Too long 1231\n",
      "Failed /mnt/h/datasets/mmCIF/a1/4a1t.cif: Too long 659\n",
      "Failed /mnt/h/datasets/mmCIF/a1/4a1u.cif: Too long 369\n",
      "Failed /mnt/h/datasets/mmCIF/a1/4a1v.cif: Too long 495\n",
      "Failed /mnt/h/datasets/mmCIF/a1/4a1w.cif: Too long 894\n",
      "Failed /mnt/h/datasets/mmCIF/a1/4a1x.cif: Too long 625\n",
      "Failed /mnt/h/datasets/mmCIF/a1/4a1y.cif: Too long 1496\n",
      "Failed /mnt/h/datasets/mmCIF/a1/4a1z.cif: Too long 824\n",
      "Failed /mnt/h/datasets/mmCIF/a1/5a10.cif: Too long 715\n",
      "Failed /mnt/h/datasets/mmCIF/a1/5a11.cif: Too long 727\n",
      "Failed /mnt/h/datasets/mmCIF/a1/5a12.cif: Too long 2973\n",
      "Failed /mnt/h/datasets/mmCIF/a1/5a13.cif: Too long 4543\n",
      "Failed /mnt/h/datasets/mmCIF/a1/5a14.cif: Too long 420\n",
      "Failed /mnt/h/datasets/mmCIF/a1/5a15.cif: Too long 1425\n",
      "Failed /mnt/h/datasets/mmCIF/a1/5a16.cif: Too long 2329\n",
      "Failed /mnt/h/datasets/mmCIF/a1/5a17.cif: Encountered errors {('5a17', ''): 'No protein chains found in this file.'}\n",
      "Failed /mnt/h/datasets/mmCIF/a1/5a18.cif: Encountered errors {('5a18', ''): 'No protein chains found in this file.'}\n",
      "Failed /mnt/h/datasets/mmCIF/a1/5a19.cif: Too long 523\n",
      "Failed /mnt/h/datasets/mmCIF/a1/5a1a.cif: Too long 4884\n",
      "Failed /mnt/h/datasets/mmCIF/a1/5a1f.cif: Too long 668\n",
      "Failed /mnt/h/datasets/mmCIF/a1/5a1g.cif: Too long 666\n",
      "Failed /mnt/h/datasets/mmCIF/a1/5a1h.cif: Too long 1342\n",
      "Failed /mnt/h/datasets/mmCIF/a1/5a1i.cif: Too long 907\n",
      "Failed /mnt/h/datasets/mmCIF/a1/5a1j.cif: Too long 368\n",
      "Failed /mnt/h/datasets/mmCIF/a1/5a1k.cif: Too long 788\n",
      "Failed /mnt/h/datasets/mmCIF/a1/5a1l.cif: Too long 1579\n",
      "Finished /mnt/h/datasets/mmCIF/a1/5a1m.cif in 0.16s\n",
      "Failed /mnt/h/datasets/mmCIF/a1/5a1n.cif: Too long 574\n",
      "Failed /mnt/h/datasets/mmCIF/a1/5a1p.cif: Too long 475\n"
     ]
    },
    {
     "name": "stderr",
     "output_type": "stream",
     "text": [
      "/home/nwoodall/miniconda3/envs/se33/lib/python3.9/site-packages/Bio/PDB/StructureBuilder.py:89: PDBConstructionWarning: WARNING: Chain A is discontinuous at line 1173.\n",
      "  warnings.warn(\n",
      "/home/nwoodall/miniconda3/envs/se33/lib/python3.9/site-packages/Bio/PDB/StructureBuilder.py:89: PDBConstructionWarning: WARNING: Chain B is discontinuous at line 1225.\n",
      "  warnings.warn(\n"
     ]
    },
    {
     "name": "stdout",
     "output_type": "stream",
     "text": [
      "Finished /mnt/h/datasets/mmCIF/a1/5a1q.cif in 0.72s\n",
      "Failed /mnt/h/datasets/mmCIF/a1/5a1r.cif: Too long 471\n",
      "Failed /mnt/h/datasets/mmCIF/a1/5a1s.cif: Too long 1816\n",
      "Failed /mnt/h/datasets/mmCIF/a1/5a1t.cif: Too long 1318\n",
      "Failed /mnt/h/datasets/mmCIF/a1/5a1u.cif: Too high resolution 13.0\n",
      "Failed /mnt/h/datasets/mmCIF/a1/5a1v.cif: Too high resolution 21.0\n",
      "Failed /mnt/h/datasets/mmCIF/a1/5a1w.cif: Too high resolution 18.0\n",
      "Failed /mnt/h/datasets/mmCIF/a1/5a1x.cif: Too high resolution 23.0\n",
      "Failed /mnt/h/datasets/mmCIF/a1/5a1y.cif: Too high resolution 21.0\n",
      "Failed /mnt/h/datasets/mmCIF/a1/5a1z.cif: Too high resolution 6.9\n",
      "Failed /mnt/h/datasets/mmCIF/a1/6a10.cif: Too long 1162\n",
      "Failed /mnt/h/datasets/mmCIF/a1/6a11.cif: Too long 693\n",
      "Failed /mnt/h/datasets/mmCIF/a1/6a12.cif: Too long 504\n",
      "Failed /mnt/h/datasets/mmCIF/a1/6a13.cif: Too long 644\n",
      "Failed /mnt/h/datasets/mmCIF/a1/6a15.cif: Too long 748\n",
      "Failed /mnt/h/datasets/mmCIF/a1/6a16.cif: Too long 787\n",
      "Failed /mnt/h/datasets/mmCIF/a1/6a17.cif: Too long 556\n",
      "Failed /mnt/h/datasets/mmCIF/a1/6a18.cif: Too long 516\n",
      "Failed /mnt/h/datasets/mmCIF/a1/6a19.cif: Too long 735\n",
      "Failed /mnt/h/datasets/mmCIF/a1/6a1a.cif: Too long 737\n",
      "Failed /mnt/h/datasets/mmCIF/a1/6a1b.cif: Too long 696\n",
      "Failed /mnt/h/datasets/mmCIF/a1/6a1c.cif: Too long 548\n",
      "Failed /mnt/h/datasets/mmCIF/a1/6a1d.cif: Too long 954\n",
      "Failed /mnt/h/datasets/mmCIF/a1/6a1e.cif: Too long 938\n",
      "Failed /mnt/h/datasets/mmCIF/a1/6a1f.cif: Too long 573\n",
      "Failed /mnt/h/datasets/mmCIF/a1/6a1g.cif: Too long 829\n",
      "Failed /mnt/h/datasets/mmCIF/a1/6a1h.cif: Too long 773\n",
      "Failed /mnt/h/datasets/mmCIF/a1/6a1i.cif: Too long 1123\n",
      "Failed /mnt/h/datasets/mmCIF/a1/6a1k.cif: Too long 912\n",
      "Failed /mnt/h/datasets/mmCIF/a1/6a1l.cif: Too long 669\n",
      "Failed /mnt/h/datasets/mmCIF/a1/6a1m.cif: Too long 627\n",
      "Failed /mnt/h/datasets/mmCIF/a1/6a1n.cif: Too long 740\n",
      "Failed /mnt/h/datasets/mmCIF/a1/6a1o.cif: Encountered errors {('6a1o', ''): 'No protein chains found in this file.'}\n",
      "Failed /mnt/h/datasets/mmCIF/a1/6a1p.cif: Too long 666\n",
      "Failed /mnt/h/datasets/mmCIF/a1/6a1q.cif: Encountered errors {('6a1q', ''): 'No protein chains found in this file.'}\n",
      "Failed /mnt/h/datasets/mmCIF/a1/6a1r.cif: Too long 637\n",
      "Failed /mnt/h/datasets/mmCIF/a1/6a1s.cif: Too long 395\n",
      "Failed /mnt/h/datasets/mmCIF/a1/6a1t.cif: Too long 354\n",
      "Failed /mnt/h/datasets/mmCIF/a1/6a1u.cif: Too long 307\n",
      "Finished /mnt/h/datasets/mmCIF/a1/6a1v.cif in 0.14s\n",
      "Failed /mnt/h/datasets/mmCIF/a1/6a1w.cif: Too long 682\n",
      "Finished /mnt/h/datasets/mmCIF/a1/6a1x.cif in 0.14s\n",
      "Failed /mnt/h/datasets/mmCIF/a1/6a1y.cif: Too long 334\n",
      "Failed /mnt/h/datasets/mmCIF/a1/6a1z.cif: Too long 382\n",
      "Failed /mnt/h/datasets/mmCIF/a1/7a10.cif: Too long 981\n",
      "Failed /mnt/h/datasets/mmCIF/a1/7a11.cif: Too long 1061\n",
      "Failed /mnt/h/datasets/mmCIF/a1/7a12.cif: Too long 683\n",
      "Failed /mnt/h/datasets/mmCIF/a1/7a13.cif: Too long 702\n",
      "Failed /mnt/h/datasets/mmCIF/a1/7a14.cif: Too long 670\n",
      "Failed /mnt/h/datasets/mmCIF/a1/7a15.cif: Too long 733\n",
      "Failed /mnt/h/datasets/mmCIF/a1/7a16.cif: Too long 770\n",
      "Failed /mnt/h/datasets/mmCIF/a1/7a17.cif: Too long 1415\n",
      "Failed /mnt/h/datasets/mmCIF/a1/7a18.cif: Too high resolution 3.3\n",
      "Failed /mnt/h/datasets/mmCIF/a1/7a19.cif: Too long 1868\n",
      "Failed /mnt/h/datasets/mmCIF/a1/7a1a.cif: Too long 1396\n",
      "Failed /mnt/h/datasets/mmCIF/a1/7a1b.cif: Too long 628\n",
      "Failed /mnt/h/datasets/mmCIF/a1/7a1c.cif: Too long 1159\n",
      "Failed /mnt/h/datasets/mmCIF/a1/7a1d.cif: Too high resolution 4.19\n",
      "Failed /mnt/h/datasets/mmCIF/a1/7a1e.cif: Too long 1068\n",
      "Failed /mnt/h/datasets/mmCIF/a1/7a1f.cif: Too long 1238\n",
      "Failed /mnt/h/datasets/mmCIF/a1/7a1g.cif: Too high resolution 3.0\n",
      "Finished /mnt/h/datasets/mmCIF/a1/7a1h.cif in 0.08s\n",
      "Failed /mnt/h/datasets/mmCIF/a1/7a1i.cif: Too long 314\n",
      "Failed /mnt/h/datasets/mmCIF/a1/7a1j.cif: Too long 517\n",
      "Failed /mnt/h/datasets/mmCIF/a1/7a1k.cif: Too long 404\n",
      "Failed /mnt/h/datasets/mmCIF/a1/7a1l.cif: Too long 398\n",
      "Failed /mnt/h/datasets/mmCIF/a1/7a1m.cif: Too long 402\n",
      "Failed /mnt/h/datasets/mmCIF/a1/7a1n.cif: Too long 540\n",
      "Failed /mnt/h/datasets/mmCIF/a1/7a1o.cif: Too long 462\n",
      "Failed /mnt/h/datasets/mmCIF/a1/7a1p.cif: Too long 596\n",
      "Failed /mnt/h/datasets/mmCIF/a1/7a1q.cif: Too long 546\n",
      "Failed /mnt/h/datasets/mmCIF/a1/7a1r.cif: Too long 608\n",
      "Failed /mnt/h/datasets/mmCIF/a1/7a1s.cif: Too long 669\n"
     ]
    },
    {
     "name": "stderr",
     "output_type": "stream",
     "text": [
      "/home/nwoodall/miniconda3/envs/se33/lib/python3.9/site-packages/Bio/PDB/StructureBuilder.py:89: PDBConstructionWarning: WARNING: Chain A is discontinuous at line 1482.\n",
      "  warnings.warn(\n",
      "/home/nwoodall/miniconda3/envs/se33/lib/python3.9/site-packages/Bio/PDB/StructureBuilder.py:89: PDBConstructionWarning: WARNING: Chain B is discontinuous at line 1494.\n",
      "  warnings.warn(\n",
      "/home/nwoodall/miniconda3/envs/se33/lib/python3.9/site-packages/Bio/PDB/StructureBuilder.py:89: PDBConstructionWarning: WARNING: Chain D is discontinuous at line 1495.\n",
      "  warnings.warn(\n",
      "/home/nwoodall/miniconda3/envs/se33/lib/python3.9/site-packages/Bio/PDB/StructureBuilder.py:89: PDBConstructionWarning: WARNING: Chain E is discontinuous at line 1501.\n",
      "  warnings.warn(\n",
      "/home/nwoodall/miniconda3/envs/se33/lib/python3.9/site-packages/Bio/PDB/StructureBuilder.py:89: PDBConstructionWarning: WARNING: Chain A is discontinuous at line 1505.\n",
      "  warnings.warn(\n",
      "/home/nwoodall/miniconda3/envs/se33/lib/python3.9/site-packages/Bio/PDB/StructureBuilder.py:89: PDBConstructionWarning: WARNING: Chain B is discontinuous at line 1516.\n",
      "  warnings.warn(\n",
      "/home/nwoodall/miniconda3/envs/se33/lib/python3.9/site-packages/Bio/PDB/StructureBuilder.py:89: PDBConstructionWarning: WARNING: Chain C is discontinuous at line 1524.\n",
      "  warnings.warn(\n",
      "/home/nwoodall/miniconda3/envs/se33/lib/python3.9/site-packages/Bio/PDB/StructureBuilder.py:89: PDBConstructionWarning: WARNING: Chain D is discontinuous at line 1538.\n",
      "  warnings.warn(\n",
      "/home/nwoodall/miniconda3/envs/se33/lib/python3.9/site-packages/Bio/PDB/StructureBuilder.py:89: PDBConstructionWarning: WARNING: Chain E is discontinuous at line 1552.\n",
      "  warnings.warn(\n",
      "/home/nwoodall/miniconda3/envs/se33/lib/python3.9/site-packages/Bio/PDB/StructureBuilder.py:89: PDBConstructionWarning: WARNING: Chain F is discontinuous at line 1570.\n",
      "  warnings.warn(\n"
     ]
    },
    {
     "name": "stdout",
     "output_type": "stream",
     "text": [
      "Finished /mnt/h/datasets/mmCIF/a1/7a1t.cif in 0.23s\n",
      "Failed /mnt/h/datasets/mmCIF/a1/7a1u.cif: Too long 668\n",
      "Failed /mnt/h/datasets/mmCIF/a1/7a1v.cif: Too long 374\n",
      "Finished /mnt/h/datasets/mmCIF/a1/7a1w.cif in 0.19s\n",
      "Failed /mnt/h/datasets/mmCIF/a1/7a1x.cif: Too long 436\n",
      "Finished /mnt/h/datasets/mmCIF/a1/7a1y.cif in 0.15s\n",
      "Failed /mnt/h/datasets/mmCIF/a1/7a1z.cif: Too long 703\n",
      "Failed /mnt/h/datasets/mmCIF/a1/8a10.cif: Too long 397\n",
      "Failed /mnt/h/datasets/mmCIF/a1/8a11.cif: Too high resolution 3.52\n",
      "Failed /mnt/h/datasets/mmCIF/a1/8a12.cif: Too long 1574\n",
      "Failed /mnt/h/datasets/mmCIF/a1/8a14.cif: Too long 2689\n",
      "Failed /mnt/h/datasets/mmCIF/a1/8a15.cif: Too long 430\n",
      "Failed /mnt/h/datasets/mmCIF/a1/8a16.cif: Too long 479\n",
      "Failed /mnt/h/datasets/mmCIF/a1/8a17.cif: Too high resolution 3.08\n",
      "Failed /mnt/h/datasets/mmCIF/a1/8a18.cif: Too long 1500\n",
      "Failed /mnt/h/datasets/mmCIF/a1/8a19.cif: Too long 2621\n",
      "Failed /mnt/h/datasets/mmCIF/a1/8a1a.cif: Too long 2907\n",
      "Failed /mnt/h/datasets/mmCIF/a1/8a1b.cif: Too long 498\n",
      "Failed /mnt/h/datasets/mmCIF/a1/8a1c.cif: Too long 348\n",
      "Failed /mnt/h/datasets/mmCIF/a1/8a1d.cif: Too high resolution 3.0\n",
      "Failed /mnt/h/datasets/mmCIF/a1/8a1e.cif: Too long 790\n",
      "Failed /mnt/h/datasets/mmCIF/a1/8a1f.cif: Too high resolution 3.0\n",
      "Failed /mnt/h/datasets/mmCIF/a1/8a1g.cif: Too long 832\n",
      "Failed /mnt/h/datasets/mmCIF/a1/8a1h.cif: Too long 1167\n",
      "Failed /mnt/h/datasets/mmCIF/a1/8a1i.cif: Too long 1146\n",
      "Failed /mnt/h/datasets/mmCIF/a1/8a1j.cif: Too long 1048\n",
      "Failed /mnt/h/datasets/mmCIF/a1/8a1k.cif: Too long 1697\n",
      "Failed /mnt/h/datasets/mmCIF/a1/8a1l.cif: Too long 1142\n",
      "Failed /mnt/h/datasets/mmCIF/a1/8a1m.cif: Too long 1103\n",
      "Failed /mnt/h/datasets/mmCIF/a1/8a1n.cif: Too long 1308\n",
      "Failed /mnt/h/datasets/mmCIF/a1/8a1o.cif: Too long 786\n",
      "Failed /mnt/h/datasets/mmCIF/a1/8a1p.cif: Too long 580\n",
      "Failed /mnt/h/datasets/mmCIF/a1/8a1q.cif: Too long 542\n",
      "Failed /mnt/h/datasets/mmCIF/a1/8a1r.cif: Too high resolution 3.6\n",
      "Failed /mnt/h/datasets/mmCIF/a1/8a1s.cif: Too high resolution 4.0\n",
      "Failed /mnt/h/datasets/mmCIF/a1/8a1t.cif: Too high resolution 3.37\n",
      "Failed /mnt/h/datasets/mmCIF/a1/8a1u.cif: Too long 2102\n",
      "Failed /mnt/h/datasets/mmCIF/a1/8a1v.cif: Too long 2292\n",
      "Failed /mnt/h/datasets/mmCIF/a1/8a1w.cif: Too long 2213\n",
      "Failed /mnt/h/datasets/mmCIF/a1/8a1x.cif: Too high resolution 3.2\n",
      "Failed /mnt/h/datasets/mmCIF/a1/8a1y.cif: Too high resolution 3.3\n",
      "Failed /mnt/h/datasets/mmCIF/a1/8a1z.cif: Too long 531\n"
     ]
    },
    {
     "name": "stderr",
     "output_type": "stream",
     "text": [
      "\r",
      " 12%|█████████▏                                                                   | 126/1060 [05:15<16:43:05, 64.44s/it]"
     ]
    },
    {
     "name": "stdout",
     "output_type": "stream",
     "text": [
      "Gathering mmCIF paths\n"
     ]
    },
    {
     "name": "stderr",
     "output_type": "stream",
     "text": [
      "\n",
      "  0%|                                                                                           | 0/265 [00:00<?, ?it/s]\u001b[A\n",
      " 29%|███████████████████████▌                                                         | 77/265 [00:00<00:00, 763.09it/s]\u001b[A\n",
      " 58%|██████████████████████████████████████████████▍                                 | 154/265 [00:00<00:00, 751.60it/s]\u001b[A\n",
      "100%|████████████████████████████████████████████████████████████████████████████████| 265/265 [00:00<00:00, 741.83it/s]\u001b[A\n"
     ]
    },
    {
     "name": "stdout",
     "output_type": "stream",
     "text": [
      "Processing 0 files our of 0\n",
      "Failed /mnt/h/datasets/mmCIF/a2/1a21.cif: Too long 622\n",
      "Failed /mnt/h/datasets/mmCIF/a2/1a22.cif: Too long 441\n",
      "Failed /mnt/h/datasets/mmCIF/a2/1a23.cif: Invalid resolution 0.0\n",
      "Failed /mnt/h/datasets/mmCIF/a2/1a24.cif: Invalid resolution 0.0\n",
      "Failed /mnt/h/datasets/mmCIF/a2/1a25.cif: Too long 320\n",
      "Failed /mnt/h/datasets/mmCIF/a2/1a26.cif: Too long 442\n",
      "Failed /mnt/h/datasets/mmCIF/a2/1a27.cif: Too long 444\n",
      "Failed /mnt/h/datasets/mmCIF/a2/1a28.cif: Too long 682\n",
      "Finished /mnt/h/datasets/mmCIF/a2/1a29.cif in 0.16s\n",
      "Failed /mnt/h/datasets/mmCIF/a2/1a2a.cif: Too long 980\n",
      "Finished /mnt/h/datasets/mmCIF/a2/1a2b.cif in 0.16s\n",
      "Failed /mnt/h/datasets/mmCIF/a2/1a2c.cif: Too long 479\n",
      "Failed /mnt/h/datasets/mmCIF/a2/1a2d.cif: Too long 304\n",
      "Failed /mnt/h/datasets/mmCIF/a2/1a2e.cif: Encountered errors {('1a2e', ''): 'No protein chains found in this file.'}\n",
      "Failed /mnt/h/datasets/mmCIF/a2/1a2f.cif: Too long 399\n",
      "Failed /mnt/h/datasets/mmCIF/a2/1a2g.cif: Too long 399\n",
      "Failed /mnt/h/datasets/mmCIF/a2/1a2i.cif: Invalid resolution 0.0\n",
      "Finished /mnt/h/datasets/mmCIF/a2/1a2j.cif in 0.15s\n",
      "Failed /mnt/h/datasets/mmCIF/a2/1a2l.cif: Too long 388\n",
      "Failed /mnt/h/datasets/mmCIF/a2/1a2m.cif: Too long 401\n",
      "Failed /mnt/h/datasets/mmCIF/a2/1a2n.cif: Too long 690\n",
      "Failed /mnt/h/datasets/mmCIF/a2/1a2o.cif: Too long 1105\n",
      "Failed /mnt/h/datasets/mmCIF/a2/1a2p.cif: Too long 742\n",
      "Failed /mnt/h/datasets/mmCIF/a2/1a2q.cif: Too long 465\n",
      "Failed /mnt/h/datasets/mmCIF/a2/1a2s.cif: Invalid resolution 0.0\n",
      "Finished /mnt/h/datasets/mmCIF/a2/1a2t.cif in 0.15s\n",
      "Finished /mnt/h/datasets/mmCIF/a2/1a2u.cif in 0.15s\n",
      "Failed /mnt/h/datasets/mmCIF/a2/1a2v.cif: Too long 6492\n",
      "Failed /mnt/h/datasets/mmCIF/a2/1a2w.cif: Too long 343\n"
     ]
    },
    {
     "name": "stderr",
     "output_type": "stream",
     "text": [
      "/home/nwoodall/miniconda3/envs/se33/lib/python3.9/site-packages/Bio/PDB/StructureBuilder.py:89: PDBConstructionWarning: WARNING: Chain A is discontinuous at line 1502.\n",
      "  warnings.warn(\n",
      "/home/nwoodall/miniconda3/envs/se33/lib/python3.9/site-packages/Bio/PDB/StructureBuilder.py:89: PDBConstructionWarning: WARNING: Chain B is discontinuous at line 1577.\n",
      "  warnings.warn(\n"
     ]
    },
    {
     "name": "stdout",
     "output_type": "stream",
     "text": [
      "Finished /mnt/h/datasets/mmCIF/a2/1a2x.cif in 0.17s\n",
      "Failed /mnt/h/datasets/mmCIF/a2/1a2y.cif: Too long 838\n",
      "Failed /mnt/h/datasets/mmCIF/a2/1a2z.cif: Too long 1544\n",
      "Failed /mnt/h/datasets/mmCIF/a2/2a20.cif: Invalid resolution 0.0\n",
      "Failed /mnt/h/datasets/mmCIF/a2/2a21.cif: Too long 1074\n",
      "Failed /mnt/h/datasets/mmCIF/a2/2a22.cif: Too long 688\n",
      "Failed /mnt/h/datasets/mmCIF/a2/2a24.cif: Invalid resolution 0.0\n",
      "Finished /mnt/h/datasets/mmCIF/a2/2a25.cif in 0.15s\n"
     ]
    },
    {
     "name": "stderr",
     "output_type": "stream",
     "text": [
      "/home/nwoodall/miniconda3/envs/se33/lib/python3.9/site-packages/Bio/PDB/StructureBuilder.py:89: PDBConstructionWarning: WARNING: Chain A is discontinuous at line 1219.\n",
      "  warnings.warn(\n",
      "/home/nwoodall/miniconda3/envs/se33/lib/python3.9/site-packages/Bio/PDB/StructureBuilder.py:89: PDBConstructionWarning: WARNING: Chain B is discontinuous at line 1310.\n",
      "  warnings.warn(\n"
     ]
    },
    {
     "name": "stdout",
     "output_type": "stream",
     "text": [
      "Failed /mnt/h/datasets/mmCIF/a2/2a26.cif: Too long 372\n",
      "Failed /mnt/h/datasets/mmCIF/a2/2a27.cif: Too high resolution 3.0\n",
      "Failed /mnt/h/datasets/mmCIF/a2/2a28.cif: Too long 606\n",
      "Failed /mnt/h/datasets/mmCIF/a2/2a29.cif: Invalid resolution 0.0\n",
      "Failed /mnt/h/datasets/mmCIF/a2/2a2a.cif: Too long 2602\n",
      "Failed /mnt/h/datasets/mmCIF/a2/2a2b.cif: Invalid resolution 0.0\n",
      "Failed /mnt/h/datasets/mmCIF/a2/2a2c.cif: Too long 908\n",
      "Failed /mnt/h/datasets/mmCIF/a2/2a2d.cif: Too long 707\n",
      "Failed /mnt/h/datasets/mmCIF/a2/2a2e.cif: Encountered errors {('2a2e', ''): 'No protein chains found in this file.'}\n",
      "Failed /mnt/h/datasets/mmCIF/a2/2a2f.cif: Too long 383\n",
      "Failed /mnt/h/datasets/mmCIF/a2/2a2g.cif: Too long 636\n",
      "Failed /mnt/h/datasets/mmCIF/a2/2a2i.cif: Too long 785\n",
      "Failed /mnt/h/datasets/mmCIF/a2/2a2j.cif: Too long 481\n",
      "Failed /mnt/h/datasets/mmCIF/a2/2a2k.cif: Too long 393\n",
      "Failed /mnt/h/datasets/mmCIF/a2/2a2l.cif: Too long 1134\n",
      "Failed /mnt/h/datasets/mmCIF/a2/2a2m.cif: Too long 1089\n",
      "Failed /mnt/h/datasets/mmCIF/a2/2a2n.cif: Too long 882\n",
      "Failed /mnt/h/datasets/mmCIF/a2/2a2o.cif: Too long 3359\n",
      "Failed /mnt/h/datasets/mmCIF/a2/2a2p.cif: Invalid resolution 0.0\n",
      "Failed /mnt/h/datasets/mmCIF/a2/2a2q.cif: Too long 1327\n",
      "Failed /mnt/h/datasets/mmCIF/a2/2a2r.cif: Too long 966\n",
      "Failed /mnt/h/datasets/mmCIF/a2/2a2s.cif: Too long 952\n",
      "Failed /mnt/h/datasets/mmCIF/a2/2a2t.cif: Encountered errors {('2a2t', ''): 'No protein chains found in this file.'}\n",
      "Failed /mnt/h/datasets/mmCIF/a2/2a2u.cif: Too long 700\n",
      "Failed /mnt/h/datasets/mmCIF/a2/2a2v.cif: Invalid resolution 0.0\n",
      "Failed /mnt/h/datasets/mmCIF/a2/2a2x.cif: Too long 470\n",
      "Failed /mnt/h/datasets/mmCIF/a2/2a2y.cif: Invalid resolution 0.0\n",
      "Failed /mnt/h/datasets/mmCIF/a2/2a2z.cif: Too high resolution 3.02\n",
      "Failed /mnt/h/datasets/mmCIF/a2/3a20.cif: Too long 522\n",
      "Failed /mnt/h/datasets/mmCIF/a2/3a21.cif: Too long 3091\n",
      "Failed /mnt/h/datasets/mmCIF/a2/3a22.cif: Too long 2621\n",
      "Failed /mnt/h/datasets/mmCIF/a2/3a23.cif: Too long 2743\n",
      "Failed /mnt/h/datasets/mmCIF/a2/3a24.cif: Too long 1839\n",
      "Failed /mnt/h/datasets/mmCIF/a2/3a25.cif: Too long 412\n",
      "Failed /mnt/h/datasets/mmCIF/a2/3a26.cif: Too long 320\n",
      "Finished /mnt/h/datasets/mmCIF/a2/3a27.cif in 0.27s\n",
      "Failed /mnt/h/datasets/mmCIF/a2/3a28.cif: Too long 3630\n",
      "Failed /mnt/h/datasets/mmCIF/a2/3a29.cif: Too long 1606\n",
      "Finished /mnt/h/datasets/mmCIF/a2/3a2a.cif in 0.14s\n"
     ]
    },
    {
     "name": "stderr",
     "output_type": "stream",
     "text": [
      "/home/nwoodall/miniconda3/envs/se33/lib/python3.9/site-packages/Bio/PDB/StructureBuilder.py:89: PDBConstructionWarning: WARNING: Chain A is discontinuous at line 1396.\n",
      "  warnings.warn(\n",
      "/home/nwoodall/miniconda3/envs/se33/lib/python3.9/site-packages/Bio/PDB/StructureBuilder.py:89: PDBConstructionWarning: WARNING: Chain C is discontinuous at line 1397.\n",
      "  warnings.warn(\n",
      "/home/nwoodall/miniconda3/envs/se33/lib/python3.9/site-packages/Bio/PDB/StructureBuilder.py:89: PDBConstructionWarning: WARNING: Chain A is discontinuous at line 1398.\n",
      "  warnings.warn(\n",
      "/home/nwoodall/miniconda3/envs/se33/lib/python3.9/site-packages/Bio/PDB/StructureBuilder.py:89: PDBConstructionWarning: WARNING: Chain B is discontinuous at line 1412.\n",
      "  warnings.warn(\n",
      "/home/nwoodall/miniconda3/envs/se33/lib/python3.9/site-packages/Bio/PDB/StructureBuilder.py:89: PDBConstructionWarning: WARNING: Chain C is discontinuous at line 1432.\n",
      "  warnings.warn(\n",
      "/home/nwoodall/miniconda3/envs/se33/lib/python3.9/site-packages/Bio/PDB/StructureBuilder.py:89: PDBConstructionWarning: WARNING: Chain D is discontinuous at line 1446.\n",
      "  warnings.warn(\n"
     ]
    },
    {
     "name": "stdout",
     "output_type": "stream",
     "text": [
      "Failed /mnt/h/datasets/mmCIF/a2/3a2b.cif: Too long 679\n",
      "Failed /mnt/h/datasets/mmCIF/a2/3a2c.cif: Too long 3336\n",
      "Failed /mnt/h/datasets/mmCIF/a2/3a2e.cif: Too long 914\n",
      "Failed /mnt/h/datasets/mmCIF/a2/3a2f.cif: Too long 1146\n",
      "Finished /mnt/h/datasets/mmCIF/a2/3a2g.cif in 0.16s\n"
     ]
    },
    {
     "name": "stderr",
     "output_type": "stream",
     "text": [
      "/home/nwoodall/miniconda3/envs/se33/lib/python3.9/site-packages/Bio/PDB/StructureBuilder.py:89: PDBConstructionWarning: WARNING: Chain A is discontinuous at line 1965.\n",
      "  warnings.warn(\n",
      "/home/nwoodall/miniconda3/envs/se33/lib/python3.9/site-packages/Bio/PDB/StructureBuilder.py:89: PDBConstructionWarning: WARNING: Chain B is discontinuous at line 2041.\n",
      "  warnings.warn(\n"
     ]
    },
    {
     "name": "stdout",
     "output_type": "stream",
     "text": [
      "Finished /mnt/h/datasets/mmCIF/a2/3a2h.cif in 0.21s\n",
      "Failed /mnt/h/datasets/mmCIF/a2/3a2i.cif: Too high resolution 3.25\n",
      "Finished /mnt/h/datasets/mmCIF/a2/3a2j.cif in 0.21s\n",
      "Failed /mnt/h/datasets/mmCIF/a2/3a2k.cif: Too high resolution 3.65\n",
      "Failed /mnt/h/datasets/mmCIF/a2/3a2l.cif: Too long 970\n",
      "Failed /mnt/h/datasets/mmCIF/a2/3a2m.cif: Too long 1056\n",
      "Failed /mnt/h/datasets/mmCIF/a2/3a2n.cif: Too long 1685\n",
      "Failed /mnt/h/datasets/mmCIF/a2/3a2o.cif: Too long 832\n",
      "Failed /mnt/h/datasets/mmCIF/a2/3a2p.cif: Too long 929\n",
      "Failed /mnt/h/datasets/mmCIF/a2/3a2q.cif: Too long 1006\n",
      "Failed /mnt/h/datasets/mmCIF/a2/3a2s.cif: Too long 512\n",
      "Failed /mnt/h/datasets/mmCIF/a2/3a2v.cif: Too long 3344\n",
      "Failed /mnt/h/datasets/mmCIF/a2/3a2w.cif: Too long 2632\n",
      "Failed /mnt/h/datasets/mmCIF/a2/3a2x.cif: Too long 3900\n",
      "Failed /mnt/h/datasets/mmCIF/a2/3a2y.cif: Too long 317\n",
      "Failed /mnt/h/datasets/mmCIF/a2/3a2z.cif: Too long 554\n",
      "Finished /mnt/h/datasets/mmCIF/a2/4a20.cif in 0.12s\n",
      "Failed /mnt/h/datasets/mmCIF/a2/4a21.cif: Too long 2066\n",
      "Failed /mnt/h/datasets/mmCIF/a2/4a22.cif: Too long 2380\n",
      "Failed /mnt/h/datasets/mmCIF/a2/4a23.cif: Too long 1950\n",
      "Failed /mnt/h/datasets/mmCIF/a2/4a24.cif: Invalid resolution 0.0\n",
      "Failed /mnt/h/datasets/mmCIF/a2/4a25.cif: Too long 992\n",
      "Failed /mnt/h/datasets/mmCIF/a2/4a26.cif: Too long 609\n",
      "Failed /mnt/h/datasets/mmCIF/a2/4a27.cif: Too long 769\n",
      "Failed /mnt/h/datasets/mmCIF/a2/4a28.cif: Too long 857\n",
      "Failed /mnt/h/datasets/mmCIF/a2/4a29.cif: Too long 618\n",
      "Failed /mnt/h/datasets/mmCIF/a2/4a2a.cif: Too long 1239\n",
      "Failed /mnt/h/datasets/mmCIF/a2/4a2b.cif: Too long 589\n",
      "Failed /mnt/h/datasets/mmCIF/a2/4a2c.cif: Too long 1305\n",
      "Failed /mnt/h/datasets/mmCIF/a2/4a2d.cif: Too long 817\n",
      "Failed /mnt/h/datasets/mmCIF/a2/4a2e.cif: Too long 1110\n",
      "Failed /mnt/h/datasets/mmCIF/a2/4a2f.cif: Too long 918\n",
      "Failed /mnt/h/datasets/mmCIF/a2/4a2g.cif: Too long 1026\n",
      "Failed /mnt/h/datasets/mmCIF/a2/4a2h.cif: Too long 819\n",
      "Failed /mnt/h/datasets/mmCIF/a2/4a2i.cif: Too high resolution 16.5\n",
      "Failed /mnt/h/datasets/mmCIF/a2/4a2j.cif: Too long 581\n",
      "Failed /mnt/h/datasets/mmCIF/a2/4a2l.cif: Too long 4808\n",
      "Failed /mnt/h/datasets/mmCIF/a2/4a2m.cif: Too high resolution 3.4\n",
      "Failed /mnt/h/datasets/mmCIF/a2/4a2n.cif: Too high resolution 3.4\n",
      "Failed /mnt/h/datasets/mmCIF/a2/4a2o.cif: Too long 651\n",
      "Failed /mnt/h/datasets/mmCIF/a2/4a2p.cif: Too high resolution 3.0\n",
      "Failed /mnt/h/datasets/mmCIF/a2/4a2q.cif: Too high resolution 3.4\n",
      "Failed /mnt/h/datasets/mmCIF/a2/4a2r.cif: Too long 446\n",
      "Failed /mnt/h/datasets/mmCIF/a2/4a2s.cif: Too long 457\n",
      "Failed /mnt/h/datasets/mmCIF/a2/4a2u.cif: Too long 1853\n",
      "Failed /mnt/h/datasets/mmCIF/a2/4a2v.cif: Too long 348\n",
      "Failed /mnt/h/datasets/mmCIF/a2/4a2w.cif: Too high resolution 3.7\n",
      "Failed /mnt/h/datasets/mmCIF/a2/4a2x.cif: Too high resolution 4.0\n",
      "Failed /mnt/h/datasets/mmCIF/a2/4a2y.cif: Too long 582\n",
      "Failed /mnt/h/datasets/mmCIF/a2/4a2z.cif: Too long 619\n",
      "Failed /mnt/h/datasets/mmCIF/a2/5a20.cif: Too high resolution 7.6\n",
      "Failed /mnt/h/datasets/mmCIF/a2/5a21.cif: Too high resolution 7.2\n",
      "Failed /mnt/h/datasets/mmCIF/a2/5a22.cif: Too high resolution 3.8\n",
      "Failed /mnt/h/datasets/mmCIF/a2/5a23.cif: Too long 2520\n",
      "Failed /mnt/h/datasets/mmCIF/a2/5a24.cif: Too long 521\n",
      "Failed /mnt/h/datasets/mmCIF/a2/5a25.cif: Too long 912\n",
      "Failed /mnt/h/datasets/mmCIF/a2/5a27.cif: Too long 1120\n",
      "Failed /mnt/h/datasets/mmCIF/a2/5a28.cif: Too long 775\n",
      "Failed /mnt/h/datasets/mmCIF/a2/5a29.cif: Too long 1080\n",
      "Failed /mnt/h/datasets/mmCIF/a2/5a2a.cif: Too long 863\n",
      "Failed /mnt/h/datasets/mmCIF/a2/5a2b.cif: Too long 870\n",
      "Failed /mnt/h/datasets/mmCIF/a2/5a2c.cif: Too long 974\n",
      "Failed /mnt/h/datasets/mmCIF/a2/5a2d.cif: Too long 2653\n",
      "Failed /mnt/h/datasets/mmCIF/a2/5a2e.cif: Too high resolution 3.15\n",
      "Failed /mnt/h/datasets/mmCIF/a2/5a2f.cif: Too long 422\n",
      "Failed /mnt/h/datasets/mmCIF/a2/5a2g.cif: Too long 3600\n",
      "Finished /mnt/h/datasets/mmCIF/a2/5a2h.cif in 0.20s\n"
     ]
    },
    {
     "name": "stderr",
     "output_type": "stream",
     "text": [
      "/home/nwoodall/miniconda3/envs/se33/lib/python3.9/site-packages/Bio/PDB/StructureBuilder.py:89: PDBConstructionWarning: WARNING: Chain H is discontinuous at line 1755.\n",
      "  warnings.warn(\n",
      "/home/nwoodall/miniconda3/envs/se33/lib/python3.9/site-packages/Bio/PDB/StructureBuilder.py:89: PDBConstructionWarning: WARNING: Chain P is discontinuous at line 1763.\n",
      "  warnings.warn(\n",
      "/home/nwoodall/miniconda3/envs/se33/lib/python3.9/site-packages/Bio/PDB/StructureBuilder.py:89: PDBConstructionWarning: WARNING: Chain H is discontinuous at line 1777.\n",
      "  warnings.warn(\n",
      "/home/nwoodall/miniconda3/envs/se33/lib/python3.9/site-packages/Bio/PDB/StructureBuilder.py:89: PDBConstructionWarning: WARNING: Chain P is discontinuous at line 1836.\n",
      "  warnings.warn(\n"
     ]
    },
    {
     "name": "stdout",
     "output_type": "stream",
     "text": [
      "Finished /mnt/h/datasets/mmCIF/a2/5a2i.cif in 0.69s\n",
      "Failed /mnt/h/datasets/mmCIF/a2/5a2j.cif: Too long 442\n",
      "Failed /mnt/h/datasets/mmCIF/a2/5a2k.cif: Too long 426\n",
      "Failed /mnt/h/datasets/mmCIF/a2/5a2l.cif: Too long 349\n",
      "Failed /mnt/h/datasets/mmCIF/a2/5a2m.cif: Too long 529\n",
      "Failed /mnt/h/datasets/mmCIF/a2/5a2n.cif: Too high resolution 3.7\n",
      "Failed /mnt/h/datasets/mmCIF/a2/5a2o.cif: Too high resolution 3.71\n",
      "Failed /mnt/h/datasets/mmCIF/a2/5a2p.cif: Too long 855\n",
      "Failed /mnt/h/datasets/mmCIF/a2/5a2q.cif: Too high resolution 3.9\n",
      "Failed /mnt/h/datasets/mmCIF/a2/5a2r.cif: Too long 1307\n",
      "Failed /mnt/h/datasets/mmCIF/a2/5a2s.cif: Too long 855\n",
      "Failed /mnt/h/datasets/mmCIF/a2/5a2t.cif: Too high resolution 5.6\n",
      "Failed /mnt/h/datasets/mmCIF/a2/5a2u.cif: Too high resolution 3.3\n",
      "Failed /mnt/h/datasets/mmCIF/a2/5a2v.cif: Too long 1615\n",
      "Failed /mnt/h/datasets/mmCIF/a2/5a2w.cif: Too long 967\n",
      "Failed /mnt/h/datasets/mmCIF/a2/5a2x.cif: Too high resolution 3.1\n",
      "Failed /mnt/h/datasets/mmCIF/a2/5a2y.cif: Too long 941\n",
      "Failed /mnt/h/datasets/mmCIF/a2/5a2z.cif: Too long 952\n",
      "Failed /mnt/h/datasets/mmCIF/a2/6a20.cif: Too long 594\n",
      "Failed /mnt/h/datasets/mmCIF/a2/6a21.cif: Too long 709\n",
      "Failed /mnt/h/datasets/mmCIF/a2/6a22.cif: Too long 1064\n",
      "Failed /mnt/h/datasets/mmCIF/a2/6a23.cif: Too long 635\n",
      "Failed /mnt/h/datasets/mmCIF/a2/6a24.cif: Too long 703\n",
      "Failed /mnt/h/datasets/mmCIF/a2/6a27.cif: Too long 904\n",
      "Failed /mnt/h/datasets/mmCIF/a2/6a28.cif: Too long 700\n",
      "Failed /mnt/h/datasets/mmCIF/a2/6a29.cif: Too long 2718\n",
      "Failed /mnt/h/datasets/mmCIF/a2/6a2a.cif: Too long 2181\n",
      "Failed /mnt/h/datasets/mmCIF/a2/6a2b.cif: Too long 375\n",
      "Failed /mnt/h/datasets/mmCIF/a2/6a2c.cif: Too long 1916\n",
      "Failed /mnt/h/datasets/mmCIF/a2/6a2d.cif: Too long 1927\n",
      "Failed /mnt/h/datasets/mmCIF/a2/6a2e.cif: Too long 553\n",
      "Failed /mnt/h/datasets/mmCIF/a2/6a2f.cif: Too long 1066\n",
      "Finished /mnt/h/datasets/mmCIF/a2/6a2h.cif in 0.10s\n"
     ]
    },
    {
     "name": "stderr",
     "output_type": "stream",
     "text": [
      "/home/nwoodall/miniconda3/envs/se33/lib/python3.9/site-packages/Bio/PDB/StructureBuilder.py:89: PDBConstructionWarning: WARNING: Chain A is discontinuous at line 697.\n",
      "  warnings.warn(\n",
      "/home/nwoodall/miniconda3/envs/se33/lib/python3.9/site-packages/Bio/PDB/StructureBuilder.py:89: PDBConstructionWarning: WARNING: Chain B is discontinuous at line 708.\n",
      "  warnings.warn(\n",
      "/home/nwoodall/miniconda3/envs/se33/lib/python3.9/site-packages/Bio/PDB/StructureBuilder.py:89: PDBConstructionWarning: WARNING: Chain C is discontinuous at line 713.\n",
      "  warnings.warn(\n",
      "/home/nwoodall/miniconda3/envs/se33/lib/python3.9/site-packages/Bio/PDB/StructureBuilder.py:89: PDBConstructionWarning: WARNING: Chain B is discontinuous at line 1630.\n",
      "  warnings.warn(\n",
      "/home/nwoodall/miniconda3/envs/se33/lib/python3.9/site-packages/Bio/PDB/StructureBuilder.py:89: PDBConstructionWarning: WARNING: Chain C is discontinuous at line 1631.\n",
      "  warnings.warn(\n"
     ]
    },
    {
     "name": "stdout",
     "output_type": "stream",
     "text": [
      "Finished /mnt/h/datasets/mmCIF/a2/6a2i.cif in 0.18s\n",
      "Failed /mnt/h/datasets/mmCIF/a2/6a2j.cif: Too long 367\n",
      "Failed /mnt/h/datasets/mmCIF/a2/6a2k.cif: Too long 1427\n",
      "Failed /mnt/h/datasets/mmCIF/a2/6a2l.cif: Too long 1337\n",
      "Failed /mnt/h/datasets/mmCIF/a2/6a2m.cif: Too long 1762\n",
      "Failed /mnt/h/datasets/mmCIF/a2/6a2n.cif: Too long 1758\n",
      "Failed /mnt/h/datasets/mmCIF/a2/6a2o.cif: Too long 1729\n",
      "Failed /mnt/h/datasets/mmCIF/a2/6a2p.cif: Too long 1301\n",
      "Finished /mnt/h/datasets/mmCIF/a2/6a2q.cif in 0.16s\n",
      "Failed /mnt/h/datasets/mmCIF/a2/6a2r.cif: Too long 834\n",
      "Failed /mnt/h/datasets/mmCIF/a2/6a2s.cif: Too long 983\n",
      "Finished /mnt/h/datasets/mmCIF/a2/6a2t.cif in 0.10s\n",
      "Failed /mnt/h/datasets/mmCIF/a2/6a2u.cif: Too long 1468\n",
      "Failed /mnt/h/datasets/mmCIF/a2/6a2v.cif: Too long 1045\n",
      "Finished /mnt/h/datasets/mmCIF/a2/6a2w.cif in 0.81s\n",
      "Failed /mnt/h/datasets/mmCIF/a2/7a20.cif: Too long 1338\n",
      "Failed /mnt/h/datasets/mmCIF/a2/7a21.cif: Too long 737\n",
      "Failed /mnt/h/datasets/mmCIF/a2/7a22.cif: Too long 663\n",
      "Failed /mnt/h/datasets/mmCIF/a2/7a23.cif: Too high resolution 3.7\n",
      "Failed /mnt/h/datasets/mmCIF/a2/7a24.cif: Too high resolution 3.8\n",
      "Failed /mnt/h/datasets/mmCIF/a2/7a25.cif: Too high resolution 3.06\n",
      "Failed /mnt/h/datasets/mmCIF/a2/7a26.cif: Too long 2786\n",
      "Failed /mnt/h/datasets/mmCIF/a2/7a27.cif: Too long 1461\n",
      "Failed /mnt/h/datasets/mmCIF/a2/7a28.cif: Too long 1140\n",
      "Failed /mnt/h/datasets/mmCIF/a2/7a29.cif: Too long 3571\n",
      "Failed /mnt/h/datasets/mmCIF/a2/7a2a.cif: Too long 659\n",
      "Failed /mnt/h/datasets/mmCIF/a2/7a2b.cif: Too long 570\n",
      "Failed /mnt/h/datasets/mmCIF/a2/7a2d.cif: Invalid resolution 0.0\n",
      "Failed /mnt/h/datasets/mmCIF/a2/7a2f.cif: Too long 1082\n",
      "Failed /mnt/h/datasets/mmCIF/a2/7a2g.cif: Too high resolution 4.1\n",
      "Failed /mnt/h/datasets/mmCIF/a2/7a2h.cif: Too long 761\n",
      "Failed /mnt/h/datasets/mmCIF/a2/7a2i.cif: Too high resolution 3.3\n"
     ]
    },
    {
     "name": "stderr",
     "output_type": "stream",
     "text": [
      "/home/nwoodall/miniconda3/envs/se33/lib/python3.9/site-packages/Bio/PDB/StructureBuilder.py:89: PDBConstructionWarning: WARNING: Chain A is discontinuous at line 1757.\n",
      "  warnings.warn(\n",
      "/home/nwoodall/miniconda3/envs/se33/lib/python3.9/site-packages/Bio/PDB/StructureBuilder.py:89: PDBConstructionWarning: WARNING: Chain B is discontinuous at line 1790.\n",
      "  warnings.warn(\n"
     ]
    },
    {
     "name": "stdout",
     "output_type": "stream",
     "text": [
      "Finished /mnt/h/datasets/mmCIF/a2/7a2j.cif in 0.22s\n",
      "Failed /mnt/h/datasets/mmCIF/a2/7a2k.cif: Too long 368\n"
     ]
    },
    {
     "name": "stderr",
     "output_type": "stream",
     "text": [
      "/home/nwoodall/miniconda3/envs/se33/lib/python3.9/site-packages/Bio/PDB/StructureBuilder.py:89: PDBConstructionWarning: WARNING: Chain A is discontinuous at line 1736.\n",
      "  warnings.warn(\n",
      "/home/nwoodall/miniconda3/envs/se33/lib/python3.9/site-packages/Bio/PDB/StructureBuilder.py:89: PDBConstructionWarning: WARNING: Chain B is discontinuous at line 1762.\n",
      "  warnings.warn(\n"
     ]
    },
    {
     "name": "stdout",
     "output_type": "stream",
     "text": [
      "Finished /mnt/h/datasets/mmCIF/a2/7a2l.cif in 0.25s\n"
     ]
    },
    {
     "name": "stderr",
     "output_type": "stream",
     "text": [
      "/home/nwoodall/miniconda3/envs/se33/lib/python3.9/site-packages/Bio/PDB/StructureBuilder.py:89: PDBConstructionWarning: WARNING: Chain A is discontinuous at line 1809.\n",
      "  warnings.warn(\n",
      "/home/nwoodall/miniconda3/envs/se33/lib/python3.9/site-packages/Bio/PDB/StructureBuilder.py:89: PDBConstructionWarning: WARNING: Chain B is discontinuous at line 1816.\n",
      "  warnings.warn(\n",
      "/home/nwoodall/miniconda3/envs/se33/lib/python3.9/site-packages/Bio/PDB/StructureBuilder.py:89: PDBConstructionWarning: WARNING: Chain A is discontinuous at line 1822.\n",
      "  warnings.warn(\n",
      "/home/nwoodall/miniconda3/envs/se33/lib/python3.9/site-packages/Bio/PDB/StructureBuilder.py:89: PDBConstructionWarning: WARNING: Chain B is discontinuous at line 1863.\n",
      "  warnings.warn(\n"
     ]
    },
    {
     "name": "stdout",
     "output_type": "stream",
     "text": [
      "Finished /mnt/h/datasets/mmCIF/a2/7a2m.cif in 0.25s\n",
      "Failed /mnt/h/datasets/mmCIF/a2/7a2n.cif: Too long 499\n",
      "Finished /mnt/h/datasets/mmCIF/a2/7a2o.cif in 0.19s\n",
      "Finished /mnt/h/datasets/mmCIF/a2/7a2p.cif in 0.16s\n",
      "Finished /mnt/h/datasets/mmCIF/a2/7a2q.cif in 0.15s\n",
      "Finished /mnt/h/datasets/mmCIF/a2/7a2r.cif in 0.15s\n",
      "Finished /mnt/h/datasets/mmCIF/a2/7a2s.cif in 0.15s\n",
      "Finished /mnt/h/datasets/mmCIF/a2/7a2t.cif in 0.14s\n",
      "Finished /mnt/h/datasets/mmCIF/a2/7a2u.cif in 0.16s\n",
      "Finished /mnt/h/datasets/mmCIF/a2/7a2v.cif in 0.11s\n"
     ]
    },
    {
     "name": "stderr",
     "output_type": "stream",
     "text": [
      "/home/nwoodall/miniconda3/envs/se33/lib/python3.9/site-packages/Bio/PDB/StructureBuilder.py:89: PDBConstructionWarning: WARNING: Chain A is discontinuous at line 1252.\n",
      "  warnings.warn(\n",
      "/home/nwoodall/miniconda3/envs/se33/lib/python3.9/site-packages/Bio/PDB/StructureBuilder.py:89: PDBConstructionWarning: WARNING: Chain B is discontinuous at line 1352.\n",
      "  warnings.warn(\n",
      "/home/nwoodall/miniconda3/envs/se33/lib/python3.9/site-packages/Bio/PDB/StructureBuilder.py:89: PDBConstructionWarning: WARNING: Chain A is discontinuous at line 1308.\n",
      "  warnings.warn(\n",
      "/home/nwoodall/miniconda3/envs/se33/lib/python3.9/site-packages/Bio/PDB/StructureBuilder.py:89: PDBConstructionWarning: WARNING: Chain B is discontinuous at line 1431.\n",
      "  warnings.warn(\n"
     ]
    },
    {
     "name": "stdout",
     "output_type": "stream",
     "text": [
      "Finished /mnt/h/datasets/mmCIF/a2/7a2w.cif in 0.18s\n",
      "Finished /mnt/h/datasets/mmCIF/a2/7a2x.cif in 0.19s\n"
     ]
    },
    {
     "name": "stderr",
     "output_type": "stream",
     "text": [
      "/home/nwoodall/miniconda3/envs/se33/lib/python3.9/site-packages/Bio/PDB/StructureBuilder.py:89: PDBConstructionWarning: WARNING: Chain A is discontinuous at line 1184.\n",
      "  warnings.warn(\n",
      "/home/nwoodall/miniconda3/envs/se33/lib/python3.9/site-packages/Bio/PDB/StructureBuilder.py:89: PDBConstructionWarning: WARNING: Chain B is discontinuous at line 1303.\n",
      "  warnings.warn(\n",
      "/home/nwoodall/miniconda3/envs/se33/lib/python3.9/site-packages/Bio/PDB/StructureBuilder.py:89: PDBConstructionWarning: WARNING: Chain A is discontinuous at line 1137.\n",
      "  warnings.warn(\n",
      "/home/nwoodall/miniconda3/envs/se33/lib/python3.9/site-packages/Bio/PDB/StructureBuilder.py:89: PDBConstructionWarning: WARNING: Chain B is discontinuous at line 1220.\n",
      "  warnings.warn(\n"
     ]
    },
    {
     "name": "stdout",
     "output_type": "stream",
     "text": [
      "Finished /mnt/h/datasets/mmCIF/a2/7a2y.cif in 0.17s\n",
      "Finished /mnt/h/datasets/mmCIF/a2/7a2z.cif in 1.24s\n",
      "Failed /mnt/h/datasets/mmCIF/a2/8a21.cif: Too long 612\n",
      "Failed /mnt/h/datasets/mmCIF/a2/8a22.cif: Too long 16881\n",
      "Failed /mnt/h/datasets/mmCIF/a2/8a23.cif: Too long 405\n",
      "Failed /mnt/h/datasets/mmCIF/a2/8a24.cif: Too long 357\n",
      "Failed /mnt/h/datasets/mmCIF/a2/8a25.cif: Too long 462\n",
      "Failed /mnt/h/datasets/mmCIF/a2/8a26.cif: Too long 520\n",
      "Failed /mnt/h/datasets/mmCIF/a2/8a27.cif: Too long 646\n",
      "Failed /mnt/h/datasets/mmCIF/a2/8a28.cif: Too long 843\n",
      "Failed /mnt/h/datasets/mmCIF/a2/8a29.cif: Too long 5494\n",
      "Failed /mnt/h/datasets/mmCIF/a2/8a2a.cif: Too long 529\n",
      "Failed /mnt/h/datasets/mmCIF/a2/8a2b.cif: Too long 441\n",
      "Failed /mnt/h/datasets/mmCIF/a2/8a2c.cif: Too long 1170\n",
      "Failed /mnt/h/datasets/mmCIF/a2/8a2d.cif: Too long 671\n",
      "Failed /mnt/h/datasets/mmCIF/a2/8a2e.cif: Too long 1187\n",
      "Failed /mnt/h/datasets/mmCIF/a2/8a2f.cif: Too long 355\n",
      "Failed /mnt/h/datasets/mmCIF/a2/8a2g.cif: Too long 547\n",
      "Failed /mnt/h/datasets/mmCIF/a2/8a2h.cif: Too long 463\n",
      "Failed /mnt/h/datasets/mmCIF/a2/8a2i.cif: Too long 486\n",
      "Failed /mnt/h/datasets/mmCIF/a2/8a2j.cif: Too long 457\n",
      "Failed /mnt/h/datasets/mmCIF/a2/8a2k.cif: Too long 511\n",
      "Failed /mnt/h/datasets/mmCIF/a2/8a2l.cif: Too long 358\n",
      "Failed /mnt/h/datasets/mmCIF/a2/8a2m.cif: Too long 518\n",
      "Failed /mnt/h/datasets/mmCIF/a2/8a2n.cif: Too long 851\n",
      "Failed /mnt/h/datasets/mmCIF/a2/8a2o.cif: Too high resolution 3.45\n",
      "Failed /mnt/h/datasets/mmCIF/a2/8a2p.cif: Too high resolution 3.5\n",
      "Failed /mnt/h/datasets/mmCIF/a2/8a2q.cif: Too high resolution 3.53\n",
      "Failed /mnt/h/datasets/mmCIF/a2/8a2r.cif: Too long 2325\n",
      "Failed /mnt/h/datasets/mmCIF/a2/8a2s.cif: Too long 2441\n",
      "Failed /mnt/h/datasets/mmCIF/a2/8a2t.cif: Too long 2396\n",
      "Failed /mnt/h/datasets/mmCIF/a2/8a2u.cif: Too long 2357\n",
      "Finished /mnt/h/datasets/mmCIF/a2/8a2v.cif in 0.14s\n",
      "Failed /mnt/h/datasets/mmCIF/a2/8a2w.cif: Too long 329\n",
      "Failed /mnt/h/datasets/mmCIF/a2/8a2x.cif: Too high resolution 3.0\n",
      "Failed /mnt/h/datasets/mmCIF/a2/8a2y.cif: Too long 2378\n",
      "Failed /mnt/h/datasets/mmCIF/a2/8a2z.cif: Too long 2410\n"
     ]
    },
    {
     "name": "stderr",
     "output_type": "stream",
     "text": [
      "\r",
      " 12%|█████████▏                                                                   | 127/1060 [07:22<21:31:52, 83.08s/it]"
     ]
    },
    {
     "name": "stdout",
     "output_type": "stream",
     "text": [
      "Gathering mmCIF paths\n"
     ]
    },
    {
     "name": "stderr",
     "output_type": "stream",
     "text": [
      "\n",
      "  0%|                                                                                           | 0/268 [00:00<?, ?it/s]\u001b[A\n",
      " 32%|█████████████████████████▉                                                       | 86/268 [00:00<00:00, 853.19it/s]\u001b[A\n",
      " 64%|███████████████████████████████████████████████████▎                            | 172/268 [00:00<00:00, 791.75it/s]\u001b[A\n",
      "100%|████████████████████████████████████████████████████████████████████████████████| 268/268 [00:00<00:00, 778.06it/s]\u001b[A\n"
     ]
    },
    {
     "name": "stdout",
     "output_type": "stream",
     "text": [
      "Processing 0 files our of 0\n",
      "Failed /mnt/h/datasets/mmCIF/a3/1a30.cif: Too long 417\n",
      "Failed /mnt/h/datasets/mmCIF/a3/1a31.cif: Too long 911\n",
      "Finished /mnt/h/datasets/mmCIF/a3/1a32.cif in 0.10s\n",
      "Failed /mnt/h/datasets/mmCIF/a3/1a33.cif: Too long 408\n",
      "Failed /mnt/h/datasets/mmCIF/a3/1a34.cif: Too long 337\n",
      "Failed /mnt/h/datasets/mmCIF/a3/1a35.cif: Too long 791\n",
      "Failed /mnt/h/datasets/mmCIF/a3/1a36.cif: Too long 645\n",
      "Failed /mnt/h/datasets/mmCIF/a3/1a37.cif: Too high resolution 3.6\n",
      "Failed /mnt/h/datasets/mmCIF/a3/1a38.cif: Too high resolution 3.35\n",
      "Failed /mnt/h/datasets/mmCIF/a3/1a39.cif: Too long 730\n",
      "Failed /mnt/h/datasets/mmCIF/a3/1a3a.cif: Too long 1144\n",
      "Failed /mnt/h/datasets/mmCIF/a3/1a3b.cif: Too long 537\n",
      "Failed /mnt/h/datasets/mmCIF/a3/1a3c.cif: Too long 426\n",
      "Finished /mnt/h/datasets/mmCIF/a3/1a3d.cif in 0.64s\n",
      "Failed /mnt/h/datasets/mmCIF/a3/1a3e.cif: Too long 496\n",
      "Failed /mnt/h/datasets/mmCIF/a3/1a3f.cif: Too long 357\n",
      "Failed /mnt/h/datasets/mmCIF/a3/1a3g.cif: Too long 1408\n",
      "Failed /mnt/h/datasets/mmCIF/a3/1a3h.cif: Too long 724\n",
      "Finished /mnt/h/datasets/mmCIF/a3/1a3i.cif in 0.04s\n",
      "Finished /mnt/h/datasets/mmCIF/a3/1a3j.cif in 0.04s\n"
     ]
    },
    {
     "name": "stderr",
     "output_type": "stream",
     "text": [
      "/home/nwoodall/miniconda3/envs/se33/lib/python3.9/site-packages/Bio/PDB/StructureBuilder.py:89: PDBConstructionWarning: WARNING: Chain A is discontinuous at line 126.\n",
      "  warnings.warn(\n",
      "/home/nwoodall/miniconda3/envs/se33/lib/python3.9/site-packages/Bio/PDB/StructureBuilder.py:89: PDBConstructionWarning: WARNING: Chain C is discontinuous at line 130.\n",
      "  warnings.warn(\n",
      "/home/nwoodall/miniconda3/envs/se33/lib/python3.9/site-packages/Bio/PDB/StructureBuilder.py:89: PDBConstructionWarning: WARNING: Chain A is discontinuous at line 134.\n",
      "  warnings.warn(\n",
      "/home/nwoodall/miniconda3/envs/se33/lib/python3.9/site-packages/Bio/PDB/StructureBuilder.py:89: PDBConstructionWarning: WARNING: Chain B is discontinuous at line 151.\n",
      "  warnings.warn(\n",
      "/home/nwoodall/miniconda3/envs/se33/lib/python3.9/site-packages/Bio/PDB/StructureBuilder.py:89: PDBConstructionWarning: WARNING: Chain C is discontinuous at line 159.\n",
      "  warnings.warn(\n",
      "/home/nwoodall/miniconda3/envs/se33/lib/python3.9/site-packages/Bio/PDB/StructureBuilder.py:89: PDBConstructionWarning: WARNING: Chain A is discontinuous at line 126.\n",
      "  warnings.warn(\n",
      "/home/nwoodall/miniconda3/envs/se33/lib/python3.9/site-packages/Bio/PDB/StructureBuilder.py:89: PDBConstructionWarning: WARNING: Chain B is discontinuous at line 144.\n",
      "  warnings.warn(\n",
      "/home/nwoodall/miniconda3/envs/se33/lib/python3.9/site-packages/Bio/PDB/StructureBuilder.py:89: PDBConstructionWarning: WARNING: Chain C is discontinuous at line 155.\n",
      "  warnings.warn(\n",
      "/home/nwoodall/miniconda3/envs/se33/lib/python3.9/site-packages/Bio/PDB/StructureBuilder.py:89: PDBConstructionWarning: WARNING: Chain A is discontinuous at line 1133.\n",
      "  warnings.warn(\n"
     ]
    },
    {
     "name": "stdout",
     "output_type": "stream",
     "text": [
      "Finished /mnt/h/datasets/mmCIF/a3/1a3k.cif in 0.14s\n",
      "Failed /mnt/h/datasets/mmCIF/a3/1a3l.cif: Too long 745\n",
      "Failed /mnt/h/datasets/mmCIF/a3/1a3m.cif: Encountered errors {('1a3m', ''): 'No protein chains found in this file.'}\n",
      "Failed /mnt/h/datasets/mmCIF/a3/1a3n.cif: Too long 1027\n",
      "Failed /mnt/h/datasets/mmCIF/a3/1a3o.cif: Too long 988\n",
      "Failed /mnt/h/datasets/mmCIF/a3/1a3p.cif: Invalid resolution 0.0\n",
      "Failed /mnt/h/datasets/mmCIF/a3/1a3q.cif: Too long 1377\n",
      "Failed /mnt/h/datasets/mmCIF/a3/1a3r.cif: Too long 661\n",
      "Finished /mnt/h/datasets/mmCIF/a3/1a3s.cif in 0.38s\n",
      "Finished /mnt/h/datasets/mmCIF/a3/1a3t.cif in 0.14s\n",
      "Finished /mnt/h/datasets/mmCIF/a3/1a3u.cif in 0.15s\n",
      "Finished /mnt/h/datasets/mmCIF/a3/1a3v.cif in 0.15s\n",
      "Failed /mnt/h/datasets/mmCIF/a3/1a3w.cif: Too high resolution 3.0\n",
      "Failed /mnt/h/datasets/mmCIF/a3/1a3x.cif: Too high resolution 3.0\n",
      "Failed /mnt/h/datasets/mmCIF/a3/1a3y.cif: Too long 483\n",
      "Finished /mnt/h/datasets/mmCIF/a3/1a3z.cif in 0.13s\n",
      "Failed /mnt/h/datasets/mmCIF/a3/2a30.cif: Too high resolution 3.0\n",
      "Failed /mnt/h/datasets/mmCIF/a3/2a31.cif: Too long 571\n",
      "Failed /mnt/h/datasets/mmCIF/a3/2a32.cif: Too long 517\n",
      "Failed /mnt/h/datasets/mmCIF/a3/2a33.cif: Too long 573\n",
      "Failed /mnt/h/datasets/mmCIF/a3/2a35.cif: Too long 953\n",
      "Failed /mnt/h/datasets/mmCIF/a3/2a36.cif: Invalid resolution 0.0\n",
      "Failed /mnt/h/datasets/mmCIF/a3/2a37.cif: Invalid resolution 0.0\n",
      "Failed /mnt/h/datasets/mmCIF/a3/2a38.cif: Too long 1047\n",
      "Failed /mnt/h/datasets/mmCIF/a3/2a39.cif: Too long 1220\n",
      "Failed /mnt/h/datasets/mmCIF/a3/2a3a.cif: Too long 1552\n",
      "Failed /mnt/h/datasets/mmCIF/a3/2a3b.cif: Too long 1775\n",
      "Failed /mnt/h/datasets/mmCIF/a3/2a3c.cif: Too long 1535\n",
      "Failed /mnt/h/datasets/mmCIF/a3/2a3d.cif: Invalid resolution 0.0\n",
      "Failed /mnt/h/datasets/mmCIF/a3/2a3e.cif: Too long 1706\n",
      "Finished /mnt/h/datasets/mmCIF/a3/2a3f.cif in 0.22s\n",
      "Finished /mnt/h/datasets/mmCIF/a3/2a3g.cif in 0.11s\n"
     ]
    },
    {
     "name": "stderr",
     "output_type": "stream",
     "text": [
      "/home/nwoodall/miniconda3/envs/se33/lib/python3.9/site-packages/Bio/PDB/StructureBuilder.py:89: PDBConstructionWarning: WARNING: Chain B is discontinuous at line 810.\n",
      "  warnings.warn(\n",
      "/home/nwoodall/miniconda3/envs/se33/lib/python3.9/site-packages/Bio/PDB/StructureBuilder.py:89: PDBConstructionWarning: WARNING: Chain D is discontinuous at line 811.\n",
      "  warnings.warn(\n",
      "/home/nwoodall/miniconda3/envs/se33/lib/python3.9/site-packages/Bio/PDB/StructureBuilder.py:89: PDBConstructionWarning: WARNING: Chain A is discontinuous at line 812.\n",
      "  warnings.warn(\n",
      "/home/nwoodall/miniconda3/envs/se33/lib/python3.9/site-packages/Bio/PDB/StructureBuilder.py:89: PDBConstructionWarning: WARNING: Chain B is discontinuous at line 822.\n",
      "  warnings.warn(\n",
      "/home/nwoodall/miniconda3/envs/se33/lib/python3.9/site-packages/Bio/PDB/StructureBuilder.py:89: PDBConstructionWarning: WARNING: Chain C is discontinuous at line 843.\n",
      "  warnings.warn(\n",
      "/home/nwoodall/miniconda3/envs/se33/lib/python3.9/site-packages/Bio/PDB/StructureBuilder.py:89: PDBConstructionWarning: WARNING: Chain D is discontinuous at line 851.\n",
      "  warnings.warn(\n"
     ]
    },
    {
     "name": "stdout",
     "output_type": "stream",
     "text": [
      "Failed /mnt/h/datasets/mmCIF/a3/2a3h.cif: Too long 698\n",
      "Failed /mnt/h/datasets/mmCIF/a3/2a3i.cif: Too long 426\n",
      "Failed /mnt/h/datasets/mmCIF/a3/2a3j.cif: Invalid resolution 0.0\n",
      "Failed /mnt/h/datasets/mmCIF/a3/2a3k.cif: Too long 308\n",
      "Failed /mnt/h/datasets/mmCIF/a3/2a3l.cif: Too high resolution 3.34\n",
      "Finished /mnt/h/datasets/mmCIF/a3/2a3m.cif in 0.44s\n",
      "Failed /mnt/h/datasets/mmCIF/a3/2a3n.cif: Too long 815\n",
      "Finished /mnt/h/datasets/mmCIF/a3/2a3p.cif in 0.13s\n",
      "Finished /mnt/h/datasets/mmCIF/a3/2a3q.cif in 0.18s\n"
     ]
    },
    {
     "name": "stderr",
     "output_type": "stream",
     "text": [
      "/home/nwoodall/miniconda3/envs/se33/lib/python3.9/site-packages/Bio/PDB/StructureBuilder.py:89: PDBConstructionWarning: WARNING: Chain A is discontinuous at line 1813.\n",
      "  warnings.warn(\n",
      "/home/nwoodall/miniconda3/envs/se33/lib/python3.9/site-packages/Bio/PDB/StructureBuilder.py:89: PDBConstructionWarning: WARNING: Chain B is discontinuous at line 1824.\n",
      "  warnings.warn(\n"
     ]
    },
    {
     "name": "stdout",
     "output_type": "stream",
     "text": [
      "Failed /mnt/h/datasets/mmCIF/a3/2a3r.cif: Too long 668\n",
      "Failed /mnt/h/datasets/mmCIF/a3/2a3s.cif: Invalid resolution 0.0\n",
      "Failed /mnt/h/datasets/mmCIF/a3/2a3t.cif: Too long 569\n",
      "Failed /mnt/h/datasets/mmCIF/a3/2a3u.cif: Too long 533\n",
      "Failed /mnt/h/datasets/mmCIF/a3/2a3v.cif: Too long 1566\n",
      "Failed /mnt/h/datasets/mmCIF/a3/2a3w.cif: Too long 6508\n",
      "Failed /mnt/h/datasets/mmCIF/a3/2a3x.cif: Too high resolution 3.0\n",
      "Failed /mnt/h/datasets/mmCIF/a3/2a3y.cif: Too long 1513\n",
      "Failed /mnt/h/datasets/mmCIF/a3/2a3z.cif: Too long 1043\n",
      "Finished /mnt/h/datasets/mmCIF/a3/3a30.cif in 0.18s\n",
      "Failed /mnt/h/datasets/mmCIF/a3/3a31.cif: Too long 737\n",
      "Failed /mnt/h/datasets/mmCIF/a3/3a32.cif: Too long 702\n"
     ]
    },
    {
     "name": "stderr",
     "output_type": "stream",
     "text": [
      "/home/nwoodall/miniconda3/envs/se33/lib/python3.9/site-packages/Bio/PDB/StructureBuilder.py:89: PDBConstructionWarning: WARNING: Chain A is discontinuous at line 1801.\n",
      "  warnings.warn(\n",
      "/home/nwoodall/miniconda3/envs/se33/lib/python3.9/site-packages/Bio/PDB/StructureBuilder.py:89: PDBConstructionWarning: WARNING: Chain B is discontinuous at line 1846.\n",
      "  warnings.warn(\n"
     ]
    },
    {
     "name": "stdout",
     "output_type": "stream",
     "text": [
      "Finished /mnt/h/datasets/mmCIF/a3/3a33.cif in 0.18s\n",
      "Finished /mnt/h/datasets/mmCIF/a3/3a34.cif in 0.14s\n",
      "Failed /mnt/h/datasets/mmCIF/a3/3a35.cif: Too long 775\n",
      "Failed /mnt/h/datasets/mmCIF/a3/3a36.cif: Too long 636\n",
      "Failed /mnt/h/datasets/mmCIF/a3/3a37.cif: Too high resolution 3.0\n",
      "Finished /mnt/h/datasets/mmCIF/a3/3a38.cif in 0.21s\n",
      "Finished /mnt/h/datasets/mmCIF/a3/3a39.cif in 0.21s\n",
      "Failed /mnt/h/datasets/mmCIF/a3/3a3a.cif: Encountered errors {('3a3a', ''): 'No protein chains found in this file.'}\n",
      "Failed /mnt/h/datasets/mmCIF/a3/3a3b.cif: Too long 522\n",
      "Failed /mnt/h/datasets/mmCIF/a3/3a3c.cif: Too long 523\n",
      "Failed /mnt/h/datasets/mmCIF/a3/3a3d.cif: Too long 1834\n",
      "Failed /mnt/h/datasets/mmCIF/a3/3a3e.cif: Too long 959\n",
      "Failed /mnt/h/datasets/mmCIF/a3/3a3f.cif: Too long 1196\n",
      "Failed /mnt/h/datasets/mmCIF/a3/3a3g.cif: Too long 543\n",
      "Failed /mnt/h/datasets/mmCIF/a3/3a3h.cif: Too long 701\n",
      "Failed /mnt/h/datasets/mmCIF/a3/3a3i.cif: Too long 1288\n",
      "Failed /mnt/h/datasets/mmCIF/a3/3a3j.cif: Too long 464\n",
      "Failed /mnt/h/datasets/mmCIF/a3/3a3k.cif: Too long 1137\n",
      "Failed /mnt/h/datasets/mmCIF/a3/3a3n.cif: Too long 592\n",
      "Failed /mnt/h/datasets/mmCIF/a3/3a3o.cif: Too long 656\n",
      "Failed /mnt/h/datasets/mmCIF/a3/3a3p.cif: Too long 627\n",
      "Finished /mnt/h/datasets/mmCIF/a3/3a3q.cif in 0.13s\n"
     ]
    },
    {
     "name": "stderr",
     "output_type": "stream",
     "text": [
      "/home/nwoodall/miniconda3/envs/se33/lib/python3.9/site-packages/Bio/PDB/StructureBuilder.py:89: PDBConstructionWarning: WARNING: Chain A is discontinuous at line 1044.\n",
      "  warnings.warn(\n"
     ]
    },
    {
     "name": "stdout",
     "output_type": "stream",
     "text": [
      "Finished /mnt/h/datasets/mmCIF/a3/3a3r.cif in 0.13s\n",
      "Failed /mnt/h/datasets/mmCIF/a3/3a3t.cif: Too long 1982\n",
      "Failed /mnt/h/datasets/mmCIF/a3/3a3u.cif: Too long 534\n",
      "Failed /mnt/h/datasets/mmCIF/a3/3a3v.cif: Too long 897\n",
      "Failed /mnt/h/datasets/mmCIF/a3/3a3w.cif: Too long 615\n",
      "Failed /mnt/h/datasets/mmCIF/a3/3a3x.cif: Too long 618\n",
      "Failed /mnt/h/datasets/mmCIF/a3/3a3y.cif: Too long 1371\n",
      "Failed /mnt/h/datasets/mmCIF/a3/3a3z.cif: Too long 705\n",
      "Failed /mnt/h/datasets/mmCIF/a3/4a30.cif: Too long 690\n",
      "Failed /mnt/h/datasets/mmCIF/a3/4a31.cif: Too long 720\n",
      "Failed /mnt/h/datasets/mmCIF/a3/4a32.cif: Too long 648\n",
      "Failed /mnt/h/datasets/mmCIF/a3/4a33.cif: Too long 586\n",
      "Failed /mnt/h/datasets/mmCIF/a3/4a34.cif: Too long 3681\n",
      "Failed /mnt/h/datasets/mmCIF/a3/4a35.cif: Too long 1044\n",
      "Failed /mnt/h/datasets/mmCIF/a3/4a36.cif: Too high resolution 3.7\n",
      "Failed /mnt/h/datasets/mmCIF/a3/4a37.cif: Too long 1310\n",
      "Failed /mnt/h/datasets/mmCIF/a3/4a38.cif: Too long 999\n",
      "Failed /mnt/h/datasets/mmCIF/a3/4a39.cif: Too long 1030\n",
      "Failed /mnt/h/datasets/mmCIF/a3/4a3b.cif: Too high resolution 3.5\n",
      "Failed /mnt/h/datasets/mmCIF/a3/4a3c.cif: Too high resolution 3.5\n",
      "Failed /mnt/h/datasets/mmCIF/a3/4a3d.cif: Too high resolution 3.4\n",
      "Failed /mnt/h/datasets/mmCIF/a3/4a3e.cif: Too high resolution 3.4\n",
      "Failed /mnt/h/datasets/mmCIF/a3/4a3f.cif: Too high resolution 3.5\n",
      "Failed /mnt/h/datasets/mmCIF/a3/4a3g.cif: Too high resolution 3.5\n",
      "Failed /mnt/h/datasets/mmCIF/a3/4a3h.cif: Too long 718\n",
      "Failed /mnt/h/datasets/mmCIF/a3/4a3i.cif: Too high resolution 3.8\n",
      "Failed /mnt/h/datasets/mmCIF/a3/4a3j.cif: Too high resolution 3.7\n",
      "Failed /mnt/h/datasets/mmCIF/a3/4a3k.cif: Too high resolution 3.5\n",
      "Failed /mnt/h/datasets/mmCIF/a3/4a3l.cif: Too high resolution 3.5\n",
      "Failed /mnt/h/datasets/mmCIF/a3/4a3m.cif: Too high resolution 3.9\n",
      "Finished /mnt/h/datasets/mmCIF/a3/4a3n.cif in 0.10s\n",
      "Failed /mnt/h/datasets/mmCIF/a3/4a3o.cif: Too long 686\n",
      "Failed /mnt/h/datasets/mmCIF/a3/4a3p.cif: Too long 435\n",
      "Failed /mnt/h/datasets/mmCIF/a3/4a3q.cif: Too long 995\n",
      "Failed /mnt/h/datasets/mmCIF/a3/4a3r.cif: Too long 2503\n",
      "Failed /mnt/h/datasets/mmCIF/a3/4a3s.cif: Too long 816\n",
      "Failed /mnt/h/datasets/mmCIF/a3/4a3t.cif: Too long 1477\n",
      "Failed /mnt/h/datasets/mmCIF/a3/4a3u.cif: Too long 1233\n",
      "Failed /mnt/h/datasets/mmCIF/a3/4a3v.cif: Too high resolution 3.8\n",
      "Finished /mnt/h/datasets/mmCIF/a3/4a3w.cif in 0.26s\n",
      "Failed /mnt/h/datasets/mmCIF/a3/4a3x.cif: Too long 376\n",
      "Failed /mnt/h/datasets/mmCIF/a3/4a3y.cif: Too long 1385\n",
      "Failed /mnt/h/datasets/mmCIF/a3/4a3z.cif: Too long 398\n",
      "Failed /mnt/h/datasets/mmCIF/a3/5a30.cif: Too long 936\n",
      "Failed /mnt/h/datasets/mmCIF/a3/5a31.cif: Too high resolution 4.3\n",
      "Failed /mnt/h/datasets/mmCIF/a3/5a32.cif: Too high resolution 3.44\n",
      "Failed /mnt/h/datasets/mmCIF/a3/5a33.cif: Too high resolution 3.04\n",
      "Failed /mnt/h/datasets/mmCIF/a3/5a34.cif: Too long 1536\n",
      "Failed /mnt/h/datasets/mmCIF/a3/5a35.cif: Too long 363\n",
      "Failed /mnt/h/datasets/mmCIF/a3/5a36.cif: Too long 580\n",
      "Failed /mnt/h/datasets/mmCIF/a3/5a37.cif: Too long 746\n",
      "Failed /mnt/h/datasets/mmCIF/a3/5a38.cif: Too long 647\n",
      "Failed /mnt/h/datasets/mmCIF/a3/5a39.cif: Too long 317\n",
      "Failed /mnt/h/datasets/mmCIF/a3/5a3a.cif: Too long 585\n",
      "Failed /mnt/h/datasets/mmCIF/a3/5a3b.cif: Too long 540\n",
      "Failed /mnt/h/datasets/mmCIF/a3/5a3c.cif: Too long 450\n",
      "Failed /mnt/h/datasets/mmCIF/a3/5a3d.cif: Too long 304\n",
      "Finished /mnt/h/datasets/mmCIF/a3/5a3e.cif in 0.16s\n",
      "Failed /mnt/h/datasets/mmCIF/a3/5a3f.cif: Too high resolution 3.7\n",
      "Failed /mnt/h/datasets/mmCIF/a3/5a3g.cif: Invalid resolution 0.0\n",
      "Failed /mnt/h/datasets/mmCIF/a3/5a3h.cif: Too long 650\n",
      "Failed /mnt/h/datasets/mmCIF/a3/5a3i.cif: Too long 1871\n",
      "Failed /mnt/h/datasets/mmCIF/a3/5a3j.cif: Too long 3925\n",
      "Failed /mnt/h/datasets/mmCIF/a3/5a3k.cif: Too long 1098\n",
      "Failed /mnt/h/datasets/mmCIF/a3/5a3l.cif: Too long 1937\n",
      "Failed /mnt/h/datasets/mmCIF/a3/5a3m.cif: Too long 1920\n",
      "Failed /mnt/h/datasets/mmCIF/a3/5a3n.cif: Too long 875\n",
      "Failed /mnt/h/datasets/mmCIF/a3/5a3o.cif: Too long 1097\n",
      "Failed /mnt/h/datasets/mmCIF/a3/5a3p.cif: Too long 1015\n",
      "Failed /mnt/h/datasets/mmCIF/a3/5a3q.cif: Too high resolution 3.05\n",
      "Failed /mnt/h/datasets/mmCIF/a3/5a3r.cif: Too high resolution 3.05\n",
      "Failed /mnt/h/datasets/mmCIF/a3/5a3s.cif: Too high resolution 3.3\n",
      "Failed /mnt/h/datasets/mmCIF/a3/5a3t.cif: Too long 708\n",
      "Failed /mnt/h/datasets/mmCIF/a3/5a3u.cif: Too high resolution 3.3\n",
      "Failed /mnt/h/datasets/mmCIF/a3/5a3v.cif: Too long 1040\n",
      "Failed /mnt/h/datasets/mmCIF/a3/5a3w.cif: Too long 694\n",
      "Failed /mnt/h/datasets/mmCIF/a3/5a3x.cif: Too long 1581\n",
      "Failed /mnt/h/datasets/mmCIF/a3/5a3y.cif: Too long 652\n",
      "Failed /mnt/h/datasets/mmCIF/a3/5a3z.cif: Too long 442\n",
      "Failed /mnt/h/datasets/mmCIF/a3/6a30.cif: Too long 552\n",
      "Failed /mnt/h/datasets/mmCIF/a3/6a31.cif: Too long 392\n",
      "Failed /mnt/h/datasets/mmCIF/a3/6a32.cif: Too long 429\n"
     ]
    },
    {
     "name": "stderr",
     "output_type": "stream",
     "text": [
      "/home/nwoodall/miniconda3/envs/se33/lib/python3.9/site-packages/Bio/PDB/StructureBuilder.py:89: PDBConstructionWarning: WARNING: Chain A is discontinuous at line 1303.\n",
      "  warnings.warn(\n",
      "/home/nwoodall/miniconda3/envs/se33/lib/python3.9/site-packages/Bio/PDB/StructureBuilder.py:89: PDBConstructionWarning: WARNING: Chain I is discontinuous at line 1420.\n",
      "  warnings.warn(\n"
     ]
    },
    {
     "name": "stdout",
     "output_type": "stream",
     "text": [
      "Finished /mnt/h/datasets/mmCIF/a3/6a33.cif in 0.21s\n",
      "Failed /mnt/h/datasets/mmCIF/a3/6a34.cif: Too long 976\n",
      "Failed /mnt/h/datasets/mmCIF/a3/6a35.cif: Too long 1520\n",
      "Failed /mnt/h/datasets/mmCIF/a3/6a36.cif: Too long 681\n",
      "Failed /mnt/h/datasets/mmCIF/a3/6a37.cif: Too long 749\n",
      "Failed /mnt/h/datasets/mmCIF/a3/6a38.cif: Too long 1475\n",
      "Failed /mnt/h/datasets/mmCIF/a3/6a39.cif: Too long 595\n",
      "Failed /mnt/h/datasets/mmCIF/a3/6a3a.cif: Too long 1621\n",
      "Failed /mnt/h/datasets/mmCIF/a3/6a3b.cif: Too long 1476\n",
      "Failed /mnt/h/datasets/mmCIF/a3/6a3c.cif: Too long 1668\n",
      "Failed /mnt/h/datasets/mmCIF/a3/6a3d.cif: Too long 493\n",
      "Failed /mnt/h/datasets/mmCIF/a3/6a3e.cif: Too long 1658\n",
      "Failed /mnt/h/datasets/mmCIF/a3/6a3f.cif: Too long 1251\n",
      "Failed /mnt/h/datasets/mmCIF/a3/6a3g.cif: Too long 2242\n",
      "Failed /mnt/h/datasets/mmCIF/a3/6a3h.cif: Too long 642\n",
      "Failed /mnt/h/datasets/mmCIF/a3/6a3i.cif: Too long 1541\n",
      "Failed /mnt/h/datasets/mmCIF/a3/6a3j.cif: Too long 2274\n",
      "Failed /mnt/h/datasets/mmCIF/a3/6a3k.cif: Too long 358\n",
      "Failed /mnt/h/datasets/mmCIF/a3/6a3l.cif: Too long 330\n",
      "Failed /mnt/h/datasets/mmCIF/a3/6a3n.cif: Too long 843\n",
      "Failed /mnt/h/datasets/mmCIF/a3/6a3t.cif: Too long 426\n",
      "Failed /mnt/h/datasets/mmCIF/a3/6a3v.cif: Too high resolution 3.391\n",
      "Failed /mnt/h/datasets/mmCIF/a3/6a3w.cif: Too long 2564\n",
      "Failed /mnt/h/datasets/mmCIF/a3/6a3x.cif: Too long 912\n",
      "Failed /mnt/h/datasets/mmCIF/a3/6a3z.cif: Invalid resolution 0.0\n",
      "Finished /mnt/h/datasets/mmCIF/a3/7a30.cif in 0.14s\n"
     ]
    },
    {
     "name": "stderr",
     "output_type": "stream",
     "text": [
      "/home/nwoodall/miniconda3/envs/se33/lib/python3.9/site-packages/Bio/PDB/StructureBuilder.py:89: PDBConstructionWarning: WARNING: Chain A is discontinuous at line 1877.\n",
      "  warnings.warn(\n",
      "/home/nwoodall/miniconda3/envs/se33/lib/python3.9/site-packages/Bio/PDB/StructureBuilder.py:89: PDBConstructionWarning: WARNING: Chain B is discontinuous at line 1944.\n",
      "  warnings.warn(\n"
     ]
    },
    {
     "name": "stdout",
     "output_type": "stream",
     "text": [
      "Finished /mnt/h/datasets/mmCIF/a3/7a31.cif in 0.23s\n",
      "Failed /mnt/h/datasets/mmCIF/a3/7a32.cif: Too long 577\n"
     ]
    },
    {
     "name": "stderr",
     "output_type": "stream",
     "text": [
      "/home/nwoodall/miniconda3/envs/se33/lib/python3.9/site-packages/Bio/PDB/StructureBuilder.py:89: PDBConstructionWarning: WARNING: Chain A is discontinuous at line 2119.\n",
      "  warnings.warn(\n",
      "/home/nwoodall/miniconda3/envs/se33/lib/python3.9/site-packages/Bio/PDB/StructureBuilder.py:89: PDBConstructionWarning: WARNING: Chain B is discontinuous at line 2129.\n",
      "  warnings.warn(\n",
      "/home/nwoodall/miniconda3/envs/se33/lib/python3.9/site-packages/Bio/PDB/StructureBuilder.py:89: PDBConstructionWarning: WARNING: Chain A is discontinuous at line 2135.\n",
      "  warnings.warn(\n",
      "/home/nwoodall/miniconda3/envs/se33/lib/python3.9/site-packages/Bio/PDB/StructureBuilder.py:89: PDBConstructionWarning: WARNING: Chain B is discontinuous at line 2205.\n",
      "  warnings.warn(\n"
     ]
    },
    {
     "name": "stdout",
     "output_type": "stream",
     "text": [
      "Finished /mnt/h/datasets/mmCIF/a3/7a33.cif in 0.27s\n",
      "Finished /mnt/h/datasets/mmCIF/a3/7a34.cif in 0.13s\n"
     ]
    },
    {
     "name": "stderr",
     "output_type": "stream",
     "text": [
      "/home/nwoodall/miniconda3/envs/se33/lib/python3.9/site-packages/Bio/PDB/StructureBuilder.py:89: PDBConstructionWarning: WARNING: Chain A is discontinuous at line 1836.\n",
      "  warnings.warn(\n",
      "/home/nwoodall/miniconda3/envs/se33/lib/python3.9/site-packages/Bio/PDB/StructureBuilder.py:89: PDBConstructionWarning: WARNING: Chain B is discontinuous at line 1913.\n",
      "  warnings.warn(\n"
     ]
    },
    {
     "name": "stdout",
     "output_type": "stream",
     "text": [
      "Finished /mnt/h/datasets/mmCIF/a3/7a35.cif in 0.23s\n"
     ]
    },
    {
     "name": "stderr",
     "output_type": "stream",
     "text": [
      "/home/nwoodall/miniconda3/envs/se33/lib/python3.9/site-packages/Bio/PDB/StructureBuilder.py:89: PDBConstructionWarning: WARNING: Chain A is discontinuous at line 1821.\n",
      "  warnings.warn(\n",
      "/home/nwoodall/miniconda3/envs/se33/lib/python3.9/site-packages/Bio/PDB/StructureBuilder.py:89: PDBConstructionWarning: WARNING: Chain B is discontinuous at line 1885.\n",
      "  warnings.warn(\n",
      "/home/nwoodall/miniconda3/envs/se33/lib/python3.9/site-packages/Bio/PDB/StructureBuilder.py:89: PDBConstructionWarning: WARNING: Chain A is discontinuous at line 1926.\n",
      "  warnings.warn(\n",
      "/home/nwoodall/miniconda3/envs/se33/lib/python3.9/site-packages/Bio/PDB/StructureBuilder.py:89: PDBConstructionWarning: WARNING: Chain B is discontinuous at line 1988.\n",
      "  warnings.warn(\n"
     ]
    },
    {
     "name": "stdout",
     "output_type": "stream",
     "text": [
      "Finished /mnt/h/datasets/mmCIF/a3/7a36.cif in 0.74s\n"
     ]
    },
    {
     "name": "stderr",
     "output_type": "stream",
     "text": [
      "/home/nwoodall/miniconda3/envs/se33/lib/python3.9/site-packages/Bio/PDB/StructureBuilder.py:89: PDBConstructionWarning: WARNING: Chain A is discontinuous at line 1839.\n",
      "  warnings.warn(\n",
      "/home/nwoodall/miniconda3/envs/se33/lib/python3.9/site-packages/Bio/PDB/StructureBuilder.py:89: PDBConstructionWarning: WARNING: Chain B is discontinuous at line 1887.\n",
      "  warnings.warn(\n",
      "/home/nwoodall/miniconda3/envs/se33/lib/python3.9/site-packages/Bio/PDB/StructureBuilder.py:89: PDBConstructionWarning: WARNING: Chain A is discontinuous at line 1911.\n",
      "  warnings.warn(\n",
      "/home/nwoodall/miniconda3/envs/se33/lib/python3.9/site-packages/Bio/PDB/StructureBuilder.py:89: PDBConstructionWarning: WARNING: Chain B is discontinuous at line 1985.\n",
      "  warnings.warn(\n"
     ]
    },
    {
     "name": "stdout",
     "output_type": "stream",
     "text": [
      "Finished /mnt/h/datasets/mmCIF/a3/7a37.cif in 0.25s\n"
     ]
    },
    {
     "name": "stderr",
     "output_type": "stream",
     "text": [
      "/home/nwoodall/miniconda3/envs/se33/lib/python3.9/site-packages/Bio/PDB/StructureBuilder.py:89: PDBConstructionWarning: WARNING: Chain A is discontinuous at line 1797.\n",
      "  warnings.warn(\n",
      "/home/nwoodall/miniconda3/envs/se33/lib/python3.9/site-packages/Bio/PDB/StructureBuilder.py:89: PDBConstructionWarning: WARNING: Chain B is discontinuous at line 1822.\n",
      "  warnings.warn(\n",
      "/home/nwoodall/miniconda3/envs/se33/lib/python3.9/site-packages/Bio/PDB/StructureBuilder.py:89: PDBConstructionWarning: WARNING: Chain A is discontinuous at line 1827.\n",
      "  warnings.warn(\n",
      "/home/nwoodall/miniconda3/envs/se33/lib/python3.9/site-packages/Bio/PDB/StructureBuilder.py:89: PDBConstructionWarning: WARNING: Chain B is discontinuous at line 1884.\n",
      "  warnings.warn(\n"
     ]
    },
    {
     "name": "stdout",
     "output_type": "stream",
     "text": [
      "Finished /mnt/h/datasets/mmCIF/a3/7a38.cif in 0.22s\n"
     ]
    },
    {
     "name": "stderr",
     "output_type": "stream",
     "text": [
      "/home/nwoodall/miniconda3/envs/se33/lib/python3.9/site-packages/Bio/PDB/StructureBuilder.py:89: PDBConstructionWarning: WARNING: Chain A is discontinuous at line 1771.\n",
      "  warnings.warn(\n",
      "/home/nwoodall/miniconda3/envs/se33/lib/python3.9/site-packages/Bio/PDB/StructureBuilder.py:89: PDBConstructionWarning: WARNING: Chain B is discontinuous at line 1792.\n",
      "  warnings.warn(\n"
     ]
    },
    {
     "name": "stdout",
     "output_type": "stream",
     "text": [
      "Finished /mnt/h/datasets/mmCIF/a3/7a39.cif in 0.21s\n",
      "Finished /mnt/h/datasets/mmCIF/a3/7a3a.cif in 0.13s\n",
      "Finished /mnt/h/datasets/mmCIF/a3/7a3b.cif in 0.13s\n",
      "Failed /mnt/h/datasets/mmCIF/a3/7a3c.cif: Too long 374\n"
     ]
    },
    {
     "name": "stderr",
     "output_type": "stream",
     "text": [
      "/home/nwoodall/miniconda3/envs/se33/lib/python3.9/site-packages/Bio/PDB/StructureBuilder.py:89: PDBConstructionWarning: WARNING: Chain A is discontinuous at line 1713.\n",
      "  warnings.warn(\n",
      "/home/nwoodall/miniconda3/envs/se33/lib/python3.9/site-packages/Bio/PDB/StructureBuilder.py:89: PDBConstructionWarning: WARNING: Chain B is discontinuous at line 1752.\n",
      "  warnings.warn(\n",
      "/home/nwoodall/miniconda3/envs/se33/lib/python3.9/site-packages/Bio/PDB/StructureBuilder.py:89: PDBConstructionWarning: WARNING: Chain A is discontinuous at line 1790.\n",
      "  warnings.warn(\n",
      "/home/nwoodall/miniconda3/envs/se33/lib/python3.9/site-packages/Bio/PDB/StructureBuilder.py:89: PDBConstructionWarning: WARNING: Chain B is discontinuous at line 1797.\n",
      "  warnings.warn(\n"
     ]
    },
    {
     "name": "stdout",
     "output_type": "stream",
     "text": [
      "Finished /mnt/h/datasets/mmCIF/a3/7a3d.cif in 0.60s\n",
      "Finished /mnt/h/datasets/mmCIF/a3/7a3e.cif in 0.13s\n",
      "Failed /mnt/h/datasets/mmCIF/a3/7a3f.cif: Too long 3290\n",
      "Failed /mnt/h/datasets/mmCIF/a3/7a3g.cif: Too long 1687\n",
      "Failed /mnt/h/datasets/mmCIF/a3/7a3h.cif: Too long 785\n",
      "Failed /mnt/h/datasets/mmCIF/a3/7a3i.cif: Too long 2459\n",
      "Failed /mnt/h/datasets/mmCIF/a3/7a3j.cif: Too high resolution 3.0\n",
      "Failed /mnt/h/datasets/mmCIF/a3/7a3k.cif: Too long 2665\n",
      "Failed /mnt/h/datasets/mmCIF/a3/7a3l.cif: Too long 2588\n",
      "Finished /mnt/h/datasets/mmCIF/a3/7a3m.cif in 0.11s\n",
      "Failed /mnt/h/datasets/mmCIF/a3/7a3n.cif: Too long 1134\n",
      "Failed /mnt/h/datasets/mmCIF/a3/7a3o.cif: Too long 627\n",
      "Failed /mnt/h/datasets/mmCIF/a3/7a3p.cif: Too high resolution 3.19\n",
      "Failed /mnt/h/datasets/mmCIF/a3/7a3q.cif: Too long 1256\n",
      "Failed /mnt/h/datasets/mmCIF/a3/7a3r.cif: Too high resolution 3.5\n",
      "Failed /mnt/h/datasets/mmCIF/a3/7a3s.cif: Too long 1271\n",
      "Failed /mnt/h/datasets/mmCIF/a3/7a3t.cif: Too long 839\n",
      "Failed /mnt/h/datasets/mmCIF/a3/7a3u.cif: Too high resolution 3.0\n",
      "Failed /mnt/h/datasets/mmCIF/a3/7a3v.cif: Too long 588\n",
      "Failed /mnt/h/datasets/mmCIF/a3/7a3w.cif: Too long 910\n",
      "Failed /mnt/h/datasets/mmCIF/a3/7a3x.cif: Too long 544\n",
      "Failed /mnt/h/datasets/mmCIF/a3/7a3y.cif: Encountered errors {('7a3y', ''): 'No protein chains found in this file.'}\n",
      "Failed /mnt/h/datasets/mmCIF/a3/7a3z.cif: Too long 450\n",
      "Failed /mnt/h/datasets/mmCIF/a3/8a30.cif: Too long 1270\n",
      "Failed /mnt/h/datasets/mmCIF/a3/8a31.cif: Too long 834\n",
      "Failed /mnt/h/datasets/mmCIF/a3/8a32.cif: Too long 842\n",
      "Finished /mnt/h/datasets/mmCIF/a3/8a33.cif in 0.18s\n",
      "Failed /mnt/h/datasets/mmCIF/a3/8a34.cif: Too long 431\n"
     ]
    },
    {
     "name": "stderr",
     "output_type": "stream",
     "text": [
      "/home/nwoodall/miniconda3/envs/se33/lib/python3.9/site-packages/Bio/PDB/StructureBuilder.py:89: PDBConstructionWarning: WARNING: Chain A is discontinuous at line 1409.\n",
      "  warnings.warn(\n",
      "/home/nwoodall/miniconda3/envs/se33/lib/python3.9/site-packages/Bio/PDB/StructureBuilder.py:89: PDBConstructionWarning: WARNING: Chain B is discontinuous at line 1457.\n",
      "  warnings.warn(\n",
      "/home/nwoodall/miniconda3/envs/se33/lib/python3.9/site-packages/Bio/PDB/StructureBuilder.py:89: PDBConstructionWarning: WARNING: Chain A is discontinuous at line 1571.\n",
      "  warnings.warn(\n",
      "/home/nwoodall/miniconda3/envs/se33/lib/python3.9/site-packages/Bio/PDB/StructureBuilder.py:89: PDBConstructionWarning: WARNING: Chain B is discontinuous at line 1578.\n",
      "  warnings.warn(\n"
     ]
    },
    {
     "name": "stdout",
     "output_type": "stream",
     "text": [
      "Finished /mnt/h/datasets/mmCIF/a3/8a35.cif in 0.23s\n",
      "Failed /mnt/h/datasets/mmCIF/a3/8a36.cif: Too long 535\n",
      "Finished /mnt/h/datasets/mmCIF/a3/8a37.cif in 0.86s\n",
      "Finished /mnt/h/datasets/mmCIF/a3/8a38.cif in 0.19s\n"
     ]
    },
    {
     "name": "stderr",
     "output_type": "stream",
     "text": [
      "/home/nwoodall/miniconda3/envs/se33/lib/python3.9/site-packages/Bio/PDB/StructureBuilder.py:89: PDBConstructionWarning: WARNING: Chain A is discontinuous at line 1674.\n",
      "  warnings.warn(\n",
      "/home/nwoodall/miniconda3/envs/se33/lib/python3.9/site-packages/Bio/PDB/StructureBuilder.py:89: PDBConstructionWarning: WARNING: Chain B is discontinuous at line 1676.\n",
      "  warnings.warn(\n",
      "/home/nwoodall/miniconda3/envs/se33/lib/python3.9/site-packages/Bio/PDB/StructureBuilder.py:89: PDBConstructionWarning: WARNING: Chain C is discontinuous at line 1678.\n",
      "  warnings.warn(\n",
      "/home/nwoodall/miniconda3/envs/se33/lib/python3.9/site-packages/Bio/PDB/StructureBuilder.py:89: PDBConstructionWarning: WARNING: Chain A is discontinuous at line 1681.\n",
      "  warnings.warn(\n",
      "/home/nwoodall/miniconda3/envs/se33/lib/python3.9/site-packages/Bio/PDB/StructureBuilder.py:89: PDBConstructionWarning: WARNING: Chain B is discontinuous at line 1686.\n",
      "  warnings.warn(\n",
      "/home/nwoodall/miniconda3/envs/se33/lib/python3.9/site-packages/Bio/PDB/StructureBuilder.py:89: PDBConstructionWarning: WARNING: Chain C is discontinuous at line 1695.\n",
      "  warnings.warn(\n"
     ]
    },
    {
     "name": "stdout",
     "output_type": "stream",
     "text": [
      "Failed /mnt/h/datasets/mmCIF/a3/8a39.cif: Too long 1110\n",
      "Finished /mnt/h/datasets/mmCIF/a3/8a3a.cif in 0.16s\n",
      "Failed /mnt/h/datasets/mmCIF/a3/8a3b.cif: Too high resolution 3.1\n",
      "Failed /mnt/h/datasets/mmCIF/a3/8a3c.cif: Too high resolution 3.92\n",
      "Failed /mnt/h/datasets/mmCIF/a3/8a3d.cif: Too long 4159\n",
      "Failed /mnt/h/datasets/mmCIF/a3/8a3f.cif: Too high resolution 3.15\n",
      "Finished /mnt/h/datasets/mmCIF/a3/8a3g.cif in 0.09s\n"
     ]
    },
    {
     "name": "stderr",
     "output_type": "stream",
     "text": [
      "/home/nwoodall/miniconda3/envs/se33/lib/python3.9/site-packages/Bio/PDB/StructureBuilder.py:89: PDBConstructionWarning: WARNING: Chain A is discontinuous at line 533.\n",
      "  warnings.warn(\n",
      "/home/nwoodall/miniconda3/envs/se33/lib/python3.9/site-packages/Bio/PDB/StructureBuilder.py:89: PDBConstructionWarning: WARNING: Chain B is discontinuous at line 562.\n",
      "  warnings.warn(\n"
     ]
    },
    {
     "name": "stdout",
     "output_type": "stream",
     "text": [
      "Failed /mnt/h/datasets/mmCIF/a3/8a3h.cif: Too long 809\n",
      "Finished /mnt/h/datasets/mmCIF/a3/8a3i.cif in 0.07s\n"
     ]
    },
    {
     "name": "stderr",
     "output_type": "stream",
     "text": [
      "/home/nwoodall/miniconda3/envs/se33/lib/python3.9/site-packages/Bio/PDB/StructureBuilder.py:89: PDBConstructionWarning: WARNING: Chain A is discontinuous at line 370.\n",
      "  warnings.warn(\n",
      "/home/nwoodall/miniconda3/envs/se33/lib/python3.9/site-packages/Bio/PDB/StructureBuilder.py:89: PDBConstructionWarning: WARNING: Chain B is discontinuous at line 375.\n",
      "  warnings.warn(\n",
      "/home/nwoodall/miniconda3/envs/se33/lib/python3.9/site-packages/Bio/PDB/StructureBuilder.py:89: PDBConstructionWarning: WARNING: Chain A is discontinuous at line 1275.\n",
      "  warnings.warn(\n",
      "/home/nwoodall/miniconda3/envs/se33/lib/python3.9/site-packages/Bio/PDB/StructureBuilder.py:89: PDBConstructionWarning: WARNING: Chain C is discontinuous at line 1279.\n",
      "  warnings.warn(\n",
      "/home/nwoodall/miniconda3/envs/se33/lib/python3.9/site-packages/Bio/PDB/StructureBuilder.py:89: PDBConstructionWarning: WARNING: Chain D is discontinuous at line 1283.\n",
      "  warnings.warn(\n",
      "/home/nwoodall/miniconda3/envs/se33/lib/python3.9/site-packages/Bio/PDB/StructureBuilder.py:89: PDBConstructionWarning: WARNING: Chain E is discontinuous at line 1287.\n",
      "  warnings.warn(\n",
      "/home/nwoodall/miniconda3/envs/se33/lib/python3.9/site-packages/Bio/PDB/StructureBuilder.py:89: PDBConstructionWarning: WARNING: Chain F is discontinuous at line 1290.\n",
      "  warnings.warn(\n",
      "/home/nwoodall/miniconda3/envs/se33/lib/python3.9/site-packages/Bio/PDB/StructureBuilder.py:89: PDBConstructionWarning: WARNING: Chain G is discontinuous at line 1291.\n",
      "  warnings.warn(\n",
      "/home/nwoodall/miniconda3/envs/se33/lib/python3.9/site-packages/Bio/PDB/StructureBuilder.py:89: PDBConstructionWarning: WARNING: Chain H is discontinuous at line 1296.\n",
      "  warnings.warn(\n"
     ]
    },
    {
     "name": "stdout",
     "output_type": "stream",
     "text": [
      "Finished /mnt/h/datasets/mmCIF/a3/8a3j.cif in 0.19s\n",
      "Failed /mnt/h/datasets/mmCIF/a3/8a3k.cif: Mdtraj failed with error %c requires int or char\n",
      "Failed /mnt/h/datasets/mmCIF/a3/8a3l.cif: Too high resolution 3.42\n",
      "Failed /mnt/h/datasets/mmCIF/a3/8a3n.cif: Too long 988\n",
      "Failed /mnt/h/datasets/mmCIF/a3/8a3o.cif: Too long 657\n",
      "Finished /mnt/h/datasets/mmCIF/a3/8a3p.cif in 0.16s\n",
      "Failed /mnt/h/datasets/mmCIF/a3/8a3q.cif: Too long 308\n",
      "Failed /mnt/h/datasets/mmCIF/a3/8a3t.cif: Too high resolution 3.5\n",
      "Failed /mnt/h/datasets/mmCIF/a3/8a3u.cif: Too long 366\n",
      "Failed /mnt/h/datasets/mmCIF/a3/8a3v.cif: Too long 1198\n",
      "Failed /mnt/h/datasets/mmCIF/a3/8a3w.cif: Too long 12130\n",
      "Failed /mnt/h/datasets/mmCIF/a3/8a3x.cif: Too long 1216\n"
     ]
    },
    {
     "name": "stderr",
     "output_type": "stream",
     "text": [
      "\r",
      " 12%|█████████▎                                                                   | 128/1060 [09:36<25:25:24, 98.20s/it]"
     ]
    },
    {
     "name": "stdout",
     "output_type": "stream",
     "text": [
      "Gathering mmCIF paths\n"
     ]
    },
    {
     "name": "stderr",
     "output_type": "stream",
     "text": [
      "\n",
      "  0%|                                                                                           | 0/262 [00:00<?, ?it/s]\u001b[A\n",
      " 29%|███████████████████████▊                                                         | 77/262 [00:00<00:00, 766.67it/s]\u001b[A\n",
      " 60%|████████████████████████████████████████████████▏                               | 158/262 [00:00<00:00, 791.95it/s]\u001b[A\n",
      "100%|████████████████████████████████████████████████████████████████████████████████| 262/262 [00:00<00:00, 805.79it/s]\u001b[A\n"
     ]
    },
    {
     "name": "stdout",
     "output_type": "stream",
     "text": [
      "Processing 0 files our of 0\n",
      "Failed /mnt/h/datasets/mmCIF/a4/1a40.cif: Too long 733\n",
      "Failed /mnt/h/datasets/mmCIF/a4/1a41.cif: Too long 386\n",
      "Failed /mnt/h/datasets/mmCIF/a4/1a42.cif: Too long 314\n",
      "Finished /mnt/h/datasets/mmCIF/a4/1a43.cif in 0.08s\n",
      "Failed /mnt/h/datasets/mmCIF/a4/1a44.cif: Too long 430\n",
      "Failed /mnt/h/datasets/mmCIF/a4/1a45.cif: Too long 380\n",
      "Failed /mnt/h/datasets/mmCIF/a4/1a46.cif: Too long 454\n",
      "Failed /mnt/h/datasets/mmCIF/a4/1a47.cif: Too long 879\n",
      "Failed /mnt/h/datasets/mmCIF/a4/1a48.cif: Too long 620\n",
      "Failed /mnt/h/datasets/mmCIF/a4/1a49.cif: Too long 6109\n",
      "Failed /mnt/h/datasets/mmCIF/a4/1a4a.cif: Too long 479\n",
      "Failed /mnt/h/datasets/mmCIF/a4/1a4b.cif: Too long 617\n",
      "Failed /mnt/h/datasets/mmCIF/a4/1a4c.cif: Too long 980\n",
      "Failed /mnt/h/datasets/mmCIF/a4/1a4d.cif: Encountered errors {('1a4d', ''): 'No protein chains found in this file.'}\n",
      "Failed /mnt/h/datasets/mmCIF/a4/1a4e.cif: Too long 2919\n",
      "Failed /mnt/h/datasets/mmCIF/a4/1a4f.cif: Too long 399\n",
      "Failed /mnt/h/datasets/mmCIF/a4/1a4g.cif: Too long 1279\n",
      "Failed /mnt/h/datasets/mmCIF/a4/1a4h.cif: Too long 369\n",
      "Failed /mnt/h/datasets/mmCIF/a4/1a4i.cif: Too long 989\n",
      "Failed /mnt/h/datasets/mmCIF/a4/1a4j.cif: Too long 1132\n",
      "Failed /mnt/h/datasets/mmCIF/a4/1a4k.cif: Too long 1088\n",
      "Failed /mnt/h/datasets/mmCIF/a4/1a4l.cif: Too long 1637\n",
      "Failed /mnt/h/datasets/mmCIF/a4/1a4m.cif: Too long 2469\n",
      "Failed /mnt/h/datasets/mmCIF/a4/1a4o.cif: Too long 788\n",
      "Finished /mnt/h/datasets/mmCIF/a4/1a4p.cif in 0.18s\n"
     ]
    },
    {
     "name": "stderr",
     "output_type": "stream",
     "text": [
      "/home/nwoodall/miniconda3/envs/se33/lib/python3.9/site-packages/Bio/PDB/StructureBuilder.py:89: PDBConstructionWarning: WARNING: Chain A is discontinuous at line 1496.\n",
      "  warnings.warn(\n",
      "/home/nwoodall/miniconda3/envs/se33/lib/python3.9/site-packages/Bio/PDB/StructureBuilder.py:89: PDBConstructionWarning: WARNING: Chain B is discontinuous at line 1523.\n",
      "  warnings.warn(\n"
     ]
    },
    {
     "name": "stdout",
     "output_type": "stream",
     "text": [
      "Failed /mnt/h/datasets/mmCIF/a4/1a4q.cif: Too long 1284\n",
      "Failed /mnt/h/datasets/mmCIF/a4/1a4r.cif: Too long 437\n",
      "Failed /mnt/h/datasets/mmCIF/a4/1a4s.cif: Too long 2705\n",
      "Failed /mnt/h/datasets/mmCIF/a4/1a4t.cif: Invalid resolution 0.0\n",
      "Failed /mnt/h/datasets/mmCIF/a4/1a4u.cif: Too long 673\n",
      "Finished /mnt/h/datasets/mmCIF/a4/1a4v.cif in 0.13s\n",
      "Failed /mnt/h/datasets/mmCIF/a4/1a4w.cif: Too long 443\n",
      "Failed /mnt/h/datasets/mmCIF/a4/1a4x.cif: Too long 573\n",
      "Failed /mnt/h/datasets/mmCIF/a4/1a4y.cif: Too long 1299\n",
      "Failed /mnt/h/datasets/mmCIF/a4/1a4z.cif: Too long 2068\n",
      "Failed /mnt/h/datasets/mmCIF/a4/2a40.cif: Too long 2204\n",
      "Failed /mnt/h/datasets/mmCIF/a4/2a41.cif: Too long 880\n",
      "Failed /mnt/h/datasets/mmCIF/a4/2a42.cif: Too long 1110\n",
      "Failed /mnt/h/datasets/mmCIF/a4/2a43.cif: Encountered errors {('2a43', ''): 'No protein chains found in this file.'}\n",
      "Failed /mnt/h/datasets/mmCIF/a4/2a45.cif: Too high resolution 3.65\n",
      "Failed /mnt/h/datasets/mmCIF/a4/2a46.cif: Too long 365\n",
      "Failed /mnt/h/datasets/mmCIF/a4/2a47.cif: Too long 351\n",
      "Finished /mnt/h/datasets/mmCIF/a4/2a48.cif in 0.60s\n",
      "Failed /mnt/h/datasets/mmCIF/a4/2a49.cif: Too long 585\n",
      "Failed /mnt/h/datasets/mmCIF/a4/2a4a.cif: Too long 699\n",
      "Finished /mnt/h/datasets/mmCIF/a4/2a4c.cif in 0.16s\n"
     ]
    },
    {
     "name": "stderr",
     "output_type": "stream",
     "text": [
      "/home/nwoodall/miniconda3/envs/se33/lib/python3.9/site-packages/Bio/PDB/StructureBuilder.py:89: PDBConstructionWarning: WARNING: Chain A is discontinuous at line 1562.\n",
      "  warnings.warn(\n",
      "/home/nwoodall/miniconda3/envs/se33/lib/python3.9/site-packages/Bio/PDB/StructureBuilder.py:89: PDBConstructionWarning: WARNING: Chain B is discontinuous at line 1573.\n",
      "  warnings.warn(\n"
     ]
    },
    {
     "name": "stdout",
     "output_type": "stream",
     "text": [
      "Finished /mnt/h/datasets/mmCIF/a4/2a4d.cif in 0.18s\n",
      "Failed /mnt/h/datasets/mmCIF/a4/2a4e.cif: Too high resolution 3.2\n"
     ]
    },
    {
     "name": "stderr",
     "output_type": "stream",
     "text": [
      "/home/nwoodall/miniconda3/envs/se33/lib/python3.9/site-packages/Bio/PDB/StructureBuilder.py:89: PDBConstructionWarning: WARNING: Chain A is discontinuous at line 1561.\n",
      "  warnings.warn(\n",
      "/home/nwoodall/miniconda3/envs/se33/lib/python3.9/site-packages/Bio/PDB/StructureBuilder.py:89: PDBConstructionWarning: WARNING: Chain B is discontinuous at line 1595.\n",
      "  warnings.warn(\n"
     ]
    },
    {
     "name": "stdout",
     "output_type": "stream",
     "text": [
      "Finished /mnt/h/datasets/mmCIF/a4/2a4f.cif in 0.17s\n",
      "Failed /mnt/h/datasets/mmCIF/a4/2a4g.cif: Too long 551\n",
      "Failed /mnt/h/datasets/mmCIF/a4/2a4h.cif: Invalid resolution 0.0\n",
      "Failed /mnt/h/datasets/mmCIF/a4/2a4j.cif: Invalid resolution 0.0\n",
      "Failed /mnt/h/datasets/mmCIF/a4/2a4k.cif: Too long 527\n",
      "Failed /mnt/h/datasets/mmCIF/a4/2a4l.cif: Too long 369\n",
      "Failed /mnt/h/datasets/mmCIF/a4/2a4m.cif: Too long 2185\n",
      "Failed /mnt/h/datasets/mmCIF/a4/2a4n.cif: Too long 561\n",
      "Failed /mnt/h/datasets/mmCIF/a4/2a4o.cif: Too long 474\n",
      "Failed /mnt/h/datasets/mmCIF/a4/2a4q.cif: Too long 543\n",
      "Failed /mnt/h/datasets/mmCIF/a4/2a4r.cif: Too long 534\n",
      "Failed /mnt/h/datasets/mmCIF/a4/2a4t.cif: Too long 418\n",
      "Failed /mnt/h/datasets/mmCIF/a4/2a4v.cif: Too long 312\n",
      "Failed /mnt/h/datasets/mmCIF/a4/2a4w.cif: Too long 606\n",
      "Failed /mnt/h/datasets/mmCIF/a4/2a4x.cif: Too long 553\n",
      "Failed /mnt/h/datasets/mmCIF/a4/2a4z.cif: Too long 820\n",
      "Failed /mnt/h/datasets/mmCIF/a4/3a40.cif: Too long 716\n",
      "Failed /mnt/h/datasets/mmCIF/a4/3a42.cif: Too long 368\n",
      "Failed /mnt/h/datasets/mmCIF/a4/3a43.cif: Too long 384\n",
      "Failed /mnt/h/datasets/mmCIF/a4/3a44.cif: Too high resolution 3.3\n",
      "Failed /mnt/h/datasets/mmCIF/a4/3a45.cif: Too long 1109\n",
      "Failed /mnt/h/datasets/mmCIF/a4/3a46.cif: Too long 1046\n",
      "Failed /mnt/h/datasets/mmCIF/a4/3a47.cif: Too long 1081\n",
      "Failed /mnt/h/datasets/mmCIF/a4/3a4a.cif: Too long 1170\n",
      "Finished /mnt/h/datasets/mmCIF/a4/3a4c.cif in 0.11s\n",
      "Failed /mnt/h/datasets/mmCIF/a4/3a4d.cif: Too long 357\n",
      "Failed /mnt/h/datasets/mmCIF/a4/3a4e.cif: Too long 400\n",
      "Failed /mnt/h/datasets/mmCIF/a4/3a4f.cif: Too long 366\n",
      "Failed /mnt/h/datasets/mmCIF/a4/3a4g.cif: Too long 735\n",
      "Failed /mnt/h/datasets/mmCIF/a4/3a4h.cif: Too high resolution 3.05\n",
      "Failed /mnt/h/datasets/mmCIF/a4/3a4i.cif: Too long 848\n",
      "Failed /mnt/h/datasets/mmCIF/a4/3a4j.cif: Too long 705\n",
      "Failed /mnt/h/datasets/mmCIF/a4/3a4k.cif: Too long 1848\n",
      "Failed /mnt/h/datasets/mmCIF/a4/3a4l.cif: Too long 784\n",
      "Failed /mnt/h/datasets/mmCIF/a4/3a4m.cif: Too long 747\n",
      "Failed /mnt/h/datasets/mmCIF/a4/3a4n.cif: Too long 619\n",
      "Failed /mnt/h/datasets/mmCIF/a4/3a4o.cif: Too high resolution 3.0\n",
      "Failed /mnt/h/datasets/mmCIF/a4/3a4p.cif: Too long 330\n",
      "Failed /mnt/h/datasets/mmCIF/a4/3a4r.cif: Too long 432\n",
      "Failed /mnt/h/datasets/mmCIF/a4/3a4s.cif: Too long 446\n",
      "Failed /mnt/h/datasets/mmCIF/a4/3a4t.cif: Too long 680\n",
      "Failed /mnt/h/datasets/mmCIF/a4/3a4u.cif: Too long 490\n",
      "Failed /mnt/h/datasets/mmCIF/a4/3a4v.cif: Too long 921\n",
      "Failed /mnt/h/datasets/mmCIF/a4/3a4w.cif: Too long 960\n",
      "Failed /mnt/h/datasets/mmCIF/a4/3a4x.cif: Too long 1257\n",
      "Failed /mnt/h/datasets/mmCIF/a4/3a4y.cif: Too long 1923\n",
      "Failed /mnt/h/datasets/mmCIF/a4/3a4z.cif: Too long 2840\n",
      "Failed /mnt/h/datasets/mmCIF/a4/4a41.cif: Too long 399\n",
      "Failed /mnt/h/datasets/mmCIF/a4/4a42.cif: Too long 429\n",
      "Failed /mnt/h/datasets/mmCIF/a4/4a44.cif: Too long 373\n"
     ]
    },
    {
     "name": "stderr",
     "output_type": "stream",
     "text": [
      "/home/nwoodall/miniconda3/envs/se33/lib/python3.9/site-packages/Bio/PDB/StructureBuilder.py:89: PDBConstructionWarning: WARNING: Chain A is discontinuous at line 1089.\n",
      "  warnings.warn(\n"
     ]
    },
    {
     "name": "stdout",
     "output_type": "stream",
     "text": [
      "Finished /mnt/h/datasets/mmCIF/a4/4a45.cif in 0.43s\n",
      "Failed /mnt/h/datasets/mmCIF/a4/4a46.cif: Too long 385\n",
      "Failed /mnt/h/datasets/mmCIF/a4/4a47.cif: Too long 351\n"
     ]
    },
    {
     "name": "stderr",
     "output_type": "stream",
     "text": [
      "/home/nwoodall/miniconda3/envs/se33/lib/python3.9/site-packages/Bio/PDB/StructureBuilder.py:89: PDBConstructionWarning: WARNING: Chain A is discontinuous at line 1030.\n",
      "  warnings.warn(\n",
      "/home/nwoodall/miniconda3/envs/se33/lib/python3.9/site-packages/Bio/PDB/StructureBuilder.py:89: PDBConstructionWarning: WARNING: Chain B is discontinuous at line 1032.\n",
      "  warnings.warn(\n",
      "/home/nwoodall/miniconda3/envs/se33/lib/python3.9/site-packages/Bio/PDB/StructureBuilder.py:89: PDBConstructionWarning: WARNING: Chain A is discontinuous at line 1034.\n",
      "  warnings.warn(\n",
      "/home/nwoodall/miniconda3/envs/se33/lib/python3.9/site-packages/Bio/PDB/StructureBuilder.py:89: PDBConstructionWarning: WARNING: Chain B is discontinuous at line 1091.\n",
      "  warnings.warn(\n"
     ]
    },
    {
     "name": "stdout",
     "output_type": "stream",
     "text": [
      "Finished /mnt/h/datasets/mmCIF/a4/4a48.cif in 0.18s\n",
      "Failed /mnt/h/datasets/mmCIF/a4/4a49.cif: Too long 358\n",
      "Failed /mnt/h/datasets/mmCIF/a4/4a4a.cif: Too long 1714\n",
      "Failed /mnt/h/datasets/mmCIF/a4/4a4b.cif: Too long 563\n",
      "Failed /mnt/h/datasets/mmCIF/a4/4a4c.cif: Too long 555\n",
      "Failed /mnt/h/datasets/mmCIF/a4/4a4d.cif: Too long 310\n",
      "Failed /mnt/h/datasets/mmCIF/a4/4a4e.cif: Invalid resolution 0.0\n",
      "Failed /mnt/h/datasets/mmCIF/a4/4a4f.cif: Invalid resolution 0.0\n",
      "Failed /mnt/h/datasets/mmCIF/a4/4a4g.cif: Invalid resolution 0.0\n",
      "Failed /mnt/h/datasets/mmCIF/a4/4a4h.cif: Invalid resolution 0.0\n",
      "Failed /mnt/h/datasets/mmCIF/a4/4a4i.cif: Too long 379\n",
      "Finished /mnt/h/datasets/mmCIF/a4/4a4j.cif in 0.11s\n",
      "Failed /mnt/h/datasets/mmCIF/a4/4a4k.cif: Too high resolution 3.25\n",
      "Failed /mnt/h/datasets/mmCIF/a4/4a4l.cif: Too long 347\n",
      "Failed /mnt/h/datasets/mmCIF/a4/4a4m.cif: Too high resolution 3.3\n",
      "Failed /mnt/h/datasets/mmCIF/a4/4a4o.cif: Too long 302\n",
      "Failed /mnt/h/datasets/mmCIF/a4/4a4p.cif: Too long 752\n",
      "Failed /mnt/h/datasets/mmCIF/a4/4a4q.cif: Too long 376\n",
      "Failed /mnt/h/datasets/mmCIF/a4/4a4r.cif: Encountered errors {('4a4r', ''): 'No protein chains found in this file.'}\n",
      "Failed /mnt/h/datasets/mmCIF/a4/4a4s.cif: Encountered errors {('4a4s', ''): 'No protein chains found in this file.'}\n",
      "Failed /mnt/h/datasets/mmCIF/a4/4a4t.cif: Encountered errors {('4a4t', ''): 'No protein chains found in this file.'}\n",
      "Failed /mnt/h/datasets/mmCIF/a4/4a4u.cif: Encountered errors {('4a4u', ''): 'No protein chains found in this file.'}\n",
      "Failed /mnt/h/datasets/mmCIF/a4/4a4v.cif: Too long 778\n",
      "Failed /mnt/h/datasets/mmCIF/a4/4a4w.cif: Too long 800\n",
      "Failed /mnt/h/datasets/mmCIF/a4/4a4x.cif: Too long 322\n",
      "Finished /mnt/h/datasets/mmCIF/a4/4a4y.cif in 0.18s\n",
      "Failed /mnt/h/datasets/mmCIF/a4/4a4z.cif: Too long 1012\n",
      "Failed /mnt/h/datasets/mmCIF/a4/5a40.cif: Too high resolution 3.6\n",
      "Failed /mnt/h/datasets/mmCIF/a4/5a42.cif: Too high resolution 16.0\n",
      "Failed /mnt/h/datasets/mmCIF/a4/5a43.cif: Too long 467\n",
      "Finished /mnt/h/datasets/mmCIF/a4/5a44.cif in 0.39s\n",
      "Finished /mnt/h/datasets/mmCIF/a4/5a45.cif in 0.16s\n",
      "Failed /mnt/h/datasets/mmCIF/a4/5a46.cif: Too long 823\n",
      "Failed /mnt/h/datasets/mmCIF/a4/5a47.cif: Too long 498\n"
     ]
    },
    {
     "name": "stderr",
     "output_type": "stream",
     "text": [
      "/home/nwoodall/miniconda3/envs/se33/lib/python3.9/site-packages/Bio/PDB/StructureBuilder.py:89: PDBConstructionWarning: WARNING: Chain A is discontinuous at line 1401.\n",
      "  warnings.warn(\n",
      "/home/nwoodall/miniconda3/envs/se33/lib/python3.9/site-packages/Bio/PDB/StructureBuilder.py:89: PDBConstructionWarning: WARNING: Chain B is discontinuous at line 1436.\n",
      "  warnings.warn(\n"
     ]
    },
    {
     "name": "stdout",
     "output_type": "stream",
     "text": [
      "Finished /mnt/h/datasets/mmCIF/a4/5a48.cif in 0.14s\n",
      "Failed /mnt/h/datasets/mmCIF/a4/5a49.cif: Too long 928\n",
      "Failed /mnt/h/datasets/mmCIF/a4/5a4a.cif: Too long 472\n",
      "Failed /mnt/h/datasets/mmCIF/a4/5a4b.cif: Too long 647\n",
      "Failed /mnt/h/datasets/mmCIF/a4/5a4c.cif: Too long 945\n",
      "Failed /mnt/h/datasets/mmCIF/a4/5a4d.cif: Too long 2611\n",
      "Failed /mnt/h/datasets/mmCIF/a4/5a4e.cif: Too long 1354\n",
      "Failed /mnt/h/datasets/mmCIF/a4/5a4f.cif: Too long 2681\n",
      "Failed /mnt/h/datasets/mmCIF/a4/5a4g.cif: Invalid resolution 0.0\n",
      "Failed /mnt/h/datasets/mmCIF/a4/5a4h.cif: Invalid resolution 0.0\n",
      "Failed /mnt/h/datasets/mmCIF/a4/5a4i.cif: Too long 2645\n",
      "Failed /mnt/h/datasets/mmCIF/a4/5a4j.cif: Too long 3202\n",
      "Failed /mnt/h/datasets/mmCIF/a4/5a4k.cif: Too long 2142\n",
      "Failed /mnt/h/datasets/mmCIF/a4/5a4l.cif: Too long 1632\n",
      "Failed /mnt/h/datasets/mmCIF/a4/5a4m.cif: Too long 3191\n",
      "Finished /mnt/h/datasets/mmCIF/a4/5a4n.cif in 0.17s\n"
     ]
    },
    {
     "name": "stderr",
     "output_type": "stream",
     "text": [
      "/home/nwoodall/miniconda3/envs/se33/lib/python3.9/site-packages/Bio/PDB/StructureBuilder.py:89: PDBConstructionWarning: WARNING: Chain A is discontinuous at line 1096.\n",
      "  warnings.warn(\n",
      "/home/nwoodall/miniconda3/envs/se33/lib/python3.9/site-packages/Bio/PDB/StructureBuilder.py:89: PDBConstructionWarning: WARNING: Chain B is discontinuous at line 1098.\n",
      "  warnings.warn(\n",
      "/home/nwoodall/miniconda3/envs/se33/lib/python3.9/site-packages/Bio/PDB/StructureBuilder.py:89: PDBConstructionWarning: WARNING: Chain A is discontinuous at line 1100.\n",
      "  warnings.warn(\n",
      "/home/nwoodall/miniconda3/envs/se33/lib/python3.9/site-packages/Bio/PDB/StructureBuilder.py:89: PDBConstructionWarning: WARNING: Chain B is discontinuous at line 1135.\n",
      "  warnings.warn(\n",
      "/home/nwoodall/miniconda3/envs/se33/lib/python3.9/site-packages/Bio/PDB/StructureBuilder.py:89: PDBConstructionWarning: WARNING: Chain A is discontinuous at line 1172.\n",
      "  warnings.warn(\n",
      "/home/nwoodall/miniconda3/envs/se33/lib/python3.9/site-packages/Bio/PDB/StructureBuilder.py:89: PDBConstructionWarning: WARNING: Chain B is discontinuous at line 1174.\n",
      "  warnings.warn(\n",
      "/home/nwoodall/miniconda3/envs/se33/lib/python3.9/site-packages/Bio/PDB/StructureBuilder.py:89: PDBConstructionWarning: WARNING: Chain A is discontinuous at line 1178.\n",
      "  warnings.warn(\n",
      "/home/nwoodall/miniconda3/envs/se33/lib/python3.9/site-packages/Bio/PDB/StructureBuilder.py:89: PDBConstructionWarning: WARNING: Chain B is discontinuous at line 1232.\n",
      "  warnings.warn(\n"
     ]
    },
    {
     "name": "stdout",
     "output_type": "stream",
     "text": [
      "Finished /mnt/h/datasets/mmCIF/a4/5a4o.cif in 0.13s\n",
      "Finished /mnt/h/datasets/mmCIF/a4/5a4p.cif in 0.27s\n",
      "Failed /mnt/h/datasets/mmCIF/a4/5a4q.cif: Too long 1695\n",
      "Finished /mnt/h/datasets/mmCIF/a4/5a4r.cif in 0.62s\n",
      "Failed /mnt/h/datasets/mmCIF/a4/5a4t.cif: Too long 1530\n",
      "Failed /mnt/h/datasets/mmCIF/a4/5a4u.cif: Too long 1677\n",
      "Failed /mnt/h/datasets/mmCIF/a4/5a4v.cif: Too long 1593\n",
      "Failed /mnt/h/datasets/mmCIF/a4/5a4w.cif: Too long 1597\n",
      "Failed /mnt/h/datasets/mmCIF/a4/5a4x.cif: Too long 446\n",
      "Failed /mnt/h/datasets/mmCIF/a4/6a40.cif: Too long 897\n",
      "Failed /mnt/h/datasets/mmCIF/a4/6a41.cif: Too long 427\n",
      "Failed /mnt/h/datasets/mmCIF/a4/6a42.cif: Too long 472\n",
      "Failed /mnt/h/datasets/mmCIF/a4/6a43.cif: Too long 354\n",
      "Failed /mnt/h/datasets/mmCIF/a4/6a44.cif: Too long 387\n",
      "Failed /mnt/h/datasets/mmCIF/a4/6a45.cif: Too long 629\n",
      "Failed /mnt/h/datasets/mmCIF/a4/6a46.cif: Too long 556\n",
      "Failed /mnt/h/datasets/mmCIF/a4/6a47.cif: Too long 798\n",
      "Failed /mnt/h/datasets/mmCIF/a4/6a48.cif: Too long 810\n",
      "Finished /mnt/h/datasets/mmCIF/a4/6a4a.cif in 0.18s\n",
      "Failed /mnt/h/datasets/mmCIF/a4/6a4b.cif: Too long 1428\n",
      "Failed /mnt/h/datasets/mmCIF/a4/6a4c.cif: Invalid resolution 0.0\n",
      "Failed /mnt/h/datasets/mmCIF/a4/6a4d.cif: Too long 517\n",
      "Failed /mnt/h/datasets/mmCIF/a4/6a4e.cif: Too long 428\n",
      "Failed /mnt/h/datasets/mmCIF/a4/6a4f.cif: Too long 553\n",
      "Failed /mnt/h/datasets/mmCIF/a4/6a4g.cif: Too long 441\n",
      "Failed /mnt/h/datasets/mmCIF/a4/6a4h.cif: Too long 457\n",
      "Failed /mnt/h/datasets/mmCIF/a4/6a4i.cif: Too long 1256\n",
      "Failed /mnt/h/datasets/mmCIF/a4/6a4j.cif: Too high resolution 3.4\n",
      "Failed /mnt/h/datasets/mmCIF/a4/6a4k.cif: Too high resolution 3.15\n",
      "Failed /mnt/h/datasets/mmCIF/a4/6a4l.cif: Too long 495\n",
      "Finished /mnt/h/datasets/mmCIF/a4/6a4m.cif in 0.21s\n",
      "Finished /mnt/h/datasets/mmCIF/a4/6a4n.cif in 0.14s\n",
      "Finished /mnt/h/datasets/mmCIF/a4/6a4o.cif in 0.14s\n",
      "Failed /mnt/h/datasets/mmCIF/a4/6a4p.cif: Too long 308\n",
      "Failed /mnt/h/datasets/mmCIF/a4/6a4q.cif: Too long 304\n",
      "Failed /mnt/h/datasets/mmCIF/a4/6a4r.cif: Too long 736\n",
      "Failed /mnt/h/datasets/mmCIF/a4/6a4s.cif: Too long 772\n",
      "Failed /mnt/h/datasets/mmCIF/a4/6a4t.cif: Too long 616\n",
      "Failed /mnt/h/datasets/mmCIF/a4/6a4u.cif: Too long 2084\n",
      "Failed /mnt/h/datasets/mmCIF/a4/6a4v.cif: Too long 599\n",
      "Failed /mnt/h/datasets/mmCIF/a4/6a4w.cif: Too long 468\n",
      "Failed /mnt/h/datasets/mmCIF/a4/6a4x.cif: Too long 303\n",
      "Failed /mnt/h/datasets/mmCIF/a4/6a4y.cif: Too long 821\n",
      "Failed /mnt/h/datasets/mmCIF/a4/6a4z.cif: Too long 487\n",
      "Failed /mnt/h/datasets/mmCIF/a4/7a40.cif: Too long 697\n",
      "Failed /mnt/h/datasets/mmCIF/a4/7a41.cif: Too long 882\n",
      "Failed /mnt/h/datasets/mmCIF/a4/7a42.cif: Too long 897\n",
      "Failed /mnt/h/datasets/mmCIF/a4/7a43.cif: Too long 903\n",
      "Finished /mnt/h/datasets/mmCIF/a4/7a44.cif in 0.16s\n",
      "Finished /mnt/h/datasets/mmCIF/a4/7a45.cif in 0.16s\n",
      "Failed /mnt/h/datasets/mmCIF/a4/7a46.cif: Too high resolution 3.0\n",
      "Failed /mnt/h/datasets/mmCIF/a4/7a47.cif: Too long 718\n"
     ]
    },
    {
     "name": "stderr",
     "output_type": "stream",
     "text": [
      "/home/nwoodall/miniconda3/envs/se33/lib/python3.9/site-packages/Bio/PDB/StructureBuilder.py:89: PDBConstructionWarning: WARNING: Chain A is discontinuous at line 1295.\n",
      "  warnings.warn(\n",
      "/home/nwoodall/miniconda3/envs/se33/lib/python3.9/site-packages/Bio/PDB/StructureBuilder.py:89: PDBConstructionWarning: WARNING: Chain B is discontinuous at line 1371.\n",
      "  warnings.warn(\n"
     ]
    },
    {
     "name": "stdout",
     "output_type": "stream",
     "text": [
      "Finished /mnt/h/datasets/mmCIF/a4/7a48.cif in 0.20s\n",
      "Failed /mnt/h/datasets/mmCIF/a4/7a49.cif: Too long 899\n",
      "Failed /mnt/h/datasets/mmCIF/a4/7a4a.cif: Too high resolution 3.76\n",
      "Failed /mnt/h/datasets/mmCIF/a4/7a4b.cif: Too long 1018\n",
      "Failed /mnt/h/datasets/mmCIF/a4/7a4c.cif: Too long 854\n",
      "Failed /mnt/h/datasets/mmCIF/a4/7a4d.cif: Too long 1149\n",
      "Failed /mnt/h/datasets/mmCIF/a4/7a4f.cif: Too high resolution 3.5\n",
      "Failed /mnt/h/datasets/mmCIF/a4/7a4g.cif: Too high resolution 4.2\n",
      "Failed /mnt/h/datasets/mmCIF/a4/7a4h.cif: Too high resolution 4.5\n",
      "Failed /mnt/h/datasets/mmCIF/a4/7a4i.cif: Too high resolution 7.04\n",
      "Failed /mnt/h/datasets/mmCIF/a4/7a4j.cif: Too high resolution 3.04\n",
      "Failed /mnt/h/datasets/mmCIF/a4/7a4k.cif: Too long 664\n",
      "Failed /mnt/h/datasets/mmCIF/a4/7a4l.cif: Invalid resolution 0.0\n",
      "Finished /mnt/h/datasets/mmCIF/a4/7a4m.cif in 0.42s\n",
      "Failed /mnt/h/datasets/mmCIF/a4/7a4n.cif: Too long 2910\n",
      "Failed /mnt/h/datasets/mmCIF/a4/7a4o.cif: Too long 945\n",
      "Failed /mnt/h/datasets/mmCIF/a4/7a4p.cif: Encountered errors {('7a4p', ''): KeyError('U')}\n",
      "Failed /mnt/h/datasets/mmCIF/a4/7a4q.cif: Too long 509\n",
      "Failed /mnt/h/datasets/mmCIF/a4/7a4r.cif: Too long 1310\n",
      "Failed /mnt/h/datasets/mmCIF/a4/7a4s.cif: Too high resolution 3.1\n"
     ]
    },
    {
     "name": "stderr",
     "output_type": "stream",
     "text": [
      "/home/nwoodall/miniconda3/envs/se33/lib/python3.9/site-packages/Bio/PDB/StructureBuilder.py:89: PDBConstructionWarning: WARNING: Chain A is discontinuous at line 1366.\n",
      "  warnings.warn(\n",
      "/home/nwoodall/miniconda3/envs/se33/lib/python3.9/site-packages/Bio/PDB/StructureBuilder.py:89: PDBConstructionWarning: WARNING: Chain B is discontinuous at line 1388.\n",
      "  warnings.warn(\n",
      "/home/nwoodall/miniconda3/envs/se33/lib/python3.9/site-packages/Bio/PDB/StructureBuilder.py:89: PDBConstructionWarning: WARNING: Chain A is discontinuous at line 1393.\n",
      "  warnings.warn(\n",
      "/home/nwoodall/miniconda3/envs/se33/lib/python3.9/site-packages/Bio/PDB/StructureBuilder.py:89: PDBConstructionWarning: WARNING: Chain B is discontinuous at line 1473.\n",
      "  warnings.warn(\n",
      "/home/nwoodall/miniconda3/envs/se33/lib/python3.9/site-packages/Bio/PDB/StructureBuilder.py:89: PDBConstructionWarning: WARNING: Chain C is discontinuous at line 1480.\n",
      "  warnings.warn(\n"
     ]
    },
    {
     "name": "stdout",
     "output_type": "stream",
     "text": [
      "Finished /mnt/h/datasets/mmCIF/a4/7a4t.cif in 0.21s\n",
      "Failed /mnt/h/datasets/mmCIF/a4/7a4u.cif: Too long 888\n",
      "Failed /mnt/h/datasets/mmCIF/a4/7a4v.cif: Too long 841\n",
      "Failed /mnt/h/datasets/mmCIF/a4/7a4w.cif: Too long 928\n",
      "Failed /mnt/h/datasets/mmCIF/a4/7a4x.cif: Too long 565\n",
      "Failed /mnt/h/datasets/mmCIF/a4/7a4y.cif: Too long 542\n",
      "Failed /mnt/h/datasets/mmCIF/a4/7a4z.cif: Too long 566\n",
      "Failed /mnt/h/datasets/mmCIF/a4/8a40.cif: Too high resolution 3.0\n",
      "Failed /mnt/h/datasets/mmCIF/a4/8a41.cif: Too high resolution 4.88\n",
      "Failed /mnt/h/datasets/mmCIF/a4/8a42.cif: Too long 1310\n",
      "Failed /mnt/h/datasets/mmCIF/a4/8a43.cif: Too high resolution 4.09\n",
      "Failed /mnt/h/datasets/mmCIF/a4/8a44.cif: Too long 1010\n",
      "Failed /mnt/h/datasets/mmCIF/a4/8a45.cif: Too long 5633\n",
      "Failed /mnt/h/datasets/mmCIF/a4/8a46.cif: Too long 450\n",
      "Failed /mnt/h/datasets/mmCIF/a4/8a47.cif: Too long 945\n",
      "Failed /mnt/h/datasets/mmCIF/a4/8a48.cif: Too high resolution 3.04\n",
      "Failed /mnt/h/datasets/mmCIF/a4/8a49.cif: Too high resolution 3.45\n",
      "Failed /mnt/h/datasets/mmCIF/a4/8a4a.cif: Too long 421\n",
      "Failed /mnt/h/datasets/mmCIF/a4/8a4b.cif: Too long 777\n",
      "Failed /mnt/h/datasets/mmCIF/a4/8a4c.cif: Too long 786\n",
      "Failed /mnt/h/datasets/mmCIF/a4/8a4d.cif: Too long 5498\n",
      "Finished /mnt/h/datasets/mmCIF/a4/8a4e.cif in 0.13s\n",
      "Failed /mnt/h/datasets/mmCIF/a4/8a4f.cif: Invalid resolution 0.0\n",
      "Failed /mnt/h/datasets/mmCIF/a4/8a4g.cif: Too long 539\n",
      "Failed /mnt/h/datasets/mmCIF/a4/8a4i.cif: Too long 325\n",
      "Failed /mnt/h/datasets/mmCIF/a4/8a4j.cif: Too long 492\n",
      "Failed /mnt/h/datasets/mmCIF/a4/8a4k.cif: Too long 567\n",
      "Failed /mnt/h/datasets/mmCIF/a4/8a4l.cif: Too long 1125\n",
      "Failed /mnt/h/datasets/mmCIF/a4/8a4m.cif: Too long 333\n",
      "Failed /mnt/h/datasets/mmCIF/a4/8a4n.cif: Too long 807\n",
      "Failed /mnt/h/datasets/mmCIF/a4/8a4o.cif: Too long 494\n",
      "Failed /mnt/h/datasets/mmCIF/a4/8a4q.cif: Too long 538\n",
      "Failed /mnt/h/datasets/mmCIF/a4/8a4r.cif: Too high resolution 3.59\n",
      "Failed /mnt/h/datasets/mmCIF/a4/8a4t.cif: Too long 662\n",
      "Failed /mnt/h/datasets/mmCIF/a4/8a4u.cif: Too long 1267\n",
      "Failed /mnt/h/datasets/mmCIF/a4/8a4v.cif: Too long 1691\n",
      "Failed /mnt/h/datasets/mmCIF/a4/8a4w.cif: Too long 1955\n",
      "Failed /mnt/h/datasets/mmCIF/a4/8a4x.cif: Too long 1222\n",
      "Finished /mnt/h/datasets/mmCIF/a4/8a4y.cif in 0.24s\n"
     ]
    },
    {
     "name": "stderr",
     "output_type": "stream",
     "text": [
      "\r",
      " 12%|█████████▏                                                                  | 129/1060 [12:04<29:18:59, 113.36s/it]"
     ]
    },
    {
     "name": "stdout",
     "output_type": "stream",
     "text": [
      "Gathering mmCIF paths\n"
     ]
    },
    {
     "name": "stderr",
     "output_type": "stream",
     "text": [
      "\n",
      "  0%|                                                                                           | 0/271 [00:00<?, ?it/s]\u001b[A\n",
      " 28%|███████████████████████                                                          | 77/271 [00:00<00:00, 761.94it/s]\u001b[A\n",
      " 58%|██████████████████████████████████████████████▎                                 | 157/271 [00:00<00:00, 779.57it/s]\u001b[A\n",
      "100%|████████████████████████████████████████████████████████████████████████████████| 271/271 [00:00<00:00, 805.92it/s]\u001b[A\n"
     ]
    },
    {
     "name": "stdout",
     "output_type": "stream",
     "text": [
      "Processing 0 files our of 0\n",
      "Failed /mnt/h/datasets/mmCIF/a5/1a50.cif: Too long 891\n",
      "Failed /mnt/h/datasets/mmCIF/a5/1a51.cif: Encountered errors {('1a51', ''): 'No protein chains found in this file.'}\n",
      "Failed /mnt/h/datasets/mmCIF/a5/1a52.cif: Too long 517\n",
      "Failed /mnt/h/datasets/mmCIF/a5/1a53.cif: Too long 490\n",
      "Failed /mnt/h/datasets/mmCIF/a5/1a54.cif: Too long 657\n",
      "Failed /mnt/h/datasets/mmCIF/a5/1a55.cif: Too long 590\n",
      "Failed /mnt/h/datasets/mmCIF/a5/1a56.cif: Invalid resolution 0.0\n",
      "Failed /mnt/h/datasets/mmCIF/a5/1a57.cif: Invalid resolution 0.0\n",
      "Failed /mnt/h/datasets/mmCIF/a5/1a58.cif: Too long 331\n",
      "Failed /mnt/h/datasets/mmCIF/a5/1a59.cif: Too long 379\n",
      "Failed /mnt/h/datasets/mmCIF/a5/1a5a.cif: Too long 1040\n",
      "Failed /mnt/h/datasets/mmCIF/a5/1a5b.cif: Too long 978\n",
      "Failed /mnt/h/datasets/mmCIF/a5/1a5c.cif: Too high resolution 3.0\n",
      "Failed /mnt/h/datasets/mmCIF/a5/1a5d.cif: Too long 603\n",
      "Failed /mnt/h/datasets/mmCIF/a5/1a5e.cif: Invalid resolution 0.0\n",
      "Failed /mnt/h/datasets/mmCIF/a5/1a5f.cif: Too long 442\n",
      "Failed /mnt/h/datasets/mmCIF/a5/1a5g.cif: Too long 425\n",
      "Failed /mnt/h/datasets/mmCIF/a5/1a5h.cif: Too long 611\n",
      "Finished /mnt/h/datasets/mmCIF/a5/1a5i.cif in 0.20s\n",
      "Failed /mnt/h/datasets/mmCIF/a5/1a5j.cif: Invalid resolution 0.0\n",
      "Failed /mnt/h/datasets/mmCIF/a5/1a5k.cif: Too long 944\n",
      "Failed /mnt/h/datasets/mmCIF/a5/1a5l.cif: Too long 920\n",
      "Failed /mnt/h/datasets/mmCIF/a5/1a5m.cif: Too long 943\n",
      "Failed /mnt/h/datasets/mmCIF/a5/1a5n.cif: Too long 930\n",
      "Failed /mnt/h/datasets/mmCIF/a5/1a5o.cif: Too long 944\n",
      "Finished /mnt/h/datasets/mmCIF/a5/1a5p.cif in 0.12s\n",
      "Finished /mnt/h/datasets/mmCIF/a5/1a5q.cif in 0.12s\n",
      "Failed /mnt/h/datasets/mmCIF/a5/1a5r.cif: Invalid resolution 0.0\n",
      "Failed /mnt/h/datasets/mmCIF/a5/1a5s.cif: Too long 765\n",
      "Failed /mnt/h/datasets/mmCIF/a5/1a5t.cif: Too long 527\n",
      "Failed /mnt/h/datasets/mmCIF/a5/1a5u.cif: Too long 5998\n",
      "Failed /mnt/h/datasets/mmCIF/a5/1a5v.cif: Too long 320\n",
      "Finished /mnt/h/datasets/mmCIF/a5/1a5w.cif in 0.14s\n",
      "Failed /mnt/h/datasets/mmCIF/a5/1a5x.cif: Too long 316\n",
      "Failed /mnt/h/datasets/mmCIF/a5/1a5y.cif: Too long 358\n",
      "Failed /mnt/h/datasets/mmCIF/a5/1a5z.cif: Too long 663\n",
      "Failed /mnt/h/datasets/mmCIF/a5/2a50.cif: Too long 1118\n",
      "Failed /mnt/h/datasets/mmCIF/a5/2a51.cif: Invalid resolution 0.0\n",
      "Failed /mnt/h/datasets/mmCIF/a5/2a52.cif: Too long 926\n",
      "Failed /mnt/h/datasets/mmCIF/a5/2a53.cif: Too long 1037\n",
      "Failed /mnt/h/datasets/mmCIF/a5/2a54.cif: Too long 1034\n",
      "Failed /mnt/h/datasets/mmCIF/a5/2a55.cif: Invalid resolution 0.0\n",
      "Failed /mnt/h/datasets/mmCIF/a5/2a56.cif: Too long 1025\n",
      "Failed /mnt/h/datasets/mmCIF/a5/2a57.cif: Too long 740\n",
      "Failed /mnt/h/datasets/mmCIF/a5/2a58.cif: Too long 768\n",
      "Failed /mnt/h/datasets/mmCIF/a5/2a59.cif: Too long 798\n",
      "Failed /mnt/h/datasets/mmCIF/a5/2a5a.cif: Too long 454\n"
     ]
    },
    {
     "name": "stderr",
     "output_type": "stream",
     "text": [
      "/home/nwoodall/miniconda3/envs/se33/lib/python3.9/site-packages/Bio/PDB/StructureBuilder.py:89: PDBConstructionWarning: WARNING: Chain A is discontinuous at line 1948.\n",
      "  warnings.warn(\n",
      "/home/nwoodall/miniconda3/envs/se33/lib/python3.9/site-packages/Bio/PDB/StructureBuilder.py:89: PDBConstructionWarning: WARNING: Chain B is discontinuous at line 1982.\n",
      "  warnings.warn(\n",
      "/home/nwoodall/miniconda3/envs/se33/lib/python3.9/site-packages/Bio/PDB/StructureBuilder.py:89: PDBConstructionWarning: WARNING: Chain A is discontinuous at line 1996.\n",
      "  warnings.warn(\n",
      "/home/nwoodall/miniconda3/envs/se33/lib/python3.9/site-packages/Bio/PDB/StructureBuilder.py:89: PDBConstructionWarning: WARNING: Chain B is discontinuous at line 2015.\n",
      "  warnings.warn(\n",
      "/home/nwoodall/miniconda3/envs/se33/lib/python3.9/site-packages/Bio/PDB/StructureBuilder.py:89: PDBConstructionWarning: WARNING: Chain A is discontinuous at line 1927.\n",
      "  warnings.warn(\n",
      "/home/nwoodall/miniconda3/envs/se33/lib/python3.9/site-packages/Bio/PDB/StructureBuilder.py:89: PDBConstructionWarning: WARNING: Chain B is discontinuous at line 1960.\n",
      "  warnings.warn(\n",
      "/home/nwoodall/miniconda3/envs/se33/lib/python3.9/site-packages/Bio/PDB/StructureBuilder.py:89: PDBConstructionWarning: WARNING: Chain A is discontinuous at line 1993.\n",
      "  warnings.warn(\n",
      "/home/nwoodall/miniconda3/envs/se33/lib/python3.9/site-packages/Bio/PDB/StructureBuilder.py:89: PDBConstructionWarning: WARNING: Chain B is discontinuous at line 2009.\n",
      "  warnings.warn(\n"
     ]
    },
    {
     "name": "stdout",
     "output_type": "stream",
     "text": [
      "Finished /mnt/h/datasets/mmCIF/a5/2a5b.cif in 0.21s\n",
      "Finished /mnt/h/datasets/mmCIF/a5/2a5c.cif in 0.20s\n",
      "Failed /mnt/h/datasets/mmCIF/a5/2a5d.cif: Too long 645\n",
      "Failed /mnt/h/datasets/mmCIF/a5/2a5e.cif: Invalid resolution 0.0\n",
      "Failed /mnt/h/datasets/mmCIF/a5/2a5f.cif: Too long 521\n",
      "Failed /mnt/h/datasets/mmCIF/a5/2a5g.cif: Too long 416\n",
      "Failed /mnt/h/datasets/mmCIF/a5/2a5h.cif: Too long 2270\n",
      "Failed /mnt/h/datasets/mmCIF/a5/2a5i.cif: Too long 565\n",
      "Failed /mnt/h/datasets/mmCIF/a5/2a5j.cif: Too long 452\n",
      "Failed /mnt/h/datasets/mmCIF/a5/2a5k.cif: Too long 884\n",
      "Failed /mnt/h/datasets/mmCIF/a5/2a5l.cif: Too long 825\n",
      "Failed /mnt/h/datasets/mmCIF/a5/2a5m.cif: Invalid resolution 0.0\n",
      "Failed /mnt/h/datasets/mmCIF/a5/2a5p.cif: Encountered errors {('2a5p', ''): 'No protein chains found in this file.'}\n",
      "Failed /mnt/h/datasets/mmCIF/a5/2a5r.cif: Encountered errors {('2a5r', ''): 'No protein chains found in this file.'}\n",
      "Failed /mnt/h/datasets/mmCIF/a5/2a5s.cif: Too long 595\n",
      "Failed /mnt/h/datasets/mmCIF/a5/2a5t.cif: Too long 891\n",
      "Failed /mnt/h/datasets/mmCIF/a5/2a5u.cif: Too long 860\n",
      "Failed /mnt/h/datasets/mmCIF/a5/2a5v.cif: Too long 1156\n",
      "Failed /mnt/h/datasets/mmCIF/a5/2a5w.cif: Too long 532\n",
      "Failed /mnt/h/datasets/mmCIF/a5/2a5x.cif: Too long 401\n",
      "Failed /mnt/h/datasets/mmCIF/a5/2a5y.cif: Too long 1311\n",
      "Failed /mnt/h/datasets/mmCIF/a5/2a5z.cif: Too long 1280\n",
      "Failed /mnt/h/datasets/mmCIF/a5/3a50.cif: Too long 3061\n",
      "Failed /mnt/h/datasets/mmCIF/a5/3a51.cif: Too long 3352\n",
      "Failed /mnt/h/datasets/mmCIF/a5/3a52.cif: Too long 1608\n",
      "Failed /mnt/h/datasets/mmCIF/a5/3a54.cif: Too long 1467\n",
      "Failed /mnt/h/datasets/mmCIF/a5/3a55.cif: Too long 1397\n",
      "Failed /mnt/h/datasets/mmCIF/a5/3a56.cif: Too long 1287\n",
      "Failed /mnt/h/datasets/mmCIF/a5/3a57.cif: Too long 348\n",
      "Failed /mnt/h/datasets/mmCIF/a5/3a58.cif: Too long 1179\n",
      "Failed /mnt/h/datasets/mmCIF/a5/3a59.cif: Too high resolution 3.41\n",
      "Failed /mnt/h/datasets/mmCIF/a5/3a5a.cif: Too long 411\n",
      "Failed /mnt/h/datasets/mmCIF/a5/3a5b.cif: Too long 342\n",
      "Failed /mnt/h/datasets/mmCIF/a5/3a5c.cif: Too high resolution 4.5\n",
      "Failed /mnt/h/datasets/mmCIF/a5/3a5d.cif: Too high resolution 4.8\n",
      "Finished /mnt/h/datasets/mmCIF/a5/3a5e.cif in 0.11s\n",
      "Failed /mnt/h/datasets/mmCIF/a5/3a5f.cif: Too long 1591\n",
      "Failed /mnt/h/datasets/mmCIF/a5/3a5g.cif: Too long 373\n",
      "Failed /mnt/h/datasets/mmCIF/a5/3a5i.cif: Too long 688\n",
      "Failed /mnt/h/datasets/mmCIF/a5/3a5j.cif: Too long 483\n",
      "Failed /mnt/h/datasets/mmCIF/a5/3a5k.cif: Too long 479\n",
      "Failed /mnt/h/datasets/mmCIF/a5/3a5l.cif: Too long 784\n",
      "Failed /mnt/h/datasets/mmCIF/a5/3a5m.cif: Too long 850\n",
      "Failed /mnt/h/datasets/mmCIF/a5/3a5n.cif: Too long 855\n",
      "Failed /mnt/h/datasets/mmCIF/a5/3a5o.cif: Too long 853\n",
      "Failed /mnt/h/datasets/mmCIF/a5/3a5p.cif: Too long 1270\n",
      "Failed /mnt/h/datasets/mmCIF/a5/3a5q.cif: Too long 1208\n",
      "Failed /mnt/h/datasets/mmCIF/a5/3a5r.cif: Too long 1307\n",
      "Failed /mnt/h/datasets/mmCIF/a5/3a5s.cif: Too long 1201\n"
     ]
    },
    {
     "name": "stderr",
     "output_type": "stream",
     "text": [
      "/home/nwoodall/miniconda3/envs/se33/lib/python3.9/site-packages/Bio/PDB/StructureBuilder.py:89: PDBConstructionWarning: WARNING: Chain C is discontinuous at line 2045.\n",
      "  warnings.warn(\n",
      "/home/nwoodall/miniconda3/envs/se33/lib/python3.9/site-packages/Bio/PDB/StructureBuilder.py:89: PDBConstructionWarning: WARNING: Chain A is discontinuous at line 2046.\n",
      "  warnings.warn(\n",
      "/home/nwoodall/miniconda3/envs/se33/lib/python3.9/site-packages/Bio/PDB/StructureBuilder.py:89: PDBConstructionWarning: WARNING: Chain B is discontinuous at line 2074.\n",
      "  warnings.warn(\n",
      "/home/nwoodall/miniconda3/envs/se33/lib/python3.9/site-packages/Bio/PDB/StructureBuilder.py:89: PDBConstructionWarning: WARNING: Chain C is discontinuous at line 2094.\n",
      "  warnings.warn(\n",
      "/home/nwoodall/miniconda3/envs/se33/lib/python3.9/site-packages/Bio/PDB/StructureBuilder.py:89: PDBConstructionWarning: WARNING: Chain D is discontinuous at line 2113.\n",
      "  warnings.warn(\n"
     ]
    },
    {
     "name": "stdout",
     "output_type": "stream",
     "text": [
      "Finished /mnt/h/datasets/mmCIF/a5/3a5t.cif in 0.23s\n",
      "Failed /mnt/h/datasets/mmCIF/a5/3a5u.cif: Too long 334\n",
      "Failed /mnt/h/datasets/mmCIF/a5/3a5v.cif: Too long 970\n",
      "Failed /mnt/h/datasets/mmCIF/a5/3a5w.cif: Too long 2606\n",
      "Failed /mnt/h/datasets/mmCIF/a5/3a5x.cif: Too high resolution 4.0\n",
      "Failed /mnt/h/datasets/mmCIF/a5/3a5y.cif: Too long 2265\n",
      "Failed /mnt/h/datasets/mmCIF/a5/3a5z.cif: Too long 2069\n",
      "Failed /mnt/h/datasets/mmCIF/a5/4a50.cif: Too long 378\n",
      "Failed /mnt/h/datasets/mmCIF/a5/4a51.cif: Too long 2512\n",
      "Failed /mnt/h/datasets/mmCIF/a5/4a52.cif: Invalid resolution 0.0\n",
      "Failed /mnt/h/datasets/mmCIF/a5/4a53.cif: Invalid resolution 0.0\n",
      "Failed /mnt/h/datasets/mmCIF/a5/4a54.cif: Invalid resolution 0.0\n",
      "Failed /mnt/h/datasets/mmCIF/a5/4a55.cif: Too high resolution 3.5\n",
      "Finished /mnt/h/datasets/mmCIF/a5/4a56.cif in 0.62s\n",
      "Failed /mnt/h/datasets/mmCIF/a5/4a57.cif: Too long 3749\n",
      "Failed /mnt/h/datasets/mmCIF/a5/4a59.cif: Too long 3260\n",
      "Failed /mnt/h/datasets/mmCIF/a5/4a5a.cif: Too long 2368\n",
      "Failed /mnt/h/datasets/mmCIF/a5/4a5b.cif: Too long 1432\n",
      "Failed /mnt/h/datasets/mmCIF/a5/4a5g.cif: Too long 1375\n",
      "Failed /mnt/h/datasets/mmCIF/a5/4a5k.cif: Too long 816\n",
      "Failed /mnt/h/datasets/mmCIF/a5/4a5l.cif: Too long 1240\n",
      "Failed /mnt/h/datasets/mmCIF/a5/4a5m.cif: Too high resolution 3.0\n",
      "Failed /mnt/h/datasets/mmCIF/a5/4a5n.cif: Too long 735\n",
      "Failed /mnt/h/datasets/mmCIF/a5/4a5o.cif: Too long 1260\n",
      "Failed /mnt/h/datasets/mmCIF/a5/4a5p.cif: Too high resolution 3.15\n",
      "Failed /mnt/h/datasets/mmCIF/a5/4a5q.cif: Too high resolution 17.0\n",
      "Failed /mnt/h/datasets/mmCIF/a5/4a5r.cif: Too long 802\n",
      "Failed /mnt/h/datasets/mmCIF/a5/4a5s.cif: Too long 3077\n",
      "Failed /mnt/h/datasets/mmCIF/a5/4a5t.cif: Too high resolution 3.49\n",
      "Failed /mnt/h/datasets/mmCIF/a5/4a5u.cif: Too long 422\n",
      "Failed /mnt/h/datasets/mmCIF/a5/4a5v.cif: Invalid resolution 0.0\n",
      "Failed /mnt/h/datasets/mmCIF/a5/4a5w.cif: Too high resolution 3.5\n"
     ]
    },
    {
     "name": "stderr",
     "output_type": "stream",
     "text": [
      "/home/nwoodall/miniconda3/envs/se33/lib/python3.9/site-packages/Bio/PDB/StructureBuilder.py:89: PDBConstructionWarning: WARNING: Chain A is discontinuous at line 1422.\n",
      "  warnings.warn(\n",
      "/home/nwoodall/miniconda3/envs/se33/lib/python3.9/site-packages/Bio/PDB/StructureBuilder.py:89: PDBConstructionWarning: WARNING: Chain B is discontinuous at line 1428.\n",
      "  warnings.warn(\n",
      "/home/nwoodall/miniconda3/envs/se33/lib/python3.9/site-packages/Bio/PDB/StructureBuilder.py:89: PDBConstructionWarning: WARNING: Chain C is discontinuous at line 1448.\n",
      "  warnings.warn(\n",
      "/home/nwoodall/miniconda3/envs/se33/lib/python3.9/site-packages/Bio/PDB/StructureBuilder.py:89: PDBConstructionWarning: WARNING: Chain A is discontinuous at line 1454.\n",
      "  warnings.warn(\n",
      "/home/nwoodall/miniconda3/envs/se33/lib/python3.9/site-packages/Bio/PDB/StructureBuilder.py:89: PDBConstructionWarning: WARNING: Chain B is discontinuous at line 1477.\n",
      "  warnings.warn(\n",
      "/home/nwoodall/miniconda3/envs/se33/lib/python3.9/site-packages/Bio/PDB/StructureBuilder.py:89: PDBConstructionWarning: WARNING: Chain C is discontinuous at line 1520.\n",
      "  warnings.warn(\n",
      "/home/nwoodall/miniconda3/envs/se33/lib/python3.9/site-packages/Bio/PDB/StructureBuilder.py:89: PDBConstructionWarning: WARNING: Chain D is discontinuous at line 1524.\n",
      "  warnings.warn(\n"
     ]
    },
    {
     "name": "stdout",
     "output_type": "stream",
     "text": [
      "Finished /mnt/h/datasets/mmCIF/a5/4a5x.cif in 0.23s\n",
      "Failed /mnt/h/datasets/mmCIF/a5/4a5y.cif: Too long 1328\n",
      "Failed /mnt/h/datasets/mmCIF/a5/4a5z.cif: Too long 827\n",
      "Failed /mnt/h/datasets/mmCIF/a5/5a50.cif: Too long 478\n",
      "Failed /mnt/h/datasets/mmCIF/a5/5a51.cif: Too long 866\n",
      "Finished /mnt/h/datasets/mmCIF/a5/5a52.cif in 0.16s\n",
      "Failed /mnt/h/datasets/mmCIF/a5/5a53.cif: Too long 409\n",
      "Failed /mnt/h/datasets/mmCIF/a5/5a54.cif: Too long 1398\n",
      "Failed /mnt/h/datasets/mmCIF/a5/5a55.cif: Too long 2754\n",
      "Failed /mnt/h/datasets/mmCIF/a5/5a56.cif: Too long 2681\n",
      "Failed /mnt/h/datasets/mmCIF/a5/5a57.cif: Too long 3166\n",
      "Failed /mnt/h/datasets/mmCIF/a5/5a58.cif: Too long 2819\n",
      "Failed /mnt/h/datasets/mmCIF/a5/5a59.cif: Too long 2181\n",
      "Failed /mnt/h/datasets/mmCIF/a5/5a5a.cif: Too long 2685\n",
      "Failed /mnt/h/datasets/mmCIF/a5/5a5b.cif: Too high resolution 9.5\n",
      "Failed /mnt/h/datasets/mmCIF/a5/5a5c.cif: Too long 1741\n",
      "Failed /mnt/h/datasets/mmCIF/a5/5a5d.cif: Too long 554\n",
      "Failed /mnt/h/datasets/mmCIF/a5/5a5e.cif: Too long 736\n",
      "Failed /mnt/h/datasets/mmCIF/a5/5a5f.cif: Too long 706\n",
      "Failed /mnt/h/datasets/mmCIF/a5/5a5g.cif: Too long 1700\n",
      "Failed /mnt/h/datasets/mmCIF/a5/5a5h.cif: Too long 1889\n",
      "Failed /mnt/h/datasets/mmCIF/a5/5a5i.cif: Too long 462\n",
      "Failed /mnt/h/datasets/mmCIF/a5/5a5j.cif: Too long 457\n",
      "Failed /mnt/h/datasets/mmCIF/a5/5a5k.cif: Too long 5350\n",
      "Failed /mnt/h/datasets/mmCIF/a5/5a5l.cif: Too long 417\n",
      "Failed /mnt/h/datasets/mmCIF/a5/5a5n.cif: Too long 346\n",
      "Failed /mnt/h/datasets/mmCIF/a5/5a5o.cif: Too long 362\n",
      "Failed /mnt/h/datasets/mmCIF/a5/5a5p.cif: Too long 349\n",
      "Failed /mnt/h/datasets/mmCIF/a5/5a5q.cif: Too long 371\n",
      "Failed /mnt/h/datasets/mmCIF/a5/5a5r.cif: Too long 326\n",
      "Finished /mnt/h/datasets/mmCIF/a5/5a5s.cif in 0.22s\n",
      "Failed /mnt/h/datasets/mmCIF/a5/5a5t.cif: Too high resolution 6.0\n",
      "Failed /mnt/h/datasets/mmCIF/a5/5a5u.cif: Too high resolution 9.0\n",
      "Failed /mnt/h/datasets/mmCIF/a5/5a5v.cif: Too long 358\n",
      "Failed /mnt/h/datasets/mmCIF/a5/5a5w.cif: Too long 455\n",
      "Failed /mnt/h/datasets/mmCIF/a5/5a5x.cif: Too long 1519\n",
      "Failed /mnt/h/datasets/mmCIF/a5/5a5y.cif: Too long 676\n",
      "Failed /mnt/h/datasets/mmCIF/a5/5a5z.cif: Too long 548\n",
      "Failed /mnt/h/datasets/mmCIF/a5/6a50.cif: Too long 2060\n",
      "Failed /mnt/h/datasets/mmCIF/a5/6a51.cif: Too long 447\n",
      "Failed /mnt/h/datasets/mmCIF/a5/6a52.cif: Too long 439\n",
      "Failed /mnt/h/datasets/mmCIF/a5/6a53.cif: Too long 396\n"
     ]
    },
    {
     "name": "stderr",
     "output_type": "stream",
     "text": [
      "/home/nwoodall/miniconda3/envs/se33/lib/python3.9/site-packages/Bio/PDB/StructureBuilder.py:89: PDBConstructionWarning: WARNING: Chain A is discontinuous at line 1979.\n",
      "  warnings.warn(\n",
      "/home/nwoodall/miniconda3/envs/se33/lib/python3.9/site-packages/Bio/PDB/StructureBuilder.py:89: PDBConstructionWarning: WARNING: Chain B is discontinuous at line 1980.\n",
      "  warnings.warn(\n",
      "/home/nwoodall/miniconda3/envs/se33/lib/python3.9/site-packages/Bio/PDB/StructureBuilder.py:89: PDBConstructionWarning: WARNING: Chain A is discontinuous at line 1981.\n",
      "  warnings.warn(\n",
      "/home/nwoodall/miniconda3/envs/se33/lib/python3.9/site-packages/Bio/PDB/StructureBuilder.py:89: PDBConstructionWarning: WARNING: Chain B is discontinuous at line 2012.\n",
      "  warnings.warn(\n"
     ]
    },
    {
     "name": "stdout",
     "output_type": "stream",
     "text": [
      "Finished /mnt/h/datasets/mmCIF/a5/6a54.cif in 0.30s\n",
      "Failed /mnt/h/datasets/mmCIF/a5/6a55.cif: Too long 539\n",
      "Failed /mnt/h/datasets/mmCIF/a5/6a56.cif: Too long 737\n",
      "Finished /mnt/h/datasets/mmCIF/a5/6a57.cif in 0.19s\n"
     ]
    },
    {
     "name": "stderr",
     "output_type": "stream",
     "text": [
      "/home/nwoodall/miniconda3/envs/se33/lib/python3.9/site-packages/Bio/PDB/StructureBuilder.py:89: PDBConstructionWarning: WARNING: Chain A is discontinuous at line 1651.\n",
      "  warnings.warn(\n",
      "/home/nwoodall/miniconda3/envs/se33/lib/python3.9/site-packages/Bio/PDB/StructureBuilder.py:89: PDBConstructionWarning: WARNING: Chain C is discontinuous at line 1655.\n",
      "  warnings.warn(\n",
      "/home/nwoodall/miniconda3/envs/se33/lib/python3.9/site-packages/Bio/PDB/StructureBuilder.py:89: PDBConstructionWarning: WARNING: Chain A is discontinuous at line 1667.\n",
      "  warnings.warn(\n",
      "/home/nwoodall/miniconda3/envs/se33/lib/python3.9/site-packages/Bio/PDB/StructureBuilder.py:89: PDBConstructionWarning: WARNING: Chain B is discontinuous at line 1713.\n",
      "  warnings.warn(\n",
      "/home/nwoodall/miniconda3/envs/se33/lib/python3.9/site-packages/Bio/PDB/StructureBuilder.py:89: PDBConstructionWarning: WARNING: Chain C is discontinuous at line 1730.\n",
      "  warnings.warn(\n"
     ]
    },
    {
     "name": "stdout",
     "output_type": "stream",
     "text": [
      "Finished /mnt/h/datasets/mmCIF/a5/6a58.cif in 0.55s\n",
      "Finished /mnt/h/datasets/mmCIF/a5/6a59.cif in 0.18s\n",
      "Failed /mnt/h/datasets/mmCIF/a5/6a5a.cif: Too long 752\n",
      "Failed /mnt/h/datasets/mmCIF/a5/6a5b.cif: Too long 462\n",
      "Failed /mnt/h/datasets/mmCIF/a5/6a5c.cif: Too long 679\n",
      "Failed /mnt/h/datasets/mmCIF/a5/6a5d.cif: Too long 418\n",
      "Failed /mnt/h/datasets/mmCIF/a5/6a5e.cif: Too long 960\n",
      "Failed /mnt/h/datasets/mmCIF/a5/6a5f.cif: Too long 529\n",
      "Failed /mnt/h/datasets/mmCIF/a5/6a5g.cif: Too long 858\n",
      "Failed /mnt/h/datasets/mmCIF/a5/6a5h.cif: Too long 717\n",
      "Failed /mnt/h/datasets/mmCIF/a5/6a5i.cif: Invalid resolution 0.0\n",
      "Failed /mnt/h/datasets/mmCIF/a5/6a5j.cif: Invalid resolution 0.0\n",
      "Failed /mnt/h/datasets/mmCIF/a5/6a5k.cif: Too long 874\n",
      "Failed /mnt/h/datasets/mmCIF/a5/6a5l.cif: Too high resolution 5.6\n",
      "Failed /mnt/h/datasets/mmCIF/a5/6a5m.cif: Too long 686\n",
      "Failed /mnt/h/datasets/mmCIF/a5/6a5n.cif: Too long 571\n",
      "Failed /mnt/h/datasets/mmCIF/a5/6a5o.cif: Too high resolution 9.9\n",
      "Failed /mnt/h/datasets/mmCIF/a5/6a5p.cif: Too high resolution 7.0\n",
      "Failed /mnt/h/datasets/mmCIF/a5/6a5q.cif: Too long 1164\n",
      "Failed /mnt/h/datasets/mmCIF/a5/6a5r.cif: Too high resolution 8.7\n",
      "Failed /mnt/h/datasets/mmCIF/a5/6a5s.cif: Too long 1769\n",
      "Failed /mnt/h/datasets/mmCIF/a5/6a5t.cif: Too high resolution 6.7\n",
      "Failed /mnt/h/datasets/mmCIF/a5/6a5u.cif: Too high resolution 7.6\n",
      "Failed /mnt/h/datasets/mmCIF/a5/6a5w.cif: Too long 486\n"
     ]
    },
    {
     "name": "stderr",
     "output_type": "stream",
     "text": [
      "/home/nwoodall/miniconda3/envs/se33/lib/python3.9/site-packages/Bio/PDB/StructureBuilder.py:89: PDBConstructionWarning: WARNING: Chain A is discontinuous at line 1982.\n",
      "  warnings.warn(\n",
      "/home/nwoodall/miniconda3/envs/se33/lib/python3.9/site-packages/Bio/PDB/StructureBuilder.py:89: PDBConstructionWarning: WARNING: Chain B is discontinuous at line 2041.\n",
      "  warnings.warn(\n",
      "/home/nwoodall/miniconda3/envs/se33/lib/python3.9/site-packages/Bio/PDB/StructureBuilder.py:89: PDBConstructionWarning: WARNING: Chain A is discontinuous at line 2046.\n",
      "  warnings.warn(\n"
     ]
    },
    {
     "name": "stdout",
     "output_type": "stream",
     "text": [
      "Finished /mnt/h/datasets/mmCIF/a5/6a5x.cif in 0.20s\n",
      "Failed /mnt/h/datasets/mmCIF/a5/6a5y.cif: Too long 548\n",
      "Failed /mnt/h/datasets/mmCIF/a5/6a5z.cif: Too long 931\n",
      "Failed /mnt/h/datasets/mmCIF/a5/7a50.cif: Too long 461\n",
      "Failed /mnt/h/datasets/mmCIF/a5/7a51.cif: Too long 575\n",
      "Failed /mnt/h/datasets/mmCIF/a5/7a52.cif: Too long 1267\n",
      "Failed /mnt/h/datasets/mmCIF/a5/7a53.cif: Too long 905\n",
      "Failed /mnt/h/datasets/mmCIF/a5/7a54.cif: Too long 1209\n",
      "Failed /mnt/h/datasets/mmCIF/a5/7a55.cif: Too long 952\n",
      "Failed /mnt/h/datasets/mmCIF/a5/7a56.cif: Too long 852\n",
      "Failed /mnt/h/datasets/mmCIF/a5/7a57.cif: Too high resolution 3.155\n",
      "Failed /mnt/h/datasets/mmCIF/a5/7a58.cif: Invalid resolution 0.0\n",
      "Failed /mnt/h/datasets/mmCIF/a5/7a59.cif: Too long 2256\n",
      "Failed /mnt/h/datasets/mmCIF/a5/7a5a.cif: Too long 3019\n",
      "Failed /mnt/h/datasets/mmCIF/a5/7a5b.cif: Too long 950\n",
      "Failed /mnt/h/datasets/mmCIF/a5/7a5c.cif: Too long 861\n",
      "Failed /mnt/h/datasets/mmCIF/a5/7a5d.cif: Too long 638\n",
      "Failed /mnt/h/datasets/mmCIF/a5/7a5e.cif: Too long 906\n",
      "Failed /mnt/h/datasets/mmCIF/a5/7a5f.cif: Too high resolution 4.4\n",
      "Failed /mnt/h/datasets/mmCIF/a5/7a5g.cif: Too high resolution 4.33\n",
      "Failed /mnt/h/datasets/mmCIF/a5/7a5h.cif: Too high resolution 3.3\n",
      "Failed /mnt/h/datasets/mmCIF/a5/7a5i.cif: Too high resolution 3.7\n",
      "Failed /mnt/h/datasets/mmCIF/a5/7a5j.cif: Too high resolution 3.1\n",
      "Failed /mnt/h/datasets/mmCIF/a5/7a5k.cif: Too high resolution 3.7\n",
      "Failed /mnt/h/datasets/mmCIF/a5/7a5l.cif: Too long 537\n"
     ]
    },
    {
     "name": "stderr",
     "output_type": "stream",
     "text": [
      "/home/nwoodall/miniconda3/envs/se33/lib/python3.9/site-packages/Bio/PDB/StructureBuilder.py:89: PDBConstructionWarning: WARNING: Chain A is discontinuous at line 2776.\n",
      "  warnings.warn(\n",
      "/home/nwoodall/miniconda3/envs/se33/lib/python3.9/site-packages/Bio/PDB/StructureBuilder.py:89: PDBConstructionWarning: WARNING: Chain B is discontinuous at line 2950.\n",
      "  warnings.warn(\n",
      "/home/nwoodall/miniconda3/envs/se33/lib/python3.9/site-packages/Bio/PDB/StructureBuilder.py:89: PDBConstructionWarning: WARNING: Chain C is discontinuous at line 2960.\n",
      "  warnings.warn(\n"
     ]
    },
    {
     "name": "stdout",
     "output_type": "stream",
     "text": [
      "Finished /mnt/h/datasets/mmCIF/a5/7a5m.cif in 0.35s\n",
      "Failed /mnt/h/datasets/mmCIF/a5/7a5n.cif: Too long 734\n",
      "Failed /mnt/h/datasets/mmCIF/a5/7a5o.cif: Too long 7422\n",
      "Failed /mnt/h/datasets/mmCIF/a5/7a5p.cif: Too high resolution 5.0\n",
      "Failed /mnt/h/datasets/mmCIF/a5/7a5q.cif: Too long 930\n",
      "Failed /mnt/h/datasets/mmCIF/a5/7a5r.cif: Too high resolution 3.7\n",
      "Failed /mnt/h/datasets/mmCIF/a5/7a5s.cif: Too high resolution 3.9\n",
      "Failed /mnt/h/datasets/mmCIF/a5/7a5t.cif: Too long 483\n",
      "Failed /mnt/h/datasets/mmCIF/a5/7a5u.cif: Too long 413\n",
      "Failed /mnt/h/datasets/mmCIF/a5/7a5v.cif: Too long 675\n",
      "Failed /mnt/h/datasets/mmCIF/a5/7a5w.cif: Too long 427\n",
      "Failed /mnt/h/datasets/mmCIF/a5/7a5x.cif: Too long 1700\n",
      "Failed /mnt/h/datasets/mmCIF/a5/7a5y.cif: Too long 4049\n",
      "Failed /mnt/h/datasets/mmCIF/a5/7a5z.cif: Too long 430\n"
     ]
    },
    {
     "name": "stderr",
     "output_type": "stream",
     "text": [
      "/home/nwoodall/miniconda3/envs/se33/lib/python3.9/site-packages/Bio/PDB/StructureBuilder.py:89: PDBConstructionWarning: WARNING: Chain A is discontinuous at line 1251.\n",
      "  warnings.warn(\n",
      "/home/nwoodall/miniconda3/envs/se33/lib/python3.9/site-packages/Bio/PDB/StructureBuilder.py:89: PDBConstructionWarning: WARNING: Chain B is discontinuous at line 1256.\n",
      "  warnings.warn(\n",
      "/home/nwoodall/miniconda3/envs/se33/lib/python3.9/site-packages/Bio/PDB/StructureBuilder.py:89: PDBConstructionWarning: WARNING: Chain A is discontinuous at line 1261.\n",
      "  warnings.warn(\n",
      "/home/nwoodall/miniconda3/envs/se33/lib/python3.9/site-packages/Bio/PDB/StructureBuilder.py:89: PDBConstructionWarning: WARNING: Chain B is discontinuous at line 1288.\n",
      "  warnings.warn(\n",
      "/home/nwoodall/miniconda3/envs/se33/lib/python3.9/site-packages/Bio/PDB/StructureBuilder.py:89: PDBConstructionWarning: WARNING: Chain A is discontinuous at line 1256.\n",
      "  warnings.warn(\n",
      "/home/nwoodall/miniconda3/envs/se33/lib/python3.9/site-packages/Bio/PDB/StructureBuilder.py:89: PDBConstructionWarning: WARNING: Chain B is discontinuous at line 1300.\n",
      "  warnings.warn(\n",
      "/home/nwoodall/miniconda3/envs/se33/lib/python3.9/site-packages/Bio/PDB/StructureBuilder.py:89: PDBConstructionWarning: WARNING: Chain A is discontinuous at line 1348.\n",
      "  warnings.warn(\n",
      "/home/nwoodall/miniconda3/envs/se33/lib/python3.9/site-packages/Bio/PDB/StructureBuilder.py:89: PDBConstructionWarning: WARNING: Chain B is discontinuous at line 1362.\n",
      "  warnings.warn(\n"
     ]
    },
    {
     "name": "stdout",
     "output_type": "stream",
     "text": [
      "Finished /mnt/h/datasets/mmCIF/a5/8a50.cif in 0.26s\n",
      "Finished /mnt/h/datasets/mmCIF/a5/8a51.cif in 0.17s\n",
      "Failed /mnt/h/datasets/mmCIF/a5/8a52.cif: Too long 732\n",
      "Failed /mnt/h/datasets/mmCIF/a5/8a53.cif: Too long 1634\n",
      "Finished /mnt/h/datasets/mmCIF/a5/8a55.cif in 0.27s\n",
      "Failed /mnt/h/datasets/mmCIF/a5/8a56.cif: Too long 1335\n",
      "Failed /mnt/h/datasets/mmCIF/a5/8a57.cif: Too long 6716\n",
      "Failed /mnt/h/datasets/mmCIF/a5/8a58.cif: Too long 490\n",
      "Failed /mnt/h/datasets/mmCIF/a5/8a59.cif: Too long 310\n",
      "Failed /mnt/h/datasets/mmCIF/a5/8a5a.cif: Too high resolution 3.3\n",
      "Failed /mnt/h/datasets/mmCIF/a5/8a5b.cif: Too long 1148\n",
      "Finished /mnt/h/datasets/mmCIF/a5/8a5c.cif in 0.26s\n",
      "Failed /mnt/h/datasets/mmCIF/a5/8a5d.cif: Too long 1525\n",
      "Failed /mnt/h/datasets/mmCIF/a5/8a5e.cif: Too high resolution 3.4\n",
      "Failed /mnt/h/datasets/mmCIF/a5/8a5f.cif: Too long 405\n",
      "Failed /mnt/h/datasets/mmCIF/a5/8a5g.cif: Too long 313\n",
      "Failed /mnt/h/datasets/mmCIF/a5/8a5i.cif: Too long 7548\n",
      "Failed /mnt/h/datasets/mmCIF/a5/8a5j.cif: Too long 611\n",
      "Failed /mnt/h/datasets/mmCIF/a5/8a5k.cif: Too long 4918\n",
      "Failed /mnt/h/datasets/mmCIF/a5/8a5l.cif: Too long 331\n",
      "Failed /mnt/h/datasets/mmCIF/a5/8a5m.cif: Too long 379\n",
      "Failed /mnt/h/datasets/mmCIF/a5/8a5n.cif: Too long 551\n",
      "Failed /mnt/h/datasets/mmCIF/a5/8a5o.cif: Too high resolution 3.2\n",
      "Failed /mnt/h/datasets/mmCIF/a5/8a5p.cif: Too high resolution 3.4\n",
      "Failed /mnt/h/datasets/mmCIF/a5/8a5q.cif: Too high resolution 3.3\n",
      "Failed /mnt/h/datasets/mmCIF/a5/8a5r.cif: Too long 463\n",
      "Failed /mnt/h/datasets/mmCIF/a5/8a5s.cif: Too long 436\n",
      "Failed /mnt/h/datasets/mmCIF/a5/8a5t.cif: Too high resolution 3.78\n",
      "Finished /mnt/h/datasets/mmCIF/a5/8a5u.cif in 0.25s\n",
      "Failed /mnt/h/datasets/mmCIF/a5/8a5v.cif: Too long 3361\n",
      "Failed /mnt/h/datasets/mmCIF/a5/8a5w.cif: Too long 3043\n",
      "Failed /mnt/h/datasets/mmCIF/a5/8a5x.cif: Too long 573\n",
      "Failed /mnt/h/datasets/mmCIF/a5/8a5y.cif: Too high resolution 4.9\n",
      "Failed /mnt/h/datasets/mmCIF/a5/8a5z.cif: Too long 759\n"
     ]
    },
    {
     "name": "stderr",
     "output_type": "stream",
     "text": [
      "\r",
      " 12%|█████████▎                                                                  | 130/1060 [15:04<34:26:01, 133.29s/it]"
     ]
    },
    {
     "name": "stdout",
     "output_type": "stream",
     "text": [
      "Gathering mmCIF paths\n"
     ]
    },
    {
     "name": "stderr",
     "output_type": "stream",
     "text": [
      "\n",
      "  0%|                                                                                           | 0/266 [00:00<?, ?it/s]\u001b[A\n",
      " 29%|███████████████████████▍                                                         | 77/266 [00:00<00:00, 765.88it/s]\u001b[A\n",
      " 58%|██████████████████████████████████████████████▌                                 | 155/266 [00:00<00:00, 772.07it/s]\u001b[A\n",
      "100%|████████████████████████████████████████████████████████████████████████████████| 266/266 [00:00<00:00, 761.14it/s]\u001b[A\n"
     ]
    },
    {
     "name": "stdout",
     "output_type": "stream",
     "text": [
      "Processing 0 files our of 0\n",
      "Failed /mnt/h/datasets/mmCIF/a6/1a60.cif: Encountered errors {('1a60', ''): 'No protein chains found in this file.'}\n",
      "Failed /mnt/h/datasets/mmCIF/a6/1a61.cif: Too long 431\n",
      "Finished /mnt/h/datasets/mmCIF/a6/1a62.cif in 0.12s\n",
      "Failed /mnt/h/datasets/mmCIF/a6/1a63.cif: Invalid resolution 0.0\n",
      "Finished /mnt/h/datasets/mmCIF/a6/1a64.cif in 0.15s\n"
     ]
    },
    {
     "name": "stderr",
     "output_type": "stream",
     "text": [
      "/home/nwoodall/miniconda3/envs/se33/lib/python3.9/site-packages/Bio/PDB/StructureBuilder.py:89: PDBConstructionWarning: WARNING: Chain A is discontinuous at line 1486.\n",
      "  warnings.warn(\n",
      "/home/nwoodall/miniconda3/envs/se33/lib/python3.9/site-packages/Bio/PDB/StructureBuilder.py:89: PDBConstructionWarning: WARNING: Chain B is discontinuous at line 1514.\n",
      "  warnings.warn(\n"
     ]
    },
    {
     "name": "stdout",
     "output_type": "stream",
     "text": [
      "Failed /mnt/h/datasets/mmCIF/a6/1a65.cif: Too long 806\n",
      "Failed /mnt/h/datasets/mmCIF/a6/1a66.cif: Invalid resolution 0.0\n",
      "Failed /mnt/h/datasets/mmCIF/a6/1a67.cif: Invalid resolution 0.0\n",
      "Finished /mnt/h/datasets/mmCIF/a6/1a68.cif in 0.09s\n",
      "Failed /mnt/h/datasets/mmCIF/a6/1a69.cif: Too long 1089\n",
      "Failed /mnt/h/datasets/mmCIF/a6/1a6a.cif: Too long 402\n",
      "Failed /mnt/h/datasets/mmCIF/a6/1a6b.cif: Invalid resolution 0.0\n",
      "Failed /mnt/h/datasets/mmCIF/a6/1a6c.cif: Too high resolution 3.5\n",
      "Failed /mnt/h/datasets/mmCIF/a6/1a6d.cif: Too long 1005\n",
      "Failed /mnt/h/datasets/mmCIF/a6/1a6e.cif: Too high resolution 3.2\n",
      "Finished /mnt/h/datasets/mmCIF/a6/1a6f.cif in 0.14s\n",
      "Failed /mnt/h/datasets/mmCIF/a6/1a6g.cif: Too long 339\n",
      "Failed /mnt/h/datasets/mmCIF/a6/1a6h.cif: Encountered errors {('1a6h', ''): 'No protein chains found in this file.'}\n",
      "Finished /mnt/h/datasets/mmCIF/a6/1a6i.cif in 0.15s\n",
      "Failed /mnt/h/datasets/mmCIF/a6/1a6j.cif: Too long 375\n",
      "Failed /mnt/h/datasets/mmCIF/a6/1a6k.cif: Too long 340\n",
      "Finished /mnt/h/datasets/mmCIF/a6/1a6l.cif in 0.11s\n",
      "Failed /mnt/h/datasets/mmCIF/a6/1a6m.cif: Too long 341\n",
      "Failed /mnt/h/datasets/mmCIF/a6/1a6n.cif: Too long 340\n",
      "Finished /mnt/h/datasets/mmCIF/a6/1a6p.cif in 0.15s\n"
     ]
    },
    {
     "name": "stderr",
     "output_type": "stream",
     "text": [
      "/home/nwoodall/miniconda3/envs/se33/lib/python3.9/site-packages/Bio/PDB/StructureBuilder.py:89: PDBConstructionWarning: WARNING: Chain A is discontinuous at line 1486.\n",
      "  warnings.warn(\n",
      "/home/nwoodall/miniconda3/envs/se33/lib/python3.9/site-packages/Bio/PDB/StructureBuilder.py:89: PDBConstructionWarning: WARNING: Chain B is discontinuous at line 1540.\n",
      "  warnings.warn(\n"
     ]
    },
    {
     "name": "stdout",
     "output_type": "stream",
     "text": [
      "Failed /mnt/h/datasets/mmCIF/a6/1a6q.cif: Too long 569\n",
      "Failed /mnt/h/datasets/mmCIF/a6/1a6r.cif: Too long 835\n",
      "Failed /mnt/h/datasets/mmCIF/a6/1a6s.cif: Invalid resolution 0.0\n",
      "Failed /mnt/h/datasets/mmCIF/a6/1a6t.cif: Too long 854\n",
      "Failed /mnt/h/datasets/mmCIF/a6/1a6u.cif: Too long 384\n",
      "Failed /mnt/h/datasets/mmCIF/a6/1a6v.cif: Too long 1166\n",
      "Failed /mnt/h/datasets/mmCIF/a6/1a6w.cif: Too long 412\n",
      "Failed /mnt/h/datasets/mmCIF/a6/1a6x.cif: Invalid resolution 0.0\n",
      "Failed /mnt/h/datasets/mmCIF/a6/1a6y.cif: Too long 440\n",
      "Failed /mnt/h/datasets/mmCIF/a6/1a6z.cif: Too long 765\n",
      "Failed /mnt/h/datasets/mmCIF/a6/2a61.cif: Too long 970\n",
      "Failed /mnt/h/datasets/mmCIF/a6/2a62.cif: Too high resolution 4.5\n",
      "Failed /mnt/h/datasets/mmCIF/a6/2a63.cif: Invalid resolution 0.0\n",
      "Failed /mnt/h/datasets/mmCIF/a6/2a64.cif: Encountered errors {('2a64', ''): 'No protein chains found in this file.'}\n",
      "Failed /mnt/h/datasets/mmCIF/a6/2a65.cif: Too long 728\n",
      "Finished /mnt/h/datasets/mmCIF/a6/2a66.cif in 0.15s\n"
     ]
    },
    {
     "name": "stderr",
     "output_type": "stream",
     "text": [
      "/home/nwoodall/miniconda3/envs/se33/lib/python3.9/site-packages/Bio/PDB/StructureBuilder.py:89: PDBConstructionWarning: WARNING: Chain B is discontinuous at line 1242.\n",
      "  warnings.warn(\n",
      "/home/nwoodall/miniconda3/envs/se33/lib/python3.9/site-packages/Bio/PDB/StructureBuilder.py:89: PDBConstructionWarning: WARNING: Chain C is discontinuous at line 1265.\n",
      "  warnings.warn(\n",
      "/home/nwoodall/miniconda3/envs/se33/lib/python3.9/site-packages/Bio/PDB/StructureBuilder.py:89: PDBConstructionWarning: WARNING: Chain A is discontinuous at line 1288.\n",
      "  warnings.warn(\n"
     ]
    },
    {
     "name": "stdout",
     "output_type": "stream",
     "text": [
      "Failed /mnt/h/datasets/mmCIF/a6/2a67.cif: Too long 1003\n",
      "Failed /mnt/h/datasets/mmCIF/a6/2a68.cif: Too long 14231\n",
      "Failed /mnt/h/datasets/mmCIF/a6/2a69.cif: Too long 13710\n",
      "Failed /mnt/h/datasets/mmCIF/a6/2a6a.cif: Too long 405\n",
      "Failed /mnt/h/datasets/mmCIF/a6/2a6b.cif: Too long 459\n"
     ]
    },
    {
     "name": "stderr",
     "output_type": "stream",
     "text": [
      "/home/nwoodall/miniconda3/envs/se33/lib/python3.9/site-packages/Bio/PDB/StructureBuilder.py:89: PDBConstructionWarning: WARNING: Chain A is discontinuous at line 1190.\n",
      "  warnings.warn(\n",
      "/home/nwoodall/miniconda3/envs/se33/lib/python3.9/site-packages/Bio/PDB/StructureBuilder.py:89: PDBConstructionWarning: WARNING: Chain B is discontinuous at line 1194.\n",
      "  warnings.warn(\n",
      "/home/nwoodall/miniconda3/envs/se33/lib/python3.9/site-packages/Bio/PDB/StructureBuilder.py:89: PDBConstructionWarning: WARNING: Chain A is discontinuous at line 1219.\n",
      "  warnings.warn(\n",
      "/home/nwoodall/miniconda3/envs/se33/lib/python3.9/site-packages/Bio/PDB/StructureBuilder.py:89: PDBConstructionWarning: WARNING: Chain B is discontinuous at line 1253.\n",
      "  warnings.warn(\n"
     ]
    },
    {
     "name": "stdout",
     "output_type": "stream",
     "text": [
      "Finished /mnt/h/datasets/mmCIF/a6/2a6c.cif in 0.14s\n",
      "Failed /mnt/h/datasets/mmCIF/a6/2a6d.cif: Too long 955\n",
      "Failed /mnt/h/datasets/mmCIF/a6/2a6e.cif: Too long 11941\n",
      "Failed /mnt/h/datasets/mmCIF/a6/2a6h.cif: Too long 14202\n",
      "Failed /mnt/h/datasets/mmCIF/a6/2a6i.cif: Too long 497\n",
      "Failed /mnt/h/datasets/mmCIF/a6/2a6j.cif: Too long 1009\n",
      "Failed /mnt/h/datasets/mmCIF/a6/2a6k.cif: Too high resolution 3.0\n",
      "Failed /mnt/h/datasets/mmCIF/a6/2a6l.cif: Too long 1120\n",
      "Failed /mnt/h/datasets/mmCIF/a6/2a6m.cif: Too long 343\n",
      "Failed /mnt/h/datasets/mmCIF/a6/2a6n.cif: Too long 1182\n",
      "Failed /mnt/h/datasets/mmCIF/a6/2a6o.cif: Too long 471\n",
      "Failed /mnt/h/datasets/mmCIF/a6/2a6p.cif: Too long 496\n",
      "Failed /mnt/h/datasets/mmCIF/a6/2a6q.cif: Too long 609\n",
      "Failed /mnt/h/datasets/mmCIF/a6/2a6r.cif: Too long 857\n",
      "Failed /mnt/h/datasets/mmCIF/a6/2a6s.cif: Too long 654\n",
      "Failed /mnt/h/datasets/mmCIF/a6/2a6t.cif: Too long 510\n",
      "Failed /mnt/h/datasets/mmCIF/a6/2a6u.cif: Invalid resolution 0.0\n",
      "Failed /mnt/h/datasets/mmCIF/a6/2a6v.cif: Too long 864\n",
      "Failed /mnt/h/datasets/mmCIF/a6/2a6w.cif: Too long 735\n",
      "Failed /mnt/h/datasets/mmCIF/a6/2a6x.cif: Too long 863\n",
      "Failed /mnt/h/datasets/mmCIF/a6/2a6y.cif: Too long 534\n",
      "Failed /mnt/h/datasets/mmCIF/a6/2a6z.cif: Too long 542\n",
      "Failed /mnt/h/datasets/mmCIF/a6/3a60.cif: Too long 526\n",
      "Failed /mnt/h/datasets/mmCIF/a6/3a61.cif: Too high resolution 3.4\n",
      "Failed /mnt/h/datasets/mmCIF/a6/3a62.cif: Too long 303\n",
      "Failed /mnt/h/datasets/mmCIF/a6/3a64.cif: Too long 841\n",
      "Failed /mnt/h/datasets/mmCIF/a6/3a65.cif: Too long 877\n",
      "Failed /mnt/h/datasets/mmCIF/a6/3a66.cif: Too long 790\n",
      "Failed /mnt/h/datasets/mmCIF/a6/3a67.cif: Too long 726\n",
      "Failed /mnt/h/datasets/mmCIF/a6/3a68.cif: Too long 9322\n",
      "Failed /mnt/h/datasets/mmCIF/a6/3a69.cif: Too high resolution 7.1\n",
      "Failed /mnt/h/datasets/mmCIF/a6/3a6b.cif: Too long 736\n",
      "Failed /mnt/h/datasets/mmCIF/a6/3a6c.cif: Too long 743\n",
      "Failed /mnt/h/datasets/mmCIF/a6/3a6d.cif: Too long 2664\n",
      "Failed /mnt/h/datasets/mmCIF/a6/3a6e.cif: Too long 2489\n",
      "Failed /mnt/h/datasets/mmCIF/a6/3a6f.cif: Too long 2324\n",
      "Failed /mnt/h/datasets/mmCIF/a6/3a6g.cif: Too long 2107\n",
      "Failed /mnt/h/datasets/mmCIF/a6/3a6h.cif: Too long 2338\n",
      "Failed /mnt/h/datasets/mmCIF/a6/3a6j.cif: Too long 2422\n",
      "Failed /mnt/h/datasets/mmCIF/a6/3a6k.cif: Too long 2088\n",
      "Failed /mnt/h/datasets/mmCIF/a6/3a6l.cif: Too long 2114\n",
      "Failed /mnt/h/datasets/mmCIF/a6/3a6m.cif: Too high resolution 3.23\n",
      "Failed /mnt/h/datasets/mmCIF/a6/3a6n.cif: Too long 1158\n",
      "Failed /mnt/h/datasets/mmCIF/a6/3a6o.cif: Too long 1580\n",
      "Failed /mnt/h/datasets/mmCIF/a6/3a6p.cif: Too long 2606\n",
      "Failed /mnt/h/datasets/mmCIF/a6/3a6q.cif: Too long 644\n",
      "Failed /mnt/h/datasets/mmCIF/a6/3a6r.cif: Too long 1391\n",
      "Failed /mnt/h/datasets/mmCIF/a6/3a6s.cif: Too long 438\n"
     ]
    },
    {
     "name": "stderr",
     "output_type": "stream",
     "text": [
      "/home/nwoodall/miniconda3/envs/se33/lib/python3.9/site-packages/Bio/PDB/StructureBuilder.py:89: PDBConstructionWarning: WARNING: Chain A is discontinuous at line 1061.\n",
      "  warnings.warn(\n"
     ]
    },
    {
     "name": "stdout",
     "output_type": "stream",
     "text": [
      "Finished /mnt/h/datasets/mmCIF/a6/3a6t.cif in 0.14s\n",
      "Finished /mnt/h/datasets/mmCIF/a6/3a6u.cif in 0.14s\n",
      "Failed /mnt/h/datasets/mmCIF/a6/3a6v.cif: Too long 383\n",
      "Failed /mnt/h/datasets/mmCIF/a6/3a6z.cif: Too long 1877\n",
      "Failed /mnt/h/datasets/mmCIF/a6/4a60.cif: Too long 391\n",
      "Failed /mnt/h/datasets/mmCIF/a6/4a61.cif: Too long 449\n",
      "Failed /mnt/h/datasets/mmCIF/a6/4a62.cif: Too long 1055\n",
      "Failed /mnt/h/datasets/mmCIF/a6/4a63.cif: Too long 3104\n",
      "Failed /mnt/h/datasets/mmCIF/a6/4a64.cif: Too long 1606\n",
      "Failed /mnt/h/datasets/mmCIF/a6/4a65.cif: Too long 1345\n",
      "Failed /mnt/h/datasets/mmCIF/a6/4a66.cif: Too long 960\n",
      "Failed /mnt/h/datasets/mmCIF/a6/4a67.cif: Too long 944\n",
      "Failed /mnt/h/datasets/mmCIF/a6/4a68.cif: Too long 954\n",
      "Failed /mnt/h/datasets/mmCIF/a6/4a69.cif: Too long 1236\n",
      "Failed /mnt/h/datasets/mmCIF/a6/4a6a.cif: Too long 2301\n",
      "Failed /mnt/h/datasets/mmCIF/a6/4a6b.cif: Too long 342\n",
      "Failed /mnt/h/datasets/mmCIF/a6/4a6c.cif: Too long 357\n",
      "Failed /mnt/h/datasets/mmCIF/a6/4a6d.cif: Too long 420\n",
      "Failed /mnt/h/datasets/mmCIF/a6/4a6e.cif: Too long 404\n",
      "Failed /mnt/h/datasets/mmCIF/a6/4a6f.cif: Too long 395\n",
      "Failed /mnt/h/datasets/mmCIF/a6/4a6g.cif: Too long 1742\n",
      "Failed /mnt/h/datasets/mmCIF/a6/4a6h.cif: Too long 817\n",
      "Failed /mnt/h/datasets/mmCIF/a6/4a6j.cif: Too high resolution 7.2\n",
      "Failed /mnt/h/datasets/mmCIF/a6/4a6k.cif: Too long 750\n",
      "Failed /mnt/h/datasets/mmCIF/a6/4a6l.cif: Too long 1342\n",
      "Failed /mnt/h/datasets/mmCIF/a6/4a6n.cif: Too long 1699\n",
      "Failed /mnt/h/datasets/mmCIF/a6/4a6o.cif: Too long 406\n",
      "Failed /mnt/h/datasets/mmCIF/a6/4a6p.cif: Too long 652\n",
      "Failed /mnt/h/datasets/mmCIF/a6/4a6q.cif: Too long 327\n",
      "Failed /mnt/h/datasets/mmCIF/a6/4a6r.cif: Too long 1689\n",
      "Failed /mnt/h/datasets/mmCIF/a6/4a6s.cif: Too long 726\n",
      "Failed /mnt/h/datasets/mmCIF/a6/4a6t.cif: Too long 2932\n",
      "Failed /mnt/h/datasets/mmCIF/a6/4a6u.cif: Too long 1400\n",
      "Failed /mnt/h/datasets/mmCIF/a6/4a6v.cif: Too long 1377\n",
      "Failed /mnt/h/datasets/mmCIF/a6/4a6w.cif: Too long 812\n",
      "Failed /mnt/h/datasets/mmCIF/a6/4a6x.cif: Too long 1074\n",
      "Failed /mnt/h/datasets/mmCIF/a6/4a6y.cif: Too long 981\n",
      "Failed /mnt/h/datasets/mmCIF/a6/4a6z.cif: Too long 706\n",
      "Failed /mnt/h/datasets/mmCIF/a6/5a60.cif: Too long 723\n",
      "Failed /mnt/h/datasets/mmCIF/a6/5a61.cif: Too long 730\n",
      "Failed /mnt/h/datasets/mmCIF/a6/5a62.cif: Too long 482\n",
      "Failed /mnt/h/datasets/mmCIF/a6/5a63.cif: Too high resolution 3.4\n",
      "Failed /mnt/h/datasets/mmCIF/a6/5a64.cif: Too long 539\n",
      "Failed /mnt/h/datasets/mmCIF/a6/5a65.cif: Too long 542\n",
      "Failed /mnt/h/datasets/mmCIF/a6/5a66.cif: Too long 660\n",
      "Failed /mnt/h/datasets/mmCIF/a6/5a67.cif: Too long 452\n",
      "Failed /mnt/h/datasets/mmCIF/a6/5a68.cif: Too long 344\n",
      "Failed /mnt/h/datasets/mmCIF/a6/5a69.cif: Too long 625\n",
      "Failed /mnt/h/datasets/mmCIF/a6/5a6a.cif: Too long 1299\n",
      "Failed /mnt/h/datasets/mmCIF/a6/5a6b.cif: Too long 4420\n",
      "Failed /mnt/h/datasets/mmCIF/a6/5a6c.cif: Too long 735\n",
      "Failed /mnt/h/datasets/mmCIF/a6/5a6d.cif: Too long 492\n",
      "Failed /mnt/h/datasets/mmCIF/a6/5a6e.cif: Too high resolution 4.5\n",
      "Failed /mnt/h/datasets/mmCIF/a6/5a6f.cif: Too high resolution 4.2\n",
      "Failed /mnt/h/datasets/mmCIF/a6/5a6g.cif: Too high resolution 5.2\n",
      "Failed /mnt/h/datasets/mmCIF/a6/5a6h.cif: Too long 538\n",
      "Finished /mnt/h/datasets/mmCIF/a6/5a6i.cif in 0.14s\n",
      "Failed /mnt/h/datasets/mmCIF/a6/5a6j.cif: Too long 4076\n",
      "Failed /mnt/h/datasets/mmCIF/a6/5a6k.cif: Too long 2349\n",
      "Failed /mnt/h/datasets/mmCIF/a6/5a6l.cif: Too long 806\n",
      "Failed /mnt/h/datasets/mmCIF/a6/5a6m.cif: Too long 953\n",
      "Failed /mnt/h/datasets/mmCIF/a6/5a6n.cif: Too long 841\n",
      "Failed /mnt/h/datasets/mmCIF/a6/5a6o.cif: Too long 837\n",
      "Finished /mnt/h/datasets/mmCIF/a6/5a6p.cif in 0.16s\n"
     ]
    },
    {
     "name": "stderr",
     "output_type": "stream",
     "text": [
      "/home/nwoodall/miniconda3/envs/se33/lib/python3.9/site-packages/Bio/PDB/StructureBuilder.py:89: PDBConstructionWarning: WARNING: Chain A is discontinuous at line 1063.\n",
      "  warnings.warn(\n",
      "/home/nwoodall/miniconda3/envs/se33/lib/python3.9/site-packages/Bio/PDB/StructureBuilder.py:89: PDBConstructionWarning: WARNING: Chain B is discontinuous at line 1083.\n",
      "  warnings.warn(\n"
     ]
    },
    {
     "name": "stdout",
     "output_type": "stream",
     "text": [
      "Failed /mnt/h/datasets/mmCIF/a6/5a6q.cif: Too long 1117\n",
      "Failed /mnt/h/datasets/mmCIF/a6/5a6r.cif: Too long 515\n",
      "Failed /mnt/h/datasets/mmCIF/a6/5a6s.cif: Too long 839\n",
      "Failed /mnt/h/datasets/mmCIF/a6/5a6t.cif: Too long 1438\n",
      "Failed /mnt/h/datasets/mmCIF/a6/5a6u.cif: Too high resolution 9.0\n",
      "Failed /mnt/h/datasets/mmCIF/a6/5a6v.cif: Too long 1129\n",
      "Failed /mnt/h/datasets/mmCIF/a6/5a6w.cif: Too long 370\n",
      "Failed /mnt/h/datasets/mmCIF/a6/5a6x.cif: Too long 1227\n",
      "Failed /mnt/h/datasets/mmCIF/a6/5a6y.cif: Too long 1154\n",
      "Failed /mnt/h/datasets/mmCIF/a6/5a6z.cif: Too long 1346\n",
      "Failed /mnt/h/datasets/mmCIF/a6/6a60.cif: Too high resolution 3.05\n",
      "Finished /mnt/h/datasets/mmCIF/a6/6a62.cif in 0.13s\n"
     ]
    },
    {
     "name": "stderr",
     "output_type": "stream",
     "text": [
      "/home/nwoodall/miniconda3/envs/se33/lib/python3.9/site-packages/Bio/PDB/StructureBuilder.py:89: PDBConstructionWarning: WARNING: Chain A is discontinuous at line 1155.\n",
      "  warnings.warn(\n",
      "/home/nwoodall/miniconda3/envs/se33/lib/python3.9/site-packages/Bio/PDB/StructureBuilder.py:89: PDBConstructionWarning: WARNING: Chain A is discontinuous at line 1166.\n",
      "  warnings.warn(\n",
      "/home/nwoodall/miniconda3/envs/se33/lib/python3.9/site-packages/Bio/PDB/StructureBuilder.py:89: PDBConstructionWarning: WARNING: Chain A is discontinuous at line 1148.\n",
      "  warnings.warn(\n"
     ]
    },
    {
     "name": "stdout",
     "output_type": "stream",
     "text": [
      "Finished /mnt/h/datasets/mmCIF/a6/6a63.cif in 0.54s\n",
      "Finished /mnt/h/datasets/mmCIF/a6/6a64.cif in 0.14s\n",
      "Finished /mnt/h/datasets/mmCIF/a6/6a65.cif in 0.13s\n",
      "Finished /mnt/h/datasets/mmCIF/a6/6a66.cif in 0.21s\n",
      "Failed /mnt/h/datasets/mmCIF/a6/6a67.cif: Too long 1694\n",
      "Finished /mnt/h/datasets/mmCIF/a6/6a68.cif in 0.41s\n",
      "Failed /mnt/h/datasets/mmCIF/a6/6a69.cif: Too high resolution 4.11\n",
      "Failed /mnt/h/datasets/mmCIF/a6/6a6a.cif: Too long 400\n",
      "Failed /mnt/h/datasets/mmCIF/a6/6a6b.cif: Too high resolution 3.07\n",
      "Finished /mnt/h/datasets/mmCIF/a6/6a6c.cif in 0.09s\n",
      "Finished /mnt/h/datasets/mmCIF/a6/6a6d.cif in 0.15s\n",
      "Failed /mnt/h/datasets/mmCIF/a6/6a6e.cif: Too long 2948\n",
      "Failed /mnt/h/datasets/mmCIF/a6/6a6f.cif: Too long 533\n",
      "Failed /mnt/h/datasets/mmCIF/a6/6a6g.cif: Too long 1578\n",
      "Failed /mnt/h/datasets/mmCIF/a6/6a6h.cif: Too long 513\n",
      "Failed /mnt/h/datasets/mmCIF/a6/6a6i.cif: Too long 769\n"
     ]
    },
    {
     "name": "stderr",
     "output_type": "stream",
     "text": [
      "/home/nwoodall/miniconda3/envs/se33/lib/python3.9/site-packages/Bio/PDB/StructureBuilder.py:89: PDBConstructionWarning: WARNING: Chain A is discontinuous at line 1592.\n",
      "  warnings.warn(\n",
      "/home/nwoodall/miniconda3/envs/se33/lib/python3.9/site-packages/Bio/PDB/StructureBuilder.py:89: PDBConstructionWarning: WARNING: Chain C is discontinuous at line 1593.\n",
      "  warnings.warn(\n",
      "/home/nwoodall/miniconda3/envs/se33/lib/python3.9/site-packages/Bio/PDB/StructureBuilder.py:89: PDBConstructionWarning: WARNING: Chain A is discontinuous at line 1594.\n",
      "  warnings.warn(\n",
      "/home/nwoodall/miniconda3/envs/se33/lib/python3.9/site-packages/Bio/PDB/StructureBuilder.py:89: PDBConstructionWarning: WARNING: Chain B is discontinuous at line 1616.\n",
      "  warnings.warn(\n",
      "/home/nwoodall/miniconda3/envs/se33/lib/python3.9/site-packages/Bio/PDB/StructureBuilder.py:89: PDBConstructionWarning: WARNING: Chain C is discontinuous at line 1619.\n",
      "  warnings.warn(\n",
      "/home/nwoodall/miniconda3/envs/se33/lib/python3.9/site-packages/Bio/PDB/StructureBuilder.py:89: PDBConstructionWarning: WARNING: Chain D is discontinuous at line 1637.\n",
      "  warnings.warn(\n"
     ]
    },
    {
     "name": "stdout",
     "output_type": "stream",
     "text": [
      "Finished /mnt/h/datasets/mmCIF/a6/6a6j.cif in 0.45s\n",
      "Failed /mnt/h/datasets/mmCIF/a6/6a6k.cif: Too long 655\n"
     ]
    },
    {
     "name": "stderr",
     "output_type": "stream",
     "text": [
      "/home/nwoodall/miniconda3/envs/se33/lib/python3.9/site-packages/Bio/PDB/StructureBuilder.py:89: PDBConstructionWarning: WARNING: Chain A is discontinuous at line 676.\n",
      "  warnings.warn(\n",
      "/home/nwoodall/miniconda3/envs/se33/lib/python3.9/site-packages/Bio/PDB/StructureBuilder.py:89: PDBConstructionWarning: WARNING: Chain D is discontinuous at line 730.\n",
      "  warnings.warn(\n"
     ]
    },
    {
     "name": "stdout",
     "output_type": "stream",
     "text": [
      "Finished /mnt/h/datasets/mmCIF/a6/6a6l.cif in 0.10s\n",
      "Failed /mnt/h/datasets/mmCIF/a6/6a6m.cif: Too long 1030\n",
      "Failed /mnt/h/datasets/mmCIF/a6/6a6n.cif: Too high resolution 3.02\n",
      "Failed /mnt/h/datasets/mmCIF/a6/6a6o.cif: Too long 478\n",
      "Failed /mnt/h/datasets/mmCIF/a6/6a6p.cif: Too long 762\n",
      "Failed /mnt/h/datasets/mmCIF/a6/6a6q.cif: Too long 600\n",
      "Failed /mnt/h/datasets/mmCIF/a6/6a6r.cif: Too long 481\n",
      "Failed /mnt/h/datasets/mmCIF/a6/6a6s.cif: Too long 640\n",
      "Failed /mnt/h/datasets/mmCIF/a6/6a6t.cif: Too long 599\n",
      "Failed /mnt/h/datasets/mmCIF/a6/6a6u.cif: Too long 724\n",
      "Failed /mnt/h/datasets/mmCIF/a6/6a6v.cif: Too long 865\n",
      "Finished /mnt/h/datasets/mmCIF/a6/6a6w.cif in 0.18s\n"
     ]
    },
    {
     "name": "stderr",
     "output_type": "stream",
     "text": [
      "/home/nwoodall/miniconda3/envs/se33/lib/python3.9/site-packages/Bio/PDB/StructureBuilder.py:89: PDBConstructionWarning: WARNING: Chain A is discontinuous at line 1195.\n",
      "  warnings.warn(\n",
      "/home/nwoodall/miniconda3/envs/se33/lib/python3.9/site-packages/Bio/PDB/StructureBuilder.py:89: PDBConstructionWarning: WARNING: Chain B is discontinuous at line 1208.\n",
      "  warnings.warn(\n"
     ]
    },
    {
     "name": "stdout",
     "output_type": "stream",
     "text": [
      "Failed /mnt/h/datasets/mmCIF/a6/6a6x.cif: Too long 404\n",
      "Failed /mnt/h/datasets/mmCIF/a6/6a6y.cif: Too long 440\n",
      "Failed /mnt/h/datasets/mmCIF/a6/7a60.cif: Too long 858\n",
      "Failed /mnt/h/datasets/mmCIF/a6/7a61.cif: Too long 619\n",
      "Failed /mnt/h/datasets/mmCIF/a6/7a62.cif: Too long 2228\n",
      "Failed /mnt/h/datasets/mmCIF/a6/7a63.cif: Too long 487\n",
      "Failed /mnt/h/datasets/mmCIF/a6/7a64.cif: Invalid resolution 0.0\n",
      "Failed /mnt/h/datasets/mmCIF/a6/7a65.cif: Too high resolution 3.9\n",
      "Failed /mnt/h/datasets/mmCIF/a6/7a66.cif: Too long 404\n",
      "Failed /mnt/h/datasets/mmCIF/a6/7a67.cif: Too high resolution 3.17\n",
      "Failed /mnt/h/datasets/mmCIF/a6/7a68.cif: Too long 349\n",
      "Failed /mnt/h/datasets/mmCIF/a6/7a69.cif: Too high resolution 3.2\n",
      "Failed /mnt/h/datasets/mmCIF/a6/7a6a.cif: Too long 8070\n",
      "Failed /mnt/h/datasets/mmCIF/a6/7a6b.cif: Too long 7366\n",
      "Failed /mnt/h/datasets/mmCIF/a6/7a6c.cif: Too high resolution 3.6\n",
      "Failed /mnt/h/datasets/mmCIF/a6/7a6d.cif: Too long 641\n",
      "Failed /mnt/h/datasets/mmCIF/a6/7a6e.cif: Too high resolution 3.6\n",
      "Failed /mnt/h/datasets/mmCIF/a6/7a6f.cif: Too high resolution 3.5\n",
      "Failed /mnt/h/datasets/mmCIF/a6/7a6g.cif: Too long 552\n",
      "Failed /mnt/h/datasets/mmCIF/a6/7a6h.cif: Too high resolution 3.3\n",
      "Failed /mnt/h/datasets/mmCIF/a6/7a6i.cif: Too long 308\n",
      "Failed /mnt/h/datasets/mmCIF/a6/7a6j.cif: Too long 693\n",
      "Failed /mnt/h/datasets/mmCIF/a6/7a6k.cif: Too long 1191\n",
      "Failed /mnt/h/datasets/mmCIF/a6/7a6o.cif: Too long 494\n",
      "Failed /mnt/h/datasets/mmCIF/a6/7a6p.cif: Too long 383\n",
      "Failed /mnt/h/datasets/mmCIF/a6/7a6q.cif: Too long 1032\n",
      "Failed /mnt/h/datasets/mmCIF/a6/7a6r.cif: Too long 972\n",
      "Failed /mnt/h/datasets/mmCIF/a6/7a6s.cif: Too long 1137\n",
      "Failed /mnt/h/datasets/mmCIF/a6/7a6t.cif: Too long 1056\n",
      "Failed /mnt/h/datasets/mmCIF/a6/7a6u.cif: Too high resolution 3.62\n",
      "Finished /mnt/h/datasets/mmCIF/a6/7a6v.cif in 0.22s\n"
     ]
    },
    {
     "name": "stderr",
     "output_type": "stream",
     "text": [
      "/home/nwoodall/miniconda3/envs/se33/lib/python3.9/site-packages/Bio/PDB/StructureBuilder.py:89: PDBConstructionWarning: WARNING: Chain AAA is discontinuous at line 3770.\n",
      "  warnings.warn(\n",
      "/home/nwoodall/miniconda3/envs/se33/lib/python3.9/site-packages/Bio/PDB/StructureBuilder.py:89: PDBConstructionWarning: WARNING: Chain BBB is discontinuous at line 3883.\n",
      "  warnings.warn(\n",
      "/home/nwoodall/miniconda3/envs/se33/lib/python3.9/site-packages/Bio/PDB/StructureBuilder.py:89: PDBConstructionWarning: WARNING: Chain AAA is discontinuous at line 3996.\n",
      "  warnings.warn(\n",
      "/home/nwoodall/miniconda3/envs/se33/lib/python3.9/site-packages/Bio/PDB/StructureBuilder.py:89: PDBConstructionWarning: WARNING: Chain BBB is discontinuous at line 4012.\n",
      "  warnings.warn(\n"
     ]
    },
    {
     "name": "stdout",
     "output_type": "stream",
     "text": [
      "Failed /mnt/h/datasets/mmCIF/a6/7a6w.cif: Mdtraj failed with error %c requires int or char\n",
      "Failed /mnt/h/datasets/mmCIF/a6/7a6x.cif: Mdtraj failed with error %c requires int or char\n",
      "Failed /mnt/h/datasets/mmCIF/a6/7a6y.cif: Too long 1075\n",
      "Failed /mnt/h/datasets/mmCIF/a6/7a6z.cif: Too long 526\n",
      "Failed /mnt/h/datasets/mmCIF/a6/8a60.cif: Too high resolution 3.37\n",
      "Failed /mnt/h/datasets/mmCIF/a6/8a61.cif: Too high resolution 5.4\n",
      "Failed /mnt/h/datasets/mmCIF/a6/8a62.cif: Too long 614\n",
      "Failed /mnt/h/datasets/mmCIF/a6/8a63.cif: Too high resolution 3.1\n",
      "Failed /mnt/h/datasets/mmCIF/a6/8a64.cif: Too high resolution 4.6\n",
      "Failed /mnt/h/datasets/mmCIF/a6/8a65.cif: Too long 560\n",
      "Failed /mnt/h/datasets/mmCIF/a6/8a66.cif: Too long 776\n",
      "Failed /mnt/h/datasets/mmCIF/a6/8a67.cif: Too long 1230\n",
      "Failed /mnt/h/datasets/mmCIF/a6/8a68.cif: Too long 584\n",
      "Failed /mnt/h/datasets/mmCIF/a6/8a6c.cif: Too long 805\n",
      "Failed /mnt/h/datasets/mmCIF/a6/8a6d.cif: Too long 747\n",
      "Failed /mnt/h/datasets/mmCIF/a6/8a6e.cif: Too long 773\n",
      "Failed /mnt/h/datasets/mmCIF/a6/8a6f.cif: Too long 583\n",
      "Failed /mnt/h/datasets/mmCIF/a6/8a6g.cif: Too long 359\n",
      "Failed /mnt/h/datasets/mmCIF/a6/8a6h.cif: Too long 606\n",
      "Failed /mnt/h/datasets/mmCIF/a6/8a6i.cif: Invalid resolution 0.0\n",
      "Failed /mnt/h/datasets/mmCIF/a6/8a6j.cif: Too high resolution 4.8\n",
      "Failed /mnt/h/datasets/mmCIF/a6/8a6l.cif: Too high resolution 3.18\n",
      "Failed /mnt/h/datasets/mmCIF/a6/8a6m.cif: Invalid resolution 0.0\n",
      "Failed /mnt/h/datasets/mmCIF/a6/8a6n.cif: Too long 359\n",
      "Failed /mnt/h/datasets/mmCIF/a6/8a6o.cif: Too long 359\n",
      "Failed /mnt/h/datasets/mmCIF/a6/8a6p.cif: Too long 359\n",
      "Failed /mnt/h/datasets/mmCIF/a6/8a6q.cif: Too long 359\n",
      "Failed /mnt/h/datasets/mmCIF/a6/8a6r.cif: Too long 359\n",
      "Failed /mnt/h/datasets/mmCIF/a6/8a6s.cif: Too long 359\n",
      "Failed /mnt/h/datasets/mmCIF/a6/8a6t.cif: Too high resolution 3.1\n",
      "Failed /mnt/h/datasets/mmCIF/a6/8a6u.cif: Too long 1236\n",
      "Failed /mnt/h/datasets/mmCIF/a6/8a6v.cif: Too long 860\n",
      "Failed /mnt/h/datasets/mmCIF/a6/8a6w.cif: Too long 1296\n",
      "Failed /mnt/h/datasets/mmCIF/a6/8a6x.cif: Too long 736\n",
      "Failed /mnt/h/datasets/mmCIF/a6/8a6z.cif: Too long 2526\n"
     ]
    },
    {
     "name": "stderr",
     "output_type": "stream",
     "text": [
      "\r",
      " 12%|█████████▍                                                                  | 131/1060 [16:58<32:53:26, 127.46s/it]"
     ]
    },
    {
     "name": "stdout",
     "output_type": "stream",
     "text": [
      "Gathering mmCIF paths\n"
     ]
    },
    {
     "name": "stderr",
     "output_type": "stream",
     "text": [
      "\n",
      "  0%|                                                                                           | 0/256 [00:00<?, ?it/s]\u001b[A\n",
      " 31%|████████████████████████▉                                                        | 79/256 [00:00<00:00, 787.34it/s]\u001b[A\n",
      " 62%|█████████████████████████████████████████████████▍                              | 158/256 [00:00<00:00, 769.62it/s]\u001b[A\n",
      "100%|████████████████████████████████████████████████████████████████████████████████| 256/256 [00:00<00:00, 758.36it/s]\u001b[A\n"
     ]
    },
    {
     "name": "stdout",
     "output_type": "stream",
     "text": [
      "Processing 0 files our of 0\n",
      "Finished /mnt/h/datasets/mmCIF/a7/1a70.cif in 0.10s\n",
      "Failed /mnt/h/datasets/mmCIF/a7/1a71.cif: Too long 935\n",
      "Failed /mnt/h/datasets/mmCIF/a7/1a72.cif: Too long 455\n",
      "Failed /mnt/h/datasets/mmCIF/a7/1a73.cif: Too long 763\n",
      "Failed /mnt/h/datasets/mmCIF/a7/1a74.cif: Too long 596\n",
      "Failed /mnt/h/datasets/mmCIF/a7/1a75.cif: Too long 454\n",
      "Failed /mnt/h/datasets/mmCIF/a7/1a76.cif: Too long 496\n",
      "Failed /mnt/h/datasets/mmCIF/a7/1a77.cif: Too long 459\n",
      "Failed /mnt/h/datasets/mmCIF/a7/1a78.cif: Too long 319\n",
      "Failed /mnt/h/datasets/mmCIF/a7/1a79.cif: Too long 743\n",
      "Failed /mnt/h/datasets/mmCIF/a7/1a7a.cif: Too long 911\n",
      "Failed /mnt/h/datasets/mmCIF/a7/1a7b.cif: Too long 372\n",
      "Failed /mnt/h/datasets/mmCIF/a7/1a7c.cif: Too long 451\n",
      "Failed /mnt/h/datasets/mmCIF/a7/1a7d.cif: Too long 343\n",
      "Failed /mnt/h/datasets/mmCIF/a7/1a7e.cif: Too long 325\n",
      "Failed /mnt/h/datasets/mmCIF/a7/1a7f.cif: Invalid resolution 0.0\n",
      "Finished /mnt/h/datasets/mmCIF/a7/1a7g.cif in 0.10s\n"
     ]
    },
    {
     "name": "stderr",
     "output_type": "stream",
     "text": [
      "/home/nwoodall/miniconda3/envs/se33/lib/python3.9/site-packages/Bio/PDB/StructureBuilder.py:89: PDBConstructionWarning: WARNING: Chain A is discontinuous at line 1444.\n",
      "  warnings.warn(\n",
      "/home/nwoodall/miniconda3/envs/se33/lib/python3.9/site-packages/Bio/PDB/StructureBuilder.py:89: PDBConstructionWarning: WARNING: Chain B is discontinuous at line 1472.\n",
      "  warnings.warn(\n"
     ]
    },
    {
     "name": "stdout",
     "output_type": "stream",
     "text": [
      "Finished /mnt/h/datasets/mmCIF/a7/1a7h.cif in 0.16s\n",
      "Failed /mnt/h/datasets/mmCIF/a7/1a7i.cif: Invalid resolution 0.0\n",
      "Failed /mnt/h/datasets/mmCIF/a7/1a7j.cif: Too long 314\n",
      "Failed /mnt/h/datasets/mmCIF/a7/1a7k.cif: Too long 1444\n",
      "Failed /mnt/h/datasets/mmCIF/a7/1a7l.cif: Too long 1168\n",
      "Failed /mnt/h/datasets/mmCIF/a7/1a7m.cif: Invalid resolution 0.0\n",
      "Failed /mnt/h/datasets/mmCIF/a7/1a7n.cif: Too long 415\n",
      "Failed /mnt/h/datasets/mmCIF/a7/1a7o.cif: Too long 354\n",
      "Failed /mnt/h/datasets/mmCIF/a7/1a7p.cif: Too long 365\n",
      "Finished /mnt/h/datasets/mmCIF/a7/1a7q.cif in 0.17s\n"
     ]
    },
    {
     "name": "stderr",
     "output_type": "stream",
     "text": [
      "/home/nwoodall/miniconda3/envs/se33/lib/python3.9/site-packages/Bio/PDB/StructureBuilder.py:89: PDBConstructionWarning: WARNING: Chain L is discontinuous at line 1681.\n",
      "  warnings.warn(\n",
      "/home/nwoodall/miniconda3/envs/se33/lib/python3.9/site-packages/Bio/PDB/StructureBuilder.py:89: PDBConstructionWarning: WARNING: Chain H is discontinuous at line 1704.\n",
      "  warnings.warn(\n"
     ]
    },
    {
     "name": "stdout",
     "output_type": "stream",
     "text": [
      "Failed /mnt/h/datasets/mmCIF/a7/1a7r.cif: Too long 334\n",
      "Failed /mnt/h/datasets/mmCIF/a7/1a7s.cif: Too long 563\n",
      "Failed /mnt/h/datasets/mmCIF/a7/1a7t.cif: Too long 799\n",
      "Failed /mnt/h/datasets/mmCIF/a7/1a7u.cif: Too long 953\n",
      "Failed /mnt/h/datasets/mmCIF/a7/1a7v.cif: Too long 447\n",
      "Finished /mnt/h/datasets/mmCIF/a7/1a7w.cif in 0.08s\n",
      "Failed /mnt/h/datasets/mmCIF/a7/1a7x.cif: Too long 392\n"
     ]
    },
    {
     "name": "stderr",
     "output_type": "stream",
     "text": [
      "/home/nwoodall/miniconda3/envs/se33/lib/python3.9/site-packages/Bio/PDB/StructureBuilder.py:89: PDBConstructionWarning: WARNING: Chain A is discontinuous at line 270.\n",
      "  warnings.warn(\n",
      "/home/nwoodall/miniconda3/envs/se33/lib/python3.9/site-packages/Bio/PDB/StructureBuilder.py:89: PDBConstructionWarning: WARNING: Chain C is discontinuous at line 294.\n",
      "  warnings.warn(\n",
      "/home/nwoodall/miniconda3/envs/se33/lib/python3.9/site-packages/Bio/PDB/StructureBuilder.py:89: PDBConstructionWarning: WARNING: Chain A is discontinuous at line 187.\n",
      "  warnings.warn(\n",
      "/home/nwoodall/miniconda3/envs/se33/lib/python3.9/site-packages/Bio/PDB/StructureBuilder.py:89: PDBConstructionWarning: WARNING: Chain B is discontinuous at line 253.\n",
      "  warnings.warn(\n",
      "/home/nwoodall/miniconda3/envs/se33/lib/python3.9/site-packages/Bio/PDB/StructureBuilder.py:89: PDBConstructionWarning: WARNING: Chain A is discontinuous at line 331.\n",
      "  warnings.warn(\n"
     ]
    },
    {
     "name": "stdout",
     "output_type": "stream",
     "text": [
      "Finished /mnt/h/datasets/mmCIF/a7/1a7y.cif in 0.07s\n",
      "Finished /mnt/h/datasets/mmCIF/a7/1a7z.cif in 0.07s\n",
      "Failed /mnt/h/datasets/mmCIF/a7/2a70.cif: Too long 1093\n",
      "Failed /mnt/h/datasets/mmCIF/a7/2a71.cif: Too long 1073\n",
      "Failed /mnt/h/datasets/mmCIF/a7/2a72.cif: Too long 498\n",
      "Failed /mnt/h/datasets/mmCIF/a7/2a73.cif: Too high resolution 3.3\n",
      "Failed /mnt/h/datasets/mmCIF/a7/2a74.cif: Too long 2855\n",
      "Failed /mnt/h/datasets/mmCIF/a7/2a75.cif: Too long 1250\n",
      "Failed /mnt/h/datasets/mmCIF/a7/2a77.cif: Too long 764\n",
      "Failed /mnt/h/datasets/mmCIF/a7/2a78.cif: Too long 709\n",
      "Failed /mnt/h/datasets/mmCIF/a7/2a79.cif: Too long 748\n",
      "Failed /mnt/h/datasets/mmCIF/a7/2a7a.cif: Too long 363\n",
      "Finished /mnt/h/datasets/mmCIF/a7/2a7b.cif in 0.12s\n",
      "Failed /mnt/h/datasets/mmCIF/a7/2a7c.cif: Too long 466\n",
      "Finished /mnt/h/datasets/mmCIF/a7/2a7d.cif in 0.12s\n",
      "Failed /mnt/h/datasets/mmCIF/a7/2a7e.cif: Encountered errors {('2a7e', ''): 'No protein chains found in this file.'}\n",
      "Failed /mnt/h/datasets/mmCIF/a7/2a7f.cif: Too long 308\n",
      "Failed /mnt/h/datasets/mmCIF/a7/2a7g.cif: Too long 504\n",
      "Failed /mnt/h/datasets/mmCIF/a7/2a7h.cif: Too long 342\n",
      "Failed /mnt/h/datasets/mmCIF/a7/2a7i.cif: Too long 362\n",
      "Failed /mnt/h/datasets/mmCIF/a7/2a7j.cif: Too long 539\n",
      "Failed /mnt/h/datasets/mmCIF/a7/2a7k.cif: Too long 2880\n",
      "Failed /mnt/h/datasets/mmCIF/a7/2a7l.cif: Too long 448\n",
      "Failed /mnt/h/datasets/mmCIF/a7/2a7m.cif: Too long 441\n",
      "Failed /mnt/h/datasets/mmCIF/a7/2a7n.cif: Too long 677\n",
      "Failed /mnt/h/datasets/mmCIF/a7/2a7o.cif: Invalid resolution 0.0\n",
      "Failed /mnt/h/datasets/mmCIF/a7/2a7p.cif: Too long 580\n",
      "Finished /mnt/h/datasets/mmCIF/a7/2a7q.cif in 0.20s\n",
      "Failed /mnt/h/datasets/mmCIF/a7/2a7r.cif: Too high resolution 3.0\n",
      "Failed /mnt/h/datasets/mmCIF/a7/2a7s.cif: Too long 4310\n",
      "Finished /mnt/h/datasets/mmCIF/a7/2a7t.cif in 0.12s\n",
      "Failed /mnt/h/datasets/mmCIF/a7/2a7u.cif: Invalid resolution 0.0\n"
     ]
    },
    {
     "name": "stderr",
     "output_type": "stream",
     "text": [
      "/home/nwoodall/miniconda3/envs/se33/lib/python3.9/site-packages/Bio/PDB/StructureBuilder.py:89: PDBConstructionWarning: WARNING: Chain A is discontinuous at line 980.\n",
      "  warnings.warn(\n",
      "/home/nwoodall/miniconda3/envs/se33/lib/python3.9/site-packages/Bio/PDB/StructureBuilder.py:89: PDBConstructionWarning: WARNING: Chain B is discontinuous at line 1038.\n",
      "  warnings.warn(\n"
     ]
    },
    {
     "name": "stdout",
     "output_type": "stream",
     "text": [
      "Failed /mnt/h/datasets/mmCIF/a7/2a7w.cif: Too long 1431\n",
      "Failed /mnt/h/datasets/mmCIF/a7/2a7x.cif: Too long 594\n",
      "Failed /mnt/h/datasets/mmCIF/a7/2a7y.cif: Invalid resolution 0.0\n",
      "Failed /mnt/h/datasets/mmCIF/a7/3a70.cif: Too long 2373\n",
      "Failed /mnt/h/datasets/mmCIF/a7/3a71.cif: Too long 894\n",
      "Failed /mnt/h/datasets/mmCIF/a7/3a72.cif: Too long 901\n",
      "Failed /mnt/h/datasets/mmCIF/a7/3a73.cif: Too long 1441\n",
      "Failed /mnt/h/datasets/mmCIF/a7/3a74.cif: Too long 2768\n",
      "Failed /mnt/h/datasets/mmCIF/a7/3a75.cif: Too long 1875\n",
      "Failed /mnt/h/datasets/mmCIF/a7/3a76.cif: Too long 551\n",
      "Failed /mnt/h/datasets/mmCIF/a7/3a77.cif: Too long 1942\n",
      "Failed /mnt/h/datasets/mmCIF/a7/3a78.cif: Too long 627\n",
      "Failed /mnt/h/datasets/mmCIF/a7/3a79.cif: Too long 1102\n",
      "Failed /mnt/h/datasets/mmCIF/a7/3a7a.cif: Too long 932\n",
      "Failed /mnt/h/datasets/mmCIF/a7/3a7b.cif: Too long 823\n",
      "Failed /mnt/h/datasets/mmCIF/a7/3a7c.cif: Too long 780\n",
      "Failed /mnt/h/datasets/mmCIF/a7/3a7d.cif: Too long 311\n",
      "Finished /mnt/h/datasets/mmCIF/a7/3a7e.cif in 0.18s\n",
      "Failed /mnt/h/datasets/mmCIF/a7/3a7f.cif: Too long 605\n",
      "Failed /mnt/h/datasets/mmCIF/a7/3a7g.cif: Too long 1042\n",
      "Failed /mnt/h/datasets/mmCIF/a7/3a7h.cif: Too long 1059\n",
      "Failed /mnt/h/datasets/mmCIF/a7/3a7i.cif: Too long 705\n",
      "Failed /mnt/h/datasets/mmCIF/a7/3a7j.cif: Too long 673\n",
      "Failed /mnt/h/datasets/mmCIF/a7/3a7k.cif: Too long 950\n",
      "Finished /mnt/h/datasets/mmCIF/a7/3a7l.cif in 0.12s\n",
      "Failed /mnt/h/datasets/mmCIF/a7/3a7m.cif: Too high resolution 3.2\n",
      "Failed /mnt/h/datasets/mmCIF/a7/3a7n.cif: Too long 428\n",
      "Failed /mnt/h/datasets/mmCIF/a7/3a7o.cif: Too long 424\n"
     ]
    },
    {
     "name": "stderr",
     "output_type": "stream",
     "text": [
      "/home/nwoodall/miniconda3/envs/se33/lib/python3.9/site-packages/Bio/PDB/StructureBuilder.py:89: PDBConstructionWarning: WARNING: Chain A is discontinuous at line 1293.\n",
      "  warnings.warn(\n",
      "/home/nwoodall/miniconda3/envs/se33/lib/python3.9/site-packages/Bio/PDB/StructureBuilder.py:89: PDBConstructionWarning: WARNING: Chain B is discontinuous at line 1308.\n",
      "  warnings.warn(\n"
     ]
    },
    {
     "name": "stdout",
     "output_type": "stream",
     "text": [
      "Finished /mnt/h/datasets/mmCIF/a7/3a7p.cif in 0.15s\n",
      "Failed /mnt/h/datasets/mmCIF/a7/3a7q.cif: Too long 750\n",
      "Failed /mnt/h/datasets/mmCIF/a7/3a7r.cif: Too long 849\n",
      "Finished /mnt/h/datasets/mmCIF/a7/3a7s.cif in 0.16s\n",
      "Failed /mnt/h/datasets/mmCIF/a7/3a7t.cif: Too long 615\n",
      "Failed /mnt/h/datasets/mmCIF/a7/3a7u.cif: Too high resolution 3.44\n",
      "Failed /mnt/h/datasets/mmCIF/a7/3a7v.cif: Too long 626\n",
      "Failed /mnt/h/datasets/mmCIF/a7/3a7w.cif: Too long 622\n",
      "Failed /mnt/h/datasets/mmCIF/a7/3a7x.cif: Too long 469\n",
      "Failed /mnt/h/datasets/mmCIF/a7/3a7y.cif: Too long 630\n",
      "Failed /mnt/h/datasets/mmCIF/a7/3a7z.cif: Too long 527\n",
      "Failed /mnt/h/datasets/mmCIF/a7/4a71.cif: Too long 790\n",
      "Failed /mnt/h/datasets/mmCIF/a7/4a72.cif: Too long 2292\n",
      "Failed /mnt/h/datasets/mmCIF/a7/4a73.cif: Too high resolution 3.0\n",
      "Failed /mnt/h/datasets/mmCIF/a7/4a75.cif: Too long 882\n",
      "Failed /mnt/h/datasets/mmCIF/a7/4a76.cif: Too long 714\n",
      "Failed /mnt/h/datasets/mmCIF/a7/4a78.cif: Too long 670\n",
      "Failed /mnt/h/datasets/mmCIF/a7/4a79.cif: Too long 1692\n",
      "Failed /mnt/h/datasets/mmCIF/a7/4a7a.cif: Too long 1788\n",
      "Failed /mnt/h/datasets/mmCIF/a7/4a7b.cif: Too long 552\n",
      "Failed /mnt/h/datasets/mmCIF/a7/4a7c.cif: Too long 467\n",
      "Failed /mnt/h/datasets/mmCIF/a7/4a7d.cif: Too long 322\n"
     ]
    },
    {
     "name": "stderr",
     "output_type": "stream",
     "text": [
      "/home/nwoodall/miniconda3/envs/se33/lib/python3.9/site-packages/Bio/PDB/StructureBuilder.py:89: PDBConstructionWarning: WARNING: Chain A is discontinuous at line 744.\n",
      "  warnings.warn(\n",
      "/home/nwoodall/miniconda3/envs/se33/lib/python3.9/site-packages/Bio/PDB/StructureBuilder.py:89: PDBConstructionWarning: WARNING: Chain B is discontinuous at line 768.\n",
      "  warnings.warn(\n"
     ]
    },
    {
     "name": "stdout",
     "output_type": "stream",
     "text": [
      "Finished /mnt/h/datasets/mmCIF/a7/4a7e.cif in 0.11s\n",
      "Failed /mnt/h/datasets/mmCIF/a7/4a7f.cif: Too high resolution 7.7\n",
      "Failed /mnt/h/datasets/mmCIF/a7/4a7g.cif: Too long 707\n",
      "Failed /mnt/h/datasets/mmCIF/a7/4a7h.cif: Too high resolution 7.8\n",
      "Failed /mnt/h/datasets/mmCIF/a7/4a7i.cif: Too long 495\n",
      "Failed /mnt/h/datasets/mmCIF/a7/4a7j.cif: Too long 554\n",
      "Failed /mnt/h/datasets/mmCIF/a7/4a7k.cif: Too long 1441\n",
      "Failed /mnt/h/datasets/mmCIF/a7/4a7l.cif: Too high resolution 8.1\n",
      "Failed /mnt/h/datasets/mmCIF/a7/4a7m.cif: Too long 872\n",
      "Failed /mnt/h/datasets/mmCIF/a7/4a7n.cif: Too high resolution 8.9\n",
      "Failed /mnt/h/datasets/mmCIF/a7/4a7p.cif: Too high resolution 3.4\n",
      "Failed /mnt/h/datasets/mmCIF/a7/4a7q.cif: Too long 795\n",
      "Failed /mnt/h/datasets/mmCIF/a7/4a7s.cif: Too long 782\n",
      "Failed /mnt/h/datasets/mmCIF/a7/4a7t.cif: Too long 677\n",
      "Failed /mnt/h/datasets/mmCIF/a7/4a7u.cif: Too long 600\n",
      "Failed /mnt/h/datasets/mmCIF/a7/4a7v.cif: Too long 558\n",
      "Failed /mnt/h/datasets/mmCIF/a7/4a7w.cif: Too long 772\n",
      "Failed /mnt/h/datasets/mmCIF/a7/4a7x.cif: Too long 1778\n",
      "Failed /mnt/h/datasets/mmCIF/a7/4a7y.cif: Too long 946\n",
      "Failed /mnt/h/datasets/mmCIF/a7/4a7z.cif: Too long 1076\n",
      "Failed /mnt/h/datasets/mmCIF/a7/5a70.cif: Too long 1088\n",
      "Failed /mnt/h/datasets/mmCIF/a7/5a71.cif: Too long 1667\n",
      "Failed /mnt/h/datasets/mmCIF/a7/5a72.cif: Too long 451\n",
      "Failed /mnt/h/datasets/mmCIF/a7/5a74.cif: Too long 571\n",
      "Failed /mnt/h/datasets/mmCIF/a7/5a76.cif: Too high resolution 3.8\n",
      "Failed /mnt/h/datasets/mmCIF/a7/5a77.cif: Too long 382\n",
      "Failed /mnt/h/datasets/mmCIF/a7/5a78.cif: Too long 387\n",
      "Failed /mnt/h/datasets/mmCIF/a7/5a79.cif: Too high resolution 4.1\n",
      "Failed /mnt/h/datasets/mmCIF/a7/5a7a.cif: Too high resolution 4.1\n",
      "Failed /mnt/h/datasets/mmCIF/a7/5a7b.cif: Too long 1014\n",
      "Failed /mnt/h/datasets/mmCIF/a7/5a7c.cif: Too long 816\n",
      "Failed /mnt/h/datasets/mmCIF/a7/5a7d.cif: Too high resolution 3.4\n",
      "Failed /mnt/h/datasets/mmCIF/a7/5a7e.cif: Too long 1092\n",
      "Failed /mnt/h/datasets/mmCIF/a7/5a7f.cif: Too long 805\n",
      "Failed /mnt/h/datasets/mmCIF/a7/5a7g.cif: Too long 1225\n",
      "Failed /mnt/h/datasets/mmCIF/a7/5a7h.cif: Too long 760\n",
      "Failed /mnt/h/datasets/mmCIF/a7/5a7i.cif: Too long 348\n",
      "Failed /mnt/h/datasets/mmCIF/a7/5a7j.cif: Too long 701\n",
      "Finished /mnt/h/datasets/mmCIF/a7/5a7l.cif in 0.13s\n",
      "Failed /mnt/h/datasets/mmCIF/a7/5a7m.cif: Too long 3493\n",
      "Failed /mnt/h/datasets/mmCIF/a7/5a7n.cif: Too long 1005\n",
      "Failed /mnt/h/datasets/mmCIF/a7/5a7o.cif: Too long 1040\n",
      "Failed /mnt/h/datasets/mmCIF/a7/5a7p.cif: Too long 1064\n",
      "Failed /mnt/h/datasets/mmCIF/a7/5a7q.cif: Too long 1038\n",
      "Failed /mnt/h/datasets/mmCIF/a7/5a7r.cif: Too long 955\n",
      "Failed /mnt/h/datasets/mmCIF/a7/5a7s.cif: Too long 1113\n",
      "Finished /mnt/h/datasets/mmCIF/a7/5a7t.cif in 0.19s\n",
      "Failed /mnt/h/datasets/mmCIF/a7/5a7u.cif: Too high resolution 4.8\n",
      "Failed /mnt/h/datasets/mmCIF/a7/5a7v.cif: Too long 1600\n",
      "Failed /mnt/h/datasets/mmCIF/a7/5a7w.cif: Too long 782\n",
      "Failed /mnt/h/datasets/mmCIF/a7/5a7x.cif: Too high resolution 17.0\n",
      "Failed /mnt/h/datasets/mmCIF/a7/5a7y.cif: Too long 573\n",
      "Finished /mnt/h/datasets/mmCIF/a7/5a7z.cif in 0.20s\n",
      "Failed /mnt/h/datasets/mmCIF/a7/6a70.cif: Too high resolution 3.6\n",
      "Failed /mnt/h/datasets/mmCIF/a7/6a71.cif: Too long 360\n",
      "Finished /mnt/h/datasets/mmCIF/a7/6a72.cif in 0.14s\n"
     ]
    },
    {
     "name": "stderr",
     "output_type": "stream",
     "text": [
      "/home/nwoodall/miniconda3/envs/se33/lib/python3.9/site-packages/Bio/PDB/StructureBuilder.py:89: PDBConstructionWarning: WARNING: Chain A is discontinuous at line 1031.\n",
      "  warnings.warn(\n",
      "/home/nwoodall/miniconda3/envs/se33/lib/python3.9/site-packages/Bio/PDB/StructureBuilder.py:89: PDBConstructionWarning: WARNING: Chain B is discontinuous at line 1037.\n",
      "  warnings.warn(\n",
      "/home/nwoodall/miniconda3/envs/se33/lib/python3.9/site-packages/Bio/PDB/StructureBuilder.py:89: PDBConstructionWarning: WARNING: Chain A is discontinuous at line 1038.\n",
      "  warnings.warn(\n",
      "/home/nwoodall/miniconda3/envs/se33/lib/python3.9/site-packages/Bio/PDB/StructureBuilder.py:89: PDBConstructionWarning: WARNING: Chain B is discontinuous at line 1084.\n",
      "  warnings.warn(\n"
     ]
    },
    {
     "name": "stdout",
     "output_type": "stream",
     "text": [
      "Failed /mnt/h/datasets/mmCIF/a7/6a73.cif: Too long 755\n",
      "Finished /mnt/h/datasets/mmCIF/a7/6a75.cif in 0.15s\n",
      "Failed /mnt/h/datasets/mmCIF/a7/6a76.cif: Too long 791\n",
      "Failed /mnt/h/datasets/mmCIF/a7/6a77.cif: Too long 678\n",
      "Failed /mnt/h/datasets/mmCIF/a7/6a78.cif: Too long 966\n",
      "Failed /mnt/h/datasets/mmCIF/a7/6a79.cif: Too long 976\n",
      "Failed /mnt/h/datasets/mmCIF/a7/6a7a.cif: Too long 481\n",
      "Failed /mnt/h/datasets/mmCIF/a7/6a7b.cif: Too long 836\n",
      "Failed /mnt/h/datasets/mmCIF/a7/6a7c.cif: Too long 347\n",
      "Finished /mnt/h/datasets/mmCIF/a7/6a7d.cif in 0.15s\n",
      "Failed /mnt/h/datasets/mmCIF/a7/6a7e.cif: Too long 349\n",
      "Failed /mnt/h/datasets/mmCIF/a7/6a7f.cif: Too high resolution 3.4\n",
      "Failed /mnt/h/datasets/mmCIF/a7/6a7h.cif: Too long 2993\n",
      "Failed /mnt/h/datasets/mmCIF/a7/6a7i.cif: Too long 678\n",
      "Failed /mnt/h/datasets/mmCIF/a7/6a7j.cif: Too long 417\n"
     ]
    },
    {
     "name": "stderr",
     "output_type": "stream",
     "text": [
      "/home/nwoodall/miniconda3/envs/se33/lib/python3.9/site-packages/Bio/PDB/StructureBuilder.py:89: PDBConstructionWarning: WARNING: Chain A is discontinuous at line 956.\n",
      "  warnings.warn(\n",
      "/home/nwoodall/miniconda3/envs/se33/lib/python3.9/site-packages/Bio/PDB/StructureBuilder.py:89: PDBConstructionWarning: WARNING: Chain B is discontinuous at line 960.\n",
      "  warnings.warn(\n",
      "/home/nwoodall/miniconda3/envs/se33/lib/python3.9/site-packages/Bio/PDB/StructureBuilder.py:89: PDBConstructionWarning: WARNING: Chain A is discontinuous at line 964.\n",
      "  warnings.warn(\n",
      "/home/nwoodall/miniconda3/envs/se33/lib/python3.9/site-packages/Bio/PDB/StructureBuilder.py:89: PDBConstructionWarning: WARNING: Chain B is discontinuous at line 1012.\n",
      "  warnings.warn(\n"
     ]
    },
    {
     "name": "stdout",
     "output_type": "stream",
     "text": [
      "Finished /mnt/h/datasets/mmCIF/a7/6a7k.cif in 0.13s\n",
      "Failed /mnt/h/datasets/mmCIF/a7/6a7p.cif: Too long 1491\n",
      "Finished /mnt/h/datasets/mmCIF/a7/6a7s.cif in 0.13s\n",
      "Failed /mnt/h/datasets/mmCIF/a7/6a7t.cif: Too long 691\n",
      "Finished /mnt/h/datasets/mmCIF/a7/6a7u.cif in 0.20s\n",
      "Failed /mnt/h/datasets/mmCIF/a7/6a7v.cif: Too long 1375\n",
      "Failed /mnt/h/datasets/mmCIF/a7/6a7w.cif: Too long 650\n",
      "Failed /mnt/h/datasets/mmCIF/a7/6a7x.cif: Too long 4191\n",
      "Failed /mnt/h/datasets/mmCIF/a7/6a7y.cif: Encountered errors {('6a7y', ''): 'No protein chains found in this file.'}\n",
      "Finished /mnt/h/datasets/mmCIF/a7/7a70.cif in 0.46s\n",
      "Failed /mnt/h/datasets/mmCIF/a7/7a71.cif: Too long 477\n",
      "Failed /mnt/h/datasets/mmCIF/a7/7a72.cif: Too long 492\n",
      "Failed /mnt/h/datasets/mmCIF/a7/7a73.cif: Too long 924\n",
      "Failed /mnt/h/datasets/mmCIF/a7/7a74.cif: Too long 453\n",
      "Failed /mnt/h/datasets/mmCIF/a7/7a76.cif: Too long 2166\n",
      "Failed /mnt/h/datasets/mmCIF/a7/7a77.cif: Too long 467\n",
      "Failed /mnt/h/datasets/mmCIF/a7/7a78.cif: Too long 371\n",
      "Failed /mnt/h/datasets/mmCIF/a7/7a79.cif: Too long 642\n",
      "Failed /mnt/h/datasets/mmCIF/a7/7a7a.cif: Too high resolution 3.08\n",
      "Failed /mnt/h/datasets/mmCIF/a7/7a7b.cif: Too long 2563\n",
      "Failed /mnt/h/datasets/mmCIF/a7/7a7c.cif: Too high resolution 3.16\n",
      "Failed /mnt/h/datasets/mmCIF/a7/7a7d.cif: Too high resolution 26.0\n",
      "Failed /mnt/h/datasets/mmCIF/a7/7a7e.cif: Too long 530\n",
      "Failed /mnt/h/datasets/mmCIF/a7/7a7g.cif: Too long 670\n",
      "Finished /mnt/h/datasets/mmCIF/a7/7a7h.cif in 0.28s\n",
      "Failed /mnt/h/datasets/mmCIF/a7/7a7k.cif: Too long 507\n",
      "Failed /mnt/h/datasets/mmCIF/a7/7a7l.cif: Too long 554\n",
      "Failed /mnt/h/datasets/mmCIF/a7/7a7m.cif: Too long 447\n",
      "Failed /mnt/h/datasets/mmCIF/a7/7a7n.cif: Too long 588\n",
      "Failed /mnt/h/datasets/mmCIF/a7/7a7o.cif: Too long 460\n",
      "Failed /mnt/h/datasets/mmCIF/a7/7a7p.cif: Too long 512\n",
      "Failed /mnt/h/datasets/mmCIF/a7/7a7q.cif: Too long 367\n",
      "Failed /mnt/h/datasets/mmCIF/a7/7a7r.cif: Too long 361\n",
      "Failed /mnt/h/datasets/mmCIF/a7/7a7s.cif: Too long 363\n",
      "Failed /mnt/h/datasets/mmCIF/a7/7a7t.cif: Too long 523\n",
      "Failed /mnt/h/datasets/mmCIF/a7/7a7u.cif: Too long 398\n",
      "Failed /mnt/h/datasets/mmCIF/a7/7a7v.cif: Too long 465\n",
      "Failed /mnt/h/datasets/mmCIF/a7/7a7w.cif: Too long 626\n",
      "Failed /mnt/h/datasets/mmCIF/a7/7a7x.cif: Too long 497\n",
      "Failed /mnt/h/datasets/mmCIF/a7/7a7y.cif: Too long 746\n",
      "Failed /mnt/h/datasets/mmCIF/a7/7a7z.cif: Too long 731\n",
      "Failed /mnt/h/datasets/mmCIF/a7/8a70.cif: Too long 818\n",
      "Failed /mnt/h/datasets/mmCIF/a7/8a71.cif: Encountered errors {('8a71', ''): 'No protein chains found in this file.'}\n",
      "Failed /mnt/h/datasets/mmCIF/a7/8a73.cif: Too long 1024\n",
      "Failed /mnt/h/datasets/mmCIF/a7/8a74.cif: Too long 885\n",
      "Failed /mnt/h/datasets/mmCIF/a7/8a76.cif: Too long 783\n",
      "Failed /mnt/h/datasets/mmCIF/a7/8a78.cif: Too long 1016\n",
      "Failed /mnt/h/datasets/mmCIF/a7/8a7a.cif: Too long 1174\n",
      "Failed /mnt/h/datasets/mmCIF/a7/8a7b.cif: Too long 979\n",
      "Failed /mnt/h/datasets/mmCIF/a7/8a7c.cif: Too long 1428\n",
      "Failed /mnt/h/datasets/mmCIF/a7/8a7d.cif: Too high resolution 3.06\n",
      "Failed /mnt/h/datasets/mmCIF/a7/8a7e.cif: Too high resolution 5.02\n",
      "Failed /mnt/h/datasets/mmCIF/a7/8a7f.cif: Too long 732\n",
      "Failed /mnt/h/datasets/mmCIF/a7/8a7h.cif: Too high resolution 3.145\n",
      "Failed /mnt/h/datasets/mmCIF/a7/8a7i.cif: Too long 392\n",
      "Failed /mnt/h/datasets/mmCIF/a7/8a7j.cif: Too long 1441\n",
      "Failed /mnt/h/datasets/mmCIF/a7/8a7k.cif: Too long 1231\n",
      "Failed /mnt/h/datasets/mmCIF/a7/8a7l.cif: Too long 529\n",
      "Failed /mnt/h/datasets/mmCIF/a7/8a7n.cif: Too long 321\n",
      "Failed /mnt/h/datasets/mmCIF/a7/8a7o.cif: Too high resolution 3.0\n",
      "Failed /mnt/h/datasets/mmCIF/a7/8a7p.cif: Too high resolution 3.4\n",
      "Failed /mnt/h/datasets/mmCIF/a7/8a7q.cif: Too long 768\n",
      "Failed /mnt/h/datasets/mmCIF/a7/8a7r.cif: Too long 790\n",
      "Failed /mnt/h/datasets/mmCIF/a7/8a7s.cif: Too long 1276\n",
      "Failed /mnt/h/datasets/mmCIF/a7/8a7t.cif: Too high resolution 3.0\n",
      "Failed /mnt/h/datasets/mmCIF/a7/8a7u.cif: Too long 1058\n",
      "Failed /mnt/h/datasets/mmCIF/a7/8a7v.cif: Too long 408\n"
     ]
    },
    {
     "name": "stderr",
     "output_type": "stream",
     "text": [
      "/home/nwoodall/miniconda3/envs/se33/lib/python3.9/site-packages/Bio/PDB/StructureBuilder.py:89: PDBConstructionWarning: WARNING: Chain A is discontinuous at line 2981.\n",
      "  warnings.warn(\n",
      "/home/nwoodall/miniconda3/envs/se33/lib/python3.9/site-packages/Bio/PDB/StructureBuilder.py:89: PDBConstructionWarning: WARNING: Chain B is discontinuous at line 3141.\n",
      "  warnings.warn(\n",
      "/home/nwoodall/miniconda3/envs/se33/lib/python3.9/site-packages/Bio/PDB/StructureBuilder.py:89: PDBConstructionWarning: WARNING: Chain A is discontinuous at line 3387.\n",
      "  warnings.warn(\n",
      "/home/nwoodall/miniconda3/envs/se33/lib/python3.9/site-packages/Bio/PDB/StructureBuilder.py:89: PDBConstructionWarning: WARNING: Chain B is discontinuous at line 3402.\n",
      "  warnings.warn(\n"
     ]
    },
    {
     "name": "stdout",
     "output_type": "stream",
     "text": [
      "Finished /mnt/h/datasets/mmCIF/a7/8a7x.cif in 0.35s\n",
      "Failed /mnt/h/datasets/mmCIF/a7/8a7z.cif: Invalid resolution 0.0\n"
     ]
    },
    {
     "name": "stderr",
     "output_type": "stream",
     "text": [
      "\r",
      " 12%|█████████▍                                                                  | 132/1060 [18:23<29:34:24, 114.72s/it]"
     ]
    },
    {
     "name": "stdout",
     "output_type": "stream",
     "text": [
      "Gathering mmCIF paths\n"
     ]
    },
    {
     "name": "stderr",
     "output_type": "stream",
     "text": [
      "\n",
      "  0%|                                                                                           | 0/266 [00:00<?, ?it/s]\u001b[A\n",
      " 29%|███████████████████████▍                                                         | 77/266 [00:00<00:00, 769.09it/s]\u001b[A\n",
      " 59%|███████████████████████████████████████████████▌                                | 158/266 [00:00<00:00, 789.11it/s]\u001b[A\n",
      "100%|████████████████████████████████████████████████████████████████████████████████| 266/266 [00:00<00:00, 800.72it/s]\u001b[A\n"
     ]
    },
    {
     "name": "stdout",
     "output_type": "stream",
     "text": [
      "Processing 0 files our of 0\n",
      "Failed /mnt/h/datasets/mmCIF/a8/1a80.cif: Too long 383\n",
      "Failed /mnt/h/datasets/mmCIF/a8/1a81.cif: Too high resolution 3.0\n",
      "Failed /mnt/h/datasets/mmCIF/a8/1a82.cif: Too long 446\n",
      "Failed /mnt/h/datasets/mmCIF/a8/1a83.cif: Encountered errors {('1a83', ''): 'No protein chains found in this file.'}\n",
      "Failed /mnt/h/datasets/mmCIF/a8/1a84.cif: Encountered errors {('1a84', ''): 'No protein chains found in this file.'}\n",
      "Finished /mnt/h/datasets/mmCIF/a8/1a85.cif in 0.16s\n",
      "Finished /mnt/h/datasets/mmCIF/a8/1a86.cif in 0.14s\n",
      "Failed /mnt/h/datasets/mmCIF/a8/1a87.cif: Too high resolution 3.1\n",
      "Failed /mnt/h/datasets/mmCIF/a8/1a88.cif: Too long 1332\n",
      "Failed /mnt/h/datasets/mmCIF/a8/1a8a.cif: Too long 445\n",
      "Failed /mnt/h/datasets/mmCIF/a8/1a8b.cif: Too long 484\n",
      "Failed /mnt/h/datasets/mmCIF/a8/1a8c.cif: Invalid resolution 0.0\n",
      "Failed /mnt/h/datasets/mmCIF/a8/1a8d.cif: Too long 878\n",
      "Failed /mnt/h/datasets/mmCIF/a8/1a8e.cif: Too long 469\n",
      "Failed /mnt/h/datasets/mmCIF/a8/1a8f.cif: Too long 599\n",
      "Finished /mnt/h/datasets/mmCIF/a8/1a8g.cif in 0.17s\n"
     ]
    },
    {
     "name": "stderr",
     "output_type": "stream",
     "text": [
      "/home/nwoodall/miniconda3/envs/se33/lib/python3.9/site-packages/Bio/PDB/StructureBuilder.py:89: PDBConstructionWarning: WARNING: Chain A is discontinuous at line 1520.\n",
      "  warnings.warn(\n",
      "/home/nwoodall/miniconda3/envs/se33/lib/python3.9/site-packages/Bio/PDB/StructureBuilder.py:89: PDBConstructionWarning: WARNING: Chain B is discontinuous at line 1616.\n",
      "  warnings.warn(\n"
     ]
    },
    {
     "name": "stdout",
     "output_type": "stream",
     "text": [
      "Failed /mnt/h/datasets/mmCIF/a8/1a8h.cif: Too long 636\n",
      "Failed /mnt/h/datasets/mmCIF/a8/1a8i.cif: Too long 1609\n",
      "Failed /mnt/h/datasets/mmCIF/a8/1a8j.cif: Too long 434\n",
      "Failed /mnt/h/datasets/mmCIF/a8/1a8k.cif: Too long 557\n",
      "Failed /mnt/h/datasets/mmCIF/a8/1a8l.cif: Too long 366\n",
      "Failed /mnt/h/datasets/mmCIF/a8/1a8m.cif: Too long 525\n",
      "Failed /mnt/h/datasets/mmCIF/a8/1a8n.cif: Encountered errors {('1a8n', ''): 'No protein chains found in this file.'}\n",
      "Finished /mnt/h/datasets/mmCIF/a8/1a8o.cif in 0.08s\n",
      "Failed /mnt/h/datasets/mmCIF/a8/1a8p.cif: Too long 343\n",
      "Failed /mnt/h/datasets/mmCIF/a8/1a8q.cif: Too long 481\n",
      "Failed /mnt/h/datasets/mmCIF/a8/1a8r.cif: Too long 4305\n",
      "Failed /mnt/h/datasets/mmCIF/a8/1a8s.cif: Too long 613\n",
      "Failed /mnt/h/datasets/mmCIF/a8/1a8t.cif: Too long 646\n",
      "Failed /mnt/h/datasets/mmCIF/a8/1a8u.cif: Too long 1232\n",
      "Failed /mnt/h/datasets/mmCIF/a8/1a8v.cif: Too long 321\n",
      "Failed /mnt/h/datasets/mmCIF/a8/1a8w.cif: Encountered errors {('1a8w', ''): 'No protein chains found in this file.'}\n",
      "Failed /mnt/h/datasets/mmCIF/a8/1a8y.cif: Too long 378\n",
      "Finished /mnt/h/datasets/mmCIF/a8/1a8z.cif in 0.14s\n",
      "Failed /mnt/h/datasets/mmCIF/a8/2a81.cif: Too high resolution 3.15\n",
      "Failed /mnt/h/datasets/mmCIF/a8/2a83.cif: Too long 1068\n",
      "Failed /mnt/h/datasets/mmCIF/a8/2a84.cif: Too long 576\n",
      "Failed /mnt/h/datasets/mmCIF/a8/2a85.cif: Too long 482\n",
      "Failed /mnt/h/datasets/mmCIF/a8/2a86.cif: Too long 893\n",
      "Failed /mnt/h/datasets/mmCIF/a8/2a87.cif: Too high resolution 3.0\n",
      "Failed /mnt/h/datasets/mmCIF/a8/2a88.cif: Too long 566\n",
      "Failed /mnt/h/datasets/mmCIF/a8/2a89.cif: Too long 1756\n",
      "Failed /mnt/h/datasets/mmCIF/a8/2a8a.cif: Too long 574\n",
      "Failed /mnt/h/datasets/mmCIF/a8/2a8b.cif: Too long 416\n",
      "Failed /mnt/h/datasets/mmCIF/a8/2a8c.cif: Too long 1490\n",
      "Failed /mnt/h/datasets/mmCIF/a8/2a8d.cif: Too long 1651\n",
      "Failed /mnt/h/datasets/mmCIF/a8/2a8e.cif: Too long 308\n",
      "Failed /mnt/h/datasets/mmCIF/a8/2a8f.cif: Too long 555\n"
     ]
    },
    {
     "name": "stderr",
     "output_type": "stream",
     "text": [
      "/home/nwoodall/miniconda3/envs/se33/lib/python3.9/site-packages/Bio/PDB/StructureBuilder.py:89: PDBConstructionWarning: WARNING: Chain A is discontinuous at line 1892.\n",
      "  warnings.warn(\n",
      "/home/nwoodall/miniconda3/envs/se33/lib/python3.9/site-packages/Bio/PDB/StructureBuilder.py:89: PDBConstructionWarning: WARNING: Chain B is discontinuous at line 1906.\n",
      "  warnings.warn(\n",
      "/home/nwoodall/miniconda3/envs/se33/lib/python3.9/site-packages/Bio/PDB/StructureBuilder.py:89: PDBConstructionWarning: WARNING: Chain A is discontinuous at line 1939.\n",
      "  warnings.warn(\n",
      "/home/nwoodall/miniconda3/envs/se33/lib/python3.9/site-packages/Bio/PDB/StructureBuilder.py:89: PDBConstructionWarning: WARNING: Chain B is discontinuous at line 1959.\n",
      "  warnings.warn(\n"
     ]
    },
    {
     "name": "stdout",
     "output_type": "stream",
     "text": [
      "Finished /mnt/h/datasets/mmCIF/a8/2a8g.cif in 0.20s\n",
      "Failed /mnt/h/datasets/mmCIF/a8/2a8h.cif: Too long 667\n",
      "Failed /mnt/h/datasets/mmCIF/a8/2a8i.cif: Too long 984\n",
      "Failed /mnt/h/datasets/mmCIF/a8/2a8j.cif: Too long 953\n",
      "Failed /mnt/h/datasets/mmCIF/a8/2a8k.cif: Too long 726\n",
      "Failed /mnt/h/datasets/mmCIF/a8/2a8l.cif: Too long 883\n",
      "Failed /mnt/h/datasets/mmCIF/a8/2a8m.cif: Too long 734\n",
      "Failed /mnt/h/datasets/mmCIF/a8/2a8n.cif: Too long 474\n",
      "Failed /mnt/h/datasets/mmCIF/a8/2a8p.cif: Too long 439\n",
      "Failed /mnt/h/datasets/mmCIF/a8/2a8q.cif: Too long 431\n",
      "Failed /mnt/h/datasets/mmCIF/a8/2a8r.cif: Too long 461\n",
      "Failed /mnt/h/datasets/mmCIF/a8/2a8s.cif: Too long 441\n",
      "Failed /mnt/h/datasets/mmCIF/a8/2a8t.cif: Too long 493\n",
      "Failed /mnt/h/datasets/mmCIF/a8/2a8u.cif: Too long 450\n",
      "Failed /mnt/h/datasets/mmCIF/a8/2a8v.cif: Too long 444\n",
      "Failed /mnt/h/datasets/mmCIF/a8/2a8w.cif: Too long 497\n",
      "Failed /mnt/h/datasets/mmCIF/a8/2a8x.cif: Too long 1264\n",
      "Failed /mnt/h/datasets/mmCIF/a8/2a8y.cif: Too long 6597\n",
      "Failed /mnt/h/datasets/mmCIF/a8/2a8z.cif: Too high resolution 3.2\n",
      "Failed /mnt/h/datasets/mmCIF/a8/3a80.cif: Too long 496\n",
      "Failed /mnt/h/datasets/mmCIF/a8/3a81.cif: Too long 605\n",
      "Failed /mnt/h/datasets/mmCIF/a8/3a82.cif: Too long 473\n",
      "Failed /mnt/h/datasets/mmCIF/a8/3a83.cif: Too long 614\n",
      "Failed /mnt/h/datasets/mmCIF/a8/3a84.cif: Too long 549\n",
      "Failed /mnt/h/datasets/mmCIF/a8/3a85.cif: Too long 528\n",
      "Failed /mnt/h/datasets/mmCIF/a8/3a86.cif: Too long 484\n",
      "Failed /mnt/h/datasets/mmCIF/a8/3a87.cif: Too long 584\n",
      "Failed /mnt/h/datasets/mmCIF/a8/3a88.cif: Too long 553\n",
      "Failed /mnt/h/datasets/mmCIF/a8/3a89.cif: Too long 651\n",
      "Failed /mnt/h/datasets/mmCIF/a8/3a8a.cif: Too long 654\n",
      "Failed /mnt/h/datasets/mmCIF/a8/3a8b.cif: Too long 531\n",
      "Failed /mnt/h/datasets/mmCIF/a8/3a8c.cif: Too long 426\n",
      "Failed /mnt/h/datasets/mmCIF/a8/3a8d.cif: Too long 477\n",
      "Failed /mnt/h/datasets/mmCIF/a8/3a8e.cif: Too high resolution 3.0\n",
      "Failed /mnt/h/datasets/mmCIF/a8/3a8g.cif: Too long 862\n",
      "Failed /mnt/h/datasets/mmCIF/a8/3a8h.cif: Too long 933\n",
      "Failed /mnt/h/datasets/mmCIF/a8/3a8i.cif: Too long 2838\n",
      "Failed /mnt/h/datasets/mmCIF/a8/3a8j.cif: Too long 3069\n",
      "Failed /mnt/h/datasets/mmCIF/a8/3a8k.cif: Too long 3197\n",
      "Failed /mnt/h/datasets/mmCIF/a8/3a8l.cif: Too long 1045\n",
      "Failed /mnt/h/datasets/mmCIF/a8/3a8m.cif: Too long 789\n",
      "Failed /mnt/h/datasets/mmCIF/a8/3a8n.cif: Too high resolution 4.5\n",
      "Failed /mnt/h/datasets/mmCIF/a8/3a8o.cif: Too long 1138\n",
      "Failed /mnt/h/datasets/mmCIF/a8/3a8p.cif: Too long 1303\n",
      "Failed /mnt/h/datasets/mmCIF/a8/3a8q.cif: Too high resolution 3.2\n",
      "Failed /mnt/h/datasets/mmCIF/a8/3a8r.cif: Too long 412\n",
      "Failed /mnt/h/datasets/mmCIF/a8/3a8s.cif: Too long 470\n",
      "Failed /mnt/h/datasets/mmCIF/a8/3a8t.cif: Too long 489\n",
      "Failed /mnt/h/datasets/mmCIF/a8/3a8u.cif: Too long 813\n",
      "Failed /mnt/h/datasets/mmCIF/a8/3a8w.cif: Too long 822\n",
      "Failed /mnt/h/datasets/mmCIF/a8/3a8x.cif: Too long 860\n",
      "Failed /mnt/h/datasets/mmCIF/a8/3a8y.cif: Too long 1484\n",
      "Finished /mnt/h/datasets/mmCIF/a8/3a8z.cif in 0.15s\n",
      "Finished /mnt/h/datasets/mmCIF/a8/4a80.cif in 0.60s\n",
      "Finished /mnt/h/datasets/mmCIF/a8/4a81.cif in 0.17s\n",
      "Failed /mnt/h/datasets/mmCIF/a8/4a82.cif: Too high resolution 7.0\n",
      "Failed /mnt/h/datasets/mmCIF/a8/4a83.cif: Too long 307\n",
      "Failed /mnt/h/datasets/mmCIF/a8/4a84.cif: Too long 351\n",
      "Failed /mnt/h/datasets/mmCIF/a8/4a85.cif: Too long 319\n",
      "Failed /mnt/h/datasets/mmCIF/a8/4a86.cif: Too long 310\n",
      "Failed /mnt/h/datasets/mmCIF/a8/4a87.cif: Too long 360\n",
      "Failed /mnt/h/datasets/mmCIF/a8/4a88.cif: Too long 383\n",
      "Failed /mnt/h/datasets/mmCIF/a8/4a8a.cif: Too high resolution 14.2\n",
      "Failed /mnt/h/datasets/mmCIF/a8/4a8b.cif: Too high resolution 13.0\n",
      "Failed /mnt/h/datasets/mmCIF/a8/4a8c.cif: Too high resolution 7.5\n",
      "Failed /mnt/h/datasets/mmCIF/a8/4a8d.cif: Too high resolution 28.0\n",
      "Failed /mnt/h/datasets/mmCIF/a8/4a8e.cif: Too high resolution 3.0\n",
      "Failed /mnt/h/datasets/mmCIF/a8/4a8f.cif: Too high resolution 3.3\n",
      "Finished /mnt/h/datasets/mmCIF/a8/4a8g.cif in 0.15s\n",
      "Failed /mnt/h/datasets/mmCIF/a8/4a8h.cif: Too long 977\n",
      "Failed /mnt/h/datasets/mmCIF/a8/4a8i.cif: Too long 877\n",
      "Failed /mnt/h/datasets/mmCIF/a8/4a8j.cif: Too long 2385\n",
      "Failed /mnt/h/datasets/mmCIF/a8/4a8k.cif: Too long 2004\n",
      "Failed /mnt/h/datasets/mmCIF/a8/4a8l.cif: Too long 878\n",
      "Failed /mnt/h/datasets/mmCIF/a8/4a8m.cif: Too long 2005\n",
      "Failed /mnt/h/datasets/mmCIF/a8/4a8n.cif: Too long 839\n",
      "Failed /mnt/h/datasets/mmCIF/a8/4a8o.cif: Too long 1995\n",
      "Failed /mnt/h/datasets/mmCIF/a8/4a8p.cif: Too long 2551\n",
      "Failed /mnt/h/datasets/mmCIF/a8/4a8q.cif: Too high resolution 3.0\n",
      "Failed /mnt/h/datasets/mmCIF/a8/4a8r.cif: Too long 847\n",
      "Failed /mnt/h/datasets/mmCIF/a8/4a8s.cif: Too long 1994\n",
      "Failed /mnt/h/datasets/mmCIF/a8/4a8t.cif: Too long 707\n",
      "Failed /mnt/h/datasets/mmCIF/a8/4a8u.cif: Too long 379\n",
      "Failed /mnt/h/datasets/mmCIF/a8/4a8v.cif: Too long 352\n",
      "Failed /mnt/h/datasets/mmCIF/a8/4a8w.cif: Too high resolution 3.0\n",
      "Failed /mnt/h/datasets/mmCIF/a8/4a8x.cif: Too long 419\n",
      "Failed /mnt/h/datasets/mmCIF/a8/4a8y.cif: Too high resolution 3.4\n",
      "Failed /mnt/h/datasets/mmCIF/a8/4a8z.cif: Too long 333\n",
      "Failed /mnt/h/datasets/mmCIF/a8/5a80.cif: Too long 850\n",
      "Failed /mnt/h/datasets/mmCIF/a8/5a81.cif: Too long 339\n",
      "Failed /mnt/h/datasets/mmCIF/a8/5a82.cif: Too long 332\n",
      "Failed /mnt/h/datasets/mmCIF/a8/5a83.cif: Too long 360\n",
      "Failed /mnt/h/datasets/mmCIF/a8/5a85.cif: Too long 360\n",
      "Failed /mnt/h/datasets/mmCIF/a8/5a86.cif: Too long 880\n",
      "Failed /mnt/h/datasets/mmCIF/a8/5a87.cif: Too long 882\n",
      "Failed /mnt/h/datasets/mmCIF/a8/5a88.cif: Too long 864\n",
      "Failed /mnt/h/datasets/mmCIF/a8/5a89.cif: Too long 698\n",
      "Failed /mnt/h/datasets/mmCIF/a8/5a8a.cif: Too long 639\n",
      "Failed /mnt/h/datasets/mmCIF/a8/5a8b.cif: Too long 572\n",
      "Failed /mnt/h/datasets/mmCIF/a8/5a8c.cif: Too long 865\n",
      "Failed /mnt/h/datasets/mmCIF/a8/5a8d.cif: Too long 545\n",
      "Failed /mnt/h/datasets/mmCIF/a8/5a8e.cif: Too long 320\n",
      "Failed /mnt/h/datasets/mmCIF/a8/5a8f.cif: Too high resolution 10.6\n",
      "Failed /mnt/h/datasets/mmCIF/a8/5a8g.cif: Too long 928\n",
      "Failed /mnt/h/datasets/mmCIF/a8/5a8h.cif: Too high resolution 23.0\n",
      "Finished /mnt/h/datasets/mmCIF/a8/5a8i.cif in 0.50s\n",
      "Failed /mnt/h/datasets/mmCIF/a8/5a8j.cif: Too long 697\n",
      "Failed /mnt/h/datasets/mmCIF/a8/5a8k.cif: Too long 4988\n",
      "Failed /mnt/h/datasets/mmCIF/a8/5a8l.cif: Too high resolution 3.8\n",
      "Failed /mnt/h/datasets/mmCIF/a8/5a8m.cif: Too long 2278\n",
      "Failed /mnt/h/datasets/mmCIF/a8/5a8n.cif: Too long 652\n",
      "Failed /mnt/h/datasets/mmCIF/a8/5a8o.cif: Too long 644\n",
      "Failed /mnt/h/datasets/mmCIF/a8/5a8p.cif: Too long 629\n",
      "Failed /mnt/h/datasets/mmCIF/a8/5a8q.cif: Too long 768\n",
      "Failed /mnt/h/datasets/mmCIF/a8/5a8r.cif: Too long 6847\n",
      "Failed /mnt/h/datasets/mmCIF/a8/5a8s.cif: Too long 430\n",
      "Finished /mnt/h/datasets/mmCIF/a8/5a8t.cif in 0.59s\n",
      "Failed /mnt/h/datasets/mmCIF/a8/5a8u.cif: Too long 419\n",
      "Failed /mnt/h/datasets/mmCIF/a8/5a8v.cif: Too long 366\n",
      "Failed /mnt/h/datasets/mmCIF/a8/5a8w.cif: Too long 7952\n",
      "Failed /mnt/h/datasets/mmCIF/a8/5a8x.cif: Too long 339\n",
      "Failed /mnt/h/datasets/mmCIF/a8/5a8y.cif: Too long 436\n",
      "Failed /mnt/h/datasets/mmCIF/a8/5a8z.cif: Too long 312\n",
      "Failed /mnt/h/datasets/mmCIF/a8/6a80.cif: Too long 793\n",
      "Failed /mnt/h/datasets/mmCIF/a8/6a82.cif: Too long 1708\n",
      "Failed /mnt/h/datasets/mmCIF/a8/6a83.cif: Too long 402\n",
      "Failed /mnt/h/datasets/mmCIF/a8/6a84.cif: Too long 354\n",
      "Failed /mnt/h/datasets/mmCIF/a8/6a85.cif: Encountered errors {('6a85', ''): 'No protein chains found in this file.'}\n",
      "Failed /mnt/h/datasets/mmCIF/a8/6a86.cif: Too long 426\n",
      "Failed /mnt/h/datasets/mmCIF/a8/6a87.cif: Too long 316\n",
      "Failed /mnt/h/datasets/mmCIF/a8/6a88.cif: Too long 2183\n",
      "Failed /mnt/h/datasets/mmCIF/a8/6a89.cif: Too long 966\n",
      "Failed /mnt/h/datasets/mmCIF/a8/6a8a.cif: Too long 915\n",
      "Failed /mnt/h/datasets/mmCIF/a8/6a8b.cif: Too long 846\n",
      "Failed /mnt/h/datasets/mmCIF/a8/6a8c.cif: Too long 972\n",
      "Finished /mnt/h/datasets/mmCIF/a8/6a8d.cif in 0.20s\n",
      "Failed /mnt/h/datasets/mmCIF/a8/6a8g.cif: Too long 552\n",
      "Failed /mnt/h/datasets/mmCIF/a8/6a8h.cif: Too long 589\n",
      "Failed /mnt/h/datasets/mmCIF/a8/6a8i.cif: Too long 1111\n",
      "Failed /mnt/h/datasets/mmCIF/a8/6a8j.cif: Too long 2142\n",
      "Failed /mnt/h/datasets/mmCIF/a8/6a8k.cif: Too long 524\n",
      "Failed /mnt/h/datasets/mmCIF/a8/6a8l.cif: Too long 618\n",
      "Failed /mnt/h/datasets/mmCIF/a8/6a8m.cif: Too long 993\n",
      "Failed /mnt/h/datasets/mmCIF/a8/6a8n.cif: Too long 510\n",
      "Failed /mnt/h/datasets/mmCIF/a8/6a8o.cif: Too long 485\n"
     ]
    },
    {
     "name": "stdout",
     "output_type": "stream",
     "text": [
      "Failed /mnt/h/datasets/mmCIF/a8/6a8p.cif: Too long 2030\n",
      "Failed /mnt/h/datasets/mmCIF/a8/6a8q.cif: Too long 1669\n"
     ]
    },
    {
     "name": "stderr",
     "output_type": "stream",
     "text": [
      "/home/nwoodall/miniconda3/envs/se33/lib/python3.9/site-packages/Bio/PDB/StructureBuilder.py:89: PDBConstructionWarning: WARNING: Chain B is discontinuous at line 2364.\n",
      "  warnings.warn(\n",
      "/home/nwoodall/miniconda3/envs/se33/lib/python3.9/site-packages/Bio/PDB/StructureBuilder.py:89: PDBConstructionWarning: WARNING: Chain A is discontinuous at line 2401.\n",
      "  warnings.warn(\n",
      "/home/nwoodall/miniconda3/envs/se33/lib/python3.9/site-packages/Bio/PDB/StructureBuilder.py:89: PDBConstructionWarning: WARNING: Chain E is discontinuous at line 2440.\n",
      "  warnings.warn(\n",
      "/home/nwoodall/miniconda3/envs/se33/lib/python3.9/site-packages/Bio/PDB/StructureBuilder.py:89: PDBConstructionWarning: WARNING: Chain F is discontinuous at line 2467.\n",
      "  warnings.warn(\n"
     ]
    },
    {
     "name": "stdout",
     "output_type": "stream",
     "text": [
      "Finished /mnt/h/datasets/mmCIF/a8/6a8r.cif in 0.31s\n",
      "Failed /mnt/h/datasets/mmCIF/a8/6a8s.cif: Too long 676\n",
      "Failed /mnt/h/datasets/mmCIF/a8/6a8t.cif: Too long 1646\n",
      "Failed /mnt/h/datasets/mmCIF/a8/6a8u.cif: Too long 555\n",
      "Failed /mnt/h/datasets/mmCIF/a8/6a8v.cif: Too long 307\n",
      "Finished /mnt/h/datasets/mmCIF/a8/6a8w.cif in 0.13s\n",
      "Failed /mnt/h/datasets/mmCIF/a8/6a8x.cif: Too long 630\n",
      "Failed /mnt/h/datasets/mmCIF/a8/6a8y.cif: Invalid resolution 0.0\n",
      "Failed /mnt/h/datasets/mmCIF/a8/6a8z.cif: Too long 1214\n",
      "Failed /mnt/h/datasets/mmCIF/a8/7a80.cif: Too long 1495\n",
      "Failed /mnt/h/datasets/mmCIF/a8/7a81.cif: Too long 484\n",
      "Failed /mnt/h/datasets/mmCIF/a8/7a82.cif: Too long 405\n",
      "Failed /mnt/h/datasets/mmCIF/a8/7a83.cif: Too long 420\n",
      "Failed /mnt/h/datasets/mmCIF/a8/7a84.cif: Too long 307\n",
      "Failed /mnt/h/datasets/mmCIF/a8/7a85.cif: Too long 494\n",
      "Failed /mnt/h/datasets/mmCIF/a8/7a86.cif: Too long 708\n",
      "Failed /mnt/h/datasets/mmCIF/a8/7a87.cif: Too long 458\n",
      "Failed /mnt/h/datasets/mmCIF/a8/7a88.cif: Too long 460\n",
      "Failed /mnt/h/datasets/mmCIF/a8/7a89.cif: Too long 516\n",
      "Failed /mnt/h/datasets/mmCIF/a8/7a8a.cif: Too long 411\n",
      "Failed /mnt/h/datasets/mmCIF/a8/7a8b.cif: Too long 489\n",
      "Failed /mnt/h/datasets/mmCIF/a8/7a8c.cif: Too long 396\n",
      "Failed /mnt/h/datasets/mmCIF/a8/7a8d.cif: Too long 505\n",
      "Failed /mnt/h/datasets/mmCIF/a8/7a8e.cif: Too long 352\n",
      "Failed /mnt/h/datasets/mmCIF/a8/7a8f.cif: Too long 336\n",
      "Failed /mnt/h/datasets/mmCIF/a8/7a8g.cif: Too long 704\n",
      "Failed /mnt/h/datasets/mmCIF/a8/7a8h.cif: Too long 1805\n",
      "Failed /mnt/h/datasets/mmCIF/a8/7a8i.cif: Too long 1522\n",
      "Failed /mnt/h/datasets/mmCIF/a8/7a8j.cif: Too long 464\n",
      "Finished /mnt/h/datasets/mmCIF/a8/7a8k.cif in 0.20s\n",
      "Failed /mnt/h/datasets/mmCIF/a8/7a8l.cif: Too long 473\n",
      "Failed /mnt/h/datasets/mmCIF/a8/7a8m.cif: Too long 522\n",
      "Failed /mnt/h/datasets/mmCIF/a8/7a8n.cif: Too long 421\n",
      "Failed /mnt/h/datasets/mmCIF/a8/7a8o.cif: Too long 617\n",
      "Failed /mnt/h/datasets/mmCIF/a8/7a8p.cif: Too high resolution 3.5\n",
      "Failed /mnt/h/datasets/mmCIF/a8/7a8q.cif: Too long 1816\n",
      "Failed /mnt/h/datasets/mmCIF/a8/7a8r.cif: Too long 1161\n",
      "Finished /mnt/h/datasets/mmCIF/a8/7a8s.cif in 0.62s\n",
      "Failed /mnt/h/datasets/mmCIF/a8/7a8t.cif: Too long 519\n",
      "Failed /mnt/h/datasets/mmCIF/a8/7a8u.cif: Too high resolution 3.8\n",
      "Failed /mnt/h/datasets/mmCIF/a8/7a8v.cif: Too long 499\n",
      "Failed /mnt/h/datasets/mmCIF/a8/7a8w.cif: Too long 528\n",
      "Failed /mnt/h/datasets/mmCIF/a8/7a8x.cif: Too long 569\n",
      "Failed /mnt/h/datasets/mmCIF/a8/7a8y.cif: Too long 454\n",
      "Failed /mnt/h/datasets/mmCIF/a8/7a8z.cif: Too high resolution 3.35\n",
      "Failed /mnt/h/datasets/mmCIF/a8/8a82.cif: Too long 607\n",
      "Failed /mnt/h/datasets/mmCIF/a8/8a83.cif: Too long 338\n",
      "Failed /mnt/h/datasets/mmCIF/a8/8a85.cif: Too long 1271\n",
      "Failed /mnt/h/datasets/mmCIF/a8/8a8c.cif: Too high resolution 3.1\n",
      "Failed /mnt/h/datasets/mmCIF/a8/8a8d.cif: Too long 1126\n",
      "Failed /mnt/h/datasets/mmCIF/a8/8a8e.cif: Too long 7248\n",
      "Failed /mnt/h/datasets/mmCIF/a8/8a8f.cif: Too long 478\n",
      "Failed /mnt/h/datasets/mmCIF/a8/8a8g.cif: Too long 599\n",
      "Failed /mnt/h/datasets/mmCIF/a8/8a8h.cif: Too long 1216\n",
      "Failed /mnt/h/datasets/mmCIF/a8/8a8i.cif: Too long 1306\n",
      "Failed /mnt/h/datasets/mmCIF/a8/8a8j.cif: Too high resolution 3.1\n",
      "Failed /mnt/h/datasets/mmCIF/a8/8a8k.cif: Too high resolution 3.1\n",
      "Failed /mnt/h/datasets/mmCIF/a8/8a8l.cif: Too long 682\n",
      "Failed /mnt/h/datasets/mmCIF/a8/8a8m.cif: Too high resolution 4.0\n",
      "Failed /mnt/h/datasets/mmCIF/a8/8a8n.cif: Too high resolution 6.7\n",
      "Failed /mnt/h/datasets/mmCIF/a8/8a8o.cif: Too long 2205\n",
      "Failed /mnt/h/datasets/mmCIF/a8/8a8q.cif: Too long 730\n",
      "Failed /mnt/h/datasets/mmCIF/a8/8a8r.cif: Too long 764\n",
      "Finished /mnt/h/datasets/mmCIF/a8/8a8s.cif in 0.11s\n",
      "Failed /mnt/h/datasets/mmCIF/a8/8a8t.cif: Too long 923\n",
      "Failed /mnt/h/datasets/mmCIF/a8/8a8u.cif: Too high resolution 3.62\n",
      "Failed /mnt/h/datasets/mmCIF/a8/8a8v.cif: Too high resolution 3.34\n",
      "Failed /mnt/h/datasets/mmCIF/a8/8a8w.cif: Too high resolution 4.29\n",
      "Failed /mnt/h/datasets/mmCIF/a8/8a8x.cif: Too long 409\n",
      "Failed /mnt/h/datasets/mmCIF/a8/8a8y.cif: Too long 1362\n",
      "Failed /mnt/h/datasets/mmCIF/a8/8a8z.cif: Too long 1408\n"
     ]
    },
    {
     "name": "stderr",
     "output_type": "stream",
     "text": [
      "\r",
      " 13%|█████████▌                                                                  | 133/1060 [19:50<27:25:16, 106.49s/it]"
     ]
    },
    {
     "name": "stdout",
     "output_type": "stream",
     "text": [
      "Gathering mmCIF paths\n"
     ]
    },
    {
     "name": "stderr",
     "output_type": "stream",
     "text": [
      "\n",
      "  0%|                                                                                           | 0/257 [00:00<?, ?it/s]\u001b[A\n",
      " 29%|███████████████████████▋                                                         | 75/257 [00:00<00:00, 744.35it/s]\u001b[A\n",
      " 62%|█████████████████████████████████████████████████▊                              | 160/257 [00:00<00:00, 804.25it/s]\u001b[A\n",
      "100%|████████████████████████████████████████████████████████████████████████████████| 257/257 [00:00<00:00, 802.01it/s]\u001b[A\n"
     ]
    },
    {
     "name": "stdout",
     "output_type": "stream",
     "text": [
      "Processing 0 files our of 0\n",
      "Failed /mnt/h/datasets/mmCIF/a9/1a90.cif: Invalid resolution 0.0\n",
      "Failed /mnt/h/datasets/mmCIF/a9/1a91.cif: Invalid resolution 0.0\n",
      "Failed /mnt/h/datasets/mmCIF/a9/1a92.cif: Too long 313\n",
      "Failed /mnt/h/datasets/mmCIF/a9/1a93.cif: Invalid resolution 0.0\n",
      "Failed /mnt/h/datasets/mmCIF/a9/1a94.cif: Too long 579\n",
      "Failed /mnt/h/datasets/mmCIF/a9/1a95.cif: Too long 734\n",
      "Failed /mnt/h/datasets/mmCIF/a9/1a96.cif: Too long 740\n",
      "Failed /mnt/h/datasets/mmCIF/a9/1a97.cif: Too long 635\n",
      "Failed /mnt/h/datasets/mmCIF/a9/1a98.cif: Too long 322\n",
      "Failed /mnt/h/datasets/mmCIF/a9/1a99.cif: Too long 1952\n",
      "Failed /mnt/h/datasets/mmCIF/a9/1a9b.cif: Too high resolution 3.2\n",
      "Failed /mnt/h/datasets/mmCIF/a9/1a9c.cif: Too long 3540\n",
      "Failed /mnt/h/datasets/mmCIF/a9/1a9e.cif: Too long 470\n",
      "Failed /mnt/h/datasets/mmCIF/a9/1a9g.cif: Encountered errors {('1a9g', ''): 'No protein chains found in this file.'}\n",
      "Failed /mnt/h/datasets/mmCIF/a9/1a9h.cif: Encountered errors {('1a9h', ''): 'No protein chains found in this file.'}\n",
      "Failed /mnt/h/datasets/mmCIF/a9/1a9i.cif: Encountered errors {('1a9i', ''): 'No protein chains found in this file.'}\n",
      "Failed /mnt/h/datasets/mmCIF/a9/1a9j.cif: Encountered errors {('1a9j', ''): 'No protein chains found in this file.'}\n",
      "Failed /mnt/h/datasets/mmCIF/a9/1a9l.cif: Encountered errors {('1a9l', ''): 'No protein chains found in this file.'}\n",
      "Finished /mnt/h/datasets/mmCIF/a9/1a9m.cif in 0.16s\n"
     ]
    },
    {
     "name": "stderr",
     "output_type": "stream",
     "text": [
      "/home/nwoodall/miniconda3/envs/se33/lib/python3.9/site-packages/Bio/PDB/StructureBuilder.py:89: PDBConstructionWarning: WARNING: Chain A is discontinuous at line 1570.\n",
      "  warnings.warn(\n",
      "/home/nwoodall/miniconda3/envs/se33/lib/python3.9/site-packages/Bio/PDB/StructureBuilder.py:89: PDBConstructionWarning: WARNING: Chain B is discontinuous at line 1596.\n",
      "  warnings.warn(\n"
     ]
    },
    {
     "name": "stdout",
     "output_type": "stream",
     "text": [
      "Failed /mnt/h/datasets/mmCIF/a9/1a9n.cif: Too long 571\n",
      "Failed /mnt/h/datasets/mmCIF/a9/1a9o.cif: Too long 325\n",
      "Failed /mnt/h/datasets/mmCIF/a9/1a9p.cif: Too long 316\n",
      "Failed /mnt/h/datasets/mmCIF/a9/1a9q.cif: Too long 339\n",
      "Failed /mnt/h/datasets/mmCIF/a9/1a9r.cif: Too long 339\n",
      "Failed /mnt/h/datasets/mmCIF/a9/1a9s.cif: Too long 336\n",
      "Failed /mnt/h/datasets/mmCIF/a9/1a9t.cif: Too long 342\n",
      "Failed /mnt/h/datasets/mmCIF/a9/1a9u.cif: Too long 442\n",
      "Failed /mnt/h/datasets/mmCIF/a9/1a9v.cif: Invalid resolution 0.0\n",
      "Failed /mnt/h/datasets/mmCIF/a9/1a9w.cif: Too long 580\n",
      "Failed /mnt/h/datasets/mmCIF/a9/1a9x.cif: Too long 10379\n",
      "Failed /mnt/h/datasets/mmCIF/a9/1a9y.cif: Too long 885\n",
      "Failed /mnt/h/datasets/mmCIF/a9/1a9z.cif: Too long 885\n",
      "Finished /mnt/h/datasets/mmCIF/a9/2a90.cif in 0.14s\n",
      "Failed /mnt/h/datasets/mmCIF/a9/2a91.cif: Too long 644\n",
      "Failed /mnt/h/datasets/mmCIF/a9/2a92.cif: Too long 1748\n",
      "Failed /mnt/h/datasets/mmCIF/a9/2a93.cif: Invalid resolution 0.0\n",
      "Failed /mnt/h/datasets/mmCIF/a9/2a94.cif: Too long 530\n",
      "Failed /mnt/h/datasets/mmCIF/a9/2a96.cif: Too long 1151\n",
      "Failed /mnt/h/datasets/mmCIF/a9/2a97.cif: Too long 1034\n",
      "Finished /mnt/h/datasets/mmCIF/a9/2a98.cif in 0.20s\n",
      "Failed /mnt/h/datasets/mmCIF/a9/2a99.cif: Too long 612\n",
      "Failed /mnt/h/datasets/mmCIF/a9/2a9a.cif: Too long 1396\n",
      "Failed /mnt/h/datasets/mmCIF/a9/2a9b.cif: Too long 590\n",
      "Failed /mnt/h/datasets/mmCIF/a9/2a9c.cif: Too long 1257\n",
      "Failed /mnt/h/datasets/mmCIF/a9/2a9d.cif: Too long 1560\n",
      "Failed /mnt/h/datasets/mmCIF/a9/2a9e.cif: Too long 1871\n",
      "Failed /mnt/h/datasets/mmCIF/a9/2a9f.cif: Too long 814\n",
      "Failed /mnt/h/datasets/mmCIF/a9/2a9g.cif: Too long 2686\n",
      "Failed /mnt/h/datasets/mmCIF/a9/2a9h.cif: Invalid resolution 0.0\n",
      "Finished /mnt/h/datasets/mmCIF/a9/2a9i.cif in 0.68s\n",
      "Failed /mnt/h/datasets/mmCIF/a9/2a9j.cif: Too long 978\n",
      "Failed /mnt/h/datasets/mmCIF/a9/2a9k.cif: Too long 590\n",
      "Failed /mnt/h/datasets/mmCIF/a9/2a9l.cif: Encountered errors {('2a9l', ''): 'No protein chains found in this file.'}\n",
      "Failed /mnt/h/datasets/mmCIF/a9/2a9m.cif: Too long 783\n",
      "Failed /mnt/h/datasets/mmCIF/a9/2a9n.cif: Too high resolution 3.0\n",
      "Finished /mnt/h/datasets/mmCIF/a9/2a9o.cif in 0.16s\n",
      "Finished /mnt/h/datasets/mmCIF/a9/2a9p.cif in 0.17s\n",
      "Finished /mnt/h/datasets/mmCIF/a9/2a9r.cif in 0.12s\n",
      "Failed /mnt/h/datasets/mmCIF/a9/2a9s.cif: Too long 607\n",
      "Failed /mnt/h/datasets/mmCIF/a9/2a9u.cif: Too long 349\n",
      "Failed /mnt/h/datasets/mmCIF/a9/2a9v.cif: Too long 1020\n",
      "Failed /mnt/h/datasets/mmCIF/a9/2a9w.cif: Too long 1578\n",
      "Failed /mnt/h/datasets/mmCIF/a9/2a9x.cif: Invalid resolution 0.0\n",
      "Failed /mnt/h/datasets/mmCIF/a9/2a9y.cif: Too long 761\n",
      "Failed /mnt/h/datasets/mmCIF/a9/2a9z.cif: Too long 739\n",
      "Finished /mnt/h/datasets/mmCIF/a9/3a90.cif in 0.14s\n",
      "Finished /mnt/h/datasets/mmCIF/a9/3a91.cif in 0.13s\n",
      "Finished /mnt/h/datasets/mmCIF/a9/3a92.cif in 0.45s\n",
      "Finished /mnt/h/datasets/mmCIF/a9/3a93.cif in 0.14s\n",
      "Finished /mnt/h/datasets/mmCIF/a9/3a94.cif in 0.14s\n",
      "Finished /mnt/h/datasets/mmCIF/a9/3a95.cif in 0.14s\n",
      "Finished /mnt/h/datasets/mmCIF/a9/3a96.cif in 0.14s\n",
      "Failed /mnt/h/datasets/mmCIF/a9/3a98.cif: Too long 799\n",
      "Failed /mnt/h/datasets/mmCIF/a9/3a99.cif: Too long 556\n",
      "Failed /mnt/h/datasets/mmCIF/a9/3a9b.cif: Too long 958\n",
      "Failed /mnt/h/datasets/mmCIF/a9/3a9c.cif: Too long 2219\n",
      "Failed /mnt/h/datasets/mmCIF/a9/3a9e.cif: Too long 585\n",
      "Failed /mnt/h/datasets/mmCIF/a9/3a9f.cif: Too long 431\n",
      "Failed /mnt/h/datasets/mmCIF/a9/3a9g.cif: Too long 453\n",
      "Failed /mnt/h/datasets/mmCIF/a9/3a9h.cif: Too long 444\n",
      "Failed /mnt/h/datasets/mmCIF/a9/3a9i.cif: Too long 534\n",
      "Failed /mnt/h/datasets/mmCIF/a9/3a9j.cif: Too long 391\n",
      "Failed /mnt/h/datasets/mmCIF/a9/3a9k.cif: Too long 327\n",
      "Failed /mnt/h/datasets/mmCIF/a9/3a9l.cif: Too long 645\n",
      "Failed /mnt/h/datasets/mmCIF/a9/3a9m.cif: Too long 470\n",
      "Failed /mnt/h/datasets/mmCIF/a9/3a9q.cif: Too long 8196\n",
      "Failed /mnt/h/datasets/mmCIF/a9/3a9r.cif: Too long 2982\n",
      "Failed /mnt/h/datasets/mmCIF/a9/3a9s.cif: Too long 3358\n",
      "Failed /mnt/h/datasets/mmCIF/a9/3a9t.cif: Too long 2943\n",
      "Failed /mnt/h/datasets/mmCIF/a9/3a9u.cif: Too long 766\n",
      "Failed /mnt/h/datasets/mmCIF/a9/3a9v.cif: Too long 653\n",
      "Failed /mnt/h/datasets/mmCIF/a9/3a9w.cif: Too long 877\n",
      "Failed /mnt/h/datasets/mmCIF/a9/3a9x.cif: Too long 1190\n",
      "Failed /mnt/h/datasets/mmCIF/a9/3a9y.cif: Too long 1331\n",
      "Failed /mnt/h/datasets/mmCIF/a9/3a9z.cif: Too long 1335\n",
      "Failed /mnt/h/datasets/mmCIF/a9/4a90.cif: Too long 350\n",
      "Failed /mnt/h/datasets/mmCIF/a9/4a91.cif: Too long 696\n",
      "Failed /mnt/h/datasets/mmCIF/a9/4a92.cif: Too long 1484\n",
      "Failed /mnt/h/datasets/mmCIF/a9/4a93.cif: Too high resolution 3.4\n",
      "Failed /mnt/h/datasets/mmCIF/a9/4a94.cif: Too long 1017\n",
      "Failed /mnt/h/datasets/mmCIF/a9/4a95.cif: Too long 2689\n",
      "Failed /mnt/h/datasets/mmCIF/a9/4a97.cif: Too high resolution 3.34\n",
      "Failed /mnt/h/datasets/mmCIF/a9/4a98.cif: Too high resolution 3.61\n",
      "Failed /mnt/h/datasets/mmCIF/a9/4a99.cif: Too long 2132\n",
      "Failed /mnt/h/datasets/mmCIF/a9/4a9a.cif: Too long 980\n",
      "Failed /mnt/h/datasets/mmCIF/a9/4a9c.cif: Too long 834\n",
      "Failed /mnt/h/datasets/mmCIF/a9/4a9e.cif: Too long 684\n",
      "Failed /mnt/h/datasets/mmCIF/a9/4a9f.cif: Too long 781\n",
      "Failed /mnt/h/datasets/mmCIF/a9/4a9g.cif: Too high resolution 7.5\n",
      "Failed /mnt/h/datasets/mmCIF/a9/4a9h.cif: Too long 653\n",
      "Failed /mnt/h/datasets/mmCIF/a9/4a9i.cif: Too long 573\n",
      "Failed /mnt/h/datasets/mmCIF/a9/4a9j.cif: Too long 643\n",
      "Failed /mnt/h/datasets/mmCIF/a9/4a9k.cif: Too long 500\n",
      "Failed /mnt/h/datasets/mmCIF/a9/4a9l.cif: Too long 369\n",
      "Failed /mnt/h/datasets/mmCIF/a9/4a9m.cif: Too long 651\n",
      "Failed /mnt/h/datasets/mmCIF/a9/4a9n.cif: Too long 627\n",
      "Failed /mnt/h/datasets/mmCIF/a9/4a9o.cif: Too long 755\n",
      "Failed /mnt/h/datasets/mmCIF/a9/4a9r.cif: Too long 307\n",
      "Failed /mnt/h/datasets/mmCIF/a9/4a9s.cif: Too long 313\n",
      "Failed /mnt/h/datasets/mmCIF/a9/4a9t.cif: Too long 346\n",
      "Failed /mnt/h/datasets/mmCIF/a9/4a9u.cif: Too long 388\n",
      "Failed /mnt/h/datasets/mmCIF/a9/4a9v.cif: Too long 1497\n",
      "Failed /mnt/h/datasets/mmCIF/a9/4a9w.cif: Too long 777\n",
      "Failed /mnt/h/datasets/mmCIF/a9/4a9x.cif: Too long 1112\n",
      "Failed /mnt/h/datasets/mmCIF/a9/4a9y.cif: Too long 416\n"
     ]
    },
    {
     "name": "stderr",
     "output_type": "stream",
     "text": [
      "/home/nwoodall/miniconda3/envs/se33/lib/python3.9/site-packages/Bio/PDB/StructureBuilder.py:89: PDBConstructionWarning: WARNING: Chain A is discontinuous at line 1643.\n",
      "  warnings.warn(\n",
      "/home/nwoodall/miniconda3/envs/se33/lib/python3.9/site-packages/Bio/PDB/StructureBuilder.py:89: PDBConstructionWarning: WARNING: Chain B is discontinuous at line 1674.\n",
      "  warnings.warn(\n",
      "/home/nwoodall/miniconda3/envs/se33/lib/python3.9/site-packages/Bio/PDB/StructureBuilder.py:89: PDBConstructionWarning: WARNING: Chain C is discontinuous at line 1680.\n",
      "  warnings.warn(\n",
      "/home/nwoodall/miniconda3/envs/se33/lib/python3.9/site-packages/Bio/PDB/StructureBuilder.py:89: PDBConstructionWarning: WARNING: Chain D is discontinuous at line 1694.\n",
      "  warnings.warn(\n"
     ]
    },
    {
     "name": "stdout",
     "output_type": "stream",
     "text": [
      "Finished /mnt/h/datasets/mmCIF/a9/4a9z.cif in 0.23s\n",
      "Failed /mnt/h/datasets/mmCIF/a9/5a90.cif: Too long 577\n",
      "Failed /mnt/h/datasets/mmCIF/a9/5a91.cif: Too long 707\n",
      "Failed /mnt/h/datasets/mmCIF/a9/5a92.cif: Too long 765\n",
      "Failed /mnt/h/datasets/mmCIF/a9/5a93.cif: Too long 504\n",
      "Failed /mnt/h/datasets/mmCIF/a9/5a94.cif: Too long 3581\n",
      "Failed /mnt/h/datasets/mmCIF/a9/5a95.cif: Too long 2776\n",
      "Failed /mnt/h/datasets/mmCIF/a9/5a96.cif: Too long 405\n",
      "Failed /mnt/h/datasets/mmCIF/a9/5a97.cif: Too long 1976\n",
      "Failed /mnt/h/datasets/mmCIF/a9/5a98.cif: Too long 416\n",
      "Failed /mnt/h/datasets/mmCIF/a9/5a99.cif: Too long 485\n",
      "Failed /mnt/h/datasets/mmCIF/a9/5a9a.cif: Too long 405\n",
      "Failed /mnt/h/datasets/mmCIF/a9/5a9b.cif: Too long 310\n",
      "Failed /mnt/h/datasets/mmCIF/a9/5a9c.cif: Too long 339\n",
      "Failed /mnt/h/datasets/mmCIF/a9/5a9d.cif: Too long 531\n",
      "Failed /mnt/h/datasets/mmCIF/a9/5a9e.cif: Too high resolution 7.7\n",
      "Failed /mnt/h/datasets/mmCIF/a9/5a9f.cif: Too high resolution 3.2\n",
      "Failed /mnt/h/datasets/mmCIF/a9/5a9g.cif: Too long 1015\n",
      "Finished /mnt/h/datasets/mmCIF/a9/5a9h.cif in 0.54s\n",
      "Failed /mnt/h/datasets/mmCIF/a9/5a9i.cif: Too long 678\n",
      "Failed /mnt/h/datasets/mmCIF/a9/5a9j.cif: Too high resolution 3.55\n",
      "Failed /mnt/h/datasets/mmCIF/a9/5a9k.cif: Too high resolution 19.0\n",
      "Failed /mnt/h/datasets/mmCIF/a9/5a9p.cif: Too long 503\n",
      "Failed /mnt/h/datasets/mmCIF/a9/5a9q.cif: Too high resolution 23.0\n",
      "Failed /mnt/h/datasets/mmCIF/a9/5a9r.cif: Too long 388\n",
      "Failed /mnt/h/datasets/mmCIF/a9/5a9s.cif: Too long 708\n",
      "Failed /mnt/h/datasets/mmCIF/a9/5a9t.cif: Too long 399\n",
      "Failed /mnt/h/datasets/mmCIF/a9/5a9u.cif: Too long 492\n",
      "Failed /mnt/h/datasets/mmCIF/a9/5a9v.cif: Too high resolution 3.3\n",
      "Failed /mnt/h/datasets/mmCIF/a9/5a9w.cif: Too high resolution 3.66\n",
      "Failed /mnt/h/datasets/mmCIF/a9/5a9x.cif: Too high resolution 3.8\n",
      "Failed /mnt/h/datasets/mmCIF/a9/5a9y.cif: Too high resolution 4.0\n",
      "Failed /mnt/h/datasets/mmCIF/a9/5a9z.cif: Too high resolution 4.7\n",
      "Failed /mnt/h/datasets/mmCIF/a9/6a90.cif: Too long 1388\n",
      "Failed /mnt/h/datasets/mmCIF/a9/6a91.cif: Too high resolution 3.2\n",
      "Failed /mnt/h/datasets/mmCIF/a9/6a92.cif: Too long 1621\n",
      "Failed /mnt/h/datasets/mmCIF/a9/6a93.cif: Too long 738\n",
      "Failed /mnt/h/datasets/mmCIF/a9/6a94.cif: Too long 737\n",
      "Failed /mnt/h/datasets/mmCIF/a9/6a95.cif: Too long 1374\n",
      "Failed /mnt/h/datasets/mmCIF/a9/6a96.cif: Too high resolution 3.51\n",
      "Failed /mnt/h/datasets/mmCIF/a9/6a97.cif: Too long 892\n",
      "Failed /mnt/h/datasets/mmCIF/a9/6a98.cif: Too long 1481\n",
      "Failed /mnt/h/datasets/mmCIF/a9/6a99.cif: Too long 982\n",
      "Failed /mnt/h/datasets/mmCIF/a9/6a9a.cif: Too long 504\n",
      "Failed /mnt/h/datasets/mmCIF/a9/6a9b.cif: Too long 453\n",
      "Finished /mnt/h/datasets/mmCIF/a9/6a9c.cif in 0.13s\n"
     ]
    },
    {
     "name": "stderr",
     "output_type": "stream",
     "text": [
      "/home/nwoodall/miniconda3/envs/se33/lib/python3.9/site-packages/Bio/PDB/StructureBuilder.py:89: PDBConstructionWarning: WARNING: Chain B is discontinuous at line 1090.\n",
      "  warnings.warn(\n",
      "/home/nwoodall/miniconda3/envs/se33/lib/python3.9/site-packages/Bio/PDB/StructureBuilder.py:89: PDBConstructionWarning: WARNING: Chain A is discontinuous at line 1140.\n",
      "  warnings.warn(\n",
      "/home/nwoodall/miniconda3/envs/se33/lib/python3.9/site-packages/Bio/PDB/StructureBuilder.py:89: PDBConstructionWarning: WARNING: Chain E is discontinuous at line 1153.\n",
      "  warnings.warn(\n"
     ]
    },
    {
     "name": "stdout",
     "output_type": "stream",
     "text": [
      "Failed /mnt/h/datasets/mmCIF/a9/6a9d.cif: Too long 603\n",
      "Failed /mnt/h/datasets/mmCIF/a9/6a9e.cif: Too high resolution 3.2\n",
      "Failed /mnt/h/datasets/mmCIF/a9/6a9f.cif: Too long 1382\n",
      "Failed /mnt/h/datasets/mmCIF/a9/6a9j.cif: Too long 677\n",
      "Failed /mnt/h/datasets/mmCIF/a9/6a9k.cif: Too long 1193\n",
      "Failed /mnt/h/datasets/mmCIF/a9/6a9n.cif: Too long 1069\n",
      "Failed /mnt/h/datasets/mmCIF/a9/6a9o.cif: Too long 2765\n",
      "Failed /mnt/h/datasets/mmCIF/a9/6a9p.cif: Too long 952\n",
      "Failed /mnt/h/datasets/mmCIF/a9/6a9s.cif: Too long 917\n",
      "Failed /mnt/h/datasets/mmCIF/a9/6a9t.cif: Too long 640\n",
      "Failed /mnt/h/datasets/mmCIF/a9/6a9u.cif: Too long 500\n",
      "Failed /mnt/h/datasets/mmCIF/a9/6a9v.cif: Too long 397\n",
      "Failed /mnt/h/datasets/mmCIF/a9/6a9w.cif: Too long 439\n"
     ]
    },
    {
     "name": "stderr",
     "output_type": "stream",
     "text": [
      "/home/nwoodall/miniconda3/envs/se33/lib/python3.9/site-packages/Bio/PDB/StructureBuilder.py:89: PDBConstructionWarning: WARNING: Chain D is discontinuous at line 1087.\n",
      "  warnings.warn(\n",
      "/home/nwoodall/miniconda3/envs/se33/lib/python3.9/site-packages/Bio/PDB/StructureBuilder.py:89: PDBConstructionWarning: WARNING: Chain A is discontinuous at line 1101.\n",
      "  warnings.warn(\n"
     ]
    },
    {
     "name": "stdout",
     "output_type": "stream",
     "text": [
      "Finished /mnt/h/datasets/mmCIF/a9/6a9x.cif in 0.17s\n",
      "Failed /mnt/h/datasets/mmCIF/a9/6a9y.cif: Too long 345\n",
      "Failed /mnt/h/datasets/mmCIF/a9/7a90.cif: Too high resolution 3.185\n",
      "Failed /mnt/h/datasets/mmCIF/a9/7a91.cif: Too high resolution 3.6\n",
      "Failed /mnt/h/datasets/mmCIF/a9/7a92.cif: Too high resolution 4.2\n",
      "Failed /mnt/h/datasets/mmCIF/a9/7a93.cif: Too high resolution 5.9\n",
      "Failed /mnt/h/datasets/mmCIF/a9/7a94.cif: Too high resolution 3.9\n",
      "Failed /mnt/h/datasets/mmCIF/a9/7a95.cif: Too high resolution 4.3\n",
      "Failed /mnt/h/datasets/mmCIF/a9/7a96.cif: Too high resolution 4.8\n",
      "Failed /mnt/h/datasets/mmCIF/a9/7a97.cif: Too high resolution 4.4\n",
      "Failed /mnt/h/datasets/mmCIF/a9/7a98.cif: Too high resolution 5.4\n",
      "Failed /mnt/h/datasets/mmCIF/a9/7a99.cif: Too long 561\n",
      "Failed /mnt/h/datasets/mmCIF/a9/7a9a.cif: Too long 1110\n",
      "Failed /mnt/h/datasets/mmCIF/a9/7a9b.cif: Too long 376\n",
      "Failed /mnt/h/datasets/mmCIF/a9/7a9c.cif: Too long 584\n",
      "Failed /mnt/h/datasets/mmCIF/a9/7a9d.cif: Too long 976\n",
      "Failed /mnt/h/datasets/mmCIF/a9/7a9e.cif: Too long 615\n",
      "Failed /mnt/h/datasets/mmCIF/a9/7a9f.cif: Too long 632\n",
      "Failed /mnt/h/datasets/mmCIF/a9/7a9g.cif: Too long 1509\n",
      "Failed /mnt/h/datasets/mmCIF/a9/7a9h.cif: Too long 1761\n",
      "Failed /mnt/h/datasets/mmCIF/a9/7a9i.cif: Too long 700\n",
      "Failed /mnt/h/datasets/mmCIF/a9/7a9j.cif: Too long 828\n",
      "Failed /mnt/h/datasets/mmCIF/a9/7a9k.cif: Too long 668\n",
      "Failed /mnt/h/datasets/mmCIF/a9/7a9l.cif: Encountered errors {('7a9l', ''): 'No protein chains found in this file.'}\n",
      "Failed /mnt/h/datasets/mmCIF/a9/7a9m.cif: Too long 667\n",
      "Failed /mnt/h/datasets/mmCIF/a9/7a9n.cif: Encountered errors {('7a9n', ''): 'No protein chains found in this file.'}\n",
      "Failed /mnt/h/datasets/mmCIF/a9/7a9o.cif: Encountered errors {('7a9o', ''): 'No protein chains found in this file.'}\n",
      "Failed /mnt/h/datasets/mmCIF/a9/7a9p.cif: Encountered errors {('7a9p', ''): 'No protein chains found in this file.'}\n",
      "Failed /mnt/h/datasets/mmCIF/a9/7a9q.cif: Encountered errors {('7a9q', ''): 'No protein chains found in this file.'}\n",
      "Failed /mnt/h/datasets/mmCIF/a9/7a9r.cif: Encountered errors {('7a9r', ''): 'No protein chains found in this file.'}\n",
      "Failed /mnt/h/datasets/mmCIF/a9/7a9s.cif: Encountered errors {('7a9s', ''): 'No protein chains found in this file.'}\n",
      "Failed /mnt/h/datasets/mmCIF/a9/7a9t.cif: Encountered errors {('7a9t', ''): 'No protein chains found in this file.'}\n",
      "Failed /mnt/h/datasets/mmCIF/a9/7a9u.cif: Too long 373\n",
      "Failed /mnt/h/datasets/mmCIF/a9/7a9v.cif: Too long 1888\n",
      "Failed /mnt/h/datasets/mmCIF/a9/7a9w.cif: Too long 595\n",
      "Failed /mnt/h/datasets/mmCIF/a9/7a9x.cif: Too long 606\n",
      "Failed /mnt/h/datasets/mmCIF/a9/7a9y.cif: Too long 430\n",
      "Failed /mnt/h/datasets/mmCIF/a9/7a9z.cif: Too long 311\n",
      "Failed /mnt/h/datasets/mmCIF/a9/8a90.cif: Too long 1124\n",
      "Failed /mnt/h/datasets/mmCIF/a9/8a91.cif: Too long 605\n",
      "Failed /mnt/h/datasets/mmCIF/a9/8a92.cif: Too long 840\n",
      "Failed /mnt/h/datasets/mmCIF/a9/8a93.cif: Too high resolution 3.05\n",
      "Failed /mnt/h/datasets/mmCIF/a9/8a94.cif: Too long 3921\n",
      "Failed /mnt/h/datasets/mmCIF/a9/8a95.cif: Too long 3921\n",
      "Failed /mnt/h/datasets/mmCIF/a9/8a96.cif: Too long 433\n",
      "Failed /mnt/h/datasets/mmCIF/a9/8a97.cif: Too long 1158\n",
      "Failed /mnt/h/datasets/mmCIF/a9/8a98.cif: Too long 14596\n",
      "Failed /mnt/h/datasets/mmCIF/a9/8a99.cif: Too long 3924\n",
      "Failed /mnt/h/datasets/mmCIF/a9/8a9a.cif: Too high resolution 3.3\n",
      "Failed /mnt/h/datasets/mmCIF/a9/8a9b.cif: Too high resolution 4.0\n",
      "Failed /mnt/h/datasets/mmCIF/a9/8a9c.cif: Too long 1835\n",
      "Finished /mnt/h/datasets/mmCIF/a9/8a9d.cif in 0.14s\n",
      "Failed /mnt/h/datasets/mmCIF/a9/8a9e.cif: Mdtraj failed with error %c requires int or char\n",
      "Failed /mnt/h/datasets/mmCIF/a9/8a9f.cif: Too long 340\n",
      "Failed /mnt/h/datasets/mmCIF/a9/8a9g.cif: Too long 773\n",
      "Failed /mnt/h/datasets/mmCIF/a9/8a9i.cif: Too long 891\n",
      "Failed /mnt/h/datasets/mmCIF/a9/8a9j.cif: Too long 3011\n",
      "Failed /mnt/h/datasets/mmCIF/a9/8a9k.cif: Too long 2966\n",
      "Finished /mnt/h/datasets/mmCIF/a9/8a9l.cif in 0.10s\n"
     ]
    },
    {
     "name": "stderr",
     "output_type": "stream",
     "text": [
      "/home/nwoodall/miniconda3/envs/se33/lib/python3.9/site-packages/Bio/PDB/StructureBuilder.py:89: PDBConstructionWarning: WARNING: Chain A is discontinuous at line 570.\n",
      "  warnings.warn(\n",
      "/home/nwoodall/miniconda3/envs/se33/lib/python3.9/site-packages/Bio/PDB/StructureBuilder.py:89: PDBConstructionWarning: WARNING: Chain A is discontinuous at line 1714.\n",
      "  warnings.warn(\n",
      "/home/nwoodall/miniconda3/envs/se33/lib/python3.9/site-packages/Bio/PDB/StructureBuilder.py:89: PDBConstructionWarning: WARNING: Chain B is discontinuous at line 1741.\n",
      "  warnings.warn(\n",
      "/home/nwoodall/miniconda3/envs/se33/lib/python3.9/site-packages/Bio/PDB/StructureBuilder.py:89: PDBConstructionWarning: WARNING: Chain A is discontinuous at line 1763.\n",
      "  warnings.warn(\n",
      "/home/nwoodall/miniconda3/envs/se33/lib/python3.9/site-packages/Bio/PDB/StructureBuilder.py:89: PDBConstructionWarning: WARNING: Chain B is discontinuous at line 1784.\n",
      "  warnings.warn(\n"
     ]
    },
    {
     "name": "stdout",
     "output_type": "stream",
     "text": [
      "Finished /mnt/h/datasets/mmCIF/a9/8a9m.cif in 0.26s\n",
      "Failed /mnt/h/datasets/mmCIF/a9/8a9n.cif: Too long 542\n",
      "Failed /mnt/h/datasets/mmCIF/a9/8a9o.cif: Too long 625\n",
      "Failed /mnt/h/datasets/mmCIF/a9/8a9p.cif: Too long 734\n",
      "Failed /mnt/h/datasets/mmCIF/a9/8a9q.cif: Too long 1265\n",
      "Finished /mnt/h/datasets/mmCIF/a9/8a9r.cif in 0.14s\n",
      "Failed /mnt/h/datasets/mmCIF/a9/8a9s.cif: Too long 734\n",
      "Failed /mnt/h/datasets/mmCIF/a9/8a9t.cif: Too long 2488\n",
      "Failed /mnt/h/datasets/mmCIF/a9/8a9u.cif: Too high resolution 3.1\n",
      "Failed /mnt/h/datasets/mmCIF/a9/8a9v.cif: Too long 361\n",
      "Finished /mnt/h/datasets/mmCIF/a9/8a9w.cif in 0.08s\n",
      "Failed /mnt/h/datasets/mmCIF/a9/8a9x.cif: Too long 1105\n",
      "Failed /mnt/h/datasets/mmCIF/a9/8a9y.cif: Too high resolution 3.5\n",
      "Failed /mnt/h/datasets/mmCIF/a9/8a9z.cif: Too long 2614\n"
     ]
    },
    {
     "name": "stderr",
     "output_type": "stream",
     "text": [
      "\r",
      " 13%|█████████▌                                                                  | 134/1060 [21:50<28:25:23, 110.50s/it]"
     ]
    },
    {
     "name": "stdout",
     "output_type": "stream",
     "text": [
      "Gathering mmCIF paths\n"
     ]
    },
    {
     "name": "stderr",
     "output_type": "stream",
     "text": [
      "\n",
      "  0%|                                                                                           | 0/253 [00:00<?, ?it/s]\u001b[A\n",
      " 30%|████████████████████████▋                                                        | 77/253 [00:00<00:00, 769.14it/s]\u001b[A\n",
      " 61%|████████████████████████████████████████████████▋                               | 154/253 [00:00<00:00, 754.34it/s]\u001b[A\n",
      "100%|████████████████████████████████████████████████████████████████████████████████| 253/253 [00:00<00:00, 743.88it/s]\u001b[A\n"
     ]
    },
    {
     "name": "stdout",
     "output_type": "stream",
     "text": [
      "Processing 0 files our of 0\n",
      "Finished /mnt/h/datasets/mmCIF/aa/1aa0.cif in 0.16s\n",
      "Failed /mnt/h/datasets/mmCIF/aa/1aa1.cif: Too long 3264\n",
      "Finished /mnt/h/datasets/mmCIF/aa/1aa2.cif in 0.12s\n",
      "Failed /mnt/h/datasets/mmCIF/aa/1aa3.cif: Invalid resolution 0.0\n",
      "Failed /mnt/h/datasets/mmCIF/aa/1aa4.cif: Too long 397\n",
      "Finished /mnt/h/datasets/mmCIF/aa/1aa5.cif in 0.08s\n"
     ]
    },
    {
     "name": "stderr",
     "output_type": "stream",
     "text": [
      "/home/nwoodall/miniconda3/envs/se33/lib/python3.9/site-packages/Bio/PDB/StructureBuilder.py:89: PDBConstructionWarning: WARNING: Chain A is discontinuous at line 394.\n",
      "  warnings.warn(\n",
      "/home/nwoodall/miniconda3/envs/se33/lib/python3.9/site-packages/Bio/PDB/StructureBuilder.py:89: PDBConstructionWarning: WARNING: Chain B is discontinuous at line 404.\n",
      "  warnings.warn(\n",
      "/home/nwoodall/miniconda3/envs/se33/lib/python3.9/site-packages/Bio/PDB/StructureBuilder.py:89: PDBConstructionWarning: WARNING: Chain A is discontinuous at line 406.\n",
      "  warnings.warn(\n",
      "/home/nwoodall/miniconda3/envs/se33/lib/python3.9/site-packages/Bio/PDB/StructureBuilder.py:89: PDBConstructionWarning: WARNING: Chain B is discontinuous at line 440.\n",
      "  warnings.warn(\n"
     ]
    },
    {
     "name": "stdout",
     "output_type": "stream",
     "text": [
      "Failed /mnt/h/datasets/mmCIF/aa/1aa6.cif: Too long 784\n",
      "Failed /mnt/h/datasets/mmCIF/aa/1aa7.cif: Too long 401\n",
      "Failed /mnt/h/datasets/mmCIF/aa/1aa9.cif: Invalid resolution 0.0\n",
      "Failed /mnt/h/datasets/mmCIF/aa/1aab.cif: Invalid resolution 0.0\n",
      "Finished /mnt/h/datasets/mmCIF/aa/1aac.cif in 0.12s\n",
      "Failed /mnt/h/datasets/mmCIF/aa/1aaf.cif: Invalid resolution 0.0\n",
      "Finished /mnt/h/datasets/mmCIF/aa/1aaj.cif in 0.11s\n"
     ]
    },
    {
     "name": "stderr",
     "output_type": "stream",
     "text": [
      "/home/nwoodall/miniconda3/envs/se33/lib/python3.9/site-packages/Bio/PDB/StructureBuilder.py:89: PDBConstructionWarning: WARNING: Chain A is discontinuous at line 950.\n",
      "  warnings.warn(\n",
      "/home/nwoodall/miniconda3/envs/se33/lib/python3.9/site-packages/Bio/PDB/StructureBuilder.py:89: PDBConstructionWarning: WARNING: Chain B is discontinuous at line 1008.\n",
      "  warnings.warn(\n"
     ]
    },
    {
     "name": "stdout",
     "output_type": "stream",
     "text": [
      "Finished /mnt/h/datasets/mmCIF/aa/1aal.cif in 0.12s\n",
      "Failed /mnt/h/datasets/mmCIF/aa/1aam.cif: Too long 398\n",
      "Finished /mnt/h/datasets/mmCIF/aa/1aan.cif in 0.13s\n",
      "Finished /mnt/h/datasets/mmCIF/aa/1aap.cif in 0.11s\n"
     ]
    },
    {
     "name": "stderr",
     "output_type": "stream",
     "text": [
      "/home/nwoodall/miniconda3/envs/se33/lib/python3.9/site-packages/Bio/PDB/StructureBuilder.py:89: PDBConstructionWarning: WARNING: Chain A is discontinuous at line 866.\n",
      "  warnings.warn(\n",
      "/home/nwoodall/miniconda3/envs/se33/lib/python3.9/site-packages/Bio/PDB/StructureBuilder.py:89: PDBConstructionWarning: WARNING: Chain B is discontinuous at line 926.\n",
      "  warnings.warn(\n"
     ]
    },
    {
     "name": "stdout",
     "output_type": "stream",
     "text": [
      "Finished /mnt/h/datasets/mmCIF/aa/1aaq.cif in 0.17s\n",
      "Finished /mnt/h/datasets/mmCIF/aa/1aar.cif in 0.12s\n",
      "Failed /mnt/h/datasets/mmCIF/aa/1aat.cif: Too long 822\n"
     ]
    },
    {
     "name": "stderr",
     "output_type": "stream",
     "text": [
      "/home/nwoodall/miniconda3/envs/se33/lib/python3.9/site-packages/Bio/PDB/StructureBuilder.py:89: PDBConstructionWarning: WARNING: Chain A is discontinuous at line 1203.\n",
      "  warnings.warn(\n",
      "/home/nwoodall/miniconda3/envs/se33/lib/python3.9/site-packages/Bio/PDB/StructureBuilder.py:89: PDBConstructionWarning: WARNING: Chain B is discontinuous at line 1210.\n",
      "  warnings.warn(\n"
     ]
    },
    {
     "name": "stdout",
     "output_type": "stream",
     "text": [
      "Failed /mnt/h/datasets/mmCIF/aa/1aaw.cif: Too long 400\n",
      "Failed /mnt/h/datasets/mmCIF/aa/1aax.cif: Too long 533\n"
     ]
    },
    {
     "name": "stderr",
     "output_type": "stream",
     "text": [
      "/home/nwoodall/miniconda3/envs/se33/lib/python3.9/site-packages/Bio/PDB/StructureBuilder.py:89: PDBConstructionWarning: WARNING: Chain B is discontinuous at line 1182.\n",
      "  warnings.warn(\n",
      "/home/nwoodall/miniconda3/envs/se33/lib/python3.9/site-packages/Bio/PDB/StructureBuilder.py:89: PDBConstructionWarning: WARNING: Chain C is discontinuous at line 1214.\n",
      "  warnings.warn(\n",
      "/home/nwoodall/miniconda3/envs/se33/lib/python3.9/site-packages/Bio/PDB/StructureBuilder.py:89: PDBConstructionWarning: WARNING: Chain A is discontinuous at line 1242.\n",
      "  warnings.warn(\n"
     ]
    },
    {
     "name": "stdout",
     "output_type": "stream",
     "text": [
      "Finished /mnt/h/datasets/mmCIF/aa/1aay.cif in 0.65s\n",
      "Failed /mnt/h/datasets/mmCIF/aa/1aaz.cif: Too long 398\n",
      "Failed /mnt/h/datasets/mmCIF/aa/2aa0.cif: Too long 606\n",
      "Failed /mnt/h/datasets/mmCIF/aa/2aa1.cif: Too long 951\n",
      "Failed /mnt/h/datasets/mmCIF/aa/2aa2.cif: Too long 401\n",
      "Failed /mnt/h/datasets/mmCIF/aa/2aa3.cif: Too long 1749\n",
      "Failed /mnt/h/datasets/mmCIF/aa/2aa4.cif: Too long 818\n",
      "Failed /mnt/h/datasets/mmCIF/aa/2aa5.cif: Too long 766\n",
      "Failed /mnt/h/datasets/mmCIF/aa/2aa6.cif: Too long 845\n",
      "Failed /mnt/h/datasets/mmCIF/aa/2aa7.cif: Too long 439\n",
      "Failed /mnt/h/datasets/mmCIF/aa/2aa9.cif: Too long 943\n",
      "Failed /mnt/h/datasets/mmCIF/aa/2aaa.cif: Too long 828\n",
      "Failed /mnt/h/datasets/mmCIF/aa/2aab.cif: Too long 507\n",
      "Failed /mnt/h/datasets/mmCIF/aa/2aac.cif: Too long 735\n",
      "Failed /mnt/h/datasets/mmCIF/aa/2aad.cif: Too long 451\n",
      "Finished /mnt/h/datasets/mmCIF/aa/2aae.cif in 0.11s\n",
      "Failed /mnt/h/datasets/mmCIF/aa/2aaf.cif: Too long 2428\n",
      "Failed /mnt/h/datasets/mmCIF/aa/2aag.cif: Too long 1582\n",
      "Failed /mnt/h/datasets/mmCIF/aa/2aai.cif: Too long 666\n",
      "Failed /mnt/h/datasets/mmCIF/aa/2aaj.cif: Too long 448\n",
      "Finished /mnt/h/datasets/mmCIF/aa/2aak.cif in 0.13s\n",
      "Failed /mnt/h/datasets/mmCIF/aa/2aal.cif: Too long 1737\n",
      "Failed /mnt/h/datasets/mmCIF/aa/2aam.cif: Too long 2686\n",
      "Finished /mnt/h/datasets/mmCIF/aa/2aan.cif in 0.12s\n",
      "Failed /mnt/h/datasets/mmCIF/aa/2aao.cif: Too long 449\n",
      "Failed /mnt/h/datasets/mmCIF/aa/2aap.cif: Invalid resolution 0.0\n",
      "Failed /mnt/h/datasets/mmCIF/aa/2aaq.cif: Too long 632\n",
      "Failed /mnt/h/datasets/mmCIF/aa/2aar.cif: Too high resolution 3.5\n",
      "Failed /mnt/h/datasets/mmCIF/aa/2aas.cif: Invalid resolution 0.0\n",
      "Failed /mnt/h/datasets/mmCIF/aa/2aat.cif: Too long 398\n",
      "Failed /mnt/h/datasets/mmCIF/aa/2aav.cif: Invalid resolution 0.0\n",
      "Failed /mnt/h/datasets/mmCIF/aa/2aaw.cif: Too long 610\n",
      "Failed /mnt/h/datasets/mmCIF/aa/2aax.cif: Too long 964\n",
      "Failed /mnt/h/datasets/mmCIF/aa/2aay.cif: Too long 1049\n",
      "Failed /mnt/h/datasets/mmCIF/aa/2aaz.cif: Too long 6068\n",
      "Failed /mnt/h/datasets/mmCIF/aa/3aa0.cif: Too long 971\n",
      "Failed /mnt/h/datasets/mmCIF/aa/3aa1.cif: Too long 916\n",
      "Finished /mnt/h/datasets/mmCIF/aa/3aa2.cif in 0.16s\n",
      "Finished /mnt/h/datasets/mmCIF/aa/3aa3.cif in 0.15s\n",
      "Finished /mnt/h/datasets/mmCIF/aa/3aa4.cif in 0.15s\n",
      "Finished /mnt/h/datasets/mmCIF/aa/3aa5.cif in 0.16s\n",
      "Failed /mnt/h/datasets/mmCIF/aa/3aa6.cif: Too long 947\n",
      "Failed /mnt/h/datasets/mmCIF/aa/3aa7.cif: Too long 795\n",
      "Failed /mnt/h/datasets/mmCIF/aa/3aa8.cif: Too long 612\n",
      "Failed /mnt/h/datasets/mmCIF/aa/3aa9.cif: Too long 425\n",
      "Failed /mnt/h/datasets/mmCIF/aa/3aaa.cif: Too long 990\n",
      "Failed /mnt/h/datasets/mmCIF/aa/3aab.cif: Too long 444\n",
      "Finished /mnt/h/datasets/mmCIF/aa/3aac.cif in 0.20s\n"
     ]
    },
    {
     "name": "stderr",
     "output_type": "stream",
     "text": [
      "/home/nwoodall/miniconda3/envs/se33/lib/python3.9/site-packages/Bio/PDB/StructureBuilder.py:89: PDBConstructionWarning: WARNING: Chain A is discontinuous at line 1908.\n",
      "  warnings.warn(\n",
      "/home/nwoodall/miniconda3/envs/se33/lib/python3.9/site-packages/Bio/PDB/StructureBuilder.py:89: PDBConstructionWarning: WARNING: Chain B is discontinuous at line 1919.\n",
      "  warnings.warn(\n"
     ]
    },
    {
     "name": "stdout",
     "output_type": "stream",
     "text": [
      "Failed /mnt/h/datasets/mmCIF/aa/3aad.cif: Too high resolution 3.0\n",
      "Failed /mnt/h/datasets/mmCIF/aa/3aae.cif: Too high resolution 3.3\n",
      "Failed /mnt/h/datasets/mmCIF/aa/3aaf.cif: Too long 586\n",
      "Failed /mnt/h/datasets/mmCIF/aa/3aag.cif: Too long 504\n",
      "Failed /mnt/h/datasets/mmCIF/aa/3aai.cif: Too long 408\n",
      "Failed /mnt/h/datasets/mmCIF/aa/3aaj.cif: Too long 393\n",
      "Finished /mnt/h/datasets/mmCIF/aa/3aak.cif in 0.16s\n",
      "Failed /mnt/h/datasets/mmCIF/aa/3aal.cif: Too long 412\n",
      "Failed /mnt/h/datasets/mmCIF/aa/3aam.cif: Too long 494\n",
      "Failed /mnt/h/datasets/mmCIF/aa/3aap.cif: Too long 776\n",
      "Failed /mnt/h/datasets/mmCIF/aa/3aaq.cif: Too long 576\n",
      "Failed /mnt/h/datasets/mmCIF/aa/3aar.cif: Too long 847\n",
      "Failed /mnt/h/datasets/mmCIF/aa/3aas.cif: Too long 501\n",
      "Failed /mnt/h/datasets/mmCIF/aa/3aat.cif: Too long 398\n",
      "Failed /mnt/h/datasets/mmCIF/aa/3aau.cif: Too long 485\n",
      "Failed /mnt/h/datasets/mmCIF/aa/3aav.cif: Too long 854\n",
      "Failed /mnt/h/datasets/mmCIF/aa/3aaw.cif: Too long 1327\n",
      "Failed /mnt/h/datasets/mmCIF/aa/3aax.cif: Too long 616\n",
      "Failed /mnt/h/datasets/mmCIF/aa/3aay.cif: Too long 1013\n",
      "Failed /mnt/h/datasets/mmCIF/aa/3aaz.cif: Too long 1297\n",
      "Failed /mnt/h/datasets/mmCIF/aa/4aa0.cif: Too long 637\n",
      "Failed /mnt/h/datasets/mmCIF/aa/4aa1.cif: Too long 1163\n",
      "Failed /mnt/h/datasets/mmCIF/aa/4aa2.cif: Too long 1030\n",
      "Failed /mnt/h/datasets/mmCIF/aa/4aa4.cif: Too long 376\n",
      "Failed /mnt/h/datasets/mmCIF/aa/4aa5.cif: Too long 363\n",
      "Failed /mnt/h/datasets/mmCIF/aa/4aa6.cif: Too long 490\n",
      "Failed /mnt/h/datasets/mmCIF/aa/4aa7.cif: Too long 816\n",
      "Failed /mnt/h/datasets/mmCIF/aa/4aa8.cif: Too long 701\n",
      "Failed /mnt/h/datasets/mmCIF/aa/4aa9.cif: Too long 767\n",
      "Failed /mnt/h/datasets/mmCIF/aa/4aaa.cif: Too long 561\n",
      "Failed /mnt/h/datasets/mmCIF/aa/4aab.cif: Too long 483\n",
      "Failed /mnt/h/datasets/mmCIF/aa/4aac.cif: Too long 374\n",
      "Failed /mnt/h/datasets/mmCIF/aa/4aad.cif: Too high resolution 3.1\n",
      "Failed /mnt/h/datasets/mmCIF/aa/4aae.cif: Too long 503\n",
      "Failed /mnt/h/datasets/mmCIF/aa/4aaf.cif: Too long 459\n",
      "Failed /mnt/h/datasets/mmCIF/aa/4aag.cif: Too long 394\n",
      "Failed /mnt/h/datasets/mmCIF/aa/4aah.cif: Too long 1805\n",
      "Failed /mnt/h/datasets/mmCIF/aa/4aai.cif: Invalid resolution 0.0\n",
      "Finished /mnt/h/datasets/mmCIF/aa/4aaj.cif in 0.17s\n",
      "Failed /mnt/h/datasets/mmCIF/aa/4aal.cif: Too long 1304\n",
      "Failed /mnt/h/datasets/mmCIF/aa/4aam.cif: Too long 649\n",
      "Failed /mnt/h/datasets/mmCIF/aa/4aan.cif: Too long 693\n",
      "Failed /mnt/h/datasets/mmCIF/aa/4aao.cif: Too long 927\n",
      "Failed /mnt/h/datasets/mmCIF/aa/4aap.cif: Too long 503\n",
      "Failed /mnt/h/datasets/mmCIF/aa/4aaq.cif: Too high resolution 8.0\n",
      "Failed /mnt/h/datasets/mmCIF/aa/4aar.cif: Too high resolution 8.0\n",
      "Failed /mnt/h/datasets/mmCIF/aa/4aas.cif: Too high resolution 8.5\n",
      "Failed /mnt/h/datasets/mmCIF/aa/4aau.cif: Too high resolution 8.5\n",
      "Failed /mnt/h/datasets/mmCIF/aa/4aaw.cif: Too long 756\n",
      "Finished /mnt/h/datasets/mmCIF/aa/4aax.cif in 0.14s\n",
      "Failed /mnt/h/datasets/mmCIF/aa/4aay.cif: Too long 3939\n",
      "Finished /mnt/h/datasets/mmCIF/aa/4aaz.cif in 0.14s\n"
     ]
    },
    {
     "name": "stderr",
     "output_type": "stream",
     "text": [
      "/home/nwoodall/miniconda3/envs/se33/lib/python3.9/site-packages/Bio/PDB/StructureBuilder.py:89: PDBConstructionWarning: WARNING: Chain A is discontinuous at line 736.\n",
      "  warnings.warn(\n",
      "/home/nwoodall/miniconda3/envs/se33/lib/python3.9/site-packages/Bio/PDB/StructureBuilder.py:89: PDBConstructionWarning: WARNING: Chain B is discontinuous at line 753.\n",
      "  warnings.warn(\n",
      "/home/nwoodall/miniconda3/envs/se33/lib/python3.9/site-packages/Bio/PDB/StructureBuilder.py:89: PDBConstructionWarning: WARNING: Chain A is discontinuous at line 761.\n",
      "  warnings.warn(\n",
      "/home/nwoodall/miniconda3/envs/se33/lib/python3.9/site-packages/Bio/PDB/StructureBuilder.py:89: PDBConstructionWarning: WARNING: Chain B is discontinuous at line 840.\n",
      "  warnings.warn(\n"
     ]
    },
    {
     "name": "stdout",
     "output_type": "stream",
     "text": [
      "Failed /mnt/h/datasets/mmCIF/aa/5aa0.cif: Too high resolution 5.0\n",
      "Failed /mnt/h/datasets/mmCIF/aa/5aa1.cif: Too long 1807\n",
      "Failed /mnt/h/datasets/mmCIF/aa/5aa2.cif: Too long 1745\n",
      "Failed /mnt/h/datasets/mmCIF/aa/5aa3.cif: Too high resolution 3.2\n",
      "Failed /mnt/h/datasets/mmCIF/aa/5aa4.cif: Too long 1826\n",
      "Failed /mnt/h/datasets/mmCIF/aa/5aa5.cif: Too long 5462\n",
      "Failed /mnt/h/datasets/mmCIF/aa/5aa6.cif: Too long 5578\n",
      "Failed /mnt/h/datasets/mmCIF/aa/5aa7.cif: Too long 614\n",
      "Failed /mnt/h/datasets/mmCIF/aa/5aa8.cif: Too long 464\n",
      "Failed /mnt/h/datasets/mmCIF/aa/5aa9.cif: Too long 478\n",
      "Failed /mnt/h/datasets/mmCIF/aa/5aaa.cif: Too long 523\n",
      "Failed /mnt/h/datasets/mmCIF/aa/5aab.cif: Too long 487\n",
      "Failed /mnt/h/datasets/mmCIF/aa/5aac.cif: Too long 524\n",
      "Failed /mnt/h/datasets/mmCIF/aa/5aad.cif: Too high resolution 3.1\n",
      "Failed /mnt/h/datasets/mmCIF/aa/5aae.cif: Too high resolution 3.11\n",
      "Finished /mnt/h/datasets/mmCIF/aa/5aaf.cif in 0.20s\n",
      "Finished /mnt/h/datasets/mmCIF/aa/5aag.cif in 0.36s\n",
      "Failed /mnt/h/datasets/mmCIF/aa/5aal.cif: Too long 560\n",
      "Failed /mnt/h/datasets/mmCIF/aa/5aam.cif: Too long 773\n",
      "Failed /mnt/h/datasets/mmCIF/aa/5aan.cif: Too long 334\n",
      "Failed /mnt/h/datasets/mmCIF/aa/5aao.cif: Too long 2209\n",
      "Failed /mnt/h/datasets/mmCIF/aa/5aap.cif: Too long 432\n",
      "Failed /mnt/h/datasets/mmCIF/aa/5aaq.cif: Invalid resolution 0.0\n",
      "Failed /mnt/h/datasets/mmCIF/aa/5aar.cif: Too long 365\n",
      "Failed /mnt/h/datasets/mmCIF/aa/5aas.cif: Invalid resolution 0.0\n",
      "Failed /mnt/h/datasets/mmCIF/aa/5aau.cif: Too long 680\n",
      "Failed /mnt/h/datasets/mmCIF/aa/5aav.cif: Too long 609\n",
      "Failed /mnt/h/datasets/mmCIF/aa/5aaw.cif: Too high resolution 3.27\n",
      "Failed /mnt/h/datasets/mmCIF/aa/5aay.cif: Invalid resolution 0.0\n",
      "Failed /mnt/h/datasets/mmCIF/aa/5aaz.cif: Invalid resolution 0.0\n",
      "Failed /mnt/h/datasets/mmCIF/aa/6aa0.cif: Too high resolution 3.2\n",
      "Failed /mnt/h/datasets/mmCIF/aa/6aa1.cif: Too long 775\n",
      "Failed /mnt/h/datasets/mmCIF/aa/6aa2.cif: Too long 1080\n",
      "Finished /mnt/h/datasets/mmCIF/aa/6aa3.cif in 0.48s\n",
      "Finished /mnt/h/datasets/mmCIF/aa/6aa4.cif in 0.16s\n",
      "Finished /mnt/h/datasets/mmCIF/aa/6aa5.cif in 0.24s\n",
      "Failed /mnt/h/datasets/mmCIF/aa/6aa6.cif: Too long 679\n",
      "Failed /mnt/h/datasets/mmCIF/aa/6aa7.cif: Too long 810\n",
      "Failed /mnt/h/datasets/mmCIF/aa/6aa8.cif: Too long 2085\n",
      "Failed /mnt/h/datasets/mmCIF/aa/6aa9.cif: Too long 561\n",
      "Failed /mnt/h/datasets/mmCIF/aa/6aaa.cif: Too long 1821\n",
      "Failed /mnt/h/datasets/mmCIF/aa/6aab.cif: Invalid resolution 0.0\n",
      "Failed /mnt/h/datasets/mmCIF/aa/6aac.cif: Too long 597\n",
      "Failed /mnt/h/datasets/mmCIF/aa/6aad.cif: Too long 554\n",
      "Failed /mnt/h/datasets/mmCIF/aa/6aae.cif: Too long 1128\n",
      "Finished /mnt/h/datasets/mmCIF/aa/6aaf.cif in 0.18s\n"
     ]
    },
    {
     "name": "stderr",
     "output_type": "stream",
     "text": [
      "/home/nwoodall/miniconda3/envs/se33/lib/python3.9/site-packages/Bio/PDB/StructureBuilder.py:89: PDBConstructionWarning: WARNING: Chain A is discontinuous at line 1085.\n",
      "  warnings.warn(\n",
      "/home/nwoodall/miniconda3/envs/se33/lib/python3.9/site-packages/Bio/PDB/StructureBuilder.py:89: PDBConstructionWarning: WARNING: Chain B is discontinuous at line 1088.\n",
      "  warnings.warn(\n"
     ]
    },
    {
     "name": "stdout",
     "output_type": "stream",
     "text": [
      "Failed /mnt/h/datasets/mmCIF/aa/6aag.cif: Too long 1158\n",
      "Failed /mnt/h/datasets/mmCIF/aa/6aah.cif: Too long 805\n",
      "Failed /mnt/h/datasets/mmCIF/aa/6aaj.cif: Too long 601\n",
      "Failed /mnt/h/datasets/mmCIF/aa/6aak.cif: Too long 1181\n",
      "Failed /mnt/h/datasets/mmCIF/aa/6aal.cif: Too long 569\n",
      "Failed /mnt/h/datasets/mmCIF/aa/6aam.cif: Too long 315\n",
      "Failed /mnt/h/datasets/mmCIF/aa/6aan.cif: Too long 498\n",
      "Failed /mnt/h/datasets/mmCIF/aa/6aao.cif: Too long 566\n",
      "Failed /mnt/h/datasets/mmCIF/aa/6aap.cif: Too long 545\n",
      "Failed /mnt/h/datasets/mmCIF/aa/6aaq.cif: Too long 583\n",
      "Failed /mnt/h/datasets/mmCIF/aa/6aar.cif: Too long 462\n",
      "Failed /mnt/h/datasets/mmCIF/aa/6aas.cif: Encountered errors {('6aas', ''): 'No protein chains found in this file.'}\n",
      "Failed /mnt/h/datasets/mmCIF/aa/6aau.cif: Encountered errors {('6aau', ''): 'No protein chains found in this file.'}\n",
      "Failed /mnt/h/datasets/mmCIF/aa/6aav.cif: Too long 1678\n",
      "Finished /mnt/h/datasets/mmCIF/aa/6aaw.cif in 0.12s\n"
     ]
    },
    {
     "name": "stderr",
     "output_type": "stream",
     "text": [
      "/home/nwoodall/miniconda3/envs/se33/lib/python3.9/site-packages/Bio/PDB/StructureBuilder.py:89: PDBConstructionWarning: WARNING: Chain A is discontinuous at line 844.\n",
      "  warnings.warn(\n",
      "/home/nwoodall/miniconda3/envs/se33/lib/python3.9/site-packages/Bio/PDB/StructureBuilder.py:89: PDBConstructionWarning: WARNING: Chain B is discontinuous at line 875.\n",
      "  warnings.warn(\n"
     ]
    },
    {
     "name": "stdout",
     "output_type": "stream",
     "text": [
      "Failed /mnt/h/datasets/mmCIF/aa/6aax.cif: Too high resolution 3.0\n",
      "Failed /mnt/h/datasets/mmCIF/aa/6aay.cif: Too long 1288\n",
      "Failed /mnt/h/datasets/mmCIF/aa/6aaz.cif: Too long 551\n",
      "Failed /mnt/h/datasets/mmCIF/aa/7aa0.cif: Too long 425\n",
      "Failed /mnt/h/datasets/mmCIF/aa/7aa1.cif: Mdtraj failed with error %c requires int or char\n",
      "Failed /mnt/h/datasets/mmCIF/aa/7aa2.cif: Too long 2845\n",
      "Failed /mnt/h/datasets/mmCIF/aa/7aa3.cif: Too high resolution 3.56\n",
      "Failed /mnt/h/datasets/mmCIF/aa/7aa4.cif: Too long 355\n",
      "Failed /mnt/h/datasets/mmCIF/aa/7aa5.cif: Too high resolution 4.18\n",
      "Failed /mnt/h/datasets/mmCIF/aa/7aa7.cif: Too long 414\n",
      "Finished /mnt/h/datasets/mmCIF/aa/7aa8.cif in 0.46s\n",
      "Failed /mnt/h/datasets/mmCIF/aa/7aa9.cif: Too long 1501\n",
      "Failed /mnt/h/datasets/mmCIF/aa/7aaa.cif: Too long 1064\n",
      "Failed /mnt/h/datasets/mmCIF/aa/7aab.cif: Too long 727\n",
      "Failed /mnt/h/datasets/mmCIF/aa/7aac.cif: Too long 1186\n",
      "Failed /mnt/h/datasets/mmCIF/aa/7aad.cif: Too long 810\n",
      "Failed /mnt/h/datasets/mmCIF/aa/7aae.cif: Too long 617\n",
      "Failed /mnt/h/datasets/mmCIF/aa/7aaf.cif: Invalid resolution 0.0\n",
      "Failed /mnt/h/datasets/mmCIF/aa/7aag.cif: Too long 2265\n",
      "Failed /mnt/h/datasets/mmCIF/aa/7aah.cif: Too long 599\n",
      "Failed /mnt/h/datasets/mmCIF/aa/7aai.cif: Too long 687\n",
      "Failed /mnt/h/datasets/mmCIF/aa/7aaj.cif: Too long 810\n",
      "Failed /mnt/h/datasets/mmCIF/aa/7aak.cif: Too long 1180\n",
      "Failed /mnt/h/datasets/mmCIF/aa/7aal.cif: Too long 880\n"
     ]
    }
   ],
   "source": [
    "# upper_direc = '/mnt/h/datasets/mmCIF/'\n",
    "# upper_list = os.listdir(upper_direc)\n",
    "\n",
    "# max_res = 3.0\n",
    "# max_length = 128\n",
    "# output_dir = '/mnt/h/datasets/processed_300L'\n",
    "\n",
    "\n",
    "# for direc in tqdm(upper_list):\n",
    "#     #unzip all files, delete original zipped files\n",
    "#     fL = os.listdir(f'{upper_direc}{direc}')\n",
    "#     for filegz in fL:\n",
    "#         if filegz.endswith('.gz'):\n",
    "#             gunzip(f'{upper_direc}{direc}/{filegz}',f'{upper_direc}{direc}/{filegz.replace(\".gz\",\"\")}')\n",
    "      \n",
    "#     #collect mmcif files to process\n",
    "#     mmcif_dir = f'{upper_direc}{direc}'\n",
    "#     max_file_size = 300000000\n",
    "#     min_file_size = 100\n",
    "    \n",
    "#     all_mmcif_paths = _retrieve_mmcif_files(mmcif_dir, max_file_size, min_file_size, False)\n",
    "#     total_num_files =0\n",
    "#     for mmcif_file in os.listdir(mmcif_dir):\n",
    "#         if not mmcif_file.endswith('.cif'):\n",
    "#             continue\n",
    "#         mmcif_path = os.path.join(mmcif_dir, mmcif_file)\n",
    "#         total_num_files += 1\n",
    "#         if min_file_size <= os.path.getsize(mmcif_path) <= max_file_size:\n",
    "#             all_mmcif_paths.append(mmcif_path)\n",
    "            \n",
    "            \n",
    "#     all_metadata, failed_paths= process_serially2(all_mmcif_paths,max_res,300,\n",
    "#                                                   output_dir, simple=False)\n",
    "   \n",
    "#     #delete failed paths to reduce memory usage\n",
    "#     for to_del in failed_paths:\n",
    "#         if os.path.isfile(to_del):\n",
    "#             os.remove(to_del)"
   ]
  },
  {
   "cell_type": "code",
   "execution_count": null,
   "id": "58874523",
   "metadata": {},
   "outputs": [],
   "source": []
  },
  {
   "cell_type": "code",
   "execution_count": 8,
   "id": "f7fb52a5",
   "metadata": {},
   "outputs": [],
   "source": [
    "upper_direc = '/mnt/h/datasets/mmCIF/'\n",
    "upper_list = os.listdir(upper_direc)"
   ]
  },
  {
   "cell_type": "code",
   "execution_count": 9,
   "id": "6461f39b",
   "metadata": {},
   "outputs": [
    {
     "name": "stdout",
     "output_type": "stream",
     "text": [
      "01\n"
     ]
    }
   ],
   "source": [
    "direc = upper_list[1]\n",
    "print(direc)"
   ]
  },
  {
   "cell_type": "code",
   "execution_count": 10,
   "id": "ff58bba3",
   "metadata": {},
   "outputs": [],
   "source": [
    "direc = '/mnt/h/datasets/mmCIF/0g/'"
   ]
  },
  {
   "cell_type": "code",
   "execution_count": 11,
   "id": "4434a3f6",
   "metadata": {},
   "outputs": [],
   "source": [
    "fL = os.listdir(direc)\n",
    "for filegz in fL:\n",
    "    if filegz.endswith('.gz'):\n",
    "        gunzip(f'{direc}{filegz}',f'{direc}{filegz.replace(\".gz\",\"\")}')\n",
    "        "
   ]
  },
  {
   "cell_type": "code",
   "execution_count": 12,
   "id": "6ae48f5a",
   "metadata": {},
   "outputs": [],
   "source": [
    "fL = os.listdir(direc)"
   ]
  },
  {
   "cell_type": "code",
   "execution_count": 13,
   "id": "dac48700",
   "metadata": {},
   "outputs": [],
   "source": [
    "mmcif_dir = direc\n",
    "max_file_size = 300000000\n",
    "min_file_size = 100"
   ]
  },
  {
   "cell_type": "code",
   "execution_count": 14,
   "id": "f0ad7927",
   "metadata": {},
   "outputs": [
    {
     "name": "stdout",
     "output_type": "stream",
     "text": [
      "Gathering mmCIF paths\n"
     ]
    },
    {
     "name": "stderr",
     "output_type": "stream",
     "text": [
      "100%|████████████████████████████████████████████████████████████████████████████████████| 2/2 [00:00<00:00, 371.65it/s]"
     ]
    },
    {
     "name": "stdout",
     "output_type": "stream",
     "text": [
      "Processing 0 files our of 0\n"
     ]
    },
    {
     "name": "stderr",
     "output_type": "stream",
     "text": [
      "\n"
     ]
    }
   ],
   "source": [
    "all_mmcif_paths = _retrieve_mmcif_files(mmcif_dir, max_file_size, min_file_size, False)\n",
    "total_num_files =0\n",
    "for mmcif_file in os.listdir(mmcif_dir):\n",
    "    if not mmcif_file.endswith('.cif'):\n",
    "        continue\n",
    "    mmcif_path = os.path.join(mmcif_dir, mmcif_file)\n",
    "    total_num_files += 1\n",
    "    if min_file_size <= os.path.getsize(mmcif_path) <= max_file_size:\n",
    "        all_mmcif_paths.append(mmcif_path)"
   ]
  },
  {
   "cell_type": "code",
   "execution_count": 15,
   "id": "a722ca57",
   "metadata": {},
   "outputs": [
    {
     "name": "stdout",
     "output_type": "stream",
     "text": [
      "Failed /mnt/h/datasets/mmCIF/0g/10gs.cif: Too long 589\n",
      "Failed /mnt/h/datasets/mmCIF/0g/20gs.cif: Too long 521\n"
     ]
    }
   ],
   "source": [
    "all_metadata, failed_paths= process_serially2(all_mmcif_paths,3.0,300,'/mnt/h/datasets/processed_300L',simple=False)"
   ]
  },
  {
   "cell_type": "code",
   "execution_count": 16,
   "id": "693db2f2",
   "metadata": {},
   "outputs": [],
   "source": [
    "for to_del in failed_paths:\n",
    "    if os.path.isfile(to_del):\n",
    "        os.remove(to_del)"
   ]
  }
 ],
 "metadata": {
  "kernelspec": {
   "display_name": "se33",
   "language": "python",
   "name": "se33"
  },
  "language_info": {
   "codemirror_mode": {
    "name": "ipython",
    "version": 3
   },
   "file_extension": ".py",
   "mimetype": "text/x-python",
   "name": "python",
   "nbconvert_exporter": "python",
   "pygments_lexer": "ipython3",
   "version": "3.9.16"
  }
 },
 "nbformat": 4,
 "nbformat_minor": 5
}
