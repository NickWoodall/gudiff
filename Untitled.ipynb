{
 "cells": [
  {
   "cell_type": "code",
   "execution_count": 1,
   "id": "228c1670",
   "metadata": {},
   "outputs": [
    {
     "data": {
      "text/plain": [
       "tensor([0, 1, 0])"
      ]
     },
     "execution_count": 1,
     "metadata": {},
     "output_type": "execute_result"
    }
   ],
   "source": [
    "import torch\n",
    "from torch import einsum\n",
    "#einsum rotation matrix \n",
    "R = torch.tensor([[0,-1,0],[1,0,0],[0,0,1]])\n",
    "v = torch.tensor([1,0,0]).unsqueeze(0)\n",
    "einsum('ij,kj->i',R,v)"
   ]
  },
  {
   "cell_type": "code",
   "execution_count": 2,
   "id": "7797c40f",
   "metadata": {},
   "outputs": [
    {
     "data": {
      "text/plain": [
       "(1, 3, 8, 9)"
      ]
     },
     "execution_count": 2,
     "metadata": {},
     "output_type": "execute_result"
    }
   ],
   "source": [
    "b = torch.randn((2,4,8,9))\n",
    "(1,3)+b.shape[2:]"
   ]
  },
  {
   "cell_type": "code",
   "execution_count": 13,
   "id": "31394289",
   "metadata": {},
   "outputs": [],
   "source": [
    "from se3_transformer.model import Fiber "
   ]
  },
  {
   "cell_type": "code",
   "execution_count": 114,
   "id": "d475f350",
   "metadata": {},
   "outputs": [],
   "source": [
    "B=8\n",
    "L=65\n",
    "fiber = Fiber({0:12,1:2})\n",
    "ft = fiber+1"
   ]
  },
  {
   "cell_type": "code",
   "execution_count": 115,
   "id": "97f5aabd",
   "metadata": {},
   "outputs": [],
   "source": [
    "nf = {'0': torch.randn((B,L,12,1)).reshape((-1,1)), '1':torch.randn((B,L,2,3)).reshape((-1,3))}"
   ]
  },
  {
   "cell_type": "code",
   "execution_count": 102,
   "id": "9823784f",
   "metadata": {},
   "outputs": [],
   "source": [
    "t_vec = torch.arange(0.1,0.9,0.1)"
   ]
  },
  {
   "cell_type": "code",
   "execution_count": 103,
   "id": "ecfa46be",
   "metadata": {},
   "outputs": [
    {
     "data": {
      "text/plain": [
       "torch.Size([8])"
      ]
     },
     "execution_count": 103,
     "metadata": {},
     "output_type": "execute_result"
    }
   ],
   "source": [
    "t_vec.shape"
   ]
  },
  {
   "cell_type": "code",
   "execution_count": 104,
   "id": "74fa41ba",
   "metadata": {},
   "outputs": [
    {
     "data": {
      "text/plain": [
       "torch.Size([8, 7, 1, 1])"
      ]
     },
     "execution_count": 104,
     "metadata": {},
     "output_type": "execute_result"
    }
   ],
   "source": [
    "t_vec[...,None,None,None].repeat(1,L,1,1).shape"
   ]
  },
  {
   "cell_type": "code",
   "execution_count": 105,
   "id": "2d91b38c",
   "metadata": {},
   "outputs": [
    {
     "data": {
      "text/plain": [
       "torch.Size([8, 7, 12, 1])"
      ]
     },
     "execution_count": 105,
     "metadata": {},
     "output_type": "execute_result"
    }
   ],
   "source": [
    "nf['0'].reshape((B,L,-1,1)).shape"
   ]
  },
  {
   "cell_type": "code",
   "execution_count": 106,
   "id": "5e7ffa42",
   "metadata": {},
   "outputs": [
    {
     "data": {
      "text/plain": [
       "torch.Size([8, 7, 13, 1])"
      ]
     },
     "execution_count": 106,
     "metadata": {},
     "output_type": "execute_result"
    }
   ],
   "source": [
    "torch.concat((t_vec[...,None,None,None].repeat(1,L,1,1),nf['0'].reshape((B,L,-1,1))),axis=2).shape"
   ]
  },
  {
   "cell_type": "code",
   "execution_count": 119,
   "id": "ea9a342a",
   "metadata": {},
   "outputs": [
    {
     "data": {
      "text/plain": [
       "torch.Size([8, 65, 1, 1])"
      ]
     },
     "execution_count": 119,
     "metadata": {},
     "output_type": "execute_result"
    }
   ],
   "source": [
    "t_vec[...,None,None,None].repeat(1,L,1,1).shape"
   ]
  },
  {
   "cell_type": "code",
   "execution_count": 187,
   "id": "51421226",
   "metadata": {},
   "outputs": [
    {
     "name": "stdout",
     "output_type": "stream",
     "text": [
      "torch.Size([8, 65, 1, 3])\n"
     ]
    }
   ],
   "source": [
    "pshape = t_vec[...,None,None,None].repeat(1,L,1,1)\n",
    "p1d = (2,0)\n",
    "out = torch.nn.functional.pad(pshape, p1d, \"constant\", 0)\n",
    "print(out.shape)"
   ]
  },
  {
   "cell_type": "code",
   "execution_count": 190,
   "id": "197dd7b5",
   "metadata": {},
   "outputs": [
    {
     "data": {
      "text/plain": [
       "torch.Size([8, 65, 2, 3])"
      ]
     },
     "execution_count": 190,
     "metadata": {},
     "output_type": "execute_result"
    }
   ],
   "source": [
    "nf['1'].reshape((B,L,-1,3)).shape"
   ]
  },
  {
   "cell_type": "code",
   "execution_count": 195,
   "id": "072cb30d",
   "metadata": {},
   "outputs": [
    {
     "data": {
      "text/plain": [
       "torch.Size([8, 65, 3, 3])"
      ]
     },
     "execution_count": 195,
     "metadata": {},
     "output_type": "execute_result"
    }
   ],
   "source": [
    "torch.concat((out, nf['1'].reshape((B,L,-1,3))), dim=2).shape"
   ]
  },
  {
   "cell_type": "code",
   "execution_count": 206,
   "id": "a0faf154",
   "metadata": {},
   "outputs": [
    {
     "data": {
      "text/plain": [
       "torch.Size([520, 3, 3])"
      ]
     },
     "execution_count": 206,
     "metadata": {},
     "output_type": "execute_result"
    }
   ],
   "source": [
    "concat_t(nf,t_vec,B,L)['1'].shape"
   ]
  },
  {
   "cell_type": "code",
   "execution_count": 204,
   "id": "dc958ec7",
   "metadata": {},
   "outputs": [],
   "source": [
    "def concat_t(feats_in, t_vec, batch, length):\n",
    "    feats_out = {}\n",
    "    \n",
    "    if '0' in feats_in.keys():\n",
    "        feats_out['0'] = torch.concat((t_vec[...,None,None,None].repeat(1,length,1,1), \n",
    "                                       feats_in['0'].reshape((batch, length,-1,1))),axis=2).reshape((B*L,-1,1))\n",
    "    if '1' in feats_in.keys():\n",
    "        pshape = t_vec[...,None,None,None].repeat(1,L,1,1)\n",
    "        p1d = (2,0)\n",
    "        out = torch.nn.functional.pad(pshape, p1d, \"constant\", 0)\n",
    "        feats_out['1'] = torch.concat((out, feats_in['1'].reshape((B,L,-1,3))), dim=2).reshape((B*L,-1,3))\n",
    "\n",
    "\n",
    "    return feats_out\n",
    "    \n",
    "    "
   ]
  },
  {
   "cell_type": "code",
   "execution_count": 6,
   "id": "443b8bb1",
   "metadata": {},
   "outputs": [
    {
     "name": "stdout",
     "output_type": "stream",
     "text": [
      "torch.Size([5, 2, 3, 3]) torch.Size([5, 2, 1, 3])\n"
     ]
    },
    {
     "data": {
      "text/plain": [
       "torch.Size([5, 2, 3])"
      ]
     },
     "execution_count": 6,
     "metadata": {},
     "output_type": "execute_result"
    }
   ],
   "source": [
    "\n",
    "#einsum rotation matrix \n",
    "Rs = R.unsqueeze(0).unsqueeze(0).repeat(5,2,1,1)\n",
    "vs = v.unsqueeze(0).unsqueeze(0).repeat(5,2,1,1)\n",
    "print(Rs.shape, vs.shape)\n",
    "einsum('bnij,bnkj->bni',Rs,vs).shape"
   ]
  },
  {
   "cell_type": "code",
   "execution_count": null,
   "id": "448e3d66",
   "metadata": {},
   "outputs": [],
   "source": [
    "def forward(self, node_feats_in, batched_graph):\n",
    "        \n",
    "        indices_list = [batched_graph.num_nodes()]\n",
    "        down_gcn_in = [node_feats_in] #node features from gcn outputs\n",
    "        down_gcn_out = []\n",
    "        down_pools = []\n",
    "        \n",
    "        up_gcn_in = []\n",
    "        up_gcn_out = []\n",
    "        \n",
    "        pos = [batched_graph.ndata['pos']]\n",
    "        edge_basis_pos_post = []\n",
    "        \n",
    "        #gcn and down pooling\n",
    "        for i in range(self.l_n):\n",
    "            #define basis (spherical harmonics) from xyz_positions, pull edge connections connectivity\n",
    "            edge_basis_pos_post.append(prep_for_gcn(gu.graph_list[i], pos[i], self.edge_pre[i], gu.graph_list[i].nodes(),\n",
    "                                                    comp_grad = self.comp_basis_grad))\n",
    "\n",
    "            down_gcn_out.append(gu.down_gcns[i].forward(down_gcn_in[i], edge_basis_pos_post[i][0],\n",
    "                                                        graph=gu.graph_list[i],basis=edge_basis_pos_post[i][1]))\n",
    "            #top k pool, save indices pooled for unpooling\n",
    "            out_and_indx = gu.pools[i](down_gcn_out[i], gu.graph_list[i])\n",
    "            #save indices, level outputs (topk pool node features), and positions for other side of unet (unpooling and adding)\n",
    "            #and use in lower levels\n",
    "            down_gcn_in.append(out_and_indx[0])\n",
    "            indices_list.append(out_and_indx[1])\n",
    "            pos.append(edge_basis_pos_post[i][2])\n",
    "          \n",
    "        edge_basis_pos_post.append(prep_for_gcn(gu.graph_list[-1], pos[-1], self.edge_pre[-1], gu.graph_list[-1].nodes(),\n",
    "                                               comp_grad = self.comp_basis_grad))\n",
    "        \n",
    "        \n",
    "        bottom_out = self.bottom_gcn.forward(down_gcn_in[-1], edge_basis_pos_post[-1][0],\n",
    "                                graph=gu.graph_list[-1],basis=edge_basis_pos_post[-1][1])\n",
    "        \n",
    "        latent = {'0':self.global_pool(bottom_out, graph=gu.graph_list[-1]).unsqueeze(-1)}\n",
    "        up_gcn_in.append(gu.latent_unpool(latent, graph=gu.graph_list[-1],u_features=bottom_out))\n",
    "        \n",
    "        reverse_counter = self.l_n\n",
    "        #up gcns\n",
    "        for i in range(self.l_n):\n",
    "            up_gcn_out.append(gu.up_gcns[i].forward(up_gcn_in[i],edge_basis_pos_post[reverse_counter-i][0],\n",
    "                                                    graph=gu.graph_list[reverse_counter-i],\n",
    "                                                    basis=edge_basis_pos_post[reverse_counter-i][1]))\n",
    "            \n",
    "            up_gcn_in.append(gu.unpools[i](up_gcn_out[i],graph=gu.graph_list[i],\n",
    "                                           idx = indices_list[reverse_counter-i],\n",
    "                                           u_features=down_gcn_out[reverse_counter-i-1])) #add from level up\n",
    "            \n",
    "        \n",
    "        final = self.top_gcn(up_gcn_in[-1],edge_basis_pos_post[0][0],\n",
    "                     graph=gu.graph_list[0],basis=edge_basis_pos_post[0][1])\n",
    "        \n",
    "#         pred_move = self.pred_gcn(final,edge_basis_pos_post[0][0],\n",
    "#                      graph=gu.graph_list[0],basis=edge_basis_pos_post[0][1])\n",
    "        \n",
    "        final2 =   self.final(final,edge_basis_pos_post[0][0])\n",
    "        \n",
    "        #add NC_ CA Vecs back to start\n",
    "#         final2['1'][:,1,:] = final2['1'][:,1,:] + down_gcn_in[0]['1'][:,0,:]\n",
    "#         final2['1'][:,2,:] = final2['1'][:,2,:] + down_gcn_in[0]['1'][:,1,:]\n",
    "        ncp = final2['1'][:,1,:] + down_gcn_in[0]['1'][:,0,:]\n",
    "        ccp = final2['1'][:,2,:] + down_gcn_in[0]['1'][:,1,:]\n",
    "\n",
    "        return final2, ncp, ccp"
   ]
  }
 ],
 "metadata": {
  "kernelspec": {
   "display_name": "se33",
   "language": "python",
   "name": "se33"
  },
  "language_info": {
   "codemirror_mode": {
    "name": "ipython",
    "version": 3
   },
   "file_extension": ".py",
   "mimetype": "text/x-python",
   "name": "python",
   "nbconvert_exporter": "python",
   "pygments_lexer": "ipython3",
   "version": "3.9.16"
  }
 },
 "nbformat": 4,
 "nbformat_minor": 5
}
