{
 "cells": [
  {
   "cell_type": "code",
   "execution_count": 1,
   "id": "228c1670",
   "metadata": {},
   "outputs": [
    {
     "data": {
      "text/plain": [
       "tensor([0, 1, 0])"
      ]
     },
     "execution_count": 1,
     "metadata": {},
     "output_type": "execute_result"
    }
   ],
   "source": [
    "import torch\n",
    "from torch import einsum\n",
    "#einsum rotation matrix \n",
    "R = torch.tensor([[0,-1,0],[1,0,0],[0,0,1]])\n",
    "v = torch.tensor([1,0,0]).unsqueeze(0)\n",
    "einsum('ij,kj->i',R,v)"
   ]
  },
  {
   "cell_type": "code",
   "execution_count": 17,
   "id": "a828a7ac",
   "metadata": {},
   "outputs": [],
   "source": [
    "def Rs2Qs(Rs):\n",
    "    Qs = torch.zeros((*Rs.shape[:-2],4), device=Rs.device)\n",
    "\n",
    "    Qs[...,0] = 1.0 + Rs[...,0,0] + Rs[...,1,1] + Rs[...,2,2]\n",
    "    Qs[...,1] = 1.0 + Rs[...,0,0] - Rs[...,1,1] - Rs[...,2,2]\n",
    "    Qs[...,2] = 1.0 - Rs[...,0,0] + Rs[...,1,1] - Rs[...,2,2]\n",
    "    Qs[...,3] = 1.0 - Rs[...,0,0] - Rs[...,1,1] + Rs[...,2,2]\n",
    "    Qs[Qs<0.0] = 0.0\n",
    "    Qs = torch.sqrt(Qs) / 2.0\n",
    "    Qs[...,1] *= torch.sign( Rs[...,2,1] - Rs[...,1,2] )\n",
    "    Qs[...,2] *= torch.sign( Rs[...,0,2] - Rs[...,2,0] )\n",
    "    Qs[...,3] *= torch.sign( Rs[...,1,0] - Rs[...,0,1] )\n",
    "\n",
    "    return Qs"
   ]
  },
  {
   "cell_type": "code",
   "execution_count": 2,
   "id": "7797c40f",
   "metadata": {},
   "outputs": [
    {
     "data": {
      "text/plain": [
       "(1, 3, 8, 9)"
      ]
     },
     "execution_count": 2,
     "metadata": {},
     "output_type": "execute_result"
    }
   ],
   "source": [
    "b = torch.randn((2,4,8,9))\n",
    "(1,3)+b.shape[2:]"
   ]
  },
  {
   "cell_type": "code",
   "execution_count": 13,
   "id": "31394289",
   "metadata": {},
   "outputs": [],
   "source": [
    "from se3_transformer.model import Fiber "
   ]
  },
  {
   "cell_type": "code",
   "execution_count": 114,
   "id": "d475f350",
   "metadata": {},
   "outputs": [],
   "source": [
    "B=8\n",
    "L=65\n",
    "fiber = Fiber({0:12,1:2})\n",
    "ft = fiber+1"
   ]
  },
  {
   "cell_type": "code",
   "execution_count": 115,
   "id": "97f5aabd",
   "metadata": {},
   "outputs": [],
   "source": [
    "nf = {'0': torch.randn((B,L,12,1)).reshape((-1,1)), '1':torch.randn((B,L,2,3)).reshape((-1,3))}"
   ]
  },
  {
   "cell_type": "code",
   "execution_count": 102,
   "id": "9823784f",
   "metadata": {},
   "outputs": [],
   "source": [
    "t_vec = torch.arange(0.1,0.9,0.1)"
   ]
  },
  {
   "cell_type": "code",
   "execution_count": 103,
   "id": "ecfa46be",
   "metadata": {},
   "outputs": [
    {
     "data": {
      "text/plain": [
       "torch.Size([8])"
      ]
     },
     "execution_count": 103,
     "metadata": {},
     "output_type": "execute_result"
    }
   ],
   "source": [
    "t_vec.shape"
   ]
  },
  {
   "cell_type": "code",
   "execution_count": 104,
   "id": "74fa41ba",
   "metadata": {},
   "outputs": [
    {
     "data": {
      "text/plain": [
       "torch.Size([8, 7, 1, 1])"
      ]
     },
     "execution_count": 104,
     "metadata": {},
     "output_type": "execute_result"
    }
   ],
   "source": [
    "t_vec[...,None,None,None].repeat(1,L,1,1).shape"
   ]
  },
  {
   "cell_type": "code",
   "execution_count": 105,
   "id": "2d91b38c",
   "metadata": {},
   "outputs": [
    {
     "data": {
      "text/plain": [
       "torch.Size([8, 7, 12, 1])"
      ]
     },
     "execution_count": 105,
     "metadata": {},
     "output_type": "execute_result"
    }
   ],
   "source": [
    "nf['0'].reshape((B,L,-1,1)).shape"
   ]
  },
  {
   "cell_type": "code",
   "execution_count": 106,
   "id": "5e7ffa42",
   "metadata": {},
   "outputs": [
    {
     "data": {
      "text/plain": [
       "torch.Size([8, 7, 13, 1])"
      ]
     },
     "execution_count": 106,
     "metadata": {},
     "output_type": "execute_result"
    }
   ],
   "source": [
    "torch.concat((t_vec[...,None,None,None].repeat(1,L,1,1),nf['0'].reshape((B,L,-1,1))),axis=2).shape"
   ]
  },
  {
   "cell_type": "code",
   "execution_count": 119,
   "id": "ea9a342a",
   "metadata": {},
   "outputs": [
    {
     "data": {
      "text/plain": [
       "torch.Size([8, 65, 1, 1])"
      ]
     },
     "execution_count": 119,
     "metadata": {},
     "output_type": "execute_result"
    }
   ],
   "source": [
    "t_vec[...,None,None,None].repeat(1,L,1,1).shape"
   ]
  },
  {
   "cell_type": "code",
   "execution_count": 187,
   "id": "51421226",
   "metadata": {},
   "outputs": [
    {
     "name": "stdout",
     "output_type": "stream",
     "text": [
      "torch.Size([8, 65, 1, 3])\n"
     ]
    }
   ],
   "source": [
    "pshape = t_vec[...,None,None,None].repeat(1,L,1,1)\n",
    "p1d = (2,0)\n",
    "out = torch.nn.functional.pad(pshape, p1d, \"constant\", 0)\n",
    "print(out.shape)"
   ]
  },
  {
   "cell_type": "code",
   "execution_count": 190,
   "id": "197dd7b5",
   "metadata": {},
   "outputs": [
    {
     "data": {
      "text/plain": [
       "torch.Size([8, 65, 2, 3])"
      ]
     },
     "execution_count": 190,
     "metadata": {},
     "output_type": "execute_result"
    }
   ],
   "source": [
    "nf['1'].reshape((B,L,-1,3)).shape"
   ]
  },
  {
   "cell_type": "code",
   "execution_count": 195,
   "id": "072cb30d",
   "metadata": {},
   "outputs": [
    {
     "data": {
      "text/plain": [
       "torch.Size([8, 65, 3, 3])"
      ]
     },
     "execution_count": 195,
     "metadata": {},
     "output_type": "execute_result"
    }
   ],
   "source": [
    "torch.concat((out, nf['1'].reshape((B,L,-1,3))), dim=2).shape"
   ]
  },
  {
   "cell_type": "code",
   "execution_count": 206,
   "id": "a0faf154",
   "metadata": {},
   "outputs": [
    {
     "data": {
      "text/plain": [
       "torch.Size([520, 3, 3])"
      ]
     },
     "execution_count": 206,
     "metadata": {},
     "output_type": "execute_result"
    }
   ],
   "source": [
    "concat_t(nf,t_vec,B,L)['1'].shape"
   ]
  },
  {
   "cell_type": "code",
   "execution_count": 204,
   "id": "dc958ec7",
   "metadata": {},
   "outputs": [],
   "source": [
    "def concat_t(feats_in, t_vec, batch, length):\n",
    "    feats_out = {}\n",
    "    \n",
    "    if '0' in feats_in.keys():\n",
    "        feats_out['0'] = torch.concat((t_vec[...,None,None,None].repeat(1,length,1,1), \n",
    "                                       feats_in['0'].reshape((batch, length,-1,1))),axis=2).reshape((B*L,-1,1))\n",
    "    if '1' in feats_in.keys():\n",
    "        pshape = t_vec[...,None,None,None].repeat(1,L,1,1)\n",
    "        p1d = (2,0)\n",
    "        out = torch.nn.functional.pad(pshape, p1d, \"constant\", 0)\n",
    "        feats_out['1'] = torch.concat((out, feats_in['1'].reshape((B,L,-1,3))), dim=2).reshape((B*L,-1,3))\n",
    "\n",
    "\n",
    "    return feats_out\n",
    "    \n",
    "    "
   ]
  },
  {
   "cell_type": "code",
   "execution_count": 6,
   "id": "443b8bb1",
   "metadata": {},
   "outputs": [
    {
     "name": "stdout",
     "output_type": "stream",
     "text": [
      "torch.Size([5, 2, 3, 3]) torch.Size([5, 2, 1, 3])\n"
     ]
    },
    {
     "data": {
      "text/plain": [
       "torch.Size([5, 2, 3])"
      ]
     },
     "execution_count": 6,
     "metadata": {},
     "output_type": "execute_result"
    }
   ],
   "source": [
    "\n",
    "#einsum rotation matrix \n",
    "Rs = R.unsqueeze(0).unsqueeze(0).repeat(5,2,1,1)\n",
    "vs = v.unsqueeze(0).unsqueeze(0).repeat(5,2,1,1)\n",
    "print(Rs.shape, vs.shape)\n",
    "einsum('bnij,bnkj->bni',Rs,vs).shape"
   ]
  },
  {
   "cell_type": "code",
   "execution_count": null,
   "id": "448e3d66",
   "metadata": {},
   "outputs": [],
   "source": [
    "def forward(self, node_feats_in, batched_graph):\n",
    "        \n",
    "        indices_list = [batched_graph.num_nodes()]\n",
    "        down_gcn_in = [node_feats_in] #node features from gcn outputs\n",
    "        down_gcn_out = []\n",
    "        down_pools = []\n",
    "        \n",
    "        up_gcn_in = []\n",
    "        up_gcn_out = []\n",
    "        \n",
    "        pos = [batched_graph.ndata['pos']]\n",
    "        edge_basis_pos_post = []\n",
    "        \n",
    "        #gcn and down pooling\n",
    "        for i in range(self.l_n):\n",
    "            #define basis (spherical harmonics) from xyz_positions, pull edge connections connectivity\n",
    "            edge_basis_pos_post.append(prep_for_gcn(gu.graph_list[i], pos[i], self.edge_pre[i], gu.graph_list[i].nodes(),\n",
    "                                                    comp_grad = self.comp_basis_grad))\n",
    "\n",
    "            down_gcn_out.append(gu.down_gcns[i].forward(down_gcn_in[i], edge_basis_pos_post[i][0],\n",
    "                                                        graph=gu.graph_list[i],basis=edge_basis_pos_post[i][1]))\n",
    "            #top k pool, save indices pooled for unpooling\n",
    "            out_and_indx = gu.pools[i](down_gcn_out[i], gu.graph_list[i])\n",
    "            #save indices, level outputs (topk pool node features), and positions for other side of unet (unpooling and adding)\n",
    "            #and use in lower levels\n",
    "            down_gcn_in.append(out_and_indx[0])\n",
    "            indices_list.append(out_and_indx[1])\n",
    "            pos.append(edge_basis_pos_post[i][2])\n",
    "          \n",
    "        edge_basis_pos_post.append(prep_for_gcn(gu.graph_list[-1], pos[-1], self.edge_pre[-1], gu.graph_list[-1].nodes(),\n",
    "                                               comp_grad = self.comp_basis_grad))\n",
    "        \n",
    "        \n",
    "        bottom_out = self.bottom_gcn.forward(down_gcn_in[-1], edge_basis_pos_post[-1][0],\n",
    "                                graph=gu.graph_list[-1],basis=edge_basis_pos_post[-1][1])\n",
    "        \n",
    "        latent = {'0':self.global_pool(bottom_out, graph=gu.graph_list[-1]).unsqueeze(-1)}\n",
    "        up_gcn_in.append(gu.latent_unpool(latent, graph=gu.graph_list[-1],u_features=bottom_out))\n",
    "        \n",
    "        reverse_counter = self.l_n\n",
    "        #up gcns\n",
    "        for i in range(self.l_n):\n",
    "            up_gcn_out.append(gu.up_gcns[i].forward(up_gcn_in[i],edge_basis_pos_post[reverse_counter-i][0],\n",
    "                                                    graph=gu.graph_list[reverse_counter-i],\n",
    "                                                    basis=edge_basis_pos_post[reverse_counter-i][1]))\n",
    "            \n",
    "            up_gcn_in.append(gu.unpools[i](up_gcn_out[i],graph=gu.graph_list[i],\n",
    "                                           idx = indices_list[reverse_counter-i],\n",
    "                                           u_features=down_gcn_out[reverse_counter-i-1])) #add from level up\n",
    "            \n",
    "        \n",
    "        final = self.top_gcn(up_gcn_in[-1],edge_basis_pos_post[0][0],\n",
    "                     graph=gu.graph_list[0],basis=edge_basis_pos_post[0][1])\n",
    "        \n",
    "#         pred_move = self.pred_gcn(final,edge_basis_pos_post[0][0],\n",
    "#                      graph=gu.graph_list[0],basis=edge_basis_pos_post[0][1])\n",
    "        \n",
    "        final2 =   self.final(final,edge_basis_pos_post[0][0])\n",
    "        \n",
    "        #add NC_ CA Vecs back to start\n",
    "#         final2['1'][:,1,:] = final2['1'][:,1,:] + down_gcn_in[0]['1'][:,0,:]\n",
    "#         final2['1'][:,2,:] = final2['1'][:,2,:] + down_gcn_in[0]['1'][:,1,:]\n",
    "        ncp = final2['1'][:,1,:] + down_gcn_in[0]['1'][:,0,:]\n",
    "        ccp = final2['1'][:,2,:] + down_gcn_in[0]['1'][:,1,:]\n",
    "\n",
    "        return final2, ncp, ccp"
   ]
  },
  {
   "cell_type": "code",
   "execution_count": 19,
   "id": "d14b8f4f",
   "metadata": {},
   "outputs": [],
   "source": [
    "from scipy.spatial.transform import Rotation\n",
    "import torch"
   ]
  },
  {
   "cell_type": "code",
   "execution_count": 1,
   "id": "5159b2d9",
   "metadata": {},
   "outputs": [],
   "source": [
    "from data_rigid_diffuser.diffuser import FrameDiffNoise"
   ]
  },
  {
   "cell_type": "code",
   "execution_count": 15,
   "id": "05b2b9bf",
   "metadata": {},
   "outputs": [],
   "source": [
    "noise_level = np.ones(8)"
   ]
  },
  {
   "cell_type": "code",
   "execution_count": 2,
   "id": "51cdf2d2",
   "metadata": {},
   "outputs": [],
   "source": [
    "fdn = FrameDiffNoise()"
   ]
  },
  {
   "cell_type": "code",
   "execution_count": 45,
   "id": "9ae68781",
   "metadata": {},
   "outputs": [],
   "source": [
    "g_t = fdn.so3d.diffusion_coef(0.01)\n",
    "dt = 0.01"
   ]
  },
  {
   "cell_type": "code",
   "execution_count": 50,
   "id": "443da153",
   "metadata": {},
   "outputs": [
    {
     "data": {
      "text/plain": [
       "0.08782728665739667"
      ]
     },
     "execution_count": 50,
     "metadata": {},
     "output_type": "execute_result"
    }
   ],
   "source": [
    "g_t * np.sqrt(dt)"
   ]
  },
  {
   "cell_type": "code",
   "execution_count": 52,
   "id": "5e20a7c1",
   "metadata": {},
   "outputs": [],
   "source": [
    "#random noise step\n",
    "rot_vec = np.array([fdn.so3d.sample(n, n_samples=65) for n in noise_level]).reshape((-1,3))\n",
    "rotmat = Rotation.from_rotvec(rot_vec).as_matrix()\n",
    "Qs = Rs2Qs(torch.tensor(rotmat))\n",
    "Qs = normQ(Qs)\n",
    "\n",
    "rand_noise = g_t * np.sqrt(dt)\n",
    "rand_noise=normQ(powerQ(Qs, rand_noise))"
   ]
  },
  {
   "cell_type": "code",
   "execution_count": 64,
   "id": "e53b3d89",
   "metadata": {},
   "outputs": [],
   "source": [
    "pq=multQ(powerQ(Qs, (g_t**2)*dt),rand_noise)"
   ]
  },
  {
   "cell_type": "code",
   "execution_count": 65,
   "id": "169eb3ec",
   "metadata": {},
   "outputs": [
    {
     "data": {
      "text/plain": [
       "torch.Size([520, 4])"
      ]
     },
     "execution_count": 65,
     "metadata": {},
     "output_type": "execute_result"
    }
   ],
   "source": [
    "pq.shape"
   ]
  },
  {
   "cell_type": "code",
   "execution_count": null,
   "id": "b3d1aa78",
   "metadata": {},
   "outputs": [],
   "source": [
    "Rs = Qs2Rs(pq)\n",
    "N_C_to_Rot = torch.cat((noised_dict['N_CA'].to('cuda'),\n",
    "                        noised_dict['C_CA'].to('cuda')),dim=2).reshape(-1,2,1,3)\n",
    "\n",
    "rot_vecs = einsum('bnkij,bnkhj->bnki',Rs, N_C_to_Rot)\n",
    "NC_p = CA_p + rot_vecs[:,:,0,:].to('cuda')*N_CA_dist\n",
    "CC_p = CA_p + rot_vecs[:,:,1,:].reshape(B, L, 3).to('cuda')*C_CA_dist"
   ]
  },
  {
   "cell_type": "code",
   "execution_count": null,
   "id": "7dfeca1d",
   "metadata": {},
   "outputs": [],
   "source": [
    "g_t = self.diffusion_coef(t)\n",
    "z = noise_scale * np.random.normal(size=score_t.shape)\n",
    "perturb = (g_t ** 2) * score_t * dt + g_t * np.sqrt(dt) * z"
   ]
  },
  {
   "cell_type": "code",
   "execution_count": null,
   "id": "46d5aca9",
   "metadata": {},
   "outputs": [],
   "source": []
  },
  {
   "cell_type": "code",
   "execution_count": null,
   "id": "411f753a",
   "metadata": {},
   "outputs": [],
   "source": []
  },
  {
   "cell_type": "code",
   "execution_count": 53,
   "id": "977e249d",
   "metadata": {},
   "outputs": [],
   "source": [
    "def multQ(Q1,Q2):\n",
    "    Qout = torch.zeros((Q1.shape), device=Q1.device)\n",
    "    w=0\n",
    "    x=1\n",
    "    y=2\n",
    "    z=3\n",
    "\n",
    "    Qout[...,w] = Q1[...,w]*Q2[...,x] + Q1[...,x]*Q2[...,w] + Q1[...,y]*Q2[...,z] - Q1[...,z]*Q2[...,y]\n",
    "    Qout[...,x] = Q1[...,w]*Q2[...,y] + Q1[...,y]*Q2[...,w] + Q1[...,z]*Q2[...,x] - Q1[...,x]*Q2[...,z]\n",
    "    Qout[...,y] = Q1[...,w]*Q2[...,z] + Q1[...,z]*Q2[...,w] + Q1[...,x]*Q2[...,y] - Q1[...,y]*Q2[...,x]\n",
    "    Qout[...,z] = Q1[...,w]*Q2[...,w] - Q1[...,x]*Q2[...,x] - Q1[...,y]*Q2[...,y] - Q1[...,z]*Q2[...,z]\n",
    "\n",
    "    return Qout"
   ]
  },
  {
   "cell_type": "code",
   "execution_count": 35,
   "id": "7a9b7d2f",
   "metadata": {},
   "outputs": [],
   "source": [
    "def normQ(Q):\n",
    "    \"\"\"normalize a quaternions\n",
    "    \"\"\"\n",
    "    return Q / torch.linalg.norm(Q, keepdim=True, dim=-1)\n",
    "\n",
    "def Rs2Qs(Rs):\n",
    "    Qs = torch.zeros((*Rs.shape[:-2],4), device=Rs.device)\n",
    "\n",
    "    Qs[...,0] = 1.0 + Rs[...,0,0] + Rs[...,1,1] + Rs[...,2,2]\n",
    "    Qs[...,1] = 1.0 + Rs[...,0,0] - Rs[...,1,1] - Rs[...,2,2]\n",
    "    Qs[...,2] = 1.0 - Rs[...,0,0] + Rs[...,1,1] - Rs[...,2,2]\n",
    "    Qs[...,3] = 1.0 - Rs[...,0,0] - Rs[...,1,1] + Rs[...,2,2]\n",
    "    Qs[Qs<0.0] = 0.0\n",
    "    Qs = torch.sqrt(Qs) / 2.0\n",
    "    Qs[...,1] *= torch.sign( Rs[...,2,1] - Rs[...,1,2] )\n",
    "    Qs[...,2] *= torch.sign( Rs[...,0,2] - Rs[...,2,0] )\n",
    "    Qs[...,3] *= torch.sign( Rs[...,1,0] - Rs[...,0,1] )\n",
    "\n",
    "    return Qs\n",
    "def powerQ(quat_in, power):\n",
    "    \"\"\"Quaternion to the power, represent number of times to rotate Q. Only works on unit Q\"\"\"\n",
    "    return expQ(scaleQ(lnQ(quat_in),power))\n",
    "\n",
    "\n",
    "def expQ(quat_in, eps=1e-9):\n",
    "    quat_out = torch.zeros_like(quat_in, device=quat_in.device)\n",
    "    r = torch.sqrt(torch.sum(torch.square(quat_in[...,1:]),axis=-1,keepdim=True)+eps)\n",
    "    et = torch.exp(quat_in[...,0][...,None])\n",
    "    s = et*torch.sin(r)/r\n",
    "    s[torch.where(r<eps)[0]] = 0\n",
    "    \n",
    "    quat_out[...,0][...,None] = et*torch.cos(r)\n",
    "    quat_out[...,1] = s[...,0]*quat_in[...,1]\n",
    "    quat_out[...,2] = s[...,0]*quat_in[...,2]\n",
    "    quat_out[...,3] = s[...,0]*quat_in[...,3]\n",
    "    \n",
    "    return quat_out\n",
    "\n",
    "\n",
    "def lnQ(quat_in, eps=1e-9):\n",
    "    quat_out = torch.zeros_like(quat_in, device=quat_in.device)\n",
    "    r = torch.sqrt(torch.sum(torch.square(quat_in[...,1:]),axis=-1,keepdim=True)+eps)\n",
    "    t = torch.atan2(r,quat_in[...,0][...,None])/r\n",
    "    t[torch.where(r<eps)[0]] = 0\n",
    "        \n",
    "    quat_out[...,0][...,None] = 0.5*torch.log(torch.sum(torch.square(quat_in[...,1:]),axis=-1,keepdim=True)+eps)\n",
    "    quat_out[...,1] = t[...,0]*quat_in[...,1]\n",
    "    quat_out[...,2] = t[...,0]*quat_in[...,2]\n",
    "    quat_out[...,3] = t[...,0]*quat_in[...,3]\n",
    "    \n",
    "    return quat_out\n",
    "    \n",
    "\n",
    "def scaleQ(quat_in, scale):\n",
    "    return torch.multiply(quat_in,scale)"
   ]
  },
  {
   "cell_type": "code",
   "execution_count": null,
   "id": "2ed5606c",
   "metadata": {},
   "outputs": [],
   "source": []
  },
  {
   "cell_type": "code",
   "execution_count": null,
   "id": "29f17507",
   "metadata": {},
   "outputs": [],
   "source": [
    "def reverse_old(\n",
    "            self,\n",
    "            rot_t: np.ndarray,\n",
    "            score_t: np.ndarray,\n",
    "            t: float,\n",
    "            dt: float,\n",
    "            mask: np.ndarray=None,\n",
    "            noise_scale: float=1.0,\n",
    "            ):\n",
    "        \"\"\"Simulates the reverse SDE for 1 step using the Geodesic random walk.\n",
    "\n",
    "        Args:\n",
    "            rot_t: [..., 3] current rotations at time t.\n",
    "            score_t: [..., 3] rotation score at time t.\n",
    "            t: continuous time in [0, 1].\n",
    "            dt: continuous step size in [0, 1].\n",
    "            add_noise: set False to set diffusion coefficent to 0.\n",
    "            mask: True indicates which residues to diffuse.\n",
    "\n",
    "        Returns:\n",
    "            [..., 3] rotation vector at next step.\n",
    "        \"\"\"\n",
    "        if not np.isscalar(t): raise ValueError(f'{t} must be a scalar.')\n",
    "\n",
    "        g_t = self.diffusion_coef(t)\n",
    "        z = noise_scale * np.random.normal(size=score_t.shape)\n",
    "        perturb = (g_t ** 2) * score_t * dt + g_t * np.sqrt(dt) * z\n",
    "\n",
    "        if mask is not None: perturb *= mask[..., None]\n",
    "        n_samples = np.cumprod(rot_t.shape[:-1])[-1]\n",
    "\n",
    "        # Right multiply.\n",
    "        rot_t_1 = du.compose_rotvec(\n",
    "            rot_t.reshape(n_samples, 3),\n",
    "            perturb.reshape(n_samples, 3)\n",
    "        ).reshape(rot_t.shape)\n",
    "        return rot_t_1"
   ]
  }
 ],
 "metadata": {
  "kernelspec": {
   "display_name": "gudiff",
   "language": "python",
   "name": "gudiff"
  },
  "language_info": {
   "codemirror_mode": {
    "name": "ipython",
    "version": 3
   },
   "file_extension": ".py",
   "mimetype": "text/x-python",
   "name": "python",
   "nbconvert_exporter": "python",
   "pygments_lexer": "ipython3",
   "version": "3.8.16"
  }
 },
 "nbformat": 4,
 "nbformat_minor": 5
}
