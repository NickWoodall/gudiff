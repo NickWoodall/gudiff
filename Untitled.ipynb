{
 "cells": [
  {
   "cell_type": "code",
   "execution_count": 3,
   "id": "228c1670",
   "metadata": {},
   "outputs": [
    {
     "data": {
      "text/plain": [
       "tensor([0, 1, 0])"
      ]
     },
     "execution_count": 3,
     "metadata": {},
     "output_type": "execute_result"
    }
   ],
   "source": [
    "import torch\n",
    "from torch import einsum\n",
    "#einsum rotation matrix \n",
    "R = torch.tensor([[0,-1,0],[1,0,0],[0,0,1]])\n",
    "v = torch.tensor([1,0,0]).unsqueeze(0)\n",
    "einsum('ij,kj->i',R,v)"
   ]
  },
  {
   "cell_type": "code",
   "execution_count": 6,
   "id": "443b8bb1",
   "metadata": {},
   "outputs": [
    {
     "name": "stdout",
     "output_type": "stream",
     "text": [
      "torch.Size([5, 2, 3, 3]) torch.Size([5, 2, 1, 3])\n"
     ]
    },
    {
     "data": {
      "text/plain": [
       "torch.Size([5, 2, 3])"
      ]
     },
     "execution_count": 6,
     "metadata": {},
     "output_type": "execute_result"
    }
   ],
   "source": [
    "\n",
    "#einsum rotation matrix \n",
    "Rs = R.unsqueeze(0).unsqueeze(0).repeat(5,2,1,1)\n",
    "vs = v.unsqueeze(0).unsqueeze(0).repeat(5,2,1,1)\n",
    "print(Rs.shape, vs.shape)\n",
    "einsum('bnij,bnkj->bni',Rs,vs).shape"
   ]
  },
  {
   "cell_type": "code",
   "execution_count": null,
   "id": "448e3d66",
   "metadata": {},
   "outputs": [],
   "source": [
    "def forward(self, node_feats_in, batched_graph):\n",
    "        \n",
    "        indices_list = [batched_graph.num_nodes()]\n",
    "        down_gcn_in = [node_feats_in] #node features from gcn outputs\n",
    "        down_gcn_out = []\n",
    "        down_pools = []\n",
    "        \n",
    "        up_gcn_in = []\n",
    "        up_gcn_out = []\n",
    "        \n",
    "        pos = [batched_graph.ndata['pos']]\n",
    "        edge_basis_pos_post = []\n",
    "        \n",
    "        #gcn and down pooling\n",
    "        for i in range(self.l_n):\n",
    "            #define basis (spherical harmonics) from xyz_positions, pull edge connections connectivity\n",
    "            edge_basis_pos_post.append(prep_for_gcn(gu.graph_list[i], pos[i], self.edge_pre[i], gu.graph_list[i].nodes(),\n",
    "                                                    comp_grad = self.comp_basis_grad))\n",
    "\n",
    "            down_gcn_out.append(gu.down_gcns[i].forward(down_gcn_in[i], edge_basis_pos_post[i][0],\n",
    "                                                        graph=gu.graph_list[i],basis=edge_basis_pos_post[i][1]))\n",
    "            #top k pool, save indices pooled for unpooling\n",
    "            out_and_indx = gu.pools[i](down_gcn_out[i], gu.graph_list[i])\n",
    "            #save indices, level outputs (topk pool node features), and positions for other side of unet (unpooling and adding)\n",
    "            #and use in lower levels\n",
    "            down_gcn_in.append(out_and_indx[0])\n",
    "            indices_list.append(out_and_indx[1])\n",
    "            pos.append(edge_basis_pos_post[i][2])\n",
    "          \n",
    "        edge_basis_pos_post.append(prep_for_gcn(gu.graph_list[-1], pos[-1], self.edge_pre[-1], gu.graph_list[-1].nodes(),\n",
    "                                               comp_grad = self.comp_basis_grad))\n",
    "        \n",
    "        \n",
    "        bottom_out = self.bottom_gcn.forward(down_gcn_in[-1], edge_basis_pos_post[-1][0],\n",
    "                                graph=gu.graph_list[-1],basis=edge_basis_pos_post[-1][1])\n",
    "        \n",
    "        latent = {'0':self.global_pool(bottom_out, graph=gu.graph_list[-1]).unsqueeze(-1)}\n",
    "        up_gcn_in.append(gu.latent_unpool(latent, graph=gu.graph_list[-1],u_features=bottom_out))\n",
    "        \n",
    "        reverse_counter = self.l_n\n",
    "        #up gcns\n",
    "        for i in range(self.l_n):\n",
    "            up_gcn_out.append(gu.up_gcns[i].forward(up_gcn_in[i],edge_basis_pos_post[reverse_counter-i][0],\n",
    "                                                    graph=gu.graph_list[reverse_counter-i],\n",
    "                                                    basis=edge_basis_pos_post[reverse_counter-i][1]))\n",
    "            \n",
    "            up_gcn_in.append(gu.unpools[i](up_gcn_out[i],graph=gu.graph_list[i],\n",
    "                                           idx = indices_list[reverse_counter-i],\n",
    "                                           u_features=down_gcn_out[reverse_counter-i-1])) #add from level up\n",
    "            \n",
    "        \n",
    "        final = self.top_gcn(up_gcn_in[-1],edge_basis_pos_post[0][0],\n",
    "                     graph=gu.graph_list[0],basis=edge_basis_pos_post[0][1])\n",
    "        \n",
    "#         pred_move = self.pred_gcn(final,edge_basis_pos_post[0][0],\n",
    "#                      graph=gu.graph_list[0],basis=edge_basis_pos_post[0][1])\n",
    "        \n",
    "        final2 =   self.final(final,edge_basis_pos_post[0][0])\n",
    "        \n",
    "        #add NC_ CA Vecs back to start\n",
    "#         final2['1'][:,1,:] = final2['1'][:,1,:] + down_gcn_in[0]['1'][:,0,:]\n",
    "#         final2['1'][:,2,:] = final2['1'][:,2,:] + down_gcn_in[0]['1'][:,1,:]\n",
    "        ncp = final2['1'][:,1,:] + down_gcn_in[0]['1'][:,0,:]\n",
    "        ccp = final2['1'][:,2,:] + down_gcn_in[0]['1'][:,1,:]\n",
    "\n",
    "        return final2, ncp, ccp"
   ]
  }
 ],
 "metadata": {
  "kernelspec": {
   "display_name": "se33",
   "language": "python",
   "name": "se33"
  },
  "language_info": {
   "codemirror_mode": {
    "name": "ipython",
    "version": 3
   },
   "file_extension": ".py",
   "mimetype": "text/x-python",
   "name": "python",
   "nbconvert_exporter": "python",
   "pygments_lexer": "ipython3",
   "version": "3.9.16"
  }
 },
 "nbformat": 4,
 "nbformat_minor": 5
}
