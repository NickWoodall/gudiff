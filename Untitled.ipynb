{
 "cells": [
  {
   "cell_type": "code",
   "execution_count": 1,
   "id": "95259b88",
   "metadata": {},
   "outputs": [],
   "source": [
    "import os\n",
    "# Useful numbers\n",
    "# N [-1.45837285,  0 , 0]\n",
    "# CA [0., 0., 0.]\n",
    "# C [0.55221403, 1.41890368, 0.        ]\n",
    "# CB [ 0.52892494, -0.77445692, -1.19923854]\n",
    "\n",
    "if ( hasattr(os, 'ATOM_NAMES') ):\n",
    "    assert( hasattr(os, 'PDB_ORDER') )\n",
    "\n",
    "    ATOM_NAMES = os.ATOM_NAMES\n",
    "    PDB_ORDER = os.PDB_ORDER\n",
    "else:\n",
    "    ATOM_NAMES=['N', 'CA', 'CB', 'C', 'O']\n",
    "    PDB_ORDER = ['N', 'CA', 'C', 'O', 'CB']\n",
    "\n",
    "_byte_atom_names = []\n",
    "_atom_names = []\n",
    "for i, atom_name in enumerate(ATOM_NAMES):\n",
    "    long_name = \" \" + atom_name + \"       \"\n",
    "    _atom_names.append(long_name[:4])\n",
    "    _byte_atom_names.append(atom_name.encode())\n",
    "\n",
    "    globals()[atom_name] = i\n",
    "\n",
    "R = len(ATOM_NAMES)\n",
    "\n",
    "if ( \"N\" not in globals() ):\n",
    "    N = -1\n",
    "if ( \"C\" not in globals() ):\n",
    "    C = -1\n",
    "if ( \"CB\" not in globals() ):\n",
    "    CB = -1\n",
    "\n",
    "\n",
    "_pdb_order = []\n",
    "for name in PDB_ORDER:\n",
    "    _pdb_order.append( ATOM_NAMES.index(name) )"
   ]
  },
  {
   "cell_type": "code",
   "execution_count": 10,
   "id": "06b6f377",
   "metadata": {},
   "outputs": [],
   "source": [
    "?np.fft.fft"
   ]
  },
  {
   "cell_type": "code",
   "execution_count": 2,
   "id": "4f5afc4e",
   "metadata": {},
   "outputs": [],
   "source": [
    "import numpy as np\n",
    "import util.npose_util as nu\n",
    "# data_path_str  = 'data/h4_ca_coords.npz'\n",
    "# test_limit = 1028\n",
    "# rr = np.load(data_path_str)\n",
    "# ca_coords = [rr[f] for f in rr.files][0][:test_limit,:,:3]\n",
    "# ca_coords.shape\n",
    "\n",
    "# getting N-Ca, Ca-C vectors to add as typeI features\n",
    "#apa = apart helices for test/train split\n",
    "#tog = together helices for test/train split\n",
    "apa_path_str  = 'data/h4_apa_coords.npz'\n",
    "tog_path_str  = 'data/h4_tog_coords.npz'\n",
    "\n",
    "#grab the first 3 atoms which are N,CA,C\n",
    "test_limit = 1028\n",
    "rr = np.load(apa_path_str)\n",
    "coords_apa = [rr[f] for f in rr.files][0][:test_limit]\n",
    "rr = np.load(tog_path_str)\n",
    "coords_tog = [rr[f] for f in rr.files][0][:test_limit]"
   ]
  },
  {
   "cell_type": "code",
   "execution_count": 17,
   "id": "942c4c34",
   "metadata": {},
   "outputs": [
    {
     "data": {
      "text/plain": [
       "(65, 5, 3)"
      ]
     },
     "execution_count": 17,
     "metadata": {},
     "output_type": "execute_result"
    }
   ],
   "source": [
    "coords_tog[0].shape"
   ]
  },
  {
   "cell_type": "code",
   "execution_count": 25,
   "id": "bf125dc2",
   "metadata": {},
   "outputs": [
    {
     "data": {
      "text/plain": [
       "(1028, 65, 5, 3)"
      ]
     },
     "execution_count": 25,
     "metadata": {},
     "output_type": "execute_result"
    }
   ],
   "source": [
    "coords_tog.shape"
   ]
  },
  {
   "cell_type": "code",
   "execution_count": 26,
   "id": "16d6dc6a",
   "metadata": {},
   "outputs": [
    {
     "data": {
      "text/plain": [
       "(1028, 65, 5)"
      ]
     },
     "execution_count": 26,
     "metadata": {},
     "output_type": "execute_result"
    }
   ],
   "source": [
    "coords_tog.shape[:-1]"
   ]
  },
  {
   "cell_type": "code",
   "execution_count": 36,
   "id": "69b58d94",
   "metadata": {},
   "outputs": [
    {
     "data": {
      "text/plain": [
       "(1028, 65, 5, 1)"
      ]
     },
     "execution_count": 36,
     "metadata": {},
     "output_type": "execute_result"
    }
   ],
   "source": []
  },
  {
   "cell_type": "code",
   "execution_count": null,
   "id": "72cdb7f4",
   "metadata": {},
   "outputs": [],
   "source": [
    "np.concatenate((coords_in,sum((coords_tog.shape[:-1], (1,)), ())))"
   ]
  },
  {
   "cell_type": "code",
   "execution_count": 7,
   "id": "d29484e1",
   "metadata": {},
   "outputs": [],
   "source": [
    "def build_npose_from_coords(coords_in):\n",
    "    \n",
    "    rot_mat_cat = np.ones(sum((coords_in.shape[:-1], (1,)), ()))\n",
    "    \n",
    "    coords = np.concatenate((coords_in,rot_mat_cat),axis=-1)\n",
    "    \n",
    "    npose = np.ones((coords_in.shape[0]*5,4)) #5 is atoms per res\n",
    "\n",
    "    by_res = npose.reshape(-1, 5, 4)\n",
    "    \n",
    "    if ( \"N\" in ATOM_NAMES ):\n",
    "        by_res[:,N,:3] = coords_in[:,N,:]\n",
    "    if ( \"CA\" in ATOM_NAMES ):\n",
    "        by_res[:,CA,:3] = coords_in[:,CA,:3]\n",
    "    if ( \"C\" in ATOM_NAMES ):\n",
    "        by_res[:,C,:3] = coords_in[:,C,:]\n",
    "    if ( \"O\" in ATOM_NAMES ):\n",
    "        by_res[:,O,:3] = nu.build_O(npose)\n",
    "    if ( \"CB\" in ATOM_NAMES ):\n",
    "        tpose = nu.tpose_from_npose(npose)\n",
    "        by_res[:,CB,:] = nu.build_CB(tpose)\n",
    "\n",
    "    return npose"
   ]
  },
  {
   "cell_type": "code",
   "execution_count": 8,
   "id": "337b4ab7",
   "metadata": {},
   "outputs": [],
   "source": [
    "npose= build_npose_from_coords(coords_tog[0])"
   ]
  },
  {
   "cell_type": "code",
   "execution_count": 9,
   "id": "ba8bf1cc",
   "metadata": {},
   "outputs": [],
   "source": [
    "nu.dump_npdb(npose,'output/text1.pdb')"
   ]
  },
  {
   "cell_type": "code",
   "execution_count": 8,
   "id": "b89e61d3",
   "metadata": {},
   "outputs": [
    {
     "data": {
      "text/plain": [
       "['N', 'CA', 'CB', 'C', 'O']"
      ]
     },
     "execution_count": 8,
     "metadata": {},
     "output_type": "execute_result"
    }
   ],
   "source": [
    "ATOM_NAMES"
   ]
  },
  {
   "cell_type": "code",
   "execution_count": 9,
   "id": "595b609e",
   "metadata": {},
   "outputs": [
    {
     "data": {
      "text/plain": [
       "3"
      ]
     },
     "execution_count": 9,
     "metadata": {},
     "output_type": "execute_result"
    }
   ],
   "source": [
    "C"
   ]
  },
  {
   "cell_type": "code",
   "execution_count": 10,
   "id": "a82021a4",
   "metadata": {},
   "outputs": [
    {
     "data": {
      "text/plain": [
       "2"
      ]
     },
     "execution_count": 10,
     "metadata": {},
     "output_type": "execute_result"
    }
   ],
   "source": [
    "CB"
   ]
  },
  {
   "cell_type": "code",
   "execution_count": 11,
   "id": "2914383f",
   "metadata": {},
   "outputs": [
    {
     "data": {
      "text/plain": [
       "1"
      ]
     },
     "execution_count": 11,
     "metadata": {},
     "output_type": "execute_result"
    }
   ],
   "source": [
    "CA"
   ]
  },
  {
   "cell_type": "code",
   "execution_count": 12,
   "id": "ebc9df67",
   "metadata": {},
   "outputs": [
    {
     "data": {
      "text/plain": [
       "0"
      ]
     },
     "execution_count": 12,
     "metadata": {},
     "output_type": "execute_result"
    }
   ],
   "source": [
    "N"
   ]
  },
  {
   "cell_type": "code",
   "execution_count": null,
   "id": "8f1ba96f",
   "metadata": {},
   "outputs": [],
   "source": []
  }
 ],
 "metadata": {
  "kernelspec": {
   "display_name": "hdes",
   "language": "python",
   "name": "hdes"
  },
  "language_info": {
   "codemirror_mode": {
    "name": "ipython",
    "version": 3
   },
   "file_extension": ".py",
   "mimetype": "text/x-python",
   "name": "python",
   "nbconvert_exporter": "python",
   "pygments_lexer": "ipython3",
   "version": "3.8.16"
  }
 },
 "nbformat": 4,
 "nbformat_minor": 5
}
