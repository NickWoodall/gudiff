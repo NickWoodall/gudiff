{
 "cells": [
  {
   "cell_type": "code",
   "execution_count": 1,
   "id": "65805749",
   "metadata": {},
   "outputs": [],
   "source": [
    "\"\"\"SE(3) diffusion methods.\"\"\"\n",
    "#mod imports to just get diffuser\n",
    "from scipy.spatial.transform import Rotation\n",
    "# import numpy as np\n",
    "from data_rigid_diffuser import so3_diffuser\n",
    "from data_rigid_diffuser import r3_diffuser\n",
    "from data_rigid_diffuser import se3_diffuser\n",
    "# from scipy.spatial.transform import Rotation\n",
    "from data_rigid_diffuser import rigid_utils as ru\n",
    "import torch\n",
    "# import utils as du\n",
    "# import torch\n",
    "# import logging\n",
    "import numpy  as np\n",
    "import os\n",
    "import yaml\n",
    "from collections import namedtuple"
   ]
  },
  {
   "cell_type": "code",
   "execution_count": 23,
   "id": "5ccf8b9d",
   "metadata": {},
   "outputs": [],
   "source": [
    "\n",
    "# Useful numbers\n",
    "# N [-1.45837285,  0 , 0]\n",
    "# CA [0., 0., 0.]\n",
    "# C [0.55221403, 1.41890368, 0.        ]\n",
    "# CB [ 0.52892494, -0.77445692, -1.19923854]\n",
    "N_CA_dist = 1.458\n",
    "C_CA_dist = 1.523\n",
    "\n",
    "if ( hasattr(os, 'ATOM_NAMES') ):\n",
    "    assert( hasattr(os, 'PDB_ORDER') )\n",
    "\n",
    "    ATOM_NAMES = os.ATOM_NAMES\n",
    "    PDB_ORDER = os.PDB_ORDER\n",
    "else:\n",
    "    ATOM_NAMES=['N', 'CA', 'CB', 'C', 'O']\n",
    "    PDB_ORDER = ['N', 'CA', 'C', 'O', 'CB']\n",
    "\n",
    "_byte_atom_names = []\n",
    "_atom_names = []\n",
    "for i, atom_name in enumerate(ATOM_NAMES):\n",
    "    long_name = \" \" + atom_name + \"       \"\n",
    "    _atom_names.append(long_name[:4])\n",
    "    _byte_atom_names.append(atom_name.encode())\n",
    "\n",
    "    globals()[atom_name] = i\n",
    "\n",
    "R = len(ATOM_NAMES)\n",
    "\n",
    "if ( \"N\" not in globals() ):\n",
    "    N = -1\n",
    "if ( \"C\" not in globals() ):\n",
    "    C = -1\n",
    "if ( \"CB\" not in globals() ):\n",
    "    CB = -1\n",
    "\n",
    "\n",
    "_pdb_order = []\n",
    "for name in PDB_ORDER:\n",
    "    _pdb_order.append( ATOM_NAMES.index(name) )\n",
    "\n",
    "apa_path_str  = 'data_npose/h4_apa_coords.npz'\n",
    "tog_path_str  = 'data_npose/h4_tog_coords.npz'\n",
    "\n",
    "#grab the first 3 atoms which are N,CA,C\n",
    "test_limit = 2\n",
    "rr = np.load(apa_path_str)\n",
    "coords_apa = [rr[f] for f in rr.files][0][:test_limit,:]\n",
    "\n",
    "rr = np.load(tog_path_str)\n",
    "coords_tog = [rr[f] for f in rr.files][0][:test_limit,:]\n",
    "coords_tog = torch.tensor(coords_tog)"
   ]
  },
  {
   "cell_type": "code",
   "execution_count": 26,
   "id": "1d03f706",
   "metadata": {},
   "outputs": [],
   "source": [
    "rigid = ru.Rigid.make_transform_from_reference(coords_tog[...,N,:3], coords_tog[...,CA,:3], coords_tog[...,C,:3])"
   ]
  },
  {
   "cell_type": "code",
   "execution_count": 47,
   "id": "db563d18",
   "metadata": {},
   "outputs": [],
   "source": [
    "def _extract_trans_rots(rigid: ru.Rigid):\n",
    "    rot = rigid.get_rots().get_rot_mats().cpu().numpy()\n",
    "    rot_shape = rot.shape\n",
    "    num_rots = np.cumprod(rot_shape[:-2])[-1]\n",
    "    rot = rot.reshape((num_rots, 3, 3))\n",
    "    rot = Rotation.from_matrix(rot).as_rotvec().reshape(rot_shape[:-2] +(3,))\n",
    "    tran = rigid.get_trans().cpu().numpy()\n",
    "    return tran, rot\n",
    "def normalize(v):\n",
    "    norm = np.linalg.norm(v,axis=len(v.shape)-1)\n",
    "    norm[norm == 0] = 1\n",
    "    return v / norm[...,None]"
   ]
  },
  {
   "cell_type": "code",
   "execution_count": 48,
   "id": "1138ba63",
   "metadata": {},
   "outputs": [],
   "source": [
    "trans, rot = _extract_trans_rots(rigid)"
   ]
  },
  {
   "cell_type": "code",
   "execution_count": 49,
   "id": "175dc505",
   "metadata": {},
   "outputs": [],
   "source": [
    "rmat = rigid.get_rots().get_rot_mats().cpu().numpy()"
   ]
  },
  {
   "cell_type": "code",
   "execution_count": 50,
   "id": "bdc79916",
   "metadata": {},
   "outputs": [
    {
     "data": {
      "text/plain": [
       "torch.Size([2, 65, 3])"
      ]
     },
     "execution_count": 50,
     "metadata": {},
     "output_type": "execute_result"
    }
   ],
   "source": [
    "coords_tog[...,N,:3].shape"
   ]
  },
  {
   "cell_type": "code",
   "execution_count": 51,
   "id": "965811fe",
   "metadata": {},
   "outputs": [
    {
     "data": {
      "text/plain": [
       "torch.Size([2, 65, 3])"
      ]
     },
     "execution_count": 51,
     "metadata": {},
     "output_type": "execute_result"
    }
   ],
   "source": [
    "(coords_tog[...,N,:3]/np.linalg.norm(coords_tog[...,N,:3],axis=2)[...,None]).shape"
   ]
  },
  {
   "cell_type": "code",
   "execution_count": 52,
   "id": "0f4060fc",
   "metadata": {},
   "outputs": [],
   "source": [
    "#fix normalize with dimension\n",
    "N_CA_vec = normalize(coords_tog[...,N,:3]-coords_tog[...,CA,:3])\n",
    "C_CA_vec = normalize(coords_tog[...,C,:3]-coords_tog[...,CA,:3])"
   ]
  },
  {
   "cell_type": "code",
   "execution_count": 113,
   "id": "23cd8938",
   "metadata": {},
   "outputs": [],
   "source": [
    "?np.random.normal"
   ]
  },
  {
   "cell_type": "code",
   "execution_count": 53,
   "id": "cab4870d",
   "metadata": {},
   "outputs": [
    {
     "data": {
      "text/plain": [
       "torch.Size([2, 65, 3])"
      ]
     },
     "execution_count": 53,
     "metadata": {},
     "output_type": "execute_result"
    }
   ],
   "source": [
    "N_CA_vec.shape"
   ]
  },
  {
   "cell_type": "code",
   "execution_count": 54,
   "id": "71a75536",
   "metadata": {},
   "outputs": [],
   "source": [
    "with open('data_rigid_diffuser/base.yaml', 'r') as file:\n",
    "    config = yaml.safe_load(file)\n"
   ]
  },
  {
   "cell_type": "code",
   "execution_count": null,
   "id": "7dc88f71",
   "metadata": {},
   "outputs": [],
   "source": [
    "with open('data_rigid_diffuser/base.yaml', 'r') as file:\n",
    "    config = yaml.safe_load(file)\n",
    "\n",
    "# Applies to Python-3 Standard Library\n",
    "class Struct(object):\n",
    "    def __init__(self, data):\n",
    "        for name, value in data.items():\n",
    "            setattr(self, name, self._wrap(value))\n",
    "\n",
    "    def _wrap(self, value):\n",
    "        if isinstance(value, (tuple, list, set, frozenset)): \n",
    "            return type(value)([self._wrap(v) for v in value])\n",
    "        else:\n",
    "            return Struct(value) if isinstance(value, dict) else value\n",
    "conf = Struct(config['diffuser'])"
   ]
  },
  {
   "cell_type": "code",
   "execution_count": 55,
   "id": "f92d9e6e",
   "metadata": {},
   "outputs": [],
   "source": [
    "# Applies to Python-3 Standard Library\n",
    "class Struct(object):\n",
    "    def __init__(self, data):\n",
    "        for name, value in data.items():\n",
    "            setattr(self, name, self._wrap(value))\n",
    "\n",
    "    def _wrap(self, value):\n",
    "        if isinstance(value, (tuple, list, set, frozenset)): \n",
    "            return type(value)([self._wrap(v) for v in value])\n",
    "        else:\n",
    "            return Struct(value) if isinstance(value, dict) else value\n",
    "conf = Struct(config['diffuser'])"
   ]
  },
  {
   "cell_type": "code",
   "execution_count": 56,
   "id": "dd38cfa8",
   "metadata": {},
   "outputs": [],
   "source": [
    "so3d = so3_diffuser.SO3Diffuser(conf.so3)"
   ]
  },
  {
   "cell_type": "code",
   "execution_count": 57,
   "id": "2c4e8670",
   "metadata": {},
   "outputs": [],
   "source": [
    "#so3d.forward_marginal(rot,0.1)"
   ]
  },
  {
   "cell_type": "code",
   "execution_count": 58,
   "id": "7e183149",
   "metadata": {},
   "outputs": [],
   "source": [
    "r3d = r3_diffuser.R3Diffuser(conf.r3)"
   ]
  },
  {
   "cell_type": "code",
   "execution_count": 112,
   "id": "946fbc86",
   "metadata": {},
   "outputs": [
    {
     "data": {
      "text/plain": [
       "<bound method R3Diffuser.forward of <data_rigid_diffuser.r3_diffuser.R3Diffuser object at 0x7f8f46d6d0a0>>"
      ]
     },
     "execution_count": 112,
     "metadata": {},
     "output_type": "execute_result"
    }
   ],
   "source": [
    "r3d.forward"
   ]
  },
  {
   "cell_type": "code",
   "execution_count": 105,
   "id": "501b81a9",
   "metadata": {},
   "outputs": [],
   "source": [
    "n_samples = np.cumprod(rot.shape[:-1])[-1]\n",
    "rotvec = so3d.sample(0.075, n_samples=n_samples)\n",
    "rotmat = Rotation.from_rotvec(rotvec).as_matrix()\n",
    "# rotvec_shape = rotvec.shape\n",
    "# num_rotvecs = np.cumprod(rotvec_shape[:-1])[-1]\n",
    "# rotvec = rotvec.reshape((num_rotvecs, 3))\n",
    "# rotmat = Rotation.from_rotvec(rotvec).as_matrix().reshape(\n",
    "#     rotvec_shape[:-1] + (3, 3))\n",
    "\n"
   ]
  },
  {
   "cell_type": "code",
   "execution_count": 106,
   "id": "28be1bed",
   "metadata": {},
   "outputs": [],
   "source": [
    "rp = np.repeat(rotmat[0][None,...],65,axis=0)"
   ]
  },
  {
   "cell_type": "code",
   "execution_count": 107,
   "id": "c5fd41ab",
   "metadata": {},
   "outputs": [],
   "source": [
    "N_CAnew = ru.rot_vec_mul(torch.tensor(rp), N_CA_vec)\n",
    "C_CAnew = ru.rot_vec_mul(torch.tensor(rp), C_CA_vec)"
   ]
  },
  {
   "cell_type": "code",
   "execution_count": 99,
   "id": "f3b41975",
   "metadata": {},
   "outputs": [],
   "source": [
    "import numpy as np\n",
    "import util.npose_util as nu"
   ]
  },
  {
   "cell_type": "code",
   "execution_count": 100,
   "id": "9bb6aef6",
   "metadata": {},
   "outputs": [],
   "source": [
    "def build_npose_from_coords(coords_in):\n",
    "    \"\"\"Use N, CA, C coordinates to generate O an CB atoms\"\"\"\n",
    "    rot_mat_cat = np.ones(sum((coords_in.shape[:-1], (1,)), ()))\n",
    "    \n",
    "    coords = np.concatenate((coords_in,rot_mat_cat),axis=-1)\n",
    "    \n",
    "    npose = np.ones((coords_in.shape[0]*5,4)) #5 is atoms per res\n",
    "\n",
    "    by_res = npose.reshape(-1, 5, 4)\n",
    "    \n",
    "    if ( \"N\" in ATOM_NAMES ):\n",
    "        by_res[:,N,:3] = coords_in[:,0,:3]\n",
    "    if ( \"CA\" in ATOM_NAMES ):\n",
    "        by_res[:,CA,:3] = coords_in[:,1,:3]\n",
    "    if ( \"C\" in ATOM_NAMES ):\n",
    "        by_res[:,C,:3] = coords_in[:,2,:3]\n",
    "    if ( \"O\" in ATOM_NAMES ):\n",
    "        by_res[:,O,:3] = nu.build_O(npose)\n",
    "    if ( \"CB\" in ATOM_NAMES ):\n",
    "        tpose = nu.tpose_from_npose(npose)\n",
    "        by_res[:,CB,:] = nu.build_CB(tpose)\n",
    "\n",
    "    return npose\n",
    "\n",
    "def dump_coord_pdb(coords_in, fileOut='fileOut.pdb'):\n",
    "    \n",
    "    npose =  build_npose_from_coords(coords_in)\n",
    "    nu.dump_npdb(npose,fileOut)"
   ]
  },
  {
   "cell_type": "code",
   "execution_count": 108,
   "id": "85750333",
   "metadata": {},
   "outputs": [],
   "source": [
    "N_CA = coords_tog[...,CA,:3]+N_CA_dist*N_CAnew\n",
    "C_CA = coords_tog[...,CA,:3]+C_CA_dist*C_CAnew"
   ]
  },
  {
   "cell_type": "code",
   "execution_count": 66,
   "id": "a8d5ca37",
   "metadata": {},
   "outputs": [],
   "source": [
    "N_CA = coords_tog[...,CA,:3]+N_CA_dist*N_CA_vec\n",
    "C_CA = coords_tog[...,CA,:3]+C_CA_dist*C_CA_vec"
   ]
  },
  {
   "cell_type": "code",
   "execution_count": 109,
   "id": "7d73cb31",
   "metadata": {},
   "outputs": [],
   "source": [
    "co = torch.stack((N_CA,coords_tog[...,CA,:3], C_CA),axis=2).squeeze()"
   ]
  },
  {
   "cell_type": "code",
   "execution_count": 110,
   "id": "5c0ee907",
   "metadata": {},
   "outputs": [
    {
     "data": {
      "text/plain": [
       "(2, 65, 3, 3)"
      ]
     },
     "execution_count": 110,
     "metadata": {},
     "output_type": "execute_result"
    }
   ],
   "source": [
    "co.numpy().shape"
   ]
  },
  {
   "cell_type": "code",
   "execution_count": 111,
   "id": "101c6446",
   "metadata": {},
   "outputs": [],
   "source": [
    "dump_coord_pdb(co.numpy()[0])"
   ]
  },
  {
   "cell_type": "code",
   "execution_count": 58,
   "id": "342c231e",
   "metadata": {},
   "outputs": [
    {
     "data": {
      "text/plain": [
       "torch.Size([1, 65, 3])"
      ]
     },
     "execution_count": 58,
     "metadata": {},
     "output_type": "execute_result"
    }
   ],
   "source": [
    "N_CA.shape"
   ]
  },
  {
   "cell_type": "code",
   "execution_count": 41,
   "id": "67ab0198",
   "metadata": {},
   "outputs": [],
   "source": []
  },
  {
   "cell_type": "code",
   "execution_count": null,
   "id": "73edb617",
   "metadata": {},
   "outputs": [],
   "source": []
  },
  {
   "cell_type": "code",
   "execution_count": 11,
   "id": "3d523069",
   "metadata": {},
   "outputs": [],
   "source": [
    "se3d= se3_diffuser.SE3Diffuser(conf)"
   ]
  },
  {
   "cell_type": "code",
   "execution_count": 12,
   "id": "b666cfee",
   "metadata": {},
   "outputs": [],
   "source": [
    "dif = se3d.forward_marginal(rigid[0],0.1)"
   ]
  },
  {
   "cell_type": "code",
   "execution_count": 32,
   "id": "8233d278",
   "metadata": {},
   "outputs": [
    {
     "data": {
      "text/plain": [
       "3.1050834559359974"
      ]
     },
     "execution_count": 32,
     "metadata": {},
     "output_type": "execute_result"
    }
   ],
   "source": [
    "dif['trans_score_scaling']"
   ]
  },
  {
   "cell_type": "code",
   "execution_count": 15,
   "id": "e142031a",
   "metadata": {},
   "outputs": [
    {
     "data": {
      "text/plain": [
       "tensor([-0.0211,  0.9482,  0.1337,  0.2875,  0.3689, -2.3312, -7.4057])"
      ]
     },
     "execution_count": 15,
     "metadata": {},
     "output_type": "execute_result"
    }
   ],
   "source": [
    "#first 4 quaternion, last three translation\n",
    "#rot_vec is axis angle of rotation where then norm is the angle\n",
    "dif['rigids_t'][1]"
   ]
  },
  {
   "cell_type": "code",
   "execution_count": null,
   "id": "f3e40f3c",
   "metadata": {},
   "outputs": [],
   "source": [
    "ru.quat_to_rot"
   ]
  },
  {
   "cell_type": "code",
   "execution_count": null,
   "id": "bf77370f",
   "metadata": {},
   "outputs": [],
   "source": [
    "def quat_to_rot(quat: torch.Tensor) -> torch.Tensor:\n",
    "    \"\"\"\n",
    "        Converts a quaternion to a rotation matrix.\n",
    "\n",
    "        Args:\n",
    "            quat: [*, 4] quaternions\n",
    "        Returns:\n",
    "            [*, 3, 3] rotation matrices\n",
    "    \"\"\"\n",
    "    # [*, 4, 4]\n",
    "    quat = quat[..., None] * quat[..., None, :]\n",
    "\n",
    "    # [4, 4, 3, 3]\n",
    "    mat = quat.new_tensor(_QTR_MAT, requires_grad=False)\n",
    "\n",
    "    # [*, 4, 4, 3, 3]\n",
    "    shaped_qtr_mat = mat.view((1,) * len(quat.shape[:-2]) + mat.shape)\n",
    "    quat = quat[..., None, None] * shaped_qtr_mat\n",
    "\n",
    "    # [*, 3, 3]\n",
    "    return torch.sum(quat, dim=(-3, -4))"
   ]
  }
 ],
 "metadata": {
  "kernelspec": {
   "display_name": "se33",
   "language": "python",
   "name": "se33"
  },
  "language_info": {
   "codemirror_mode": {
    "name": "ipython",
    "version": 3
   },
   "file_extension": ".py",
   "mimetype": "text/x-python",
   "name": "python",
   "nbconvert_exporter": "python",
   "pygments_lexer": "ipython3",
   "version": "3.9.16"
  }
 },
 "nbformat": 4,
 "nbformat_minor": 5
}
